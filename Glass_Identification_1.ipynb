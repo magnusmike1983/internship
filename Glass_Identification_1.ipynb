{
 "cells": [
  {
   "cell_type": "markdown",
   "id": "d045bb7b",
   "metadata": {},
   "source": [
    "Glass Identification\n",
    "\n",
    "Project Description\n",
    "\n",
    "The dataset describes the chemical properties of glass and involves classifying samples of glass using their chemical properties as one of six classes. The dataset was credited to Vina Spiehler in 1987. The study of classification of types of glass was motivated by criminological investigation. At the scene of the crime, the glass left can be used as evidence...if it is correctly identified!\n",
    "\n",
    "The chemical compositions are measured as the weight percent in corresponding oxide.\n",
    "Attribute Information-\n",
    "1.\t Id number: 1 to 214\n",
    "2.\t RI: refractive index\n",
    "3.\tNa: Sodium (unit measurement: weight percent in corresponding oxide, as are attributes 4-10)\n",
    "4.\tMg: Magnesium\n",
    "5.\tAl: Aluminum\n",
    "6.\tSi: Silicon\n",
    "7.\tK: Potassium\n",
    "8.\tCa: Calcium\n",
    "9.\tBa: Barium\n",
    "10.\tFe: Iron\n",
    "11.\tType of glass: (class attribute)\n",
    "\n",
    "\n",
    "There are 214 observations in the dataset. The dataset can be divided into window glass (classes 1-4) and non-window glass (classes 5-7). \n",
    "Predict : Type of glass\n",
    "\n",
    "Dataset Link-\n",
    "•\thttps://raw.githubusercontent.com/dsrscientist/dataset3/main/glass.csv\n",
    "\n",
    "•\thttps://github.com/dsrscientist/dataset3\n"
   ]
  },
  {
   "cell_type": "markdown",
   "id": "edc1f5ba",
   "metadata": {},
   "source": [
    "## Importing Libraries"
   ]
  },
  {
   "cell_type": "code",
   "execution_count": 2,
   "id": "f1a2cdc8",
   "metadata": {},
   "outputs": [],
   "source": [
    "import pandas as pd \n",
    "import seaborn as sns\n",
    "import matplotlib.pyplot as plt\n",
    "import warnings\n",
    "warnings.filterwarnings(\"ignore\")\n",
    "import numpy as np"
   ]
  },
  {
   "cell_type": "code",
   "execution_count": 3,
   "id": "a0d2662e",
   "metadata": {},
   "outputs": [
    {
     "data": {
      "text/html": [
       "<div>\n",
       "<style scoped>\n",
       "    .dataframe tbody tr th:only-of-type {\n",
       "        vertical-align: middle;\n",
       "    }\n",
       "\n",
       "    .dataframe tbody tr th {\n",
       "        vertical-align: top;\n",
       "    }\n",
       "\n",
       "    .dataframe thead th {\n",
       "        text-align: right;\n",
       "    }\n",
       "</style>\n",
       "<table border=\"1\" class=\"dataframe\">\n",
       "  <thead>\n",
       "    <tr style=\"text-align: right;\">\n",
       "      <th></th>\n",
       "      <th>RI</th>\n",
       "      <th>Na</th>\n",
       "      <th>Mg</th>\n",
       "      <th>Al</th>\n",
       "      <th>Si</th>\n",
       "      <th>K</th>\n",
       "      <th>Ca</th>\n",
       "      <th>Ba</th>\n",
       "      <th>Fe</th>\n",
       "      <th>Type of glass</th>\n",
       "    </tr>\n",
       "    <tr>\n",
       "      <th>Id number</th>\n",
       "      <th></th>\n",
       "      <th></th>\n",
       "      <th></th>\n",
       "      <th></th>\n",
       "      <th></th>\n",
       "      <th></th>\n",
       "      <th></th>\n",
       "      <th></th>\n",
       "      <th></th>\n",
       "      <th></th>\n",
       "    </tr>\n",
       "  </thead>\n",
       "  <tbody>\n",
       "    <tr>\n",
       "      <th>1</th>\n",
       "      <td>1.52101</td>\n",
       "      <td>13.64</td>\n",
       "      <td>4.49</td>\n",
       "      <td>1.10</td>\n",
       "      <td>71.78</td>\n",
       "      <td>0.06</td>\n",
       "      <td>8.75</td>\n",
       "      <td>0.0</td>\n",
       "      <td>0.0</td>\n",
       "      <td>1</td>\n",
       "    </tr>\n",
       "    <tr>\n",
       "      <th>2</th>\n",
       "      <td>1.51761</td>\n",
       "      <td>13.89</td>\n",
       "      <td>3.60</td>\n",
       "      <td>1.36</td>\n",
       "      <td>72.73</td>\n",
       "      <td>0.48</td>\n",
       "      <td>7.83</td>\n",
       "      <td>0.0</td>\n",
       "      <td>0.0</td>\n",
       "      <td>1</td>\n",
       "    </tr>\n",
       "    <tr>\n",
       "      <th>3</th>\n",
       "      <td>1.51618</td>\n",
       "      <td>13.53</td>\n",
       "      <td>3.55</td>\n",
       "      <td>1.54</td>\n",
       "      <td>72.99</td>\n",
       "      <td>0.39</td>\n",
       "      <td>7.78</td>\n",
       "      <td>0.0</td>\n",
       "      <td>0.0</td>\n",
       "      <td>1</td>\n",
       "    </tr>\n",
       "    <tr>\n",
       "      <th>4</th>\n",
       "      <td>1.51766</td>\n",
       "      <td>13.21</td>\n",
       "      <td>3.69</td>\n",
       "      <td>1.29</td>\n",
       "      <td>72.61</td>\n",
       "      <td>0.57</td>\n",
       "      <td>8.22</td>\n",
       "      <td>0.0</td>\n",
       "      <td>0.0</td>\n",
       "      <td>1</td>\n",
       "    </tr>\n",
       "    <tr>\n",
       "      <th>5</th>\n",
       "      <td>1.51742</td>\n",
       "      <td>13.27</td>\n",
       "      <td>3.62</td>\n",
       "      <td>1.24</td>\n",
       "      <td>73.08</td>\n",
       "      <td>0.55</td>\n",
       "      <td>8.07</td>\n",
       "      <td>0.0</td>\n",
       "      <td>0.0</td>\n",
       "      <td>1</td>\n",
       "    </tr>\n",
       "  </tbody>\n",
       "</table>\n",
       "</div>"
      ],
      "text/plain": [
       "                RI     Na    Mg    Al     Si     K    Ca   Ba   Fe  \\\n",
       "Id number                                                            \n",
       "1          1.52101  13.64  4.49  1.10  71.78  0.06  8.75  0.0  0.0   \n",
       "2          1.51761  13.89  3.60  1.36  72.73  0.48  7.83  0.0  0.0   \n",
       "3          1.51618  13.53  3.55  1.54  72.99  0.39  7.78  0.0  0.0   \n",
       "4          1.51766  13.21  3.69  1.29  72.61  0.57  8.22  0.0  0.0   \n",
       "5          1.51742  13.27  3.62  1.24  73.08  0.55  8.07  0.0  0.0   \n",
       "\n",
       "           Type of glass  \n",
       "Id number                 \n",
       "1                      1  \n",
       "2                      1  \n",
       "3                      1  \n",
       "4                      1  \n",
       "5                      1  "
      ]
     },
     "execution_count": 3,
     "metadata": {},
     "output_type": "execute_result"
    }
   ],
   "source": [
    "col = [\"Id number\", \"RI\", \"Na\", \"Mg\", \"Al\",  \"Si\", \"K\", \"Ca\", \"Ba\", \"Fe\", \"Type of glass\"]\n",
    "    \n",
    "df = pd.read_csv(\"https://raw.githubusercontent.com/dsrscientist/dataset3/main/glass.csv\", names=col, index_col=\"Id number\")\n",
    "df.head()"
   ]
  },
  {
   "cell_type": "markdown",
   "id": "7d306cb0",
   "metadata": {},
   "source": [
    "## EDA "
   ]
  },
  {
   "cell_type": "code",
   "execution_count": 4,
   "id": "d06bb50a",
   "metadata": {},
   "outputs": [
    {
     "name": "stdout",
     "output_type": "stream",
     "text": [
      "df.shape\n",
      "(214, 10)\n"
     ]
    },
    {
     "data": {
      "text/plain": [
       "['RI', 'Na', 'Mg', 'Al', 'Si', 'K', 'Ca', 'Ba', 'Fe', 'Type of glass']"
      ]
     },
     "execution_count": 4,
     "metadata": {},
     "output_type": "execute_result"
    }
   ],
   "source": [
    "print(\"df.shape\")\n",
    "print(df.shape)\n",
    "\n",
    "# checking the columns of dataset\n",
    "df.columns.tolist()"
   ]
  },
  {
   "cell_type": "markdown",
   "id": "84eb9225",
   "metadata": {},
   "source": [
    "This dataset contains 214 rows and 12 columns. Out of the 12, there is 1 target vaiable (Type of glass) and remaining 11 are independent variable."
   ]
  },
  {
   "cell_type": "code",
   "execution_count": 5,
   "id": "a86f8585",
   "metadata": {},
   "outputs": [
    {
     "data": {
      "text/plain": [
       "RI               float64\n",
       "Na               float64\n",
       "Mg               float64\n",
       "Al               float64\n",
       "Si               float64\n",
       "K                float64\n",
       "Ca               float64\n",
       "Ba               float64\n",
       "Fe               float64\n",
       "Type of glass      int64\n",
       "dtype: object"
      ]
     },
     "execution_count": 5,
     "metadata": {},
     "output_type": "execute_result"
    }
   ],
   "source": [
    "df.dtypes "
   ]
  },
  {
   "cell_type": "markdown",
   "id": "0c5a0e7d",
   "metadata": {},
   "source": [
    "There are two different types of data (float64, int64), as we can see we find no categorical data (object datatype)"
   ]
  },
  {
   "cell_type": "code",
   "execution_count": 6,
   "id": "87d9121b",
   "metadata": {},
   "outputs": [
    {
     "name": "stdout",
     "output_type": "stream",
     "text": [
      "RI               0\n",
      "Na               0\n",
      "Mg               0\n",
      "Al               0\n",
      "Si               0\n",
      "K                0\n",
      "Ca               0\n",
      "Ba               0\n",
      "Fe               0\n",
      "Type of glass    0\n",
      "dtype: int64\n",
      "0\n",
      "AxesSubplot(0.125,0.125;0.62x0.755)\n"
     ]
    },
    {
     "data": {
      "image/png": "[encoded data removed]",
      "text/plain": [
       "<Figure size 432x288 with 2 Axes>"
      ]
     },
     "metadata": {
      "needs_background": "light"
     },
     "output_type": "display_data"
    }
   ],
   "source": [
    "print(df.isnull().sum())\n",
    "\n",
    "print(df.isnull().sum().sum())\n",
    "\n",
    "# Data visualization of the null values\n",
    "print(sns.heatmap(df.isnull()))"
   ]
  },
  {
   "cell_type": "code",
   "execution_count": 7,
   "id": "15542daa",
   "metadata": {},
   "outputs": [
    {
     "data": {
      "text/plain": [
       "RI               178\n",
       "Na               142\n",
       "Mg                94\n",
       "Al               118\n",
       "Si               133\n",
       "K                 65\n",
       "Ca               143\n",
       "Ba                34\n",
       "Fe                32\n",
       "Type of glass      6\n",
       "dtype: int64"
      ]
     },
     "execution_count": 7,
     "metadata": {},
     "output_type": "execute_result"
    }
   ],
   "source": [
    "''' I will  perform the nunique value to see the overall number \n",
    "of unique valaue in each column to have an idea of the distribution. I have only numerical data points\n",
    "'''\n",
    "df.nunique()"
   ]
  },
  {
   "cell_type": "markdown",
   "id": "1f2f0e6b",
   "metadata": {},
   "source": [
    "All the data observed looked good from the dtypes"
   ]
  },
  {
   "cell_type": "code",
   "execution_count": 8,
   "id": "6a7498d0",
   "metadata": {},
   "outputs": [
    {
     "name": "stdout",
     "output_type": "stream",
     "text": [
      "<class 'pandas.core.frame.DataFrame'>\n",
      "Int64Index: 214 entries, 1 to 214\n",
      "Data columns (total 10 columns):\n",
      " #   Column         Non-Null Count  Dtype  \n",
      "---  ------         --------------  -----  \n",
      " 0   RI             214 non-null    float64\n",
      " 1   Na             214 non-null    float64\n",
      " 2   Mg             214 non-null    float64\n",
      " 3   Al             214 non-null    float64\n",
      " 4   Si             214 non-null    float64\n",
      " 5   K              214 non-null    float64\n",
      " 6   Ca             214 non-null    float64\n",
      " 7   Ba             214 non-null    float64\n",
      " 8   Fe             214 non-null    float64\n",
      " 9   Type of glass  214 non-null    int64  \n",
      "dtypes: float64(9), int64(1)\n",
      "memory usage: 18.4 KB\n"
     ]
    }
   ],
   "source": [
    "df.info()"
   ]
  },
  {
   "cell_type": "markdown",
   "id": "8daedb30",
   "metadata": {},
   "source": [
    "214 Non-Null Count throughout"
   ]
  },
  {
   "cell_type": "code",
   "execution_count": 9,
   "id": "e04f54f2",
   "metadata": {},
   "outputs": [
    {
     "data": {
      "text/plain": [
       "array([1, 2, 3, 5, 6, 7], dtype=int64)"
      ]
     },
     "execution_count": 9,
     "metadata": {},
     "output_type": "execute_result"
    }
   ],
   "source": [
    "df[\"Type of glass\"].unique()"
   ]
  },
  {
   "cell_type": "markdown",
   "id": "e20fa857",
   "metadata": {},
   "source": [
    "•\t1- building_windows_float_processed\n",
    "•\t2- building_windows_non_float_processed\n",
    "•\t3- vehicle_windows_float_processed\n",
    "•\t4- vehicle_windows_non_float_processed (none in this database)\n",
    "•\t5- containers\n",
    "•\t6- tableware\n",
    "•\t7- headlamps"
   ]
  },
  {
   "cell_type": "markdown",
   "id": "84adb1c1",
   "metadata": {},
   "source": [
    "## There are 214 observations in the dataset.\n",
    "\n",
    "The dataset can be divided into:\n",
    "\n",
    "- window glass (classes 1-4)\n",
    "- non-window glass (classes 5-7)"
   ]
  },
  {
   "cell_type": "code",
   "execution_count": 10,
   "id": "30f89355",
   "metadata": {},
   "outputs": [],
   "source": [
    "# Adding a column of the two classes. \n",
    "\n",
    "df[\"window_glass\"] = 0\n",
    "\n",
    "for index, row in df.iterrows():\n",
    "    if 1 <= row[\"Type of glass\"] <= 4:\n",
    "        df.at[index, \"window_glass\"] = 1\n",
    "    else:\n",
    "        df.at[index, \"window_glass\"] = 0\n"
   ]
  },
  {
   "cell_type": "code",
   "execution_count": 12,
   "id": "c00f6131",
   "metadata": {
    "scrolled": false
   },
   "outputs": [
    {
     "data": {
      "text/html": [
       "<div>\n",
       "<style scoped>\n",
       "    .dataframe tbody tr th:only-of-type {\n",
       "        vertical-align: middle;\n",
       "    }\n",
       "\n",
       "    .dataframe tbody tr th {\n",
       "        vertical-align: top;\n",
       "    }\n",
       "\n",
       "    .dataframe thead th {\n",
       "        text-align: right;\n",
       "    }\n",
       "</style>\n",
       "<table border=\"1\" class=\"dataframe\">\n",
       "  <thead>\n",
       "    <tr style=\"text-align: right;\">\n",
       "      <th></th>\n",
       "      <th>RI</th>\n",
       "      <th>Na</th>\n",
       "      <th>Mg</th>\n",
       "      <th>Al</th>\n",
       "      <th>Si</th>\n",
       "      <th>K</th>\n",
       "      <th>Ca</th>\n",
       "      <th>Ba</th>\n",
       "      <th>Fe</th>\n",
       "      <th>Type of glass</th>\n",
       "      <th>window_glass</th>\n",
       "    </tr>\n",
       "    <tr>\n",
       "      <th>Id number</th>\n",
       "      <th></th>\n",
       "      <th></th>\n",
       "      <th></th>\n",
       "      <th></th>\n",
       "      <th></th>\n",
       "      <th></th>\n",
       "      <th></th>\n",
       "      <th></th>\n",
       "      <th></th>\n",
       "      <th></th>\n",
       "      <th></th>\n",
       "    </tr>\n",
       "  </thead>\n",
       "  <tbody>\n",
       "    <tr>\n",
       "      <th>210</th>\n",
       "      <td>1.51623</td>\n",
       "      <td>14.14</td>\n",
       "      <td>0.0</td>\n",
       "      <td>2.88</td>\n",
       "      <td>72.61</td>\n",
       "      <td>0.08</td>\n",
       "      <td>9.18</td>\n",
       "      <td>1.06</td>\n",
       "      <td>0.0</td>\n",
       "      <td>7</td>\n",
       "      <td>0</td>\n",
       "    </tr>\n",
       "    <tr>\n",
       "      <th>211</th>\n",
       "      <td>1.51685</td>\n",
       "      <td>14.92</td>\n",
       "      <td>0.0</td>\n",
       "      <td>1.99</td>\n",
       "      <td>73.06</td>\n",
       "      <td>0.00</td>\n",
       "      <td>8.40</td>\n",
       "      <td>1.59</td>\n",
       "      <td>0.0</td>\n",
       "      <td>7</td>\n",
       "      <td>0</td>\n",
       "    </tr>\n",
       "    <tr>\n",
       "      <th>212</th>\n",
       "      <td>1.52065</td>\n",
       "      <td>14.36</td>\n",
       "      <td>0.0</td>\n",
       "      <td>2.02</td>\n",
       "      <td>73.42</td>\n",
       "      <td>0.00</td>\n",
       "      <td>8.44</td>\n",
       "      <td>1.64</td>\n",
       "      <td>0.0</td>\n",
       "      <td>7</td>\n",
       "      <td>0</td>\n",
       "    </tr>\n",
       "    <tr>\n",
       "      <th>213</th>\n",
       "      <td>1.51651</td>\n",
       "      <td>14.38</td>\n",
       "      <td>0.0</td>\n",
       "      <td>1.94</td>\n",
       "      <td>73.61</td>\n",
       "      <td>0.00</td>\n",
       "      <td>8.48</td>\n",
       "      <td>1.57</td>\n",
       "      <td>0.0</td>\n",
       "      <td>7</td>\n",
       "      <td>0</td>\n",
       "    </tr>\n",
       "    <tr>\n",
       "      <th>214</th>\n",
       "      <td>1.51711</td>\n",
       "      <td>14.23</td>\n",
       "      <td>0.0</td>\n",
       "      <td>2.08</td>\n",
       "      <td>73.36</td>\n",
       "      <td>0.00</td>\n",
       "      <td>8.62</td>\n",
       "      <td>1.67</td>\n",
       "      <td>0.0</td>\n",
       "      <td>7</td>\n",
       "      <td>0</td>\n",
       "    </tr>\n",
       "  </tbody>\n",
       "</table>\n",
       "</div>"
      ],
      "text/plain": [
       "                RI     Na   Mg    Al     Si     K    Ca    Ba   Fe  \\\n",
       "Id number                                                            \n",
       "210        1.51623  14.14  0.0  2.88  72.61  0.08  9.18  1.06  0.0   \n",
       "211        1.51685  14.92  0.0  1.99  73.06  0.00  8.40  1.59  0.0   \n",
       "212        1.52065  14.36  0.0  2.02  73.42  0.00  8.44  1.64  0.0   \n",
       "213        1.51651  14.38  0.0  1.94  73.61  0.00  8.48  1.57  0.0   \n",
       "214        1.51711  14.23  0.0  2.08  73.36  0.00  8.62  1.67  0.0   \n",
       "\n",
       "           Type of glass  window_glass  \n",
       "Id number                               \n",
       "210                    7             0  \n",
       "211                    7             0  \n",
       "212                    7             0  \n",
       "213                    7             0  \n",
       "214                    7             0  "
      ]
     },
     "execution_count": 12,
     "metadata": {},
     "output_type": "execute_result"
    }
   ],
   "source": [
    "df.tail()"
   ]
  },
  {
   "cell_type": "markdown",
   "id": "fe728e16",
   "metadata": {},
   "source": [
    "A binary classification (column = window_glass, 1 represents window glasses and 0 represents non window glasses) of the dataset has been added\n"
   ]
  },
  {
   "cell_type": "markdown",
   "id": "1b654a58",
   "metadata": {},
   "source": [
    "## Description of Dataset"
   ]
  },
  {
   "cell_type": "code",
   "execution_count": 13,
   "id": "5f028d90",
   "metadata": {},
   "outputs": [
    {
     "data": {
      "text/html": [
       "<div>\n",
       "<style scoped>\n",
       "    .dataframe tbody tr th:only-of-type {\n",
       "        vertical-align: middle;\n",
       "    }\n",
       "\n",
       "    .dataframe tbody tr th {\n",
       "        vertical-align: top;\n",
       "    }\n",
       "\n",
       "    .dataframe thead th {\n",
       "        text-align: right;\n",
       "    }\n",
       "</style>\n",
       "<table border=\"1\" class=\"dataframe\">\n",
       "  <thead>\n",
       "    <tr style=\"text-align: right;\">\n",
       "      <th></th>\n",
       "      <th>RI</th>\n",
       "      <th>Na</th>\n",
       "      <th>Mg</th>\n",
       "      <th>Al</th>\n",
       "      <th>Si</th>\n",
       "      <th>K</th>\n",
       "      <th>Ca</th>\n",
       "      <th>Ba</th>\n",
       "      <th>Fe</th>\n",
       "      <th>Type of glass</th>\n",
       "      <th>window_glass</th>\n",
       "    </tr>\n",
       "  </thead>\n",
       "  <tbody>\n",
       "    <tr>\n",
       "      <th>count</th>\n",
       "      <td>214.000000</td>\n",
       "      <td>214.000000</td>\n",
       "      <td>214.000000</td>\n",
       "      <td>214.000000</td>\n",
       "      <td>214.000000</td>\n",
       "      <td>214.000000</td>\n",
       "      <td>214.000000</td>\n",
       "      <td>214.000000</td>\n",
       "      <td>214.000000</td>\n",
       "      <td>214.000000</td>\n",
       "      <td>214.000000</td>\n",
       "    </tr>\n",
       "    <tr>\n",
       "      <th>mean</th>\n",
       "      <td>1.518365</td>\n",
       "      <td>13.407850</td>\n",
       "      <td>2.684533</td>\n",
       "      <td>1.444907</td>\n",
       "      <td>72.650935</td>\n",
       "      <td>0.497056</td>\n",
       "      <td>8.956963</td>\n",
       "      <td>0.175047</td>\n",
       "      <td>0.057009</td>\n",
       "      <td>2.780374</td>\n",
       "      <td>0.761682</td>\n",
       "    </tr>\n",
       "    <tr>\n",
       "      <th>std</th>\n",
       "      <td>0.003037</td>\n",
       "      <td>0.816604</td>\n",
       "      <td>1.442408</td>\n",
       "      <td>0.499270</td>\n",
       "      <td>0.774546</td>\n",
       "      <td>0.652192</td>\n",
       "      <td>1.423153</td>\n",
       "      <td>0.497219</td>\n",
       "      <td>0.097439</td>\n",
       "      <td>2.103739</td>\n",
       "      <td>0.427053</td>\n",
       "    </tr>\n",
       "    <tr>\n",
       "      <th>min</th>\n",
       "      <td>1.511150</td>\n",
       "      <td>10.730000</td>\n",
       "      <td>0.000000</td>\n",
       "      <td>0.290000</td>\n",
       "      <td>69.810000</td>\n",
       "      <td>0.000000</td>\n",
       "      <td>5.430000</td>\n",
       "      <td>0.000000</td>\n",
       "      <td>0.000000</td>\n",
       "      <td>1.000000</td>\n",
       "      <td>0.000000</td>\n",
       "    </tr>\n",
       "    <tr>\n",
       "      <th>25%</th>\n",
       "      <td>1.516522</td>\n",
       "      <td>12.907500</td>\n",
       "      <td>2.115000</td>\n",
       "      <td>1.190000</td>\n",
       "      <td>72.280000</td>\n",
       "      <td>0.122500</td>\n",
       "      <td>8.240000</td>\n",
       "      <td>0.000000</td>\n",
       "      <td>0.000000</td>\n",
       "      <td>1.000000</td>\n",
       "      <td>1.000000</td>\n",
       "    </tr>\n",
       "    <tr>\n",
       "      <th>50%</th>\n",
       "      <td>1.517680</td>\n",
       "      <td>13.300000</td>\n",
       "      <td>3.480000</td>\n",
       "      <td>1.360000</td>\n",
       "      <td>72.790000</td>\n",
       "      <td>0.555000</td>\n",
       "      <td>8.600000</td>\n",
       "      <td>0.000000</td>\n",
       "      <td>0.000000</td>\n",
       "      <td>2.000000</td>\n",
       "      <td>1.000000</td>\n",
       "    </tr>\n",
       "    <tr>\n",
       "      <th>75%</th>\n",
       "      <td>1.519157</td>\n",
       "      <td>13.825000</td>\n",
       "      <td>3.600000</td>\n",
       "      <td>1.630000</td>\n",
       "      <td>73.087500</td>\n",
       "      <td>0.610000</td>\n",
       "      <td>9.172500</td>\n",
       "      <td>0.000000</td>\n",
       "      <td>0.100000</td>\n",
       "      <td>3.000000</td>\n",
       "      <td>1.000000</td>\n",
       "    </tr>\n",
       "    <tr>\n",
       "      <th>max</th>\n",
       "      <td>1.533930</td>\n",
       "      <td>17.380000</td>\n",
       "      <td>4.490000</td>\n",
       "      <td>3.500000</td>\n",
       "      <td>75.410000</td>\n",
       "      <td>6.210000</td>\n",
       "      <td>16.190000</td>\n",
       "      <td>3.150000</td>\n",
       "      <td>0.510000</td>\n",
       "      <td>7.000000</td>\n",
       "      <td>1.000000</td>\n",
       "    </tr>\n",
       "  </tbody>\n",
       "</table>\n",
       "</div>"
      ],
      "text/plain": [
       "               RI          Na          Mg          Al          Si           K  \\\n",
       "count  214.000000  214.000000  214.000000  214.000000  214.000000  214.000000   \n",
       "mean     1.518365   13.407850    2.684533    1.444907   72.650935    0.497056   \n",
       "std      0.003037    0.816604    1.442408    0.499270    0.774546    0.652192   \n",
       "min      1.511150   10.730000    0.000000    0.290000   69.810000    0.000000   \n",
       "25%      1.516522   12.907500    2.115000    1.190000   72.280000    0.122500   \n",
       "50%      1.517680   13.300000    3.480000    1.360000   72.790000    0.555000   \n",
       "75%      1.519157   13.825000    3.600000    1.630000   73.087500    0.610000   \n",
       "max      1.533930   17.380000    4.490000    3.500000   75.410000    6.210000   \n",
       "\n",
       "               Ca          Ba          Fe  Type of glass  window_glass  \n",
       "count  214.000000  214.000000  214.000000     214.000000    214.000000  \n",
       "mean     8.956963    0.175047    0.057009       2.780374      0.761682  \n",
       "std      1.423153    0.497219    0.097439       2.103739      0.427053  \n",
       "min      5.430000    0.000000    0.000000       1.000000      0.000000  \n",
       "25%      8.240000    0.000000    0.000000       1.000000      1.000000  \n",
       "50%      8.600000    0.000000    0.000000       2.000000      1.000000  \n",
       "75%      9.172500    0.000000    0.100000       3.000000      1.000000  \n",
       "max     16.190000    3.150000    0.510000       7.000000      1.000000  "
      ]
     },
     "execution_count": 13,
     "metadata": {},
     "output_type": "execute_result"
    }
   ],
   "source": [
    "df.describe()"
   ]
  },
  {
   "cell_type": "markdown",
   "id": "ecf97313",
   "metadata": {},
   "source": [
    "This give the statiscal information of the columns. The summary of the dataset looks perfect there is no negative/invalid values present.\n",
    "\n",
    "From the above description we can observe there following:\n",
    "\n",
    "The counts of all the columns are same which means the are no missing values in the dataset.\n",
    "\n",
    "There is no much variation between the mean value of the data and the median(50%) I expect less skewness but to the right since the mean value is slightly bigger than the median; The Fe is skewed to the right (big)\n",
    "\n",
    "I also expect little or none outliers because there isn't much differences between 75% and max\n",
    "\n",
    "We can also notice the Standard deviation is not very wide and therefore the data is not very dispersed\n",
    "\n",
    "Type of glass, window_glass are the two categorical data"
   ]
  },
  {
   "cell_type": "markdown",
   "id": "7d125ecc",
   "metadata": {},
   "source": [
    "## Data Visualization"
   ]
  },
  {
   "cell_type": "code",
   "execution_count": 24,
   "id": "5bbf1fc6",
   "metadata": {},
   "outputs": [
    {
     "data": {
      "image/png": "[encoded data removed]",
      "text/plain": [
       "<Figure size 864x576 with 9 Axes>"
      ]
     },
     "metadata": {},
     "output_type": "display_data"
    }
   ],
   "source": [
    "## Checking for data distribution\n",
    "\n",
    "plt.figure(figsize=(12, 8), facecolor=\"white\")\n",
    "\n",
    "features = df.iloc[:, 0:9]\n",
    "\n",
    "for i, col in enumerate(features.columns):\n",
    "    plt.subplot(3, 4, i + 1) \n",
    "    sns.histplot(df[col], color=\"m\", kde=True)\n",
    "    plt.xlabel(col, fontsize=12)\n",
    "    plt.xticks(rotation=0, fontsize=10)\n",
    "    plt.yticks(fontsize=10)\n",
    "\n",
    "plt.tight_layout()\n",
    "plt.show()"
   ]
  },
  {
   "cell_type": "markdown",
   "id": "949b2658",
   "metadata": {},
   "source": [
    "The graph shows skewness to the right for RI,Na,K, Ca, Ba, Fe and skewness to the left for Mg, Si. Al tends to be more normal "
   ]
  },
  {
   "cell_type": "code",
   "execution_count": 26,
   "id": "9d4a9920",
   "metadata": {},
   "outputs": [
    {
     "data": {
      "image/png": "[encoded data removed]",
      "text/plain": [
       "<Figure size 432x288 with 1 Axes>"
      ]
     },
     "metadata": {},
     "output_type": "display_data"
    },
    {
     "data": {
      "image/png": "[encoded data removed]",
      "text/plain": [
       "<Figure size 432x288 with 1 Axes>"
      ]
     },
     "metadata": {},
     "output_type": "display_data"
    },
    {
     "data": {
      "image/png": "[encoded data removed]",
      "text/plain": [
       "<Figure size 432x288 with 1 Axes>"
      ]
     },
     "metadata": {},
     "output_type": "display_data"
    },
    {
     "data": {
      "image/png": "[encoded data removed]",
      "text/plain": [
       "<Figure size 432x288 with 1 Axes>"
      ]
     },
     "metadata": {},
     "output_type": "display_data"
    },
    {
     "data": {
      "image/png": "[encoded data removed]",
      "text/plain": [
       "<Figure size 432x288 with 1 Axes>"
      ]
     },
     "metadata": {},
     "output_type": "display_data"
    },
    {
     "data": {
      "image/png": "[encoded data removed]",
      "text/plain": [
       "<Figure size 432x288 with 1 Axes>"
      ]
     },
     "metadata": {},
     "output_type": "display_data"
    },
    {
     "data": {
      "image/png": "[encoded data removed]",
      "text/plain": [
       "<Figure size 432x288 with 1 Axes>"
      ]
     },
     "metadata": {},
     "output_type": "display_data"
    },
    {
     "data": {
      "image/png": "[encoded data removed]",
      "text/plain": [
       "<Figure size 432x288 with 1 Axes>"
      ]
     },
     "metadata": {},
     "output_type": "display_data"
    },
    {
     "data": {
      "image/png": "[encoded data removed]",
      "text/plain": [
       "<Figure size 432x288 with 1 Axes>"
      ]
     },
     "metadata": {},
     "output_type": "display_data"
    }
   ],
   "source": [
    "columns = [\"RI\", \"Na\", \"Mg\", \"Al\",  \"Si\", \"K\", \"Ca\", \"Ba\", \"Fe\"]\n",
    "\n",
    "for i in columns:\n",
    "    sns.set(style =\"whitegrid\")\n",
    "    ax = sns.swarmplot(x = \"window_glass\", y = i, data = df)\n",
    "    plt.title(\"Graph\")\n",
    "    plt.show()"
   ]
  },
  {
   "cell_type": "markdown",
   "id": "53637137",
   "metadata": {},
   "source": [
    "The graph \"RI vs window_glass\" shows a \"wide range (distribution)\" and high \"density\" of data points in the region 1.51-1.52 for the class 1, showing more common values of RI for window glass. \n",
    "\n",
    "This trend is observed also for Na, Mg, Al, Si, K, Ca, Fe except with Ba. \n",
    "\n",
    "The above graphs also show outliers of the data points"
   ]
  },
  {
   "cell_type": "code",
   "execution_count": 34,
   "id": "f9c4bc61",
   "metadata": {},
   "outputs": [
    {
     "data": {
      "text/plain": [
       "RI                  AxesSubplot(0.125,0.536818;0.110714x0.343182)\n",
       "Na               AxesSubplot(0.257857,0.536818;0.110714x0.343182)\n",
       "Mg               AxesSubplot(0.390714,0.536818;0.110714x0.343182)\n",
       "Al               AxesSubplot(0.523571,0.536818;0.110714x0.343182)\n",
       "Si               AxesSubplot(0.656429,0.536818;0.110714x0.343182)\n",
       "K                AxesSubplot(0.789286,0.536818;0.110714x0.343182)\n",
       "Ca                     AxesSubplot(0.125,0.125;0.110714x0.343182)\n",
       "Ba                  AxesSubplot(0.257857,0.125;0.110714x0.343182)\n",
       "Fe                  AxesSubplot(0.390714,0.125;0.110714x0.343182)\n",
       "Type of glass       AxesSubplot(0.523571,0.125;0.110714x0.343182)\n",
       "window_glass        AxesSubplot(0.656429,0.125;0.110714x0.343182)\n",
       "dtype: object"
      ]
     },
     "execution_count": 34,
     "metadata": {},
     "output_type": "execute_result"
    },
    {
     "data": {
      "image/png": "[encoded data removed]",
      "text/plain": [
       "<Figure size 720x720 with 12 Axes>"
      ]
     },
     "metadata": {},
     "output_type": "display_data"
    }
   ],
   "source": [
    "df.plot(kind =\"box\", subplots=True, layout=(2,6), figsize=(10,10))"
   ]
  },
  {
   "cell_type": "markdown",
   "id": "22567ea2",
   "metadata": {},
   "source": [
    "## Removing outliers"
   ]
  },
  {
   "cell_type": "code",
   "execution_count": 14,
   "id": "b26cd6c7",
   "metadata": {},
   "outputs": [
    {
     "data": {
      "text/html": [
       "<div>\n",
       "<style scoped>\n",
       "    .dataframe tbody tr th:only-of-type {\n",
       "        vertical-align: middle;\n",
       "    }\n",
       "\n",
       "    .dataframe tbody tr th {\n",
       "        vertical-align: top;\n",
       "    }\n",
       "\n",
       "    .dataframe thead th {\n",
       "        text-align: right;\n",
       "    }\n",
       "</style>\n",
       "<table border=\"1\" class=\"dataframe\">\n",
       "  <thead>\n",
       "    <tr style=\"text-align: right;\">\n",
       "      <th></th>\n",
       "      <th>RI</th>\n",
       "      <th>Na</th>\n",
       "      <th>Mg</th>\n",
       "      <th>Al</th>\n",
       "      <th>Si</th>\n",
       "      <th>K</th>\n",
       "      <th>Ca</th>\n",
       "      <th>Ba</th>\n",
       "      <th>Fe</th>\n",
       "    </tr>\n",
       "    <tr>\n",
       "      <th>Id number</th>\n",
       "      <th></th>\n",
       "      <th></th>\n",
       "      <th></th>\n",
       "      <th></th>\n",
       "      <th></th>\n",
       "      <th></th>\n",
       "      <th></th>\n",
       "      <th></th>\n",
       "      <th></th>\n",
       "    </tr>\n",
       "  </thead>\n",
       "  <tbody>\n",
       "    <tr>\n",
       "      <th>1</th>\n",
       "      <td>0.872868</td>\n",
       "      <td>0.284953</td>\n",
       "      <td>1.254639</td>\n",
       "      <td>0.692442</td>\n",
       "      <td>1.127082</td>\n",
       "      <td>0.671705</td>\n",
       "      <td>0.145766</td>\n",
       "      <td>0.352877</td>\n",
       "      <td>0.586451</td>\n",
       "    </tr>\n",
       "    <tr>\n",
       "      <th>2</th>\n",
       "      <td>0.249333</td>\n",
       "      <td>0.591817</td>\n",
       "      <td>0.636168</td>\n",
       "      <td>0.170460</td>\n",
       "      <td>0.102319</td>\n",
       "      <td>0.026213</td>\n",
       "      <td>0.793734</td>\n",
       "      <td>0.352877</td>\n",
       "      <td>0.586451</td>\n",
       "    </tr>\n",
       "    <tr>\n",
       "      <th>3</th>\n",
       "      <td>0.721318</td>\n",
       "      <td>0.149933</td>\n",
       "      <td>0.601422</td>\n",
       "      <td>0.190912</td>\n",
       "      <td>0.438787</td>\n",
       "      <td>0.164533</td>\n",
       "      <td>0.828949</td>\n",
       "      <td>0.352877</td>\n",
       "      <td>0.586451</td>\n",
       "    </tr>\n",
       "    <tr>\n",
       "      <th>4</th>\n",
       "      <td>0.232831</td>\n",
       "      <td>0.242853</td>\n",
       "      <td>0.698710</td>\n",
       "      <td>0.310994</td>\n",
       "      <td>0.052974</td>\n",
       "      <td>0.112107</td>\n",
       "      <td>0.519052</td>\n",
       "      <td>0.352877</td>\n",
       "      <td>0.586451</td>\n",
       "    </tr>\n",
       "    <tr>\n",
       "      <th>5</th>\n",
       "      <td>0.312045</td>\n",
       "      <td>0.169205</td>\n",
       "      <td>0.650066</td>\n",
       "      <td>0.411375</td>\n",
       "      <td>0.555256</td>\n",
       "      <td>0.081369</td>\n",
       "      <td>0.624699</td>\n",
       "      <td>0.352877</td>\n",
       "      <td>0.586451</td>\n",
       "    </tr>\n",
       "    <tr>\n",
       "      <th>...</th>\n",
       "      <td>...</td>\n",
       "      <td>...</td>\n",
       "      <td>...</td>\n",
       "      <td>...</td>\n",
       "      <td>...</td>\n",
       "      <td>...</td>\n",
       "      <td>...</td>\n",
       "      <td>...</td>\n",
       "      <td>...</td>\n",
       "    </tr>\n",
       "    <tr>\n",
       "      <th>210</th>\n",
       "      <td>0.704815</td>\n",
       "      <td>0.898681</td>\n",
       "      <td>1.865511</td>\n",
       "      <td>2.881125</td>\n",
       "      <td>0.052974</td>\n",
       "      <td>0.640968</td>\n",
       "      <td>0.157088</td>\n",
       "      <td>1.783978</td>\n",
       "      <td>0.586451</td>\n",
       "    </tr>\n",
       "    <tr>\n",
       "      <th>211</th>\n",
       "      <td>0.500178</td>\n",
       "      <td>1.856097</td>\n",
       "      <td>1.865511</td>\n",
       "      <td>1.094342</td>\n",
       "      <td>0.529374</td>\n",
       "      <td>0.763919</td>\n",
       "      <td>0.392276</td>\n",
       "      <td>2.852405</td>\n",
       "      <td>0.586451</td>\n",
       "    </tr>\n",
       "    <tr>\n",
       "      <th>212</th>\n",
       "      <td>0.754046</td>\n",
       "      <td>1.168721</td>\n",
       "      <td>1.865511</td>\n",
       "      <td>1.154570</td>\n",
       "      <td>0.995252</td>\n",
       "      <td>0.763919</td>\n",
       "      <td>0.364103</td>\n",
       "      <td>2.953200</td>\n",
       "      <td>0.586451</td>\n",
       "    </tr>\n",
       "    <tr>\n",
       "      <th>213</th>\n",
       "      <td>0.612399</td>\n",
       "      <td>1.193270</td>\n",
       "      <td>1.865511</td>\n",
       "      <td>0.993960</td>\n",
       "      <td>1.241133</td>\n",
       "      <td>0.763919</td>\n",
       "      <td>0.335931</td>\n",
       "      <td>2.812087</td>\n",
       "      <td>0.586451</td>\n",
       "    </tr>\n",
       "    <tr>\n",
       "      <th>214</th>\n",
       "      <td>0.414363</td>\n",
       "      <td>1.009152</td>\n",
       "      <td>1.865511</td>\n",
       "      <td>1.275028</td>\n",
       "      <td>0.917606</td>\n",
       "      <td>0.763919</td>\n",
       "      <td>0.237327</td>\n",
       "      <td>3.013677</td>\n",
       "      <td>0.586451</td>\n",
       "    </tr>\n",
       "  </tbody>\n",
       "</table>\n",
       "<p>214 rows × 9 columns</p>\n",
       "</div>"
      ],
      "text/plain": [
       "                 RI        Na        Mg        Al        Si         K  \\\n",
       "Id number                                                               \n",
       "1          0.872868  0.284953  1.254639  0.692442  1.127082  0.671705   \n",
       "2          0.249333  0.591817  0.636168  0.170460  0.102319  0.026213   \n",
       "3          0.721318  0.149933  0.601422  0.190912  0.438787  0.164533   \n",
       "4          0.232831  0.242853  0.698710  0.310994  0.052974  0.112107   \n",
       "5          0.312045  0.169205  0.650066  0.411375  0.555256  0.081369   \n",
       "...             ...       ...       ...       ...       ...       ...   \n",
       "210        0.704815  0.898681  1.865511  2.881125  0.052974  0.640968   \n",
       "211        0.500178  1.856097  1.865511  1.094342  0.529374  0.763919   \n",
       "212        0.754046  1.168721  1.865511  1.154570  0.995252  0.763919   \n",
       "213        0.612399  1.193270  1.865511  0.993960  1.241133  0.763919   \n",
       "214        0.414363  1.009152  1.865511  1.275028  0.917606  0.763919   \n",
       "\n",
       "                 Ca        Ba        Fe  \n",
       "Id number                                \n",
       "1          0.145766  0.352877  0.586451  \n",
       "2          0.793734  0.352877  0.586451  \n",
       "3          0.828949  0.352877  0.586451  \n",
       "4          0.519052  0.352877  0.586451  \n",
       "5          0.624699  0.352877  0.586451  \n",
       "...             ...       ...       ...  \n",
       "210        0.157088  1.783978  0.586451  \n",
       "211        0.392276  2.852405  0.586451  \n",
       "212        0.364103  2.953200  0.586451  \n",
       "213        0.335931  2.812087  0.586451  \n",
       "214        0.237327  3.013677  0.586451  \n",
       "\n",
       "[214 rows x 9 columns]"
      ]
     },
     "execution_count": 14,
     "metadata": {},
     "output_type": "execute_result"
    }
   ],
   "source": [
    "from scipy.stats import zscore\n",
    "\n",
    "out_features = df.iloc[:, 0:9]\n",
    "\n",
    "z = np.abs(zscore(out_features))\n",
    "z"
   ]
  },
  {
   "cell_type": "code",
   "execution_count": 15,
   "id": "83b888cc",
   "metadata": {
    "scrolled": true
   },
   "outputs": [
    {
     "name": "stdout",
     "output_type": "stream",
     "text": [
      "(array([105, 106, 106, 106, 106, 106, 107, 107, 107, 110, 111, 112, 112,\n",
      "       131, 145, 162, 163, 163, 163, 171, 171, 172, 172, 174, 184, 184,\n",
      "       188, 189, 201, 201, 203, 207, 213], dtype=int64), array([6, 0, 1, 4, 6, 7, 0, 4, 6, 6, 6, 0, 6, 6, 8, 8, 3, 4, 7, 3, 5, 3,\n",
      "       5, 8, 1, 4, 4, 7, 4, 5, 7, 7, 7], dtype=int64))\n",
      "\n",
      "\n",
      "Now removing the data above zscore threshold 3 and creating df1\n",
      "df.shape:  (214, 11)\n",
      "df1.shape:  (194, 11)\n",
      "\n",
      "\n",
      "Data Loss Percentage 9.345794392523365\n"
     ]
    }
   ],
   "source": [
    "# threshold = 3\n",
    "print(np.where(z>3))\n",
    "\n",
    "print(\"\\n\")\n",
    "\n",
    "# Now removing the data above zscore threshold 3 and creating df, df1\n",
    "\n",
    "print(\"Now removing the data above zscore threshold 3 and creating df1\")\n",
    "\n",
    "df1 = df[(z<3).all(axis=1)]\n",
    "\n",
    "a = df.shape\n",
    "b = df1.shape\n",
    "\n",
    "print(\"df.shape: \", a)\n",
    "print(\"df1.shape: \", b)\n",
    "\n",
    "print(\"\\n\")\n",
    "print(\"Data Loss Percentage\", (((a[0]-b[0])/a[0])*100))"
   ]
  },
  {
   "cell_type": "markdown",
   "id": "c69f1e87",
   "metadata": {},
   "source": [
    "data loss is less that 10% (as general rule of thumb) therefore it's acceptable the method used. other we would use another method to calculate the data loss"
   ]
  },
  {
   "cell_type": "markdown",
   "id": "fee80abf",
   "metadata": {},
   "source": [
    "## Checking for skewnes"
   ]
  },
  {
   "cell_type": "code",
   "execution_count": 16,
   "id": "d076cd8d",
   "metadata": {},
   "outputs": [
    {
     "data": {
      "text/plain": [
       "RI               0.952733\n",
       "Na               0.371482\n",
       "Mg              -1.528849\n",
       "Al               0.658259\n",
       "Si              -0.425450\n",
       "K                0.303175\n",
       "Ca               1.077962\n",
       "Ba               3.188587\n",
       "Fe               1.486479\n",
       "Type of glass    1.284007\n",
       "window_glass    -1.463837\n",
       "dtype: float64"
      ]
     },
     "execution_count": 16,
     "metadata": {},
     "output_type": "execute_result"
    }
   ],
   "source": [
    "df1.skew()"
   ]
  },
  {
   "cell_type": "code",
   "execution_count": 17,
   "id": "ef25a0f0",
   "metadata": {},
   "outputs": [],
   "source": [
    "skew_feat = [\"RI\", \"Na\", \"Al\", \"Si\", \"K\", \"Ca\", \"Ba\", \"Fe\"]\n",
    "df1[skew_feat] = np.cbrt(df1[skew_feat])"
   ]
  },
  {
   "cell_type": "code",
   "execution_count": 18,
   "id": "ea45ea9e",
   "metadata": {},
   "outputs": [
    {
     "data": {
      "text/plain": [
       "RI               0.948045\n",
       "Na               0.240950\n",
       "Mg              -1.528849\n",
       "Al              -0.374978\n",
       "Si              -0.447904\n",
       "K               -1.307953\n",
       "Ca               0.611914\n",
       "Ba               2.207594\n",
       "Fe               0.883166\n",
       "Type of glass    1.284007\n",
       "window_glass    -1.463837\n",
       "dtype: float64"
      ]
     },
     "execution_count": 18,
     "metadata": {},
     "output_type": "execute_result"
    }
   ],
   "source": [
    "df1.skew()"
   ]
  },
  {
   "cell_type": "markdown",
   "id": "f5ee276b",
   "metadata": {},
   "source": [
    "I have reduced the skewness in df1"
   ]
  },
  {
   "cell_type": "code",
   "execution_count": 19,
   "id": "5091a1cf",
   "metadata": {},
   "outputs": [
    {
     "data": {
      "image/png": "[encoded data removed]",
      "text/plain": [
       "<Figure size 1872x1008 with 2 Axes>"
      ]
     },
     "metadata": {
      "needs_background": "light"
     },
     "output_type": "display_data"
    }
   ],
   "source": [
    "plt.figure(figsize=(26,14))\n",
    "sns.heatmap(df1.corr(), annot=True, fmt=\"0.2f\", linewidths=0.2, linecolor=\"black\")\n",
    "plt.xlabel('Figure', fontsize=14)\n",
    "plt.ylabel('Features_Name', fontsize =20)\n",
    "plt.title(\"Descriptive Graph\", fontsize =20)\n",
    "plt.show()"
   ]
  },
  {
   "cell_type": "markdown",
   "id": "bf06b7a5",
   "metadata": {},
   "source": [
    "From the figure above show the correlation between the data points.  I also suspect multicolinearity, for instance we can see tht Mg is higly correlated positively with K. "
   ]
  },
  {
   "cell_type": "code",
   "execution_count": 20,
   "id": "8dae78d9",
   "metadata": {},
   "outputs": [
    {
     "data": {
      "text/plain": [
       "Mg              -0.810321\n",
       "K               -0.606086\n",
       "Fe              -0.182102\n",
       "RI              -0.167475\n",
       "Ca               0.136273\n",
       "Si               0.261617\n",
       "Na               0.522279\n",
       "Al               0.591653\n",
       "Ba               0.701027\n",
       "Type of glass    1.000000\n",
       "Name: Type of glass, dtype: float64"
      ]
     },
     "execution_count": 20,
     "metadata": {},
     "output_type": "execute_result"
    }
   ],
   "source": [
    "df1.drop(\"window_glass\", axis = 1).corr()[\"Type of glass\"].sort_values()"
   ]
  },
  {
   "cell_type": "markdown",
   "id": "c920a3ea",
   "metadata": {},
   "source": [
    "- The RI, Mg, K, Fe have a negative correlation with the \"type of glass\";they have less contribution\n",
    "\n",
    "- the Na, Si, Al, Ba, Ca, have a positive correlation. \n",
    "\n",
    "I will check first with the Variance Inflation Factor before considering removing some of the features"
   ]
  },
  {
   "cell_type": "markdown",
   "id": "5c8ace5b",
   "metadata": {},
   "source": [
    "## Feature Scaling using Standard Scalarization"
   ]
  },
  {
   "cell_type": "code",
   "execution_count": 21,
   "id": "7e1a308a",
   "metadata": {},
   "outputs": [],
   "source": [
    "x = df1.drop([\"Type of glass\", \"window_glass\"], axis=1)\n",
    "y = df1[\"Type of glass\"]"
   ]
  },
  {
   "cell_type": "code",
   "execution_count": 22,
   "id": "a598ac1e",
   "metadata": {},
   "outputs": [
    {
     "data": {
      "text/html": [
       "<div>\n",
       "<style scoped>\n",
       "    .dataframe tbody tr th:only-of-type {\n",
       "        vertical-align: middle;\n",
       "    }\n",
       "\n",
       "    .dataframe tbody tr th {\n",
       "        vertical-align: top;\n",
       "    }\n",
       "\n",
       "    .dataframe thead th {\n",
       "        text-align: right;\n",
       "    }\n",
       "</style>\n",
       "<table border=\"1\" class=\"dataframe\">\n",
       "  <thead>\n",
       "    <tr style=\"text-align: right;\">\n",
       "      <th></th>\n",
       "      <th>RI</th>\n",
       "      <th>Na</th>\n",
       "      <th>Mg</th>\n",
       "      <th>Al</th>\n",
       "      <th>Si</th>\n",
       "      <th>K</th>\n",
       "      <th>Ca</th>\n",
       "      <th>Ba</th>\n",
       "      <th>Fe</th>\n",
       "    </tr>\n",
       "    <tr>\n",
       "      <th>Id number</th>\n",
       "      <th></th>\n",
       "      <th></th>\n",
       "      <th></th>\n",
       "      <th></th>\n",
       "      <th></th>\n",
       "      <th></th>\n",
       "      <th></th>\n",
       "      <th></th>\n",
       "      <th></th>\n",
       "    </tr>\n",
       "  </thead>\n",
       "  <tbody>\n",
       "    <tr>\n",
       "      <th>1</th>\n",
       "      <td>1.150034</td>\n",
       "      <td>2.389304</td>\n",
       "      <td>4.49</td>\n",
       "      <td>1.032280</td>\n",
       "      <td>4.155926</td>\n",
       "      <td>0.391487</td>\n",
       "      <td>2.060643</td>\n",
       "      <td>0.000000</td>\n",
       "      <td>0.0</td>\n",
       "    </tr>\n",
       "    <tr>\n",
       "      <th>2</th>\n",
       "      <td>1.149176</td>\n",
       "      <td>2.403813</td>\n",
       "      <td>3.60</td>\n",
       "      <td>1.107932</td>\n",
       "      <td>4.174180</td>\n",
       "      <td>0.782974</td>\n",
       "      <td>1.985732</td>\n",
       "      <td>0.000000</td>\n",
       "      <td>0.0</td>\n",
       "    </tr>\n",
       "    <tr>\n",
       "      <th>3</th>\n",
       "      <td>1.148815</td>\n",
       "      <td>2.382864</td>\n",
       "      <td>3.55</td>\n",
       "      <td>1.154800</td>\n",
       "      <td>4.179148</td>\n",
       "      <td>0.730614</td>\n",
       "      <td>1.981496</td>\n",
       "      <td>0.000000</td>\n",
       "      <td>0.0</td>\n",
       "    </tr>\n",
       "    <tr>\n",
       "      <th>4</th>\n",
       "      <td>1.149189</td>\n",
       "      <td>2.363928</td>\n",
       "      <td>3.69</td>\n",
       "      <td>1.088587</td>\n",
       "      <td>4.171883</td>\n",
       "      <td>0.829134</td>\n",
       "      <td>2.018168</td>\n",
       "      <td>0.000000</td>\n",
       "      <td>0.0</td>\n",
       "    </tr>\n",
       "    <tr>\n",
       "      <th>5</th>\n",
       "      <td>1.149129</td>\n",
       "      <td>2.367502</td>\n",
       "      <td>3.62</td>\n",
       "      <td>1.074337</td>\n",
       "      <td>4.180865</td>\n",
       "      <td>0.819321</td>\n",
       "      <td>2.005816</td>\n",
       "      <td>0.000000</td>\n",
       "      <td>0.0</td>\n",
       "    </tr>\n",
       "    <tr>\n",
       "      <th>...</th>\n",
       "      <td>...</td>\n",
       "      <td>...</td>\n",
       "      <td>...</td>\n",
       "      <td>...</td>\n",
       "      <td>...</td>\n",
       "      <td>...</td>\n",
       "      <td>...</td>\n",
       "      <td>...</td>\n",
       "      <td>...</td>\n",
       "    </tr>\n",
       "    <tr>\n",
       "      <th>209</th>\n",
       "      <td>1.148871</td>\n",
       "      <td>2.431190</td>\n",
       "      <td>0.00</td>\n",
       "      <td>1.399319</td>\n",
       "      <td>4.176475</td>\n",
       "      <td>0.000000</td>\n",
       "      <td>2.114190</td>\n",
       "      <td>0.814325</td>\n",
       "      <td>0.0</td>\n",
       "    </tr>\n",
       "    <tr>\n",
       "      <th>210</th>\n",
       "      <td>1.148828</td>\n",
       "      <td>2.418149</td>\n",
       "      <td>0.00</td>\n",
       "      <td>1.422757</td>\n",
       "      <td>4.171883</td>\n",
       "      <td>0.430887</td>\n",
       "      <td>2.093860</td>\n",
       "      <td>1.019613</td>\n",
       "      <td>0.0</td>\n",
       "    </tr>\n",
       "    <tr>\n",
       "      <th>211</th>\n",
       "      <td>1.148985</td>\n",
       "      <td>2.461820</td>\n",
       "      <td>0.00</td>\n",
       "      <td>1.257818</td>\n",
       "      <td>4.180484</td>\n",
       "      <td>0.000000</td>\n",
       "      <td>2.032793</td>\n",
       "      <td>1.167165</td>\n",
       "      <td>0.0</td>\n",
       "    </tr>\n",
       "    <tr>\n",
       "      <th>212</th>\n",
       "      <td>1.149943</td>\n",
       "      <td>2.430626</td>\n",
       "      <td>0.00</td>\n",
       "      <td>1.264107</td>\n",
       "      <td>4.187339</td>\n",
       "      <td>0.000000</td>\n",
       "      <td>2.036014</td>\n",
       "      <td>1.179274</td>\n",
       "      <td>0.0</td>\n",
       "    </tr>\n",
       "    <tr>\n",
       "      <th>213</th>\n",
       "      <td>1.148899</td>\n",
       "      <td>2.431754</td>\n",
       "      <td>0.00</td>\n",
       "      <td>1.247194</td>\n",
       "      <td>4.190948</td>\n",
       "      <td>0.000000</td>\n",
       "      <td>2.039226</td>\n",
       "      <td>1.162251</td>\n",
       "      <td>0.0</td>\n",
       "    </tr>\n",
       "  </tbody>\n",
       "</table>\n",
       "<p>194 rows × 9 columns</p>\n",
       "</div>"
      ],
      "text/plain": [
       "                 RI        Na    Mg        Al        Si         K        Ca  \\\n",
       "Id number                                                                     \n",
       "1          1.150034  2.389304  4.49  1.032280  4.155926  0.391487  2.060643   \n",
       "2          1.149176  2.403813  3.60  1.107932  4.174180  0.782974  1.985732   \n",
       "3          1.148815  2.382864  3.55  1.154800  4.179148  0.730614  1.981496   \n",
       "4          1.149189  2.363928  3.69  1.088587  4.171883  0.829134  2.018168   \n",
       "5          1.149129  2.367502  3.62  1.074337  4.180865  0.819321  2.005816   \n",
       "...             ...       ...   ...       ...       ...       ...       ...   \n",
       "209        1.148871  2.431190  0.00  1.399319  4.176475  0.000000  2.114190   \n",
       "210        1.148828  2.418149  0.00  1.422757  4.171883  0.430887  2.093860   \n",
       "211        1.148985  2.461820  0.00  1.257818  4.180484  0.000000  2.032793   \n",
       "212        1.149943  2.430626  0.00  1.264107  4.187339  0.000000  2.036014   \n",
       "213        1.148899  2.431754  0.00  1.247194  4.190948  0.000000  2.039226   \n",
       "\n",
       "                 Ba   Fe  \n",
       "Id number                 \n",
       "1          0.000000  0.0  \n",
       "2          0.000000  0.0  \n",
       "3          0.000000  0.0  \n",
       "4          0.000000  0.0  \n",
       "5          0.000000  0.0  \n",
       "...             ...  ...  \n",
       "209        0.814325  0.0  \n",
       "210        1.019613  0.0  \n",
       "211        1.167165  0.0  \n",
       "212        1.179274  0.0  \n",
       "213        1.162251  0.0  \n",
       "\n",
       "[194 rows x 9 columns]"
      ]
     },
     "execution_count": 22,
     "metadata": {},
     "output_type": "execute_result"
    }
   ],
   "source": [
    "x"
   ]
  },
  {
   "cell_type": "code",
   "execution_count": 23,
   "id": "b7382ead",
   "metadata": {},
   "outputs": [
    {
     "data": {
      "text/plain": [
       "Id number\n",
       "1      1\n",
       "2      1\n",
       "3      1\n",
       "4      1\n",
       "5      1\n",
       "      ..\n",
       "209    7\n",
       "210    7\n",
       "211    7\n",
       "212    7\n",
       "213    7\n",
       "Name: Type of glass, Length: 194, dtype: int64"
      ]
     },
     "execution_count": 23,
     "metadata": {},
     "output_type": "execute_result"
    }
   ],
   "source": [
    "y"
   ]
  },
  {
   "cell_type": "code",
   "execution_count": 24,
   "id": "e9fabb8c",
   "metadata": {},
   "outputs": [
    {
     "data": {
      "text/html": [
       "<div>\n",
       "<style scoped>\n",
       "    .dataframe tbody tr th:only-of-type {\n",
       "        vertical-align: middle;\n",
       "    }\n",
       "\n",
       "    .dataframe tbody tr th {\n",
       "        vertical-align: top;\n",
       "    }\n",
       "\n",
       "    .dataframe thead th {\n",
       "        text-align: right;\n",
       "    }\n",
       "</style>\n",
       "<table border=\"1\" class=\"dataframe\">\n",
       "  <thead>\n",
       "    <tr style=\"text-align: right;\">\n",
       "      <th></th>\n",
       "      <th>RI</th>\n",
       "      <th>Na</th>\n",
       "      <th>Mg</th>\n",
       "      <th>Al</th>\n",
       "      <th>Si</th>\n",
       "      <th>K</th>\n",
       "      <th>Ca</th>\n",
       "      <th>Ba</th>\n",
       "      <th>Fe</th>\n",
       "    </tr>\n",
       "  </thead>\n",
       "  <tbody>\n",
       "    <tr>\n",
       "      <th>0</th>\n",
       "      <td>1.292056</td>\n",
       "      <td>0.348305</td>\n",
       "      <td>1.233397</td>\n",
       "      <td>-0.666678</td>\n",
       "      <td>-1.614872</td>\n",
       "      <td>-0.910874</td>\n",
       "      <td>-0.041137</td>\n",
       "      <td>-0.415308</td>\n",
       "      <td>-0.67803</td>\n",
       "    </tr>\n",
       "    <tr>\n",
       "      <th>1</th>\n",
       "      <td>-0.197444</td>\n",
       "      <td>0.715790</td>\n",
       "      <td>0.551581</td>\n",
       "      <td>-0.035036</td>\n",
       "      <td>0.018738</td>\n",
       "      <td>0.406834</td>\n",
       "      <td>-1.038165</td>\n",
       "      <td>-0.415308</td>\n",
       "      <td>-0.67803</td>\n",
       "    </tr>\n",
       "    <tr>\n",
       "      <th>2</th>\n",
       "      <td>-0.824575</td>\n",
       "      <td>0.185188</td>\n",
       "      <td>0.513277</td>\n",
       "      <td>0.356287</td>\n",
       "      <td>0.463350</td>\n",
       "      <td>0.230598</td>\n",
       "      <td>-1.094542</td>\n",
       "      <td>-0.415308</td>\n",
       "      <td>-0.67803</td>\n",
       "    </tr>\n",
       "    <tr>\n",
       "      <th>3</th>\n",
       "      <td>-0.175524</td>\n",
       "      <td>-0.294418</td>\n",
       "      <td>0.620529</td>\n",
       "      <td>-0.196550</td>\n",
       "      <td>-0.186824</td>\n",
       "      <td>0.562207</td>\n",
       "      <td>-0.606457</td>\n",
       "      <td>-0.415308</td>\n",
       "      <td>-0.67803</td>\n",
       "    </tr>\n",
       "    <tr>\n",
       "      <th>4</th>\n",
       "      <td>-0.280746</td>\n",
       "      <td>-0.203907</td>\n",
       "      <td>0.566903</td>\n",
       "      <td>-0.315529</td>\n",
       "      <td>0.617008</td>\n",
       "      <td>0.529177</td>\n",
       "      <td>-0.770849</td>\n",
       "      <td>-0.415308</td>\n",
       "      <td>-0.67803</td>\n",
       "    </tr>\n",
       "    <tr>\n",
       "      <th>...</th>\n",
       "      <td>...</td>\n",
       "      <td>...</td>\n",
       "      <td>...</td>\n",
       "      <td>...</td>\n",
       "      <td>...</td>\n",
       "      <td>...</td>\n",
       "      <td>...</td>\n",
       "      <td>...</td>\n",
       "      <td>...</td>\n",
       "    </tr>\n",
       "    <tr>\n",
       "      <th>189</th>\n",
       "      <td>-0.728068</td>\n",
       "      <td>1.409185</td>\n",
       "      <td>-2.206325</td>\n",
       "      <td>2.397864</td>\n",
       "      <td>0.224075</td>\n",
       "      <td>-2.228581</td>\n",
       "      <td>0.671549</td>\n",
       "      <td>2.070338</td>\n",
       "      <td>-0.67803</td>\n",
       "    </tr>\n",
       "    <tr>\n",
       "      <th>190</th>\n",
       "      <td>-0.802641</td>\n",
       "      <td>1.078892</td>\n",
       "      <td>-2.206325</td>\n",
       "      <td>2.593556</td>\n",
       "      <td>-0.186824</td>\n",
       "      <td>-0.778256</td>\n",
       "      <td>0.400966</td>\n",
       "      <td>2.696958</td>\n",
       "      <td>-0.67803</td>\n",
       "    </tr>\n",
       "    <tr>\n",
       "      <th>191</th>\n",
       "      <td>-0.530695</td>\n",
       "      <td>2.184971</td>\n",
       "      <td>-2.206325</td>\n",
       "      <td>1.216416</td>\n",
       "      <td>0.582873</td>\n",
       "      <td>-2.228581</td>\n",
       "      <td>-0.411806</td>\n",
       "      <td>3.147347</td>\n",
       "      <td>-0.67803</td>\n",
       "    </tr>\n",
       "    <tr>\n",
       "      <th>192</th>\n",
       "      <td>1.134449</td>\n",
       "      <td>1.394898</td>\n",
       "      <td>-2.206325</td>\n",
       "      <td>1.268927</td>\n",
       "      <td>1.196358</td>\n",
       "      <td>-2.228581</td>\n",
       "      <td>-0.368929</td>\n",
       "      <td>3.184306</td>\n",
       "      <td>-0.67803</td>\n",
       "    </tr>\n",
       "    <tr>\n",
       "      <th>193</th>\n",
       "      <td>-0.679817</td>\n",
       "      <td>1.423465</td>\n",
       "      <td>-2.206325</td>\n",
       "      <td>1.127713</td>\n",
       "      <td>1.519334</td>\n",
       "      <td>-2.228581</td>\n",
       "      <td>-0.326187</td>\n",
       "      <td>3.132346</td>\n",
       "      <td>-0.67803</td>\n",
       "    </tr>\n",
       "  </tbody>\n",
       "</table>\n",
       "<p>194 rows × 9 columns</p>\n",
       "</div>"
      ],
      "text/plain": [
       "           RI        Na        Mg        Al        Si         K        Ca  \\\n",
       "0    1.292056  0.348305  1.233397 -0.666678 -1.614872 -0.910874 -0.041137   \n",
       "1   -0.197444  0.715790  0.551581 -0.035036  0.018738  0.406834 -1.038165   \n",
       "2   -0.824575  0.185188  0.513277  0.356287  0.463350  0.230598 -1.094542   \n",
       "3   -0.175524 -0.294418  0.620529 -0.196550 -0.186824  0.562207 -0.606457   \n",
       "4   -0.280746 -0.203907  0.566903 -0.315529  0.617008  0.529177 -0.770849   \n",
       "..        ...       ...       ...       ...       ...       ...       ...   \n",
       "189 -0.728068  1.409185 -2.206325  2.397864  0.224075 -2.228581  0.671549   \n",
       "190 -0.802641  1.078892 -2.206325  2.593556 -0.186824 -0.778256  0.400966   \n",
       "191 -0.530695  2.184971 -2.206325  1.216416  0.582873 -2.228581 -0.411806   \n",
       "192  1.134449  1.394898 -2.206325  1.268927  1.196358 -2.228581 -0.368929   \n",
       "193 -0.679817  1.423465 -2.206325  1.127713  1.519334 -2.228581 -0.326187   \n",
       "\n",
       "           Ba       Fe  \n",
       "0   -0.415308 -0.67803  \n",
       "1   -0.415308 -0.67803  \n",
       "2   -0.415308 -0.67803  \n",
       "3   -0.415308 -0.67803  \n",
       "4   -0.415308 -0.67803  \n",
       "..        ...      ...  \n",
       "189  2.070338 -0.67803  \n",
       "190  2.696958 -0.67803  \n",
       "191  3.147347 -0.67803  \n",
       "192  3.184306 -0.67803  \n",
       "193  3.132346 -0.67803  \n",
       "\n",
       "[194 rows x 9 columns]"
      ]
     },
     "execution_count": 24,
     "metadata": {},
     "output_type": "execute_result"
    }
   ],
   "source": [
    "from sklearn.preprocessing import StandardScaler\n",
    "scaler =  StandardScaler()\n",
    "x = pd.DataFrame(scaler.fit_transform(x), columns=x.columns)\n",
    "x"
   ]
  },
  {
   "cell_type": "markdown",
   "id": "c1223adc",
   "metadata": {},
   "source": [
    "the features are rescaled so that they have the properties of a standard normal distribution with a standard deviation of 1."
   ]
  },
  {
   "cell_type": "code",
   "execution_count": 25,
   "id": "37eb16ef",
   "metadata": {},
   "outputs": [
    {
     "data": {
      "text/plain": [
       "RI    1.0\n",
       "Na    1.0\n",
       "Mg    1.0\n",
       "Al    1.0\n",
       "Si    1.0\n",
       "K     1.0\n",
       "Ca    1.0\n",
       "Ba    1.0\n",
       "Fe    1.0\n",
       "dtype: float64"
      ]
     },
     "execution_count": 25,
     "metadata": {},
     "output_type": "execute_result"
    }
   ],
   "source": [
    "round(x.std(), 1)"
   ]
  },
  {
   "cell_type": "markdown",
   "id": "33aa48df",
   "metadata": {},
   "source": [
    "## Variance Inflation Factor (VIF)\n",
    "\n",
    "identifying the presence of multicollinearity "
   ]
  },
  {
   "cell_type": "code",
   "execution_count": 26,
   "id": "44e89343",
   "metadata": {},
   "outputs": [
    {
     "data": {
      "text/html": [
       "<div>\n",
       "<style scoped>\n",
       "    .dataframe tbody tr th:only-of-type {\n",
       "        vertical-align: middle;\n",
       "    }\n",
       "\n",
       "    .dataframe tbody tr th {\n",
       "        vertical-align: top;\n",
       "    }\n",
       "\n",
       "    .dataframe thead th {\n",
       "        text-align: right;\n",
       "    }\n",
       "</style>\n",
       "<table border=\"1\" class=\"dataframe\">\n",
       "  <thead>\n",
       "    <tr style=\"text-align: right;\">\n",
       "      <th></th>\n",
       "      <th>Features</th>\n",
       "      <th>VIF FACTOR</th>\n",
       "    </tr>\n",
       "  </thead>\n",
       "  <tbody>\n",
       "    <tr>\n",
       "      <th>0</th>\n",
       "      <td>RI</td>\n",
       "      <td>5.081719</td>\n",
       "    </tr>\n",
       "    <tr>\n",
       "      <th>1</th>\n",
       "      <td>Na</td>\n",
       "      <td>11.285517</td>\n",
       "    </tr>\n",
       "    <tr>\n",
       "      <th>2</th>\n",
       "      <td>Mg</td>\n",
       "      <td>28.514574</td>\n",
       "    </tr>\n",
       "    <tr>\n",
       "      <th>3</th>\n",
       "      <td>Al</td>\n",
       "      <td>5.264821</td>\n",
       "    </tr>\n",
       "    <tr>\n",
       "      <th>4</th>\n",
       "      <td>Si</td>\n",
       "      <td>8.594095</td>\n",
       "    </tr>\n",
       "    <tr>\n",
       "      <th>5</th>\n",
       "      <td>K</td>\n",
       "      <td>5.012089</td>\n",
       "    </tr>\n",
       "    <tr>\n",
       "      <th>6</th>\n",
       "      <td>Ca</td>\n",
       "      <td>17.660452</td>\n",
       "    </tr>\n",
       "    <tr>\n",
       "      <th>7</th>\n",
       "      <td>Ba</td>\n",
       "      <td>4.716060</td>\n",
       "    </tr>\n",
       "    <tr>\n",
       "      <th>8</th>\n",
       "      <td>Fe</td>\n",
       "      <td>1.068106</td>\n",
       "    </tr>\n",
       "  </tbody>\n",
       "</table>\n",
       "</div>"
      ],
      "text/plain": [
       "  Features  VIF FACTOR\n",
       "0       RI    5.081719\n",
       "1       Na   11.285517\n",
       "2       Mg   28.514574\n",
       "3       Al    5.264821\n",
       "4       Si    8.594095\n",
       "5        K    5.012089\n",
       "6       Ca   17.660452\n",
       "7       Ba    4.716060\n",
       "8       Fe    1.068106"
      ]
     },
     "execution_count": 26,
     "metadata": {},
     "output_type": "execute_result"
    }
   ],
   "source": [
    "import statsmodels.api as sm\n",
    "from scipy import stats\n",
    "from statsmodels.stats.outliers_influence import variance_inflation_factor\n",
    "\n",
    "def cal_vif(x):\n",
    "    vif = pd.DataFrame()\n",
    "    vif[\"Features\"] = x.columns\n",
    "    vif[\"VIF FACTOR\"] = [variance_inflation_factor(x.values,i) for i in range(x.shape[1])]\n",
    "    return(vif)\n",
    "\n",
    "cal_vif(x)"
   ]
  },
  {
   "cell_type": "markdown",
   "id": "ab88fba4",
   "metadata": {},
   "source": [
    "from the table above, we can observe multicollinearity:\n",
    "\n",
    "- Mg 28.514574 > 10 #(threshold = 10)\n",
    "- Ca 17.660452 > 10\n",
    "\n",
    "I will first drop Mg since it already has a very high negative correlation with the target"
   ]
  },
  {
   "cell_type": "code",
   "execution_count": 27,
   "id": "26ac5cd5",
   "metadata": {},
   "outputs": [
    {
     "data": {
      "text/html": [
       "<div>\n",
       "<style scoped>\n",
       "    .dataframe tbody tr th:only-of-type {\n",
       "        vertical-align: middle;\n",
       "    }\n",
       "\n",
       "    .dataframe tbody tr th {\n",
       "        vertical-align: top;\n",
       "    }\n",
       "\n",
       "    .dataframe thead th {\n",
       "        text-align: right;\n",
       "    }\n",
       "</style>\n",
       "<table border=\"1\" class=\"dataframe\">\n",
       "  <thead>\n",
       "    <tr style=\"text-align: right;\">\n",
       "      <th></th>\n",
       "      <th>Features</th>\n",
       "      <th>VIF FACTOR</th>\n",
       "    </tr>\n",
       "  </thead>\n",
       "  <tbody>\n",
       "    <tr>\n",
       "      <th>0</th>\n",
       "      <td>RI</td>\n",
       "      <td>5.077948</td>\n",
       "    </tr>\n",
       "    <tr>\n",
       "      <th>1</th>\n",
       "      <td>Na</td>\n",
       "      <td>3.920963</td>\n",
       "    </tr>\n",
       "    <tr>\n",
       "      <th>2</th>\n",
       "      <td>Al</td>\n",
       "      <td>2.112073</td>\n",
       "    </tr>\n",
       "    <tr>\n",
       "      <th>3</th>\n",
       "      <td>Si</td>\n",
       "      <td>2.934062</td>\n",
       "    </tr>\n",
       "    <tr>\n",
       "      <th>4</th>\n",
       "      <td>K</td>\n",
       "      <td>3.942313</td>\n",
       "    </tr>\n",
       "    <tr>\n",
       "      <th>5</th>\n",
       "      <td>Ca</td>\n",
       "      <td>3.011275</td>\n",
       "    </tr>\n",
       "    <tr>\n",
       "      <th>6</th>\n",
       "      <td>Ba</td>\n",
       "      <td>2.345478</td>\n",
       "    </tr>\n",
       "    <tr>\n",
       "      <th>7</th>\n",
       "      <td>Fe</td>\n",
       "      <td>1.047940</td>\n",
       "    </tr>\n",
       "  </tbody>\n",
       "</table>\n",
       "</div>"
      ],
      "text/plain": [
       "  Features  VIF FACTOR\n",
       "0       RI    5.077948\n",
       "1       Na    3.920963\n",
       "2       Al    2.112073\n",
       "3       Si    2.934062\n",
       "4        K    3.942313\n",
       "5       Ca    3.011275\n",
       "6       Ba    2.345478\n",
       "7       Fe    1.047940"
      ]
     },
     "execution_count": 27,
     "metadata": {},
     "output_type": "execute_result"
    }
   ],
   "source": [
    "x.drop([\"Mg\"], axis=1, inplace=True)\n",
    "\n",
    "def cal_vif(x):\n",
    "    vif = pd.DataFrame()\n",
    "    vif[\"Features\"] = x.columns\n",
    "    vif[\"VIF FACTOR\"] = [variance_inflation_factor(x.values,i) for i in range(x.shape[1])]\n",
    "    return(vif)\n",
    "\n",
    "cal_vif(x)"
   ]
  },
  {
   "cell_type": "markdown",
   "id": "7122b523",
   "metadata": {},
   "source": [
    "Now Ca has reduced and we have solved the multicollinearity problem. We can move ahead for the model building"
   ]
  },
  {
   "cell_type": "markdown",
   "id": "2c285451",
   "metadata": {},
   "source": [
    "## Oversampling"
   ]
  },
  {
   "cell_type": "code",
   "execution_count": 28,
   "id": "ca34d137",
   "metadata": {},
   "outputs": [
    {
     "name": "stdout",
     "output_type": "stream",
     "text": [
      "y.value_counts()\n",
      "1    70\n",
      "2    68\n",
      "7    23\n",
      "3    16\n",
      "5     9\n",
      "6     8\n",
      "Name: Type of glass, dtype: int64\n",
      "\n",
      "\n",
      "y1.value_counts()\n",
      "1    70\n",
      "2    70\n",
      "3    70\n",
      "5    70\n",
      "6    70\n",
      "7    70\n",
      "Name: Type of glass, dtype: int64\n"
     ]
    }
   ],
   "source": [
    "from imblearn.over_sampling import SMOTE \n",
    "SM = SMOTE()\n",
    "x1,y1 = SM.fit_resample(x,y)\n",
    "print(\"y.value_counts()\")\n",
    "print(y.value_counts())\n",
    "\n",
    "print(\"\\n\")\n",
    "\n",
    "print(\"y1.value_counts()\")\n",
    "print(y1.value_counts())"
   ]
  },
  {
   "cell_type": "markdown",
   "id": "d7850a65",
   "metadata": {},
   "source": [
    "The data are now well balanced"
   ]
  },
  {
   "cell_type": "markdown",
   "id": "befd82da",
   "metadata": {},
   "source": [
    "## Modelling -find the best random state"
   ]
  },
  {
   "cell_type": "code",
   "execution_count": 29,
   "id": "d6b69719",
   "metadata": {},
   "outputs": [
    {
     "name": "stdout",
     "output_type": "stream",
     "text": [
      "Best accuracy is  0.9761904761904762 at random_state 126\n"
     ]
    }
   ],
   "source": [
    "from sklearn.model_selection import train_test_split\n",
    "from sklearn.ensemble import RandomForestClassifier\n",
    "from sklearn.metrics import accuracy_score\n",
    "np.random.seed(42)\n",
    "\n",
    "optimal_accuracy = 0\n",
    "optimal_random_state = 0 \n",
    "\n",
    "for i in range(1, 200):\n",
    "    x_train,x_test, y_train, y_test = train_test_split(x1, y1, test_size=0.2, random_state=i)\n",
    "    rfc = RandomForestClassifier()\n",
    "    rfc.fit(x_train, y_train)\n",
    "    pred = rfc.predict(x_test)\n",
    "    acc = accuracy_score(y_test, pred)\n",
    "    if (acc > optimal_accuracy):\n",
    "        optimal_accuracy = acc\n",
    "        optimal_random_state = i\n",
    "print(\"Best accuracy is \", optimal_accuracy, \"at random_state\", optimal_random_state)"
   ]
  },
  {
   "cell_type": "code",
   "execution_count": 31,
   "id": "733bad57",
   "metadata": {},
   "outputs": [
    {
     "name": "stdout",
     "output_type": "stream",
     "text": [
      "Accuracy score of RandomForestClassifier() is: 0.9761904761904762\n",
      "[[17  1  0  0  0  0]\n",
      " [ 0 17  0  0  0  0]\n",
      " [ 0  0  9  0  0  0]\n",
      " [ 0  0  0  8  0  0]\n",
      " [ 0  0  0  0 17  0]\n",
      " [ 1  0  0  0  0 14]]\n",
      "              precision    recall  f1-score   support\n",
      "\n",
      "           1       0.94      0.94      0.94        18\n",
      "           2       0.94      1.00      0.97        17\n",
      "           3       1.00      1.00      1.00         9\n",
      "           5       1.00      1.00      1.00         8\n",
      "           6       1.00      1.00      1.00        17\n",
      "           7       1.00      0.93      0.97        15\n",
      "\n",
      "    accuracy                           0.98        84\n",
      "   macro avg       0.98      0.98      0.98        84\n",
      "weighted avg       0.98      0.98      0.98        84\n",
      "\n",
      "\n",
      "\n",
      "Accuracy score of LogisticRegression() is: 0.8452380952380952\n",
      "[[12  5  1  0  0  0]\n",
      " [ 2 13  2  0  0  0]\n",
      " [ 1  1  7  0  0  0]\n",
      " [ 0  0  0  8  0  0]\n",
      " [ 0  0  0  0 17  0]\n",
      " [ 1  0  0  0  0 14]]\n",
      "              precision    recall  f1-score   support\n",
      "\n",
      "           1       0.75      0.67      0.71        18\n",
      "           2       0.68      0.76      0.72        17\n",
      "           3       0.70      0.78      0.74         9\n",
      "           5       1.00      1.00      1.00         8\n",
      "           6       1.00      1.00      1.00        17\n",
      "           7       1.00      0.93      0.97        15\n",
      "\n",
      "    accuracy                           0.85        84\n",
      "   macro avg       0.86      0.86      0.86        84\n",
      "weighted avg       0.85      0.85      0.85        84\n",
      "\n",
      "\n",
      "\n",
      "Accuracy score of ExtraTreesClassifier() is: 0.9285714285714286\n",
      "[[15  3  0  0  0  0]\n",
      " [ 2 15  0  0  0  0]\n",
      " [ 0  0  9  0  0  0]\n",
      " [ 0  0  0  8  0  0]\n",
      " [ 0  0  0  0 17  0]\n",
      " [ 1  0  0  0  0 14]]\n",
      "              precision    recall  f1-score   support\n",
      "\n",
      "           1       0.83      0.83      0.83        18\n",
      "           2       0.83      0.88      0.86        17\n",
      "           3       1.00      1.00      1.00         9\n",
      "           5       1.00      1.00      1.00         8\n",
      "           6       1.00      1.00      1.00        17\n",
      "           7       1.00      0.93      0.97        15\n",
      "\n",
      "    accuracy                           0.93        84\n",
      "   macro avg       0.94      0.94      0.94        84\n",
      "weighted avg       0.93      0.93      0.93        84\n",
      "\n",
      "\n",
      "\n",
      "Accuracy score of SVC() is: 0.9166666666666666\n",
      "[[14  3  1  0  0  0]\n",
      " [ 1 16  0  0  0  0]\n",
      " [ 0  1  8  0  0  0]\n",
      " [ 0  0  0  8  0  0]\n",
      " [ 0  0  0  0 17  0]\n",
      " [ 1  0  0  0  0 14]]\n",
      "              precision    recall  f1-score   support\n",
      "\n",
      "           1       0.88      0.78      0.82        18\n",
      "           2       0.80      0.94      0.86        17\n",
      "           3       0.89      0.89      0.89         9\n",
      "           5       1.00      1.00      1.00         8\n",
      "           6       1.00      1.00      1.00        17\n",
      "           7       1.00      0.93      0.97        15\n",
      "\n",
      "    accuracy                           0.92        84\n",
      "   macro avg       0.93      0.92      0.92        84\n",
      "weighted avg       0.92      0.92      0.92        84\n",
      "\n",
      "\n",
      "\n",
      "Accuracy score of GradientBoostingClassifier() is: 0.9047619047619048\n",
      "[[12  2  3  1  0  0]\n",
      " [ 0 17  0  0  0  0]\n",
      " [ 1  0  8  0  0  0]\n",
      " [ 0  0  0  8  0  0]\n",
      " [ 0  0  0  0 17  0]\n",
      " [ 1  0  0  0  0 14]]\n",
      "              precision    recall  f1-score   support\n",
      "\n",
      "           1       0.86      0.67      0.75        18\n",
      "           2       0.89      1.00      0.94        17\n",
      "           3       0.73      0.89      0.80         9\n",
      "           5       0.89      1.00      0.94         8\n",
      "           6       1.00      1.00      1.00        17\n",
      "           7       1.00      0.93      0.97        15\n",
      "\n",
      "    accuracy                           0.90        84\n",
      "   macro avg       0.89      0.91      0.90        84\n",
      "weighted avg       0.91      0.90      0.90        84\n",
      "\n",
      "\n",
      "\n",
      "Accuracy score of AdaBoostClassifier() is: 0.40476190476190477\n",
      "[[ 0  0 17  1  0  0]\n",
      " [ 0  0 16  1  0  0]\n",
      " [ 0  0  9  0  0  0]\n",
      " [ 0  0  0  8  0  0]\n",
      " [ 0  0  0  0 17  0]\n",
      " [14  0  1  0  0  0]]\n",
      "              precision    recall  f1-score   support\n",
      "\n",
      "           1       0.00      0.00      0.00        18\n",
      "           2       0.00      0.00      0.00        17\n",
      "           3       0.21      1.00      0.35         9\n",
      "           5       0.80      1.00      0.89         8\n",
      "           6       1.00      1.00      1.00        17\n",
      "           7       0.00      0.00      0.00        15\n",
      "\n",
      "    accuracy                           0.40        84\n",
      "   macro avg       0.33      0.50      0.37        84\n",
      "weighted avg       0.30      0.40      0.32        84\n",
      "\n",
      "\n",
      "\n",
      "Accuracy score of BaggingClassifier() is: 0.9285714285714286\n",
      "[[15  2  0  1  0  0]\n",
      " [ 1 15  1  0  0  0]\n",
      " [ 0  0  9  0  0  0]\n",
      " [ 0  0  0  8  0  0]\n",
      " [ 0  0  0  0 17  0]\n",
      " [ 1  0  0  0  0 14]]\n",
      "              precision    recall  f1-score   support\n",
      "\n",
      "           1       0.88      0.83      0.86        18\n",
      "           2       0.88      0.88      0.88        17\n",
      "           3       0.90      1.00      0.95         9\n",
      "           5       0.89      1.00      0.94         8\n",
      "           6       1.00      1.00      1.00        17\n",
      "           7       1.00      0.93      0.97        15\n",
      "\n",
      "    accuracy                           0.93        84\n",
      "   macro avg       0.93      0.94      0.93        84\n",
      "weighted avg       0.93      0.93      0.93        84\n",
      "\n",
      "\n",
      "\n",
      "List of Accuracy Scores: [0.9761904761904762, 0.8452380952380952, 0.9285714285714286, 0.9166666666666666, 0.9047619047619048, 0.40476190476190477, 0.9285714285714286]\n"
     ]
    }
   ],
   "source": [
    "x_train,x_test, y_train, y_test = train_test_split(x1, y1, test_size=0.2, random_state=optimal_random_state)\n",
    "\n",
    "# importing libraries\n",
    "from sklearn.ensemble import RandomForestClassifier, ExtraTreesClassifier\n",
    "from sklearn.linear_model import LogisticRegression\n",
    "from sklearn.svm import SVC\n",
    "from sklearn.ensemble import GradientBoostingClassifier, AdaBoostClassifier,BaggingClassifier\n",
    "from sklearn.metrics import classification_report, confusion_matrix, roc_curve, accuracy_score\n",
    "from sklearn.model_selection import cross_val_score\n",
    "\n",
    "# Selecting the best model\n",
    "\n",
    "rfc = RandomForestClassifier()\n",
    "lg = LogisticRegression()\n",
    "exc = ExtraTreesClassifier()\n",
    "svc = SVC()\n",
    "gbc =GradientBoostingClassifier()\n",
    "abc = AdaBoostClassifier()\n",
    "bc = BaggingClassifier()\n",
    "\n",
    "\n",
    "models = [rfc, lg, exc, svc, gbc, abc, bc]\n",
    "AccuracyScores = [] \n",
    "\n",
    "for model in models:\n",
    "    model.fit(x_train, y_train)\n",
    "    pred_model = model.predict(x_test)\n",
    "    accuracy = accuracy_score(y_test, pred_model)\n",
    "    AccuracyScores.append(accuracy)\n",
    "    print(\"Accuracy score of\", model, \"is:\", accuracy)\n",
    "    print(confusion_matrix(y_test, pred_model))\n",
    "    print(classification_report(y_test, pred_model))\n",
    "    print('\\n')\n",
    "\n",
    "print(\"List of Accuracy Scores:\", AccuracyScores)\n"
   ]
  },
  {
   "cell_type": "markdown",
   "id": "8178bee8",
   "metadata": {},
   "source": [
    "### Cross Validation Score (parameter to check the well fitting"
   ]
  },
  {
   "cell_type": "code",
   "execution_count": 32,
   "id": "1d396601",
   "metadata": {},
   "outputs": [
    {
     "name": "stdout",
     "output_type": "stream",
     "text": [
      "Cross validare score of  RandomForestClassifier() is: \n",
      "[0.66666667 0.76923077 0.66666667 0.64102564 0.65789474]\n",
      "cross validation score mean is  0.6802968960863698\n",
      "cross validation score std is  0.04544202529241367\n",
      "Difference between Accuracy score and cross validation score is 0.24827453248505882\n",
      "\n",
      "\n",
      "Cross validare score of  LogisticRegression() is: \n",
      "[0.61538462 0.71794872 0.74358974 0.56410256 0.65789474]\n",
      "cross validation score mean is  0.6597840755735493\n",
      "cross validation score std is  0.06562979341359376\n",
      "Difference between Accuracy score and cross validation score is 0.26878735299787926\n",
      "\n",
      "\n",
      "Cross validare score of  ExtraTreesClassifier() is: \n",
      "[0.69230769 0.76923077 0.76923077 0.69230769 0.63157895]\n",
      "cross validation score mean is  0.7109311740890689\n",
      "cross validation score std is  0.052513102403533504\n",
      "Difference between Accuracy score and cross validation score is 0.21764025448235969\n",
      "\n",
      "\n",
      "Cross validare score of  SVC() is: \n",
      "[0.58974359 0.76923077 0.61538462 0.66666667 0.71052632]\n",
      "cross validation score mean is  0.670310391363023\n",
      "cross validation score std is  0.0646895491631374\n",
      "Difference between Accuracy score and cross validation score is 0.25826103720840565\n",
      "\n",
      "\n",
      "Cross validare score of  GradientBoostingClassifier() is: \n",
      "[0.79487179 0.76923077 0.69230769 0.64102564 0.63157895]\n",
      "cross validation score mean is  0.7058029689608636\n",
      "cross validation score std is  0.06609655313850972\n",
      "Difference between Accuracy score and cross validation score is 0.22276845961056502\n",
      "\n",
      "\n",
      "Cross validare score of  AdaBoostClassifier() is: \n",
      "[0.41025641 0.43589744 0.53846154 0.30769231 0.39473684]\n",
      "cross validation score mean is  0.4174089068825911\n",
      "cross validation score std is  0.07429465416092505\n",
      "Difference between Accuracy score and cross validation score is 0.5111625216888376\n",
      "\n",
      "\n",
      "Cross validare score of  BaggingClassifier() is: \n",
      "[0.66666667 0.69230769 0.69230769 0.64102564 0.71052632]\n",
      "cross validation score mean is  0.6805668016194332\n",
      "cross validation score std is  0.024207381727156432\n",
      "Difference between Accuracy score and cross validation score is 0.24800462695199543\n",
      "\n",
      "\n",
      "List of Differences_Accuracy_Validation : [0.24827453248505882, 0.26878735299787926, 0.21764025448235969, 0.25826103720840565, 0.22276845961056502, 0.5111625216888376, 0.24800462695199543]\n"
     ]
    }
   ],
   "source": [
    "from sklearn.model_selection import cross_val_score\n",
    "\n",
    "models = [rfc, lg, exc, svc, gbc, abc,bc]\n",
    "Differences_Accuracy_Validation = []\n",
    "\n",
    "for model in models:\n",
    "    score = cross_val_score(model,x,y,cv=5) \n",
    "    print(\"Cross validare score of \", model, \"is: \")\n",
    "    print(score)   \n",
    "    print(\"cross validation score mean is \", score.mean())\n",
    "    print(\"cross validation score std is \", score.std())\n",
    "    print(\"Difference between Accuracy score and cross validation score is\", accuracy_score(y_test ,pred_model)-score.mean())\n",
    "    print('\\n')\n",
    "    Differences_Accuracy_Validation.append(accuracy_score(y_test ,pred_model)-score.mean())\n",
    "    \n",
    "print(\"List of Differences_Accuracy_Validation :\", Differences_Accuracy_Validation)\n",
    "    "
   ]
  },
  {
   "cell_type": "code",
   "execution_count": 33,
   "id": "706ade3e",
   "metadata": {
    "scrolled": false
   },
   "outputs": [
    {
     "data": {
      "text/html": [
       "<div>\n",
       "<style scoped>\n",
       "    .dataframe tbody tr th:only-of-type {\n",
       "        vertical-align: middle;\n",
       "    }\n",
       "\n",
       "    .dataframe tbody tr th {\n",
       "        vertical-align: top;\n",
       "    }\n",
       "\n",
       "    .dataframe thead th {\n",
       "        text-align: right;\n",
       "    }\n",
       "</style>\n",
       "<table border=\"1\" class=\"dataframe\">\n",
       "  <thead>\n",
       "    <tr style=\"text-align: right;\">\n",
       "      <th></th>\n",
       "      <th>Accuracy_Score</th>\n",
       "      <th>Differnce_beteen_Accuracy_Validation</th>\n",
       "    </tr>\n",
       "  </thead>\n",
       "  <tbody>\n",
       "    <tr>\n",
       "      <th>RandomForestClassifier</th>\n",
       "      <td>0.976190</td>\n",
       "      <td>0.248275</td>\n",
       "    </tr>\n",
       "    <tr>\n",
       "      <th>LogisticRegression</th>\n",
       "      <td>0.845238</td>\n",
       "      <td>0.268787</td>\n",
       "    </tr>\n",
       "    <tr>\n",
       "      <th>ExtraTreesClassifier</th>\n",
       "      <td>0.928571</td>\n",
       "      <td>0.217640</td>\n",
       "    </tr>\n",
       "    <tr>\n",
       "      <th>SVC</th>\n",
       "      <td>0.916667</td>\n",
       "      <td>0.258261</td>\n",
       "    </tr>\n",
       "    <tr>\n",
       "      <th>GradientBoostingClassifier</th>\n",
       "      <td>0.904762</td>\n",
       "      <td>0.222768</td>\n",
       "    </tr>\n",
       "    <tr>\n",
       "      <th>AdaBoostClassifier</th>\n",
       "      <td>0.404762</td>\n",
       "      <td>0.511163</td>\n",
       "    </tr>\n",
       "    <tr>\n",
       "      <th>BaggingClassifier</th>\n",
       "      <td>0.928571</td>\n",
       "      <td>0.248005</td>\n",
       "    </tr>\n",
       "  </tbody>\n",
       "</table>\n",
       "</div>"
      ],
      "text/plain": [
       "                            Accuracy_Score  \\\n",
       "RandomForestClassifier            0.976190   \n",
       "LogisticRegression                0.845238   \n",
       "ExtraTreesClassifier              0.928571   \n",
       "SVC                               0.916667   \n",
       "GradientBoostingClassifier        0.904762   \n",
       "AdaBoostClassifier                0.404762   \n",
       "BaggingClassifier                 0.928571   \n",
       "\n",
       "                            Differnce_beteen_Accuracy_Validation  \n",
       "RandomForestClassifier                                  0.248275  \n",
       "LogisticRegression                                      0.268787  \n",
       "ExtraTreesClassifier                                    0.217640  \n",
       "SVC                                                     0.258261  \n",
       "GradientBoostingClassifier                              0.222768  \n",
       "AdaBoostClassifier                                      0.511163  \n",
       "BaggingClassifier                                       0.248005  "
      ]
     },
     "execution_count": 33,
     "metadata": {},
     "output_type": "execute_result"
    }
   ],
   "source": [
    "results = pd.DataFrame({\"Accuracy_Score\":AccuracyScores,\"Differnce_beteen_Accuracy_Validation\": Differences_Accuracy_Validation}, index=[\"RandomForestClassifier\",\"LogisticRegression\",\"ExtraTreesClassifier\",\"SVC\", \"GradientBoostingClassifier\",\"AdaBoostClassifier\", \"BaggingClassifier\"])\n",
    "results"
   ]
  },
  {
   "cell_type": "markdown",
   "id": "9d0d106b",
   "metadata": {},
   "source": [
    "Now the best model is the one with the highest \"accuracy score\" of each model and the minimum difference between \"the accuracy score and the cross validation score\""
   ]
  },
  {
   "cell_type": "code",
   "execution_count": 35,
   "id": "b9bc1f3a",
   "metadata": {
    "scrolled": true
   },
   "outputs": [
    {
     "data": {
      "text/html": [
       "<div>\n",
       "<style scoped>\n",
       "    .dataframe tbody tr th:only-of-type {\n",
       "        vertical-align: middle;\n",
       "    }\n",
       "\n",
       "    .dataframe tbody tr th {\n",
       "        vertical-align: top;\n",
       "    }\n",
       "\n",
       "    .dataframe thead th {\n",
       "        text-align: right;\n",
       "    }\n",
       "</style>\n",
       "<table border=\"1\" class=\"dataframe\">\n",
       "  <thead>\n",
       "    <tr style=\"text-align: right;\">\n",
       "      <th></th>\n",
       "      <th>Accuracy_Score</th>\n",
       "      <th>Differnce_beteen_Accuracy_Validation</th>\n",
       "    </tr>\n",
       "  </thead>\n",
       "  <tbody>\n",
       "    <tr>\n",
       "      <th>RandomForestClassifier</th>\n",
       "      <td>0.976190</td>\n",
       "      <td>0.248275</td>\n",
       "    </tr>\n",
       "    <tr>\n",
       "      <th>ExtraTreesClassifier</th>\n",
       "      <td>0.928571</td>\n",
       "      <td>0.217640</td>\n",
       "    </tr>\n",
       "    <tr>\n",
       "      <th>BaggingClassifier</th>\n",
       "      <td>0.928571</td>\n",
       "      <td>0.248005</td>\n",
       "    </tr>\n",
       "    <tr>\n",
       "      <th>SVC</th>\n",
       "      <td>0.916667</td>\n",
       "      <td>0.258261</td>\n",
       "    </tr>\n",
       "    <tr>\n",
       "      <th>GradientBoostingClassifier</th>\n",
       "      <td>0.904762</td>\n",
       "      <td>0.222768</td>\n",
       "    </tr>\n",
       "    <tr>\n",
       "      <th>LogisticRegression</th>\n",
       "      <td>0.845238</td>\n",
       "      <td>0.268787</td>\n",
       "    </tr>\n",
       "    <tr>\n",
       "      <th>AdaBoostClassifier</th>\n",
       "      <td>0.404762</td>\n",
       "      <td>0.511163</td>\n",
       "    </tr>\n",
       "  </tbody>\n",
       "</table>\n",
       "</div>"
      ],
      "text/plain": [
       "                            Accuracy_Score  \\\n",
       "RandomForestClassifier            0.976190   \n",
       "ExtraTreesClassifier              0.928571   \n",
       "BaggingClassifier                 0.928571   \n",
       "SVC                               0.916667   \n",
       "GradientBoostingClassifier        0.904762   \n",
       "LogisticRegression                0.845238   \n",
       "AdaBoostClassifier                0.404762   \n",
       "\n",
       "                            Differnce_beteen_Accuracy_Validation  \n",
       "RandomForestClassifier                                  0.248275  \n",
       "ExtraTreesClassifier                                    0.217640  \n",
       "BaggingClassifier                                       0.248005  \n",
       "SVC                                                     0.258261  \n",
       "GradientBoostingClassifier                              0.222768  \n",
       "LogisticRegression                                      0.268787  \n",
       "AdaBoostClassifier                                      0.511163  "
      ]
     },
     "execution_count": 35,
     "metadata": {},
     "output_type": "execute_result"
    }
   ],
   "source": [
    "sort_results = results.sort_values(by=['Accuracy_Score', 'Differnce_beteen_Accuracy_Validation'], ascending=[False, True])\n",
    "sort_results\n"
   ]
  },
  {
   "cell_type": "markdown",
   "id": "939935ad",
   "metadata": {},
   "source": [
    "RandomForestClassifier(), is the best model. "
   ]
  },
  {
   "cell_type": "markdown",
   "id": "64414de9",
   "metadata": {},
   "source": [
    "## HyperTuning"
   ]
  },
  {
   "cell_type": "code",
   "execution_count": 36,
   "id": "0d13ef41",
   "metadata": {},
   "outputs": [
    {
     "data": {
      "text/plain": [
       "GridSearchCV(cv=5, estimator=RandomForestClassifier(),\n",
       "             param_grid={'criterion': ['gini', 'entropy'],\n",
       "                         'max_depth': [None, 10, 30],\n",
       "                         'n_estimators': [50, 100, 200, 300],\n",
       "                         'n_jobs': [None, -1, 1],\n",
       "                         'random_state': [10, 50, 1000]})"
      ]
     },
     "execution_count": 36,
     "metadata": {},
     "output_type": "execute_result"
    }
   ],
   "source": [
    "from sklearn.model_selection import GridSearchCV\n",
    "\n",
    "parameters = {\n",
    "    'criterion': ['gini', 'entropy'],\n",
    "    'random_state': [10, 50, 1000],  \n",
    "    'max_depth': [None, 10, 30],      \n",
    "    'n_jobs': [None,-1, 1],              \n",
    "    'n_estimators': [50, 100, 200, 300]\n",
    "}\n",
    "\n",
    "GCV = GridSearchCV(RandomForestClassifier(), parameters, cv=5)\n",
    "GCV.fit(x_train, y_train)"
   ]
  },
  {
   "cell_type": "code",
   "execution_count": 38,
   "id": "1ecf9edf",
   "metadata": {},
   "outputs": [
    {
     "data": {
      "text/plain": [
       "{'criterion': 'entropy',\n",
       " 'max_depth': None,\n",
       " 'n_estimators': 300,\n",
       " 'n_jobs': None,\n",
       " 'random_state': 50}"
      ]
     },
     "execution_count": 38,
     "metadata": {},
     "output_type": "execute_result"
    }
   ],
   "source": [
    "GCV.best_params_"
   ]
  },
  {
   "cell_type": "code",
   "execution_count": 39,
   "id": "85ab73af",
   "metadata": {},
   "outputs": [
    {
     "name": "stdout",
     "output_type": "stream",
     "text": [
      "accuracy score %:  97.61904761904762\n"
     ]
    }
   ],
   "source": [
    "Final_model = RandomForestClassifier(criterion = \"entropy\", random_state = 50, max_depth = None, n_jobs = None, n_estimators =300)\n",
    "Final_model.fit(x_train, y_train)\n",
    "pred = Final_model.predict(x_test)\n",
    "acc = accuracy_score(y_test, pred)\n",
    "print(\"accuracy score %: \", acc*100)"
   ]
  },
  {
   "cell_type": "code",
   "execution_count": 45,
   "id": "88642139",
   "metadata": {
    "scrolled": true
   },
   "outputs": [
    {
     "name": "stdout",
     "output_type": "stream",
     "text": [
      "[[17  1  0  0  0  0]\n",
      " [ 0 17  0  0  0  0]\n",
      " [ 0  0  9  0  0  0]\n",
      " [ 0  0  0  8  0  0]\n",
      " [ 0  0  0  0 17  0]\n",
      " [ 1  0  0  0  0 14]]\n",
      "              precision    recall  f1-score   support\n",
      "\n",
      "           1       0.94      0.94      0.94        18\n",
      "           2       0.94      1.00      0.97        17\n",
      "           3       1.00      1.00      1.00         9\n",
      "           5       1.00      1.00      1.00         8\n",
      "           6       1.00      1.00      1.00        17\n",
      "           7       1.00      0.93      0.97        15\n",
      "\n",
      "    accuracy                           0.98        84\n",
      "   macro avg       0.98      0.98      0.98        84\n",
      "weighted avg       0.98      0.98      0.98        84\n",
      "\n",
      "\n",
      "\n"
     ]
    }
   ],
   "source": [
    "print(confusion_matrix(y_test, pred))\n",
    "print(classification_report(y_test, pred))\n",
    "print('\\n')"
   ]
  },
  {
   "cell_type": "markdown",
   "id": "ebfa312e",
   "metadata": {},
   "source": [
    "## Saving the Data (serialization)"
   ]
  },
  {
   "cell_type": "code",
   "execution_count": 42,
   "id": "f4099e47",
   "metadata": {},
   "outputs": [
    {
     "data": {
      "text/plain": [
       "['Glass_Identification.pkl']"
      ]
     },
     "execution_count": 42,
     "metadata": {},
     "output_type": "execute_result"
    }
   ],
   "source": [
    "import joblib\n",
    "joblib.dump(Final_model, \"Glass_Identification.pkl\")"
   ]
  },
  {
   "cell_type": "markdown",
   "id": "362395b9",
   "metadata": {},
   "source": [
    "## Pridicting with the saving model (deserialization)"
   ]
  },
  {
   "cell_type": "code",
   "execution_count": 46,
   "id": "7f379a16",
   "metadata": {},
   "outputs": [
    {
     "data": {
      "text/plain": [
       "array([2, 3, 3, 5, 6, 7, 7, 6, 1, 2, 6, 6, 6, 1, 2, 1, 6, 2, 1, 1, 3, 7,\n",
       "       1, 6, 5, 2, 5, 1, 1, 1, 1, 7, 7, 1, 2, 1, 5, 1, 1, 6, 6, 2, 1, 2,\n",
       "       1, 2, 5, 3, 7, 5, 2, 3, 2, 2, 7, 5, 2, 7, 7, 7, 7, 2, 2, 3, 3, 7,\n",
       "       2, 2, 1, 2, 6, 3, 7, 6, 1, 6, 6, 5, 6, 6, 6, 3, 6, 7], dtype=int64)"
      ]
     },
     "execution_count": 46,
     "metadata": {},
     "output_type": "execute_result"
    }
   ],
   "source": [
    "import joblib\n",
    "model_loaded = joblib.load(\"Glass_Identification.pkl\")\n",
    "\n",
    "# Making prediction\n",
    "prediction = model_loaded.predict(x_test)\n",
    "prediction"
   ]
  },
  {
   "cell_type": "code",
   "execution_count": 47,
   "id": "c0ac196f",
   "metadata": {},
   "outputs": [
    {
     "data": {
      "text/html": [
       "<div>\n",
       "<style scoped>\n",
       "    .dataframe tbody tr th:only-of-type {\n",
       "        vertical-align: middle;\n",
       "    }\n",
       "\n",
       "    .dataframe tbody tr th {\n",
       "        vertical-align: top;\n",
       "    }\n",
       "\n",
       "    .dataframe thead th {\n",
       "        text-align: right;\n",
       "    }\n",
       "</style>\n",
       "<table border=\"1\" class=\"dataframe\">\n",
       "  <thead>\n",
       "    <tr style=\"text-align: right;\">\n",
       "      <th></th>\n",
       "      <th>Predicted</th>\n",
       "      <th>Original</th>\n",
       "    </tr>\n",
       "  </thead>\n",
       "  <tbody>\n",
       "    <tr>\n",
       "      <th>0</th>\n",
       "      <td>2</td>\n",
       "      <td>2</td>\n",
       "    </tr>\n",
       "    <tr>\n",
       "      <th>1</th>\n",
       "      <td>3</td>\n",
       "      <td>3</td>\n",
       "    </tr>\n",
       "    <tr>\n",
       "      <th>2</th>\n",
       "      <td>3</td>\n",
       "      <td>3</td>\n",
       "    </tr>\n",
       "    <tr>\n",
       "      <th>3</th>\n",
       "      <td>5</td>\n",
       "      <td>5</td>\n",
       "    </tr>\n",
       "    <tr>\n",
       "      <th>4</th>\n",
       "      <td>6</td>\n",
       "      <td>6</td>\n",
       "    </tr>\n",
       "    <tr>\n",
       "      <th>...</th>\n",
       "      <td>...</td>\n",
       "      <td>...</td>\n",
       "    </tr>\n",
       "    <tr>\n",
       "      <th>79</th>\n",
       "      <td>6</td>\n",
       "      <td>6</td>\n",
       "    </tr>\n",
       "    <tr>\n",
       "      <th>80</th>\n",
       "      <td>6</td>\n",
       "      <td>6</td>\n",
       "    </tr>\n",
       "    <tr>\n",
       "      <th>81</th>\n",
       "      <td>3</td>\n",
       "      <td>3</td>\n",
       "    </tr>\n",
       "    <tr>\n",
       "      <th>82</th>\n",
       "      <td>6</td>\n",
       "      <td>6</td>\n",
       "    </tr>\n",
       "    <tr>\n",
       "      <th>83</th>\n",
       "      <td>7</td>\n",
       "      <td>7</td>\n",
       "    </tr>\n",
       "  </tbody>\n",
       "</table>\n",
       "<p>84 rows × 2 columns</p>\n",
       "</div>"
      ],
      "text/plain": [
       "    Predicted  Original\n",
       "0           2         2\n",
       "1           3         3\n",
       "2           3         3\n",
       "3           5         5\n",
       "4           6         6\n",
       "..        ...       ...\n",
       "79          6         6\n",
       "80          6         6\n",
       "81          3         3\n",
       "82          6         6\n",
       "83          7         7\n",
       "\n",
       "[84 rows x 2 columns]"
      ]
     },
     "execution_count": 47,
     "metadata": {},
     "output_type": "execute_result"
    }
   ],
   "source": [
    "a = np.array(y_test)\n",
    "df2 = pd.DataFrame()\n",
    "df2[\"Predicted\"] = prediction\n",
    "df2[\"Original\"] = a\n",
    "df2"
   ]
  },
  {
   "cell_type": "code",
   "execution_count": null,
   "id": "dba300a0",
   "metadata": {},
   "outputs": [],
   "source": []
  }
 ],
 "metadata": {
  "kernelspec": {
   "display_name": "Python 3 (ipykernel)",
   "language": "python",
   "name": "python3"
  },
  "language_info": {
   "codemirror_mode": {
    "name": "ipython",
    "version": 3
   },
   "file_extension": ".py",
   "mimetype": "text/x-python",
   "name": "python",
   "nbconvert_exporter": "python",
   "pygments_lexer": "ipython3",
   "version": "3.9.12"
  },
  "varInspector": {
   "cols": {
    "lenName": 16,
    "lenType": 16,
    "lenVar": 40
   },
   "kernels_config": {
    "python": {
     "delete_cmd_postfix": "",
     "delete_cmd_prefix": "del ",
     "library": "var_list.py",
     "varRefreshCmd": "print(var_dic_list())"
    },
    "r": {
     "delete_cmd_postfix": ") ",
     "delete_cmd_prefix": "rm(",
     "library": "var_list.r",
     "varRefreshCmd": "cat(var_dic_list()) "
    }
   },
   "types_to_exclude": [
    "module",
    "function",
    "builtin_function_or_method",
    "instance",
    "_Feature"
   ],
   "window_display": false
  }
 },
 "nbformat": 4,
 "nbformat_minor": 5
}
