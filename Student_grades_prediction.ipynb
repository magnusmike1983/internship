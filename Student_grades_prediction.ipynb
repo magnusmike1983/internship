{
 "cells": [
  {
   "cell_type": "markdown",
   "id": "91e9bf0c",
   "metadata": {},
   "source": [
    "Project Description\n",
    "\n",
    "The dataset contains grades scored by students throughout their university tenure in various courses and their CGPA calculated based on their grades\n",
    "Columns Description-  total 43 columns\n",
    "-Seat No : The enrolled number of candidate that took the exams\n",
    "\n",
    "CGPA : The cumulative GPA based on the four year total grade progress of each candidate . CGPA is a Final Marks -- provided to student.\n",
    " \n",
    "• All other columns are course codes in the format AB-XXX where AB are alphabets representing candidates' departments and XXX are numbers where first X represents the year the canditate took exam\n",
    "\n",
    " \n",
    "Predict - CGPA of a student based on different grades in four years.\n",
    "\n",
    "\n",
    "\n",
    "Dataset Link-\n",
    "\n",
    "•https://github.com/dsrscientist/dataset4\n",
    "\n",
    "•https://github.com/dsrscientist/dataset4/blob/main/Grades.csv\n"
   ]
  },
  {
   "cell_type": "code",
   "execution_count": 13,
   "id": "4fd78857",
   "metadata": {},
   "outputs": [],
   "source": [
    "import pandas as pd \n",
    "import numpy as np\n",
    "import matplotlib.pyplot as plt \n",
    "import seaborn as sns \n",
    "import warnings\n",
    "warnings.filterwarnings(\"ignore\")"
   ]
  },
  {
   "cell_type": "code",
   "execution_count": 2,
   "id": "cd5c8c4c",
   "metadata": {
    "scrolled": false
   },
   "outputs": [
    {
     "data": {
      "text/html": [
       "<div>\n",
       "<style scoped>\n",
       "    .dataframe tbody tr th:only-of-type {\n",
       "        vertical-align: middle;\n",
       "    }\n",
       "\n",
       "    .dataframe tbody tr th {\n",
       "        vertical-align: top;\n",
       "    }\n",
       "\n",
       "    .dataframe thead th {\n",
       "        text-align: right;\n",
       "    }\n",
       "</style>\n",
       "<table border=\"1\" class=\"dataframe\">\n",
       "  <thead>\n",
       "    <tr style=\"text-align: right;\">\n",
       "      <th></th>\n",
       "      <th>PH-121</th>\n",
       "      <th>HS-101</th>\n",
       "      <th>CY-105</th>\n",
       "      <th>HS-105/12</th>\n",
       "      <th>MT-111</th>\n",
       "      <th>CS-105</th>\n",
       "      <th>CS-106</th>\n",
       "      <th>EL-102</th>\n",
       "      <th>EE-119</th>\n",
       "      <th>ME-107</th>\n",
       "      <th>...</th>\n",
       "      <th>CS-312</th>\n",
       "      <th>CS-317</th>\n",
       "      <th>CS-403</th>\n",
       "      <th>CS-421</th>\n",
       "      <th>CS-406</th>\n",
       "      <th>CS-414</th>\n",
       "      <th>CS-419</th>\n",
       "      <th>CS-423</th>\n",
       "      <th>CS-412</th>\n",
       "      <th>CGPA</th>\n",
       "    </tr>\n",
       "    <tr>\n",
       "      <th>Seat No.</th>\n",
       "      <th></th>\n",
       "      <th></th>\n",
       "      <th></th>\n",
       "      <th></th>\n",
       "      <th></th>\n",
       "      <th></th>\n",
       "      <th></th>\n",
       "      <th></th>\n",
       "      <th></th>\n",
       "      <th></th>\n",
       "      <th></th>\n",
       "      <th></th>\n",
       "      <th></th>\n",
       "      <th></th>\n",
       "      <th></th>\n",
       "      <th></th>\n",
       "      <th></th>\n",
       "      <th></th>\n",
       "      <th></th>\n",
       "      <th></th>\n",
       "      <th></th>\n",
       "    </tr>\n",
       "  </thead>\n",
       "  <tbody>\n",
       "    <tr>\n",
       "      <th>CS-97001</th>\n",
       "      <td>B-</td>\n",
       "      <td>D+</td>\n",
       "      <td>C-</td>\n",
       "      <td>C</td>\n",
       "      <td>C-</td>\n",
       "      <td>D+</td>\n",
       "      <td>D</td>\n",
       "      <td>C-</td>\n",
       "      <td>B-</td>\n",
       "      <td>C-</td>\n",
       "      <td>...</td>\n",
       "      <td>C-</td>\n",
       "      <td>C-</td>\n",
       "      <td>C-</td>\n",
       "      <td>C-</td>\n",
       "      <td>A-</td>\n",
       "      <td>A</td>\n",
       "      <td>C-</td>\n",
       "      <td>B</td>\n",
       "      <td>A-</td>\n",
       "      <td>2.205</td>\n",
       "    </tr>\n",
       "    <tr>\n",
       "      <th>CS-97002</th>\n",
       "      <td>A</td>\n",
       "      <td>D</td>\n",
       "      <td>D+</td>\n",
       "      <td>D</td>\n",
       "      <td>B-</td>\n",
       "      <td>C</td>\n",
       "      <td>D</td>\n",
       "      <td>A</td>\n",
       "      <td>D+</td>\n",
       "      <td>D</td>\n",
       "      <td>...</td>\n",
       "      <td>D+</td>\n",
       "      <td>D</td>\n",
       "      <td>C</td>\n",
       "      <td>D</td>\n",
       "      <td>A-</td>\n",
       "      <td>B-</td>\n",
       "      <td>C</td>\n",
       "      <td>C</td>\n",
       "      <td>B</td>\n",
       "      <td>2.008</td>\n",
       "    </tr>\n",
       "    <tr>\n",
       "      <th>CS-97003</th>\n",
       "      <td>A</td>\n",
       "      <td>B</td>\n",
       "      <td>A</td>\n",
       "      <td>B-</td>\n",
       "      <td>B+</td>\n",
       "      <td>A</td>\n",
       "      <td>B-</td>\n",
       "      <td>B+</td>\n",
       "      <td>A-</td>\n",
       "      <td>A-</td>\n",
       "      <td>...</td>\n",
       "      <td>B</td>\n",
       "      <td>B</td>\n",
       "      <td>A</td>\n",
       "      <td>C</td>\n",
       "      <td>A</td>\n",
       "      <td>A</td>\n",
       "      <td>A</td>\n",
       "      <td>A-</td>\n",
       "      <td>A</td>\n",
       "      <td>3.608</td>\n",
       "    </tr>\n",
       "    <tr>\n",
       "      <th>CS-97004</th>\n",
       "      <td>D</td>\n",
       "      <td>C+</td>\n",
       "      <td>D+</td>\n",
       "      <td>D</td>\n",
       "      <td>D</td>\n",
       "      <td>A-</td>\n",
       "      <td>D+</td>\n",
       "      <td>C-</td>\n",
       "      <td>D</td>\n",
       "      <td>C+</td>\n",
       "      <td>...</td>\n",
       "      <td>D+</td>\n",
       "      <td>C</td>\n",
       "      <td>D+</td>\n",
       "      <td>C-</td>\n",
       "      <td>B-</td>\n",
       "      <td>B</td>\n",
       "      <td>C+</td>\n",
       "      <td>C+</td>\n",
       "      <td>C+</td>\n",
       "      <td>1.906</td>\n",
       "    </tr>\n",
       "    <tr>\n",
       "      <th>CS-97005</th>\n",
       "      <td>A-</td>\n",
       "      <td>A-</td>\n",
       "      <td>A-</td>\n",
       "      <td>B+</td>\n",
       "      <td>A</td>\n",
       "      <td>A</td>\n",
       "      <td>A-</td>\n",
       "      <td>B+</td>\n",
       "      <td>A</td>\n",
       "      <td>A-</td>\n",
       "      <td>...</td>\n",
       "      <td>B-</td>\n",
       "      <td>B+</td>\n",
       "      <td>B+</td>\n",
       "      <td>B-</td>\n",
       "      <td>A-</td>\n",
       "      <td>A</td>\n",
       "      <td>A-</td>\n",
       "      <td>A-</td>\n",
       "      <td>A</td>\n",
       "      <td>3.448</td>\n",
       "    </tr>\n",
       "  </tbody>\n",
       "</table>\n",
       "<p>5 rows × 42 columns</p>\n",
       "</div>"
      ],
      "text/plain": [
       "         PH-121 HS-101 CY-105 HS-105/12 MT-111 CS-105 CS-106 EL-102 EE-119  \\\n",
       "Seat No.                                                                     \n",
       "CS-97001     B-     D+     C-         C     C-     D+      D     C-     B-   \n",
       "CS-97002      A      D     D+         D     B-      C      D      A     D+   \n",
       "CS-97003      A      B      A        B-     B+      A     B-     B+     A-   \n",
       "CS-97004      D     C+     D+         D      D     A-     D+     C-      D   \n",
       "CS-97005     A-     A-     A-        B+      A      A     A-     B+      A   \n",
       "\n",
       "         ME-107  ... CS-312 CS-317 CS-403 CS-421 CS-406 CS-414 CS-419 CS-423  \\\n",
       "Seat No.         ...                                                           \n",
       "CS-97001     C-  ...     C-     C-     C-     C-     A-      A     C-      B   \n",
       "CS-97002      D  ...     D+      D      C      D     A-     B-      C      C   \n",
       "CS-97003     A-  ...      B      B      A      C      A      A      A     A-   \n",
       "CS-97004     C+  ...     D+      C     D+     C-     B-      B     C+     C+   \n",
       "CS-97005     A-  ...     B-     B+     B+     B-     A-      A     A-     A-   \n",
       "\n",
       "         CS-412   CGPA  \n",
       "Seat No.                \n",
       "CS-97001     A-  2.205  \n",
       "CS-97002      B  2.008  \n",
       "CS-97003      A  3.608  \n",
       "CS-97004     C+  1.906  \n",
       "CS-97005      A  3.448  \n",
       "\n",
       "[5 rows x 42 columns]"
      ]
     },
     "execution_count": 2,
     "metadata": {},
     "output_type": "execute_result"
    }
   ],
   "source": [
    "df = pd.read_csv(\"https://raw.githubusercontent.com/dsrscientist/dataset4/main/Grades.csv\", index_col =[\"Seat No.\"] )\n",
    "df.head()"
   ]
  },
  {
   "cell_type": "code",
   "execution_count": 3,
   "id": "9a5d4365",
   "metadata": {},
   "outputs": [
    {
     "data": {
      "text/plain": [
       "(571, 42)"
      ]
     },
     "execution_count": 3,
     "metadata": {},
     "output_type": "execute_result"
    }
   ],
   "source": [
    "df.shape"
   ]
  },
  {
   "cell_type": "markdown",
   "id": "bd28bd6d",
   "metadata": {},
   "source": [
    "Columns Description-  total 43 columns and 571 rows. one target = cpga the rest are features"
   ]
  },
  {
   "cell_type": "code",
   "execution_count": 4,
   "id": "30d352a3",
   "metadata": {
    "scrolled": false
   },
   "outputs": [
    {
     "data": {
      "text/plain": [
       "Index(['PH-121', 'HS-101', 'CY-105', 'HS-105/12', 'MT-111', 'CS-105', 'CS-106',\n",
       "       'EL-102', 'EE-119', 'ME-107', 'CS-107', 'HS-205/20', 'MT-222', 'EE-222',\n",
       "       'MT-224', 'CS-210', 'CS-211', 'CS-203', 'CS-214', 'EE-217', 'CS-212',\n",
       "       'CS-215', 'MT-331', 'EF-303', 'HS-304', 'CS-301', 'CS-302', 'TC-383',\n",
       "       'MT-442', 'EL-332', 'CS-318', 'CS-306', 'CS-312', 'CS-317', 'CS-403',\n",
       "       'CS-421', 'CS-406', 'CS-414', 'CS-419', 'CS-423', 'CS-412', 'CGPA'],\n",
       "      dtype='object')"
      ]
     },
     "execution_count": 4,
     "metadata": {},
     "output_type": "execute_result"
    }
   ],
   "source": [
    "df.columns"
   ]
  },
  {
   "cell_type": "code",
   "execution_count": 5,
   "id": "37e13e91",
   "metadata": {
    "scrolled": false
   },
   "outputs": [
    {
     "name": "stdout",
     "output_type": "stream",
     "text": [
      "<class 'pandas.core.frame.DataFrame'>\n",
      "Index: 571 entries, CS-97001 to CS-97571\n",
      "Data columns (total 42 columns):\n",
      " #   Column     Non-Null Count  Dtype  \n",
      "---  ------     --------------  -----  \n",
      " 0   PH-121     571 non-null    object \n",
      " 1   HS-101     571 non-null    object \n",
      " 2   CY-105     570 non-null    object \n",
      " 3   HS-105/12  570 non-null    object \n",
      " 4   MT-111     569 non-null    object \n",
      " 5   CS-105     571 non-null    object \n",
      " 6   CS-106     569 non-null    object \n",
      " 7   EL-102     569 non-null    object \n",
      " 8   EE-119     569 non-null    object \n",
      " 9   ME-107     569 non-null    object \n",
      " 10  CS-107     569 non-null    object \n",
      " 11  HS-205/20  566 non-null    object \n",
      " 12  MT-222     566 non-null    object \n",
      " 13  EE-222     564 non-null    object \n",
      " 14  MT-224     564 non-null    object \n",
      " 15  CS-210     564 non-null    object \n",
      " 16  CS-211     566 non-null    object \n",
      " 17  CS-203     566 non-null    object \n",
      " 18  CS-214     565 non-null    object \n",
      " 19  EE-217     565 non-null    object \n",
      " 20  CS-212     565 non-null    object \n",
      " 21  CS-215     565 non-null    object \n",
      " 22  MT-331     562 non-null    object \n",
      " 23  EF-303     561 non-null    object \n",
      " 24  HS-304     561 non-null    object \n",
      " 25  CS-301     561 non-null    object \n",
      " 26  CS-302     561 non-null    object \n",
      " 27  TC-383     561 non-null    object \n",
      " 28  MT-442     561 non-null    object \n",
      " 29  EL-332     562 non-null    object \n",
      " 30  CS-318     562 non-null    object \n",
      " 31  CS-306     562 non-null    object \n",
      " 32  CS-312     561 non-null    object \n",
      " 33  CS-317     559 non-null    object \n",
      " 34  CS-403     559 non-null    object \n",
      " 35  CS-421     559 non-null    object \n",
      " 36  CS-406     486 non-null    object \n",
      " 37  CS-414     558 non-null    object \n",
      " 38  CS-419     558 non-null    object \n",
      " 39  CS-423     557 non-null    object \n",
      " 40  CS-412     492 non-null    object \n",
      " 41  CGPA       571 non-null    float64\n",
      "dtypes: float64(1), object(41)\n",
      "memory usage: 191.8+ KB\n"
     ]
    }
   ],
   "source": [
    "df.info()"
   ]
  },
  {
   "cell_type": "markdown",
   "id": "8db35a69",
   "metadata": {},
   "source": [
    "two types of data (object, float64); we have different non null count (suggests irregolarity in the data and will need data cleaning)"
   ]
  },
  {
   "cell_type": "code",
   "execution_count": 6,
   "id": "ec4a1e71",
   "metadata": {},
   "outputs": [
    {
     "name": "stdout",
     "output_type": "stream",
     "text": [
      "PH-121        0\n",
      "HS-101        0\n",
      "CY-105        1\n",
      "HS-105/12     1\n",
      "MT-111        2\n",
      "CS-105        0\n",
      "CS-106        2\n",
      "EL-102        2\n",
      "EE-119        2\n",
      "ME-107        2\n",
      "CS-107        2\n",
      "HS-205/20     5\n",
      "MT-222        5\n",
      "EE-222        7\n",
      "MT-224        7\n",
      "CS-210        7\n",
      "CS-211        5\n",
      "CS-203        5\n",
      "CS-214        6\n",
      "EE-217        6\n",
      "CS-212        6\n",
      "CS-215        6\n",
      "MT-331        9\n",
      "EF-303       10\n",
      "HS-304       10\n",
      "CS-301       10\n",
      "CS-302       10\n",
      "TC-383       10\n",
      "MT-442       10\n",
      "EL-332        9\n",
      "CS-318        9\n",
      "CS-306        9\n",
      "CS-312       10\n",
      "CS-317       12\n",
      "CS-403       12\n",
      "CS-421       12\n",
      "CS-406       85\n",
      "CS-414       13\n",
      "CS-419       13\n",
      "CS-423       14\n",
      "CS-412       79\n",
      "CGPA          0\n",
      "dtype: int64\n",
      "\n",
      "\n",
      "sum of the null values:  425\n"
     ]
    }
   ],
   "source": [
    "print(df.isnull().sum())\n",
    "print(\"\\n\")\n",
    "print(\"sum of the null values: \",df.isnull().sum().sum())\n",
    "      "
   ]
  },
  {
   "cell_type": "markdown",
   "id": "dfc9dd02",
   "metadata": {},
   "source": [
    "There are null values in the data, because they are categorical data, and they all of the same nature of of marks, I will replace the missing values with the mode and check how the model perform first. "
   ]
  },
  {
   "cell_type": "code",
   "execution_count": 7,
   "id": "0f110d7c",
   "metadata": {},
   "outputs": [],
   "source": [
    "df= df.fillna(df.mode().iloc[0])"
   ]
  },
  {
   "cell_type": "code",
   "execution_count": 8,
   "id": "aae78d26",
   "metadata": {
    "scrolled": true
   },
   "outputs": [
    {
     "data": {
      "text/html": [
       "<div>\n",
       "<style scoped>\n",
       "    .dataframe tbody tr th:only-of-type {\n",
       "        vertical-align: middle;\n",
       "    }\n",
       "\n",
       "    .dataframe tbody tr th {\n",
       "        vertical-align: top;\n",
       "    }\n",
       "\n",
       "    .dataframe thead th {\n",
       "        text-align: right;\n",
       "    }\n",
       "</style>\n",
       "<table border=\"1\" class=\"dataframe\">\n",
       "  <thead>\n",
       "    <tr style=\"text-align: right;\">\n",
       "      <th></th>\n",
       "      <th>PH-121</th>\n",
       "      <th>HS-101</th>\n",
       "      <th>CY-105</th>\n",
       "      <th>HS-105/12</th>\n",
       "      <th>MT-111</th>\n",
       "      <th>CS-105</th>\n",
       "      <th>CS-106</th>\n",
       "      <th>EL-102</th>\n",
       "      <th>EE-119</th>\n",
       "      <th>ME-107</th>\n",
       "      <th>...</th>\n",
       "      <th>CS-312</th>\n",
       "      <th>CS-317</th>\n",
       "      <th>CS-403</th>\n",
       "      <th>CS-421</th>\n",
       "      <th>CS-406</th>\n",
       "      <th>CS-414</th>\n",
       "      <th>CS-419</th>\n",
       "      <th>CS-423</th>\n",
       "      <th>CS-412</th>\n",
       "      <th>CGPA</th>\n",
       "    </tr>\n",
       "    <tr>\n",
       "      <th>Seat No.</th>\n",
       "      <th></th>\n",
       "      <th></th>\n",
       "      <th></th>\n",
       "      <th></th>\n",
       "      <th></th>\n",
       "      <th></th>\n",
       "      <th></th>\n",
       "      <th></th>\n",
       "      <th></th>\n",
       "      <th></th>\n",
       "      <th></th>\n",
       "      <th></th>\n",
       "      <th></th>\n",
       "      <th></th>\n",
       "      <th></th>\n",
       "      <th></th>\n",
       "      <th></th>\n",
       "      <th></th>\n",
       "      <th></th>\n",
       "      <th></th>\n",
       "      <th></th>\n",
       "    </tr>\n",
       "  </thead>\n",
       "  <tbody>\n",
       "    <tr>\n",
       "      <th>CS-97001</th>\n",
       "      <td>5.0</td>\n",
       "      <td>10.0</td>\n",
       "      <td>8.0</td>\n",
       "      <td>6.0</td>\n",
       "      <td>8.0</td>\n",
       "      <td>10.0</td>\n",
       "      <td>9.0</td>\n",
       "      <td>8.0</td>\n",
       "      <td>5.0</td>\n",
       "      <td>8.0</td>\n",
       "      <td>...</td>\n",
       "      <td>8.0</td>\n",
       "      <td>8.0</td>\n",
       "      <td>8.0</td>\n",
       "      <td>8.0</td>\n",
       "      <td>2.0</td>\n",
       "      <td>0.0</td>\n",
       "      <td>8.0</td>\n",
       "      <td>3.0</td>\n",
       "      <td>2.0</td>\n",
       "      <td>2.205</td>\n",
       "    </tr>\n",
       "    <tr>\n",
       "      <th>CS-97002</th>\n",
       "      <td>0.0</td>\n",
       "      <td>9.0</td>\n",
       "      <td>10.0</td>\n",
       "      <td>9.0</td>\n",
       "      <td>5.0</td>\n",
       "      <td>6.0</td>\n",
       "      <td>9.0</td>\n",
       "      <td>0.0</td>\n",
       "      <td>10.0</td>\n",
       "      <td>9.0</td>\n",
       "      <td>...</td>\n",
       "      <td>10.0</td>\n",
       "      <td>9.0</td>\n",
       "      <td>6.0</td>\n",
       "      <td>9.0</td>\n",
       "      <td>2.0</td>\n",
       "      <td>5.0</td>\n",
       "      <td>6.0</td>\n",
       "      <td>6.0</td>\n",
       "      <td>3.0</td>\n",
       "      <td>2.008</td>\n",
       "    </tr>\n",
       "    <tr>\n",
       "      <th>CS-97003</th>\n",
       "      <td>0.0</td>\n",
       "      <td>3.0</td>\n",
       "      <td>0.0</td>\n",
       "      <td>5.0</td>\n",
       "      <td>4.0</td>\n",
       "      <td>0.0</td>\n",
       "      <td>5.0</td>\n",
       "      <td>4.0</td>\n",
       "      <td>2.0</td>\n",
       "      <td>2.0</td>\n",
       "      <td>...</td>\n",
       "      <td>3.0</td>\n",
       "      <td>3.0</td>\n",
       "      <td>0.0</td>\n",
       "      <td>6.0</td>\n",
       "      <td>0.0</td>\n",
       "      <td>0.0</td>\n",
       "      <td>0.0</td>\n",
       "      <td>2.0</td>\n",
       "      <td>0.0</td>\n",
       "      <td>3.608</td>\n",
       "    </tr>\n",
       "    <tr>\n",
       "      <th>CS-97004</th>\n",
       "      <td>9.0</td>\n",
       "      <td>7.0</td>\n",
       "      <td>10.0</td>\n",
       "      <td>9.0</td>\n",
       "      <td>9.0</td>\n",
       "      <td>2.0</td>\n",
       "      <td>10.0</td>\n",
       "      <td>8.0</td>\n",
       "      <td>9.0</td>\n",
       "      <td>7.0</td>\n",
       "      <td>...</td>\n",
       "      <td>10.0</td>\n",
       "      <td>6.0</td>\n",
       "      <td>10.0</td>\n",
       "      <td>8.0</td>\n",
       "      <td>5.0</td>\n",
       "      <td>3.0</td>\n",
       "      <td>7.0</td>\n",
       "      <td>7.0</td>\n",
       "      <td>7.0</td>\n",
       "      <td>1.906</td>\n",
       "    </tr>\n",
       "    <tr>\n",
       "      <th>CS-97005</th>\n",
       "      <td>2.0</td>\n",
       "      <td>2.0</td>\n",
       "      <td>2.0</td>\n",
       "      <td>4.0</td>\n",
       "      <td>0.0</td>\n",
       "      <td>0.0</td>\n",
       "      <td>2.0</td>\n",
       "      <td>4.0</td>\n",
       "      <td>0.0</td>\n",
       "      <td>2.0</td>\n",
       "      <td>...</td>\n",
       "      <td>5.0</td>\n",
       "      <td>4.0</td>\n",
       "      <td>4.0</td>\n",
       "      <td>5.0</td>\n",
       "      <td>2.0</td>\n",
       "      <td>0.0</td>\n",
       "      <td>2.0</td>\n",
       "      <td>2.0</td>\n",
       "      <td>0.0</td>\n",
       "      <td>3.448</td>\n",
       "    </tr>\n",
       "  </tbody>\n",
       "</table>\n",
       "<p>5 rows × 42 columns</p>\n",
       "</div>"
      ],
      "text/plain": [
       "          PH-121  HS-101  CY-105  HS-105/12  MT-111  CS-105  CS-106  EL-102  \\\n",
       "Seat No.                                                                      \n",
       "CS-97001     5.0    10.0     8.0        6.0     8.0    10.0     9.0     8.0   \n",
       "CS-97002     0.0     9.0    10.0        9.0     5.0     6.0     9.0     0.0   \n",
       "CS-97003     0.0     3.0     0.0        5.0     4.0     0.0     5.0     4.0   \n",
       "CS-97004     9.0     7.0    10.0        9.0     9.0     2.0    10.0     8.0   \n",
       "CS-97005     2.0     2.0     2.0        4.0     0.0     0.0     2.0     4.0   \n",
       "\n",
       "          EE-119  ME-107  ...  CS-312  CS-317  CS-403  CS-421  CS-406  CS-414  \\\n",
       "Seat No.                  ...                                                   \n",
       "CS-97001     5.0     8.0  ...     8.0     8.0     8.0     8.0     2.0     0.0   \n",
       "CS-97002    10.0     9.0  ...    10.0     9.0     6.0     9.0     2.0     5.0   \n",
       "CS-97003     2.0     2.0  ...     3.0     3.0     0.0     6.0     0.0     0.0   \n",
       "CS-97004     9.0     7.0  ...    10.0     6.0    10.0     8.0     5.0     3.0   \n",
       "CS-97005     0.0     2.0  ...     5.0     4.0     4.0     5.0     2.0     0.0   \n",
       "\n",
       "          CS-419  CS-423  CS-412   CGPA  \n",
       "Seat No.                                 \n",
       "CS-97001     8.0     3.0     2.0  2.205  \n",
       "CS-97002     6.0     6.0     3.0  2.008  \n",
       "CS-97003     0.0     2.0     0.0  3.608  \n",
       "CS-97004     7.0     7.0     7.0  1.906  \n",
       "CS-97005     2.0     2.0     0.0  3.448  \n",
       "\n",
       "[5 rows x 42 columns]"
      ]
     },
     "execution_count": 8,
     "metadata": {},
     "output_type": "execute_result"
    }
   ],
   "source": [
    "## ENCODING CATEGORICAL DATA\n",
    "\n",
    "# Encoding categorical data using OrdinalEncoder\n",
    "from sklearn.preprocessing import OrdinalEncoder\n",
    "OE = OrdinalEncoder()\n",
    "\n",
    "for i in df.columns:\n",
    "    if df[i].dtypes == \"object\":\n",
    "        df[i] = OE.fit_transform(df[i].values.reshape(-1,1))\n",
    "\n",
    "df.head()"
   ]
  },
  {
   "cell_type": "markdown",
   "id": "3fc5304e",
   "metadata": {},
   "source": [
    "The GPA has been converted into numbers"
   ]
  },
  {
   "cell_type": "code",
   "execution_count": 9,
   "id": "71c5b44f",
   "metadata": {},
   "outputs": [
    {
     "name": "stdout",
     "output_type": "stream",
     "text": [
      "PH-121       0\n",
      "HS-101       0\n",
      "CY-105       0\n",
      "HS-105/12    0\n",
      "MT-111       0\n",
      "CS-105       0\n",
      "CS-106       0\n",
      "EL-102       0\n",
      "EE-119       0\n",
      "ME-107       0\n",
      "CS-107       0\n",
      "HS-205/20    0\n",
      "MT-222       0\n",
      "EE-222       0\n",
      "MT-224       0\n",
      "CS-210       0\n",
      "CS-211       0\n",
      "CS-203       0\n",
      "CS-214       0\n",
      "EE-217       0\n",
      "CS-212       0\n",
      "CS-215       0\n",
      "MT-331       0\n",
      "EF-303       0\n",
      "HS-304       0\n",
      "CS-301       0\n",
      "CS-302       0\n",
      "TC-383       0\n",
      "MT-442       0\n",
      "EL-332       0\n",
      "CS-318       0\n",
      "CS-306       0\n",
      "CS-312       0\n",
      "CS-317       0\n",
      "CS-403       0\n",
      "CS-421       0\n",
      "CS-406       0\n",
      "CS-414       0\n",
      "CS-419       0\n",
      "CS-423       0\n",
      "CS-412       0\n",
      "CGPA         0\n",
      "dtype: int64\n",
      "0\n",
      "AxesSubplot(0.125,0.125;0.62x0.755)\n"
     ]
    },
    {
     "data": {
      "image/png": "[encoded data removed]",
      "text/plain": [
       "<Figure size 432x288 with 2 Axes>"
      ]
     },
     "metadata": {
      "needs_background": "light"
     },
     "output_type": "display_data"
    }
   ],
   "source": [
    "print(df.isnull().sum())\n",
    "\n",
    "print(df.isnull().sum().sum())\n",
    "\n",
    "# Data visualization of the null values\n",
    "print(sns.heatmap(df.isnull()))"
   ]
  },
  {
   "cell_type": "code",
   "execution_count": 10,
   "id": "20217142",
   "metadata": {},
   "outputs": [
    {
     "name": "stdout",
     "output_type": "stream",
     "text": [
      "<class 'pandas.core.frame.DataFrame'>\n",
      "Index: 571 entries, CS-97001 to CS-97571\n",
      "Data columns (total 42 columns):\n",
      " #   Column     Non-Null Count  Dtype  \n",
      "---  ------     --------------  -----  \n",
      " 0   PH-121     571 non-null    float64\n",
      " 1   HS-101     571 non-null    float64\n",
      " 2   CY-105     571 non-null    float64\n",
      " 3   HS-105/12  571 non-null    float64\n",
      " 4   MT-111     571 non-null    float64\n",
      " 5   CS-105     571 non-null    float64\n",
      " 6   CS-106     571 non-null    float64\n",
      " 7   EL-102     571 non-null    float64\n",
      " 8   EE-119     571 non-null    float64\n",
      " 9   ME-107     571 non-null    float64\n",
      " 10  CS-107     571 non-null    float64\n",
      " 11  HS-205/20  571 non-null    float64\n",
      " 12  MT-222     571 non-null    float64\n",
      " 13  EE-222     571 non-null    float64\n",
      " 14  MT-224     571 non-null    float64\n",
      " 15  CS-210     571 non-null    float64\n",
      " 16  CS-211     571 non-null    float64\n",
      " 17  CS-203     571 non-null    float64\n",
      " 18  CS-214     571 non-null    float64\n",
      " 19  EE-217     571 non-null    float64\n",
      " 20  CS-212     571 non-null    float64\n",
      " 21  CS-215     571 non-null    float64\n",
      " 22  MT-331     571 non-null    float64\n",
      " 23  EF-303     571 non-null    float64\n",
      " 24  HS-304     571 non-null    float64\n",
      " 25  CS-301     571 non-null    float64\n",
      " 26  CS-302     571 non-null    float64\n",
      " 27  TC-383     571 non-null    float64\n",
      " 28  MT-442     571 non-null    float64\n",
      " 29  EL-332     571 non-null    float64\n",
      " 30  CS-318     571 non-null    float64\n",
      " 31  CS-306     571 non-null    float64\n",
      " 32  CS-312     571 non-null    float64\n",
      " 33  CS-317     571 non-null    float64\n",
      " 34  CS-403     571 non-null    float64\n",
      " 35  CS-421     571 non-null    float64\n",
      " 36  CS-406     571 non-null    float64\n",
      " 37  CS-414     571 non-null    float64\n",
      " 38  CS-419     571 non-null    float64\n",
      " 39  CS-423     571 non-null    float64\n",
      " 40  CS-412     571 non-null    float64\n",
      " 41  CGPA       571 non-null    float64\n",
      "dtypes: float64(42)\n",
      "memory usage: 191.8+ KB\n"
     ]
    }
   ],
   "source": [
    "df.info()"
   ]
  },
  {
   "cell_type": "markdown",
   "id": "bde49a15",
   "metadata": {},
   "source": [
    "571  Non-Null Count throughout"
   ]
  },
  {
   "cell_type": "markdown",
   "id": "e39e0b6b",
   "metadata": {},
   "source": [
    "## Description of Dataset"
   ]
  },
  {
   "cell_type": "code",
   "execution_count": 49,
   "id": "45f82af0",
   "metadata": {},
   "outputs": [
    {
     "data": {
      "text/plain": [
       "0"
      ]
     },
     "execution_count": 49,
     "metadata": {},
     "output_type": "execute_result"
    }
   ],
   "source": [
    "# checking for duplicated values in the dataframe\n",
    "df.duplicated().sum()"
   ]
  },
  {
   "cell_type": "code",
   "execution_count": 53,
   "id": "a3ef50dc",
   "metadata": {},
   "outputs": [
    {
     "name": "stdout",
     "output_type": "stream",
     "text": [
      "(456, 41) (456,)\n",
      "(115, 41) (115,)\n"
     ]
    }
   ],
   "source": [
    "from sklearn.model_selection import train_test_split\n",
    "x = df.drop([\"CGPA\"], axis=1)\n",
    "y = df[\"CGPA\"]\n",
    "\n",
    "x_train, x_test, y_train, y_test = train_test_split(x, y, test_size=0.2, random_state=200)\n",
    "\n",
    "print(x_train.shape, y_train.shape) \n",
    "print(x_test.shape, y_test.shape)    \n",
    "\n"
   ]
  },
  {
   "cell_type": "code",
   "execution_count": 58,
   "id": "2a5fdfaf",
   "metadata": {
    "scrolled": true
   },
   "outputs": [
    {
     "name": "stdout",
     "output_type": "stream",
     "text": [
      "{'Regressor': 'Linear Regression', 'Mean Absolute Error': 0.09208281349515453, 'Mean Squared Error': 0.01335794910712472, 'R-squared': 0.9611489076242796}\n",
      "Cross-Validation Scores for Linear Regression:\n",
      "[0.90074368 0.94214601 0.76482497 0.94178601 0.92011237]\n",
      "Mean Cross-Validation R2 Score:  0.8939226077934179\n",
      "Difference between R2 and Cross-Validation Score:  6.72262998308617\n",
      "\n",
      "\n",
      "{'Regressor': 'Lasso', 'Mean Absolute Error': 0.5063225591151792, 'Mean Squared Error': 0.34524357695290026, 'R-squared': -0.00412795353196338}\n",
      "Cross-Validation Scores for Lasso:\n",
      "[-2.03961256e-02 -1.77038747e-05 -4.02328422e-03 -3.74558167e-04\n",
      " -7.56568470e-03]\n",
      "Mean Cross-Validation R2 Score:  -0.006475471314103665\n",
      "Difference between R2 and Cross-Validation Score:  0.2347517782140285\n",
      "\n",
      "\n",
      "{'Regressor': 'Ridge', 'Mean Absolute Error': 0.09185907767071318, 'Mean Squared Error': 0.013288169377737925, 'R-squared': 0.9613518593416891}\n",
      "Cross-Validation Scores for Ridge:\n",
      "[0.90112245 0.94248358 0.76486675 0.94223017 0.92026727]\n",
      "Mean Cross-Validation R2 Score:  0.8941940427906656\n",
      "Difference between R2 and Cross-Validation Score:  6.715781655102349\n",
      "\n",
      "\n",
      "{'Regressor': 'KNN', 'Mean Absolute Error': 0.08945913043478267, 'Mean Squared Error': 0.013151819478260872, 'R-squared': 0.961748427894056}\n",
      "Cross-Validation Scores for KNN:\n",
      "[0.89255765 0.94982347 0.73084964 0.92976105 0.90957402]\n",
      "Mean Cross-Validation R2 Score:  0.8825131642607194\n",
      "Difference between R2 and Cross-Validation Score:  7.923526363333666\n",
      "\n",
      "\n",
      "{'Regressor': 'Decision Tree', 'Mean Absolute Error': 0.17490434782608696, 'Mean Squared Error': 0.0474389391304348, 'R-squared': 0.8620256304630124}\n",
      "Cross-Validation Scores for Decision Tree:\n",
      "[0.85031373 0.79120048 0.60029722 0.77847047 0.87277456]\n",
      "Mean Cross-Validation R2 Score:  0.7786112919560088\n",
      "Difference between R2 and Cross-Validation Score:  8.341433850700364\n",
      "\n",
      "\n",
      "{'Regressor': 'SVR', 'Mean Absolute Error': 0.07323535389421032, 'Mean Squared Error': 0.014816843503036027, 'R-squared': 0.9569057681657126}\n",
      "Cross-Validation Scores for SVR:\n",
      "[0.9188751  0.93490425 0.80265881 0.92330752 0.9174623 ]\n",
      "Mean Cross-Validation R2 Score:  0.8994415973402079\n",
      "Difference between R2 and Cross-Validation Score:  5.746417082550471\n",
      "\n",
      "\n",
      "{'Regressor': 'Random Forest', 'Mean Absolute Error': 0.09898886956521724, 'Mean Squared Error': 0.015159414826086931, 'R-squared': 0.9559094123621091}\n",
      "Cross-Validation Scores for Random Forest:\n",
      "[0.9158009  0.93311095 0.78700921 0.93275921 0.92725623]\n",
      "Mean Cross-Validation R2 Score:  0.8991873000066457\n",
      "Difference between R2 and Cross-Validation Score:  5.672211235546342\n",
      "\n",
      "\n",
      "{'Regressor': 'Extra Trees', 'Mean Absolute Error': 0.07396504347826051, 'Mean Squared Error': 0.009091020913043438, 'R-squared': 0.9735591077305518}\n",
      "Cross-Validation Scores for Extra Trees:\n",
      "[0.94152628 0.94644131 0.83058697 0.94683714 0.95422885]\n",
      "Mean Cross-Validation R2 Score:  0.9239241064284652\n",
      "Difference between R2 and Cross-Validation Score:  4.963500130208653\n",
      "\n",
      "\n",
      "{'Regressor': 'Gradient Boosting', 'Mean Absolute Error': 0.0875573168582267, 'Mean Squared Error': 0.013231502142735671, 'R-squared': 0.961516673862548}\n",
      "Cross-Validation Scores for Gradient Boosting:\n",
      "[0.94699484 0.94634031 0.82359996 0.94909913 0.97261851]\n",
      "Mean Cross-Validation R2 Score:  0.9277305482716736\n",
      "Difference between R2 and Cross-Validation Score:  3.378612559087446\n",
      "\n",
      "\n",
      "{'Regressor': 'AdaBoost', 'Mean Absolute Error': 0.16219413062264262, 'Mean Squared Error': 0.03637606653131929, 'R-squared': 0.8942015791690767}\n",
      "Cross-Validation Scores for AdaBoost:\n",
      "[0.87406677 0.90162112 0.77060329 0.87205665 0.90853138]\n",
      "Mean Cross-Validation R2 Score:  0.8653758411300119\n",
      "Difference between R2 and Cross-Validation Score:  2.882573803906485\n",
      "\n",
      "\n",
      "{'Regressor': 'Bagging', 'Mean Absolute Error': 0.10665217391304353, 'Mean Squared Error': 0.019289574260869573, 'R-squared': 0.943896999046235}\n",
      "Cross-Validation Scores for Bagging:\n",
      "[0.88313194 0.92983806 0.81865108 0.89488301 0.9265364 ]\n",
      "Mean Cross-Validation R2 Score:  0.8906080975416237\n",
      "Difference between R2 and Cross-Validation Score:  5.328890150461129\n",
      "\n",
      "\n",
      "{'Regressor': 'Hist Gradient Boosting', 'Mean Absolute Error': 0.08238125308338774, 'Mean Squared Error': 0.01225116667248046, 'R-squared': 0.9643679426919648}\n",
      "Cross-Validation Scores for Hist Gradient Boosting:\n",
      "[0.94828583 0.92840912 0.76517024 0.94496621 0.95797528]\n",
      "Mean Cross-Validation R2 Score:  0.9089613362347354\n",
      "Difference between R2 and Cross-Validation Score:  5.540660645722939\n",
      "\n",
      "\n"
     ]
    }
   ],
   "source": [
    "from sklearn.pipeline import Pipeline\n",
    "from sklearn.compose import ColumnTransformer\n",
    "from sklearn.preprocessing import StandardScaler\n",
    "from sklearn.metrics import mean_absolute_error, mean_squared_error, r2_score \n",
    "from sklearn.ensemble import HistGradientBoostingRegressor, GradientBoostingRegressor, AdaBoostRegressor, BaggingRegressor, RandomForestRegressor, ExtraTreesRegressor\n",
    "from sklearn.linear_model import LinearRegression, Lasso, Ridge\n",
    "from sklearn.neighbors import KNeighborsRegressor\n",
    "from sklearn.tree import DecisionTreeRegressor\n",
    "from sklearn.svm import SVR\n",
    "from sklearn.model_selection import cross_val_score, train_test_split\n",
    "\n",
    "def create_pipeline_and_evaluate(x_train, y_train, x_test, y_test, model_type='regression'):\n",
    "    numeric_features = x_train.columns\n",
    "    numeric_transformer = StandardScaler()\n",
    "\n",
    "    preprocessor = ColumnTransformer(\n",
    "        transformers=[\n",
    "            ('num', numeric_transformer, numeric_features)\n",
    "        ])\n",
    "\n",
    "    if model_type == 'regression':\n",
    "        regressors = [\n",
    "            ('Linear Regression', LinearRegression()),\n",
    "            ('Lasso', Lasso()),\n",
    "            ('Ridge', Ridge()),\n",
    "            ('KNN', KNeighborsRegressor()),\n",
    "            ('Decision Tree', DecisionTreeRegressor()),\n",
    "            ('SVR', SVR()),\n",
    "            ('Random Forest', RandomForestRegressor()),\n",
    "            ('Extra Trees', ExtraTreesRegressor()),\n",
    "            ('Gradient Boosting', GradientBoostingRegressor()),\n",
    "            ('AdaBoost', AdaBoostRegressor()),\n",
    "            ('Bagging', BaggingRegressor()),\n",
    "            ('Hist Gradient Boosting', HistGradientBoostingRegressor())\n",
    "        ]\n",
    "    else:\n",
    "        pass\n",
    "\n",
    "    for name, regressor in regressors:\n",
    "        model = Pipeline(steps=[('preprocessor', preprocessor),\n",
    "                                ('regressor', regressor)])\n",
    "        model.fit(x_train, y_train)\n",
    "        predictions = model.predict(x_test)\n",
    "\n",
    "        evaluation_metrics = {\n",
    "            'Regressor': name,\n",
    "            'Mean Absolute Error': mean_absolute_error(y_test, predictions),\n",
    "            'Mean Squared Error': mean_squared_error(y_test, predictions),\n",
    "            'R-squared': r2_score(y_test, predictions)\n",
    "        }\n",
    "\n",
    "        print(evaluation_metrics)\n",
    "\n",
    "        cv_scores = cross_val_score(model, x_train, y_train, cv=5, scoring='r2')\n",
    "        print(f\"Cross-Validation Scores for {name}:\")\n",
    "        print(cv_scores)\n",
    "        print(\"Mean Cross-Validation R2 Score: \", cv_scores.mean())\n",
    "        print(\"Difference between R2 and Cross-Validation Score: \", (r2_score(y_test, predictions) - cv_scores.mean()) * 100)\n",
    "        print('\\n')\n",
    "\n",
    "create_pipeline_and_evaluate(x_train, y_train, x_test, y_test, model_type='regression')\n"
   ]
  },
  {
   "cell_type": "markdown",
   "id": "98ae4d02",
   "metadata": {},
   "source": [
    "From the difference of both R2 score and Cross Validation score computed on R2 score we can conclude that AdaBoostRegressor() is the best fitting and best performance"
   ]
  },
  {
   "cell_type": "markdown",
   "id": "31fe3e70",
   "metadata": {},
   "source": [
    "## HyperTuning"
   ]
  },
  {
   "cell_type": "code",
   "execution_count": 61,
   "id": "089e4511",
   "metadata": {},
   "outputs": [
    {
     "data": {
      "text/plain": [
       "GridSearchCV(cv=5, estimator=AdaBoostRegressor(),\n",
       "             param_grid={'learning_rate': [0.01, 0.1, 0.2],\n",
       "                         'loss': ['linear', 'square'],\n",
       "                         'n_estimators': [100, 200, 300]})"
      ]
     },
     "execution_count": 61,
     "metadata": {},
     "output_type": "execute_result"
    }
   ],
   "source": [
    "from sklearn.model_selection import GridSearchCV\n",
    "\n",
    "\n",
    "param_grid = {\n",
    "    'n_estimators': [100, 200, 300],\n",
    "    'learning_rate': [0.01, 0.1, 0.2],\n",
    "    'loss':['linear', 'square']\n",
    "    \n",
    "}\n",
    "\n",
    "\n",
    "\n",
    "gscv = GridSearchCV(\n",
    "    AdaBoostRegressor(),\n",
    "    param_grid,\n",
    "    cv=5,  \n",
    "    \n",
    ")\n",
    "\n",
    "gscv.fit(x_train, y_train)\n"
   ]
  },
  {
   "cell_type": "code",
   "execution_count": 62,
   "id": "721daf83",
   "metadata": {},
   "outputs": [
    {
     "data": {
      "text/plain": [
       "{'learning_rate': 0.2, 'loss': 'square', 'n_estimators': 300}"
      ]
     },
     "execution_count": 62,
     "metadata": {},
     "output_type": "execute_result"
    }
   ],
   "source": [
    "gscv.best_params_"
   ]
  },
  {
   "cell_type": "code",
   "execution_count": 63,
   "id": "3588c5a6",
   "metadata": {},
   "outputs": [
    {
     "name": "stdout",
     "output_type": "stream",
     "text": [
      "AdaBoostRegressor(learning_rate=0.2, loss='square', n_estimators=300)\n",
      "R2_score:  90.54915578938844\n",
      "Mean Absolute Error:  0.14954468301269977\n",
      "Mean Squared Error:  0.03249429765419117\n",
      "Root Mean Squared Error:  0.18026174761771055\n"
     ]
    }
   ],
   "source": [
    "Model  = AdaBoostRegressor(learning_rate=0.2, loss=\"square\", n_estimators=300)\n",
    "Model.fit(x_train, y_train)\n",
    "pred = Model.predict(x_test)\n",
    "print(Model)\n",
    "print(\"R2_score: \", r2_score(y_test, pred)*100)\n",
    "print(\"Mean Absolute Error: \", mean_absolute_error(y_test,pred))\n",
    "print(\"Mean Squared Error: \", mean_squared_error(y_test, pred))\n",
    "print(\"Root Mean Squared Error: \", np.sqrt(mean_squared_error(y_test, pred)))"
   ]
  },
  {
   "cell_type": "code",
   "execution_count": 64,
   "id": "b9fdf131",
   "metadata": {},
   "outputs": [
    {
     "data": {
      "image/png": "[encoded data removed]",
      "text/plain": [
       "<Figure size 720x432 with 1 Axes>"
      ]
     },
     "metadata": {
      "needs_background": "light"
     },
     "output_type": "display_data"
    }
   ],
   "source": [
    "plt.figure(figsize=(10, 6))\n",
    "plt.scatter(x=pred, y=y_test, color=\"r\")\n",
    "plt.plot(pred, pred, color = \"b\")\n",
    "plt.xlabel(\"Actual\", fontsize=14)\n",
    "plt.ylabel(\"Predicted\", fontsize=14)\n",
    "plt.title(\"AdaBoostRegressor\", fontsize=18)\n",
    "plt.show()"
   ]
  },
  {
   "cell_type": "markdown",
   "id": "720f1a93",
   "metadata": {},
   "source": [
    "as you can see not all the data predicted points are fitted on the best fit line (90%)"
   ]
  },
  {
   "cell_type": "code",
   "execution_count": 65,
   "id": "5c0c1d22",
   "metadata": {},
   "outputs": [
    {
     "data": {
      "text/plain": [
       "['Student_grades_prediction.pkl']"
      ]
     },
     "execution_count": 65,
     "metadata": {},
     "output_type": "execute_result"
    }
   ],
   "source": [
    "import joblib\n",
    "joblib.dump(Model, 'Student_grades_prediction.pkl')"
   ]
  },
  {
   "cell_type": "code",
   "execution_count": 66,
   "id": "e4f01c3a",
   "metadata": {},
   "outputs": [],
   "source": [
    "import pickle\n",
    "filename = 'Student_grades_prediction.pkl'\n",
    "pickle.dump(Model,open(filename, 'wb'))  #saved the model"
   ]
  },
  {
   "cell_type": "code",
   "execution_count": 67,
   "id": "cc4f9970",
   "metadata": {},
   "outputs": [
    {
     "name": "stdout",
     "output_type": "stream",
     "text": [
      "90.54915578938844\n"
     ]
    }
   ],
   "source": [
    "import pickle\n",
    "loaded_model = pickle.load(open('Student_grades_prediction.pkl', 'rb'))\n",
    "result = loaded_model.score(x_test, y_test)\n",
    "print(result*100)"
   ]
  },
  {
   "cell_type": "code",
   "execution_count": null,
   "id": "7dacff0e",
   "metadata": {},
   "outputs": [],
   "source": []
  }
 ],
 "metadata": {
  "kernelspec": {
   "display_name": "Python 3 (ipykernel)",
   "language": "python",
   "name": "python3"
  },
  "language_info": {
   "codemirror_mode": {
    "name": "ipython",
    "version": 3
   },
   "file_extension": ".py",
   "mimetype": "text/x-python",
   "name": "python",
   "nbconvert_exporter": "python",
   "pygments_lexer": "ipython3",
   "version": "3.9.12"
  },
  "varInspector": {
   "cols": {
    "lenName": 16,
    "lenType": 16,
    "lenVar": 40
   },
   "kernels_config": {
    "python": {
     "delete_cmd_postfix": "",
     "delete_cmd_prefix": "del ",
     "library": "var_list.py",
     "varRefreshCmd": "print(var_dic_list())"
    },
    "r": {
     "delete_cmd_postfix": ") ",
     "delete_cmd_prefix": "rm(",
     "library": "var_list.r",
     "varRefreshCmd": "cat(var_dic_list()) "
    }
   },
   "types_to_exclude": [
    "module",
    "function",
    "builtin_function_or_method",
    "instance",
    "_Feature"
   ],
   "window_display": false
  }
 },
 "nbformat": 4,
 "nbformat_minor": 5
}
