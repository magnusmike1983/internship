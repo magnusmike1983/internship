{
 "cells": [
  {
   "cell_type": "markdown",
   "id": "4cb560f5",
   "metadata": {},
   "source": [
    "BANK MARKETING: Predicting Whether The Customer Will Subscribe To Term Deposit (FIXED DEPOSIT) or not.\n",
    "Business Use Case\n",
    "\n",
    "\n",
    "There has been a revenue decline for a Portuguese bank and they would like to know what actions to take. After investigation, they found out that the root cause is that their clients are not depositing as frequently as before. Knowing that term deposits allow banks to hold onto a deposit for a specific amount of time, so banks can invest in higher gain financial products to make a profit. In addition, banks also hold better chance to persuade term deposit clients into buying other products such as funds or insurance to further increase their revenues. As a result, the Portuguese bank would like to identify existing clients that have higher chance to subscribe for a term deposit and focus marketing efforts on such clients.\n",
    "\n",
    "Project Description\n",
    "Your client is a retail banking institution. Term deposits are a major source of income for a bank. A term deposit is a cash investment held at a financial institution. Your money is invested for an agreed rate of interest over a fixed amount of time, or term. The bank has various outreach plans to sell term deposits to their customers such as email marketing, advertisements, telephonic marketing and digital marketing. Telephonic marketing campaigns still remain one of the most effective way to reach out to people. However, they require huge investment as large call centers are hired to actually execute these campaigns. Hence, it is crucial to identify the customers most likely to convert beforehand so that they can be specifically targeted via call.\n",
    "You are provided with the client data such as : age of the client, their job type, their marital status, etc. Along with the client data, you are also provided with the information of the call such as the duration of the call, day and month of the call, etc. Given this information, your task is to predict if the client will subscribe to term deposit.\n",
    "About The Dataset\n",
    "The dataset is related with direct marketing campaigns (phone calls) of a Portuguese banking institution. The classification goal of this dataset is to predict if the client or the customer of polish banking institution will subscribe a term deposit product of the bank or not. \n",
    "\n",
    "\n",
    "\n",
    "You are provided with following 2 files:\n",
    "1.     train.csv : Use this dataset to train the model. This file contains all the client and call details as well as the target variable “subscribed”. You have to train your model using this file.\n",
    "2.     test.csv : Use the trained model to predict whether a new set of clients will subscribe the term deposit.\n",
    " \n",
    "Dataset Attributes\n",
    "Here is the description of all the variables:\n",
    "•\tVariable: Definition\n",
    "•\tID: Unique client ID\n",
    "•\tage: Age of the client\n",
    "•\tjob: Type of job\n",
    "•\tmarital: Marital status of the client\n",
    "•\teducation: Education level\n",
    "•\tdefault: Credit in default.\n",
    "•\thousing: Housing loan\n",
    "•\tloan: Personal loan\n",
    "•\tcontact: Type of communication\n",
    "•\tmonth: Contact month\n",
    "•\tday_of_week: Day of week of contact\n",
    "•\tduration: Contact duration\n",
    "•\tcampaign: number of contacts performed during this campaign to the client\n",
    "•\tpdays: number of days that passed by after the client was last contacted\n",
    "•\tprevious: number of contacts performed before this campaign\n",
    "•\tpoutcome: outcome of the previous marketing campaign\n",
    "Output variable (desired target):\n",
    "•\tSubscribed (target): has the client subscribed a term deposit? (YES/NO)\n",
    "\n",
    "\n",
    "\n",
    "Dataset Link-\n",
    "•\thttps://github.com/dsrscientist/dataset5\n",
    "•\thttps://raw.githubusercontent.com/dsrscientist/dataset5/main/termdeposit_train.csv\n",
    "•\thttps://raw.githubusercontent.com/dsrscientist/dataset5/main/termdeposit_test.csv\n"
   ]
  },
  {
   "cell_type": "code",
   "execution_count": 2,
   "id": "ff526c99",
   "metadata": {},
   "outputs": [],
   "source": [
    "import pandas as pd \n",
    "import numpy as np\n",
    "import matplotlib.pyplot as plt \n",
    "import seaborn as sns \n",
    "import warnings\n",
    "warnings.filterwarnings(\"ignore\")"
   ]
  },
  {
   "cell_type": "code",
   "execution_count": 3,
   "id": "40a769b9",
   "metadata": {},
   "outputs": [],
   "source": [
    "train_csv = pd.read_csv('https://raw.githubusercontent.com/dsrscientist/dataset5/main/termdeposit_train.csv', index_col= \"ID\")\n",
    "test_csv = pd.read_csv('https://raw.githubusercontent.com/dsrscientist/dataset5/main/termdeposit_test.csv', index_col=\"ID\")"
   ]
  },
  {
   "cell_type": "code",
   "execution_count": 79,
   "id": "ab553ed3",
   "metadata": {
    "scrolled": true
   },
   "outputs": [
    {
     "data": {
      "text/html": [
       "<div>\n",
       "<style scoped>\n",
       "    .dataframe tbody tr th:only-of-type {\n",
       "        vertical-align: middle;\n",
       "    }\n",
       "\n",
       "    .dataframe tbody tr th {\n",
       "        vertical-align: top;\n",
       "    }\n",
       "\n",
       "    .dataframe thead th {\n",
       "        text-align: right;\n",
       "    }\n",
       "</style>\n",
       "<table border=\"1\" class=\"dataframe\">\n",
       "  <thead>\n",
       "    <tr style=\"text-align: right;\">\n",
       "      <th></th>\n",
       "      <th>age</th>\n",
       "      <th>job</th>\n",
       "      <th>marital</th>\n",
       "      <th>education</th>\n",
       "      <th>default</th>\n",
       "      <th>balance</th>\n",
       "      <th>housing</th>\n",
       "      <th>loan</th>\n",
       "      <th>contact</th>\n",
       "      <th>day</th>\n",
       "      <th>month</th>\n",
       "      <th>duration</th>\n",
       "      <th>campaign</th>\n",
       "      <th>pdays</th>\n",
       "      <th>previous</th>\n",
       "      <th>poutcome</th>\n",
       "      <th>subscribed</th>\n",
       "    </tr>\n",
       "    <tr>\n",
       "      <th>ID</th>\n",
       "      <th></th>\n",
       "      <th></th>\n",
       "      <th></th>\n",
       "      <th></th>\n",
       "      <th></th>\n",
       "      <th></th>\n",
       "      <th></th>\n",
       "      <th></th>\n",
       "      <th></th>\n",
       "      <th></th>\n",
       "      <th></th>\n",
       "      <th></th>\n",
       "      <th></th>\n",
       "      <th></th>\n",
       "      <th></th>\n",
       "      <th></th>\n",
       "      <th></th>\n",
       "    </tr>\n",
       "  </thead>\n",
       "  <tbody>\n",
       "    <tr>\n",
       "      <th>26110</th>\n",
       "      <td>56</td>\n",
       "      <td>admin.</td>\n",
       "      <td>married</td>\n",
       "      <td>unknown</td>\n",
       "      <td>no</td>\n",
       "      <td>1933</td>\n",
       "      <td>no</td>\n",
       "      <td>no</td>\n",
       "      <td>telephone</td>\n",
       "      <td>19</td>\n",
       "      <td>nov</td>\n",
       "      <td>44</td>\n",
       "      <td>2</td>\n",
       "      <td>-1</td>\n",
       "      <td>0</td>\n",
       "      <td>unknown</td>\n",
       "      <td>no</td>\n",
       "    </tr>\n",
       "    <tr>\n",
       "      <th>40576</th>\n",
       "      <td>31</td>\n",
       "      <td>unknown</td>\n",
       "      <td>married</td>\n",
       "      <td>secondary</td>\n",
       "      <td>no</td>\n",
       "      <td>3</td>\n",
       "      <td>no</td>\n",
       "      <td>no</td>\n",
       "      <td>cellular</td>\n",
       "      <td>20</td>\n",
       "      <td>jul</td>\n",
       "      <td>91</td>\n",
       "      <td>2</td>\n",
       "      <td>-1</td>\n",
       "      <td>0</td>\n",
       "      <td>unknown</td>\n",
       "      <td>no</td>\n",
       "    </tr>\n",
       "    <tr>\n",
       "      <th>15320</th>\n",
       "      <td>27</td>\n",
       "      <td>services</td>\n",
       "      <td>married</td>\n",
       "      <td>secondary</td>\n",
       "      <td>no</td>\n",
       "      <td>891</td>\n",
       "      <td>yes</td>\n",
       "      <td>no</td>\n",
       "      <td>cellular</td>\n",
       "      <td>18</td>\n",
       "      <td>jul</td>\n",
       "      <td>240</td>\n",
       "      <td>1</td>\n",
       "      <td>-1</td>\n",
       "      <td>0</td>\n",
       "      <td>unknown</td>\n",
       "      <td>no</td>\n",
       "    </tr>\n",
       "    <tr>\n",
       "      <th>43962</th>\n",
       "      <td>57</td>\n",
       "      <td>management</td>\n",
       "      <td>divorced</td>\n",
       "      <td>tertiary</td>\n",
       "      <td>no</td>\n",
       "      <td>3287</td>\n",
       "      <td>no</td>\n",
       "      <td>no</td>\n",
       "      <td>cellular</td>\n",
       "      <td>22</td>\n",
       "      <td>jun</td>\n",
       "      <td>867</td>\n",
       "      <td>1</td>\n",
       "      <td>84</td>\n",
       "      <td>3</td>\n",
       "      <td>success</td>\n",
       "      <td>yes</td>\n",
       "    </tr>\n",
       "    <tr>\n",
       "      <th>29842</th>\n",
       "      <td>31</td>\n",
       "      <td>technician</td>\n",
       "      <td>married</td>\n",
       "      <td>secondary</td>\n",
       "      <td>no</td>\n",
       "      <td>119</td>\n",
       "      <td>yes</td>\n",
       "      <td>no</td>\n",
       "      <td>cellular</td>\n",
       "      <td>4</td>\n",
       "      <td>feb</td>\n",
       "      <td>380</td>\n",
       "      <td>1</td>\n",
       "      <td>-1</td>\n",
       "      <td>0</td>\n",
       "      <td>unknown</td>\n",
       "      <td>no</td>\n",
       "    </tr>\n",
       "  </tbody>\n",
       "</table>\n",
       "</div>"
      ],
      "text/plain": [
       "       age         job   marital  education default  balance housing loan  \\\n",
       "ID                                                                          \n",
       "26110   56      admin.   married    unknown      no     1933      no   no   \n",
       "40576   31     unknown   married  secondary      no        3      no   no   \n",
       "15320   27    services   married  secondary      no      891     yes   no   \n",
       "43962   57  management  divorced   tertiary      no     3287      no   no   \n",
       "29842   31  technician   married  secondary      no      119     yes   no   \n",
       "\n",
       "         contact  day month  duration  campaign  pdays  previous poutcome  \\\n",
       "ID                                                                          \n",
       "26110  telephone   19   nov        44         2     -1         0  unknown   \n",
       "40576   cellular   20   jul        91         2     -1         0  unknown   \n",
       "15320   cellular   18   jul       240         1     -1         0  unknown   \n",
       "43962   cellular   22   jun       867         1     84         3  success   \n",
       "29842   cellular    4   feb       380         1     -1         0  unknown   \n",
       "\n",
       "      subscribed  \n",
       "ID                \n",
       "26110         no  \n",
       "40576         no  \n",
       "15320         no  \n",
       "43962        yes  \n",
       "29842         no  "
      ]
     },
     "execution_count": 79,
     "metadata": {},
     "output_type": "execute_result"
    }
   ],
   "source": [
    "train_csv.head()"
   ]
  },
  {
   "cell_type": "code",
   "execution_count": 5,
   "id": "d26568d0",
   "metadata": {},
   "outputs": [
    {
     "data": {
      "text/plain": [
       "(31647, 17)"
      ]
     },
     "execution_count": 5,
     "metadata": {},
     "output_type": "execute_result"
    }
   ],
   "source": [
    "train_csv.shape"
   ]
  },
  {
   "cell_type": "markdown",
   "id": "a47acc86",
   "metadata": {},
   "source": [
    "The ID does not contribut to our the model performance hence I have made it to index"
   ]
  },
  {
   "cell_type": "code",
   "execution_count": 6,
   "id": "811c088f",
   "metadata": {},
   "outputs": [
    {
     "name": "stdout",
     "output_type": "stream",
     "text": [
      "<class 'pandas.core.frame.DataFrame'>\n",
      "Int64Index: 31647 entries, 26110 to 14156\n",
      "Data columns (total 17 columns):\n",
      " #   Column      Non-Null Count  Dtype \n",
      "---  ------      --------------  ----- \n",
      " 0   age         31647 non-null  int64 \n",
      " 1   job         31647 non-null  object\n",
      " 2   marital     31647 non-null  object\n",
      " 3   education   31647 non-null  object\n",
      " 4   default     31647 non-null  object\n",
      " 5   balance     31647 non-null  int64 \n",
      " 6   housing     31647 non-null  object\n",
      " 7   loan        31647 non-null  object\n",
      " 8   contact     31647 non-null  object\n",
      " 9   day         31647 non-null  int64 \n",
      " 10  month       31647 non-null  object\n",
      " 11  duration    31647 non-null  int64 \n",
      " 12  campaign    31647 non-null  int64 \n",
      " 13  pdays       31647 non-null  int64 \n",
      " 14  previous    31647 non-null  int64 \n",
      " 15  poutcome    31647 non-null  object\n",
      " 16  subscribed  31647 non-null  object\n",
      "dtypes: int64(7), object(10)\n",
      "memory usage: 4.3+ MB\n"
     ]
    }
   ],
   "source": [
    "train_csv.info()"
   ]
  },
  {
   "cell_type": "markdown",
   "id": "fb96e96a",
   "metadata": {},
   "source": [
    "the same number of non-null shows that there are no null values; we have both categorical data (object datatype) and numerical data(int64), and rows x columns (shape) = (31647, 18)"
   ]
  },
  {
   "cell_type": "code",
   "execution_count": 7,
   "id": "2f2614a0",
   "metadata": {},
   "outputs": [],
   "source": [
    "categorical_data = []\n",
    "numerical_data=[]\n",
    "\n",
    "for column in train_csv.columns:\n",
    "    if train_csv[column].dtypes == \"object\":\n",
    "        categorical_data.append(column)\n",
    "    else:\n",
    "        numerical_data.append(column)\n"
   ]
  },
  {
   "cell_type": "code",
   "execution_count": 8,
   "id": "45f5c41b",
   "metadata": {},
   "outputs": [
    {
     "data": {
      "text/plain": [
       "0"
      ]
     },
     "execution_count": 8,
     "metadata": {},
     "output_type": "execute_result"
    }
   ],
   "source": [
    "train_csv.isnull().sum().sum()"
   ]
  },
  {
   "cell_type": "markdown",
   "id": "48f811b5",
   "metadata": {},
   "source": [
    "no nul values confirmed"
   ]
  },
  {
   "cell_type": "markdown",
   "id": "a6ca3650",
   "metadata": {},
   "source": [
    "## Data descrition"
   ]
  },
  {
   "cell_type": "code",
   "execution_count": 9,
   "id": "9603ad5a",
   "metadata": {},
   "outputs": [
    {
     "data": {
      "text/html": [
       "<div>\n",
       "<style scoped>\n",
       "    .dataframe tbody tr th:only-of-type {\n",
       "        vertical-align: middle;\n",
       "    }\n",
       "\n",
       "    .dataframe tbody tr th {\n",
       "        vertical-align: top;\n",
       "    }\n",
       "\n",
       "    .dataframe thead th {\n",
       "        text-align: right;\n",
       "    }\n",
       "</style>\n",
       "<table border=\"1\" class=\"dataframe\">\n",
       "  <thead>\n",
       "    <tr style=\"text-align: right;\">\n",
       "      <th></th>\n",
       "      <th>age</th>\n",
       "      <th>balance</th>\n",
       "      <th>day</th>\n",
       "      <th>duration</th>\n",
       "      <th>campaign</th>\n",
       "      <th>pdays</th>\n",
       "      <th>previous</th>\n",
       "    </tr>\n",
       "  </thead>\n",
       "  <tbody>\n",
       "    <tr>\n",
       "      <th>count</th>\n",
       "      <td>31647.000000</td>\n",
       "      <td>31647.000000</td>\n",
       "      <td>31647.000000</td>\n",
       "      <td>31647.000000</td>\n",
       "      <td>31647.000000</td>\n",
       "      <td>31647.000000</td>\n",
       "      <td>31647.000000</td>\n",
       "    </tr>\n",
       "    <tr>\n",
       "      <th>mean</th>\n",
       "      <td>40.957247</td>\n",
       "      <td>1363.890258</td>\n",
       "      <td>15.835466</td>\n",
       "      <td>258.113534</td>\n",
       "      <td>2.765697</td>\n",
       "      <td>39.576042</td>\n",
       "      <td>0.574272</td>\n",
       "    </tr>\n",
       "    <tr>\n",
       "      <th>std</th>\n",
       "      <td>10.625134</td>\n",
       "      <td>3028.304293</td>\n",
       "      <td>8.337097</td>\n",
       "      <td>257.118973</td>\n",
       "      <td>3.113830</td>\n",
       "      <td>99.317592</td>\n",
       "      <td>2.422529</td>\n",
       "    </tr>\n",
       "    <tr>\n",
       "      <th>min</th>\n",
       "      <td>18.000000</td>\n",
       "      <td>-8019.000000</td>\n",
       "      <td>1.000000</td>\n",
       "      <td>0.000000</td>\n",
       "      <td>1.000000</td>\n",
       "      <td>-1.000000</td>\n",
       "      <td>0.000000</td>\n",
       "    </tr>\n",
       "    <tr>\n",
       "      <th>25%</th>\n",
       "      <td>33.000000</td>\n",
       "      <td>73.000000</td>\n",
       "      <td>8.000000</td>\n",
       "      <td>104.000000</td>\n",
       "      <td>1.000000</td>\n",
       "      <td>-1.000000</td>\n",
       "      <td>0.000000</td>\n",
       "    </tr>\n",
       "    <tr>\n",
       "      <th>50%</th>\n",
       "      <td>39.000000</td>\n",
       "      <td>450.000000</td>\n",
       "      <td>16.000000</td>\n",
       "      <td>180.000000</td>\n",
       "      <td>2.000000</td>\n",
       "      <td>-1.000000</td>\n",
       "      <td>0.000000</td>\n",
       "    </tr>\n",
       "    <tr>\n",
       "      <th>75%</th>\n",
       "      <td>48.000000</td>\n",
       "      <td>1431.000000</td>\n",
       "      <td>21.000000</td>\n",
       "      <td>318.500000</td>\n",
       "      <td>3.000000</td>\n",
       "      <td>-1.000000</td>\n",
       "      <td>0.000000</td>\n",
       "    </tr>\n",
       "    <tr>\n",
       "      <th>max</th>\n",
       "      <td>95.000000</td>\n",
       "      <td>102127.000000</td>\n",
       "      <td>31.000000</td>\n",
       "      <td>4918.000000</td>\n",
       "      <td>63.000000</td>\n",
       "      <td>871.000000</td>\n",
       "      <td>275.000000</td>\n",
       "    </tr>\n",
       "  </tbody>\n",
       "</table>\n",
       "</div>"
      ],
      "text/plain": [
       "                age        balance           day      duration      campaign  \\\n",
       "count  31647.000000   31647.000000  31647.000000  31647.000000  31647.000000   \n",
       "mean      40.957247    1363.890258     15.835466    258.113534      2.765697   \n",
       "std       10.625134    3028.304293      8.337097    257.118973      3.113830   \n",
       "min       18.000000   -8019.000000      1.000000      0.000000      1.000000   \n",
       "25%       33.000000      73.000000      8.000000    104.000000      1.000000   \n",
       "50%       39.000000     450.000000     16.000000    180.000000      2.000000   \n",
       "75%       48.000000    1431.000000     21.000000    318.500000      3.000000   \n",
       "max       95.000000  102127.000000     31.000000   4918.000000     63.000000   \n",
       "\n",
       "              pdays      previous  \n",
       "count  31647.000000  31647.000000  \n",
       "mean      39.576042      0.574272  \n",
       "std       99.317592      2.422529  \n",
       "min       -1.000000      0.000000  \n",
       "25%       -1.000000      0.000000  \n",
       "50%       -1.000000      0.000000  \n",
       "75%       -1.000000      0.000000  \n",
       "max      871.000000    275.000000  "
      ]
     },
     "execution_count": 9,
     "metadata": {},
     "output_type": "execute_result"
    }
   ],
   "source": [
    "# descrition of numerical data \n",
    "train_csv.describe()"
   ]
  },
  {
   "cell_type": "markdown",
   "id": "7b6fd653",
   "metadata": {},
   "source": [
    "This is the statistical description of out data:\n",
    "- we have the same count value throughtout and all data is positive which means we have no missing values. \n",
    "- mean value is bigger than the value @ 50% apart from \"day\"; we suspect skewness to the right for all except day\n",
    "- I do also suspect outliers in the numerical data since @ 75% <<< @max"
   ]
  },
  {
   "cell_type": "code",
   "execution_count": 10,
   "id": "43357d0b",
   "metadata": {
    "scrolled": true
   },
   "outputs": [
    {
     "data": {
      "image/png": "[encoded data removed]",
      "text/plain": [
       "<Figure size 1080x720 with 2 Axes>"
      ]
     },
     "metadata": {
      "needs_background": "light"
     },
     "output_type": "display_data"
    }
   ],
   "source": [
    "plt.figure(figsize=(15,10))\n",
    "sns.heatmap(train_csv.corr(), annot=True, fmt=\"0.2f\", linewidths=0.2, linecolor=\"black\", cmap=plt.cm.Blues)\n",
    "plt.xlabel('Feature_name', fontsize=14)\n",
    "plt.ylabel('Feature_name', fontsize =14)\n",
    "plt.title(\"Correlation Graph\", fontsize =14)\n",
    "plt.show()"
   ]
  },
  {
   "cell_type": "markdown",
   "id": "d58352ab",
   "metadata": {},
   "source": [
    "we can observe some few positive correlation amoung themselves with can lead to multi collinearity (such as previous and pdays)"
   ]
  },
  {
   "cell_type": "code",
   "execution_count": 11,
   "id": "c23c7558",
   "metadata": {},
   "outputs": [
    {
     "data": {
      "text/plain": [
       "[(0, 'age'),\n",
       " (1, 'balance'),\n",
       " (2, 'day'),\n",
       " (3, 'duration'),\n",
       " (4, 'campaign'),\n",
       " (5, 'pdays'),\n",
       " (6, 'previous')]"
      ]
     },
     "execution_count": 11,
     "metadata": {},
     "output_type": "execute_result"
    }
   ],
   "source": [
    "list(enumerate(numerical_data))"
   ]
  },
  {
   "cell_type": "code",
   "execution_count": 12,
   "id": "0ddbafa7",
   "metadata": {},
   "outputs": [
    {
     "data": {
      "image/png": "[encoded data removed]",
      "text/plain": [
       "<Figure size 864x864 with 7 Axes>"
      ]
     },
     "metadata": {},
     "output_type": "display_data"
    }
   ],
   "source": [
    "plt.figure(figsize=(12, 12), facecolor=\"white\")\n",
    "\n",
    "features = numerical_data\n",
    "\n",
    "for i, col in enumerate(features):\n",
    "    plt.subplot(3, 4, i + 1) \n",
    "    sns.histplot(train_csv[col], color=\"m\", kde=True)\n",
    "    plt.xlabel(col, fontsize=12)\n",
    "    plt.xticks(rotation=0, fontsize=10)\n",
    "    plt.yticks(fontsize=10)\n",
    "\n",
    "plt.tight_layout()\n",
    "plt.show()\n"
   ]
  },
  {
   "cell_type": "markdown",
   "id": "6aef18fc",
   "metadata": {},
   "source": [
    "## Bivariate analysis with Subscription status"
   ]
  },
  {
   "cell_type": "code",
   "execution_count": 13,
   "id": "26d29461",
   "metadata": {},
   "outputs": [
    {
     "data": {
      "text/plain": [
       "[(0, 'job'),\n",
       " (1, 'marital'),\n",
       " (2, 'education'),\n",
       " (3, 'default'),\n",
       " (4, 'housing'),\n",
       " (5, 'loan'),\n",
       " (6, 'contact'),\n",
       " (7, 'month'),\n",
       " (8, 'poutcome'),\n",
       " (9, 'subscribed')]"
      ]
     },
     "execution_count": 13,
     "metadata": {},
     "output_type": "execute_result"
    }
   ],
   "source": [
    "list(enumerate(categorical_data))"
   ]
  },
  {
   "cell_type": "code",
   "execution_count": 14,
   "id": "47044ccd",
   "metadata": {
    "scrolled": true
   },
   "outputs": [
    {
     "data": {
      "image/png": "[encoded data removed]",
      "text/plain": [
       "<Figure size 1080x1080 with 10 Axes>"
      ]
     },
     "metadata": {
      "needs_background": "light"
     },
     "output_type": "display_data"
    }
   ],
   "source": [
    "plt.figure(figsize=(15,15))\n",
    "for i, column in enumerate(categorical_data):\n",
    "    plt.subplot(4, 3, i + 1)\n",
    "    sns.countplot(x=column, hue=\"subscribed\", data=train_csv)\n",
    "    plt.xlabel(column)\n",
    "    plt.xticks(rotation=45, fontsize=10)\n",
    "    plt.ylabel('Count')\n",
    "    plt.title(\"Bivariate analysis with Subscription status\")\n",
    "    plt.legend(title='Subscribed', loc='upper right')  # Add legend for 'subscribed' categories\n",
    "    plt.tight_layout()\n",
    "\n",
    "plt.show()\n"
   ]
  },
  {
   "cell_type": "markdown",
   "id": "1ce164e7",
   "metadata": {},
   "source": [
    "These unknown factors are to be well defined to be defined because their occurances are very high.\n",
    "The graphs above show that the overall counts of clients to fixed deposit is very minimal accross all the categories. \n",
    "There was more contact with clients with cellular (mobile) respect to clients with fixed telephones\n",
    "Many people were contacted in average in the month of May, July, Augest and November.\n",
    "The numbero of contact made during the months Oct,Mar,Dec,Sept,Jan look very negligible rispect to the average. We cannot ignore these gaps. "
   ]
  },
  {
   "cell_type": "code",
   "execution_count": 12,
   "id": "326a67b6",
   "metadata": {
    "scrolled": false
   },
   "outputs": [
    {
     "data": {
      "text/plain": [
       "31647"
      ]
     },
     "execution_count": 12,
     "metadata": {},
     "output_type": "execute_result"
    }
   ],
   "source": [
    "list_range_age = []\n",
    "\n",
    "for age in train_csv[\"age\"]:\n",
    "    if age <= 25:\n",
    "        list_range_age.append(\"group1\")\n",
    "    elif 26 <= age <= 34:\n",
    "        list_range_age.append(\"group2\")\n",
    "    elif 35 <= age <= 44:\n",
    "        list_range_age.append(\"group3\")\n",
    "    elif 45 <= age <= 54:\n",
    "        list_range_age.append(\"group4\")\n",
    "    else:\n",
    "        list_range_age.append(\"group5\")\n",
    "        \n",
    "len(list_range_age)\n"
   ]
  },
  {
   "cell_type": "code",
   "execution_count": 13,
   "id": "a9d9c2df",
   "metadata": {
    "scrolled": false
   },
   "outputs": [
    {
     "data": {
      "text/plain": [
       "Text(0.5, 1.0, 'graph age range to duration with term deposit')"
      ]
     },
     "execution_count": 13,
     "metadata": {},
     "output_type": "execute_result"
    },
    {
     "data": {
      "image/png": "[encoded data removed]",
      "text/plain": [
       "<Figure size 720x720 with 1 Axes>"
      ]
     },
     "metadata": {
      "needs_background": "light"
     },
     "output_type": "display_data"
    }
   ],
   "source": [
    "subset1=train_csv.loc[:, [\"duration\", \"subscribed\"]]\n",
    "subset1[\"age_group_range\"] = list_range_age\n",
    "\n",
    "plt.figure(figsize=(10,10))\n",
    "sns.boxplot(data=subset1, x=\"age_group_range\", y=\"duration\", hue=\"subscribed\")\n",
    "plt.title(\"graph age range to duration with term deposit\")\n"
   ]
  },
  {
   "cell_type": "markdown",
   "id": "d012cba6",
   "metadata": {},
   "source": [
    "The graph above shows the trend between the \"age range\" and the \"last contact duration\" with \"subscribed\"\n",
    "we can observe that the status no counts in average is the same throught the age range but the staus yes vary throught the age range. group 5 and group 1 were have less \"last contact duration\". Maybe we need to target these \"age rages\" as well to improve the yes. \n"
   ]
  },
  {
   "cell_type": "code",
   "execution_count": 17,
   "id": "00009d81",
   "metadata": {
    "scrolled": false
   },
   "outputs": [
    {
     "data": {
      "text/plain": [
       "Text(0.5, 1.0, 'graph educationto duration with term deposit')"
      ]
     },
     "execution_count": 17,
     "metadata": {},
     "output_type": "execute_result"
    },
    {
     "data": {
      "image/png": "[encoded data removed]",
      "text/plain": [
       "<Figure size 720x720 with 1 Axes>"
      ]
     },
     "metadata": {
      "needs_background": "light"
     },
     "output_type": "display_data"
    }
   ],
   "source": [
    "subset2=train_csv.loc[:, [\"duration\", \"subscribed\", \"education\"]]\n",
    "\n",
    "plt.figure(figsize=(10,10))\n",
    "sns.boxplot(data=subset2, x=\"education\", y=\"duration\", hue=\"subscribed\")\n",
    "plt.title(\"graph educationto duration with term deposit\")"
   ]
  },
  {
   "cell_type": "markdown",
   "id": "ff6d50c4",
   "metadata": {},
   "source": [
    "The graph above shows the trend between the \"education\" and the \"last contact duration\" with \"subscribed\"\n",
    "we can observe that the status no counts in average is the same throught the education qualification range but the staus yes vary throught the age range. The \"tertiary\" and \"unknown\" have less \"last contact duration\". Maybe we need to target these \"range of qualification to improve the yes "
   ]
  },
  {
   "cell_type": "code",
   "execution_count": 18,
   "id": "78e52913",
   "metadata": {},
   "outputs": [
    {
     "data": {
      "text/plain": [
       "Text(0.5, 1.0, 'graph marital to duration with term deposit')"
      ]
     },
     "execution_count": 18,
     "metadata": {},
     "output_type": "execute_result"
    },
    {
     "data": {
      "image/png": "[encoded data removed]",
      "text/plain": [
       "<Figure size 720x720 with 1 Axes>"
      ]
     },
     "metadata": {
      "needs_background": "light"
     },
     "output_type": "display_data"
    }
   ],
   "source": [
    "subset2=train_csv.loc[:, [\"duration\", \"subscribed\", \"marital\"]]\n",
    "\n",
    "plt.figure(figsize=(10,10))\n",
    "sns.boxplot(data=subset2, x=\"marital\", y=\"duration\", hue=\"subscribed\")\n",
    "plt.title(\"graph marital to duration with term deposit\")"
   ]
  },
  {
   "cell_type": "markdown",
   "id": "eff925e5",
   "metadata": {},
   "source": [
    "The graph above shows the trend between the \"marital status\" and the \"last contact duration\" with \"subscribed\"\n",
    "we can observe that the status no counts in average is the same throught the education qualification range moreover, there is a high positive reponse with \"divoced marital\" while single and maried are the same in average"
   ]
  },
  {
   "cell_type": "code",
   "execution_count": 19,
   "id": "c4db059e",
   "metadata": {},
   "outputs": [
    {
     "data": {
      "text/plain": [
       "Text(0.5, 1.0, 'graph campaign to duration with term deposit')"
      ]
     },
     "execution_count": 19,
     "metadata": {},
     "output_type": "execute_result"
    },
    {
     "data": {
      "image/png": "[encoded data removed]",
      "text/plain": [
       "<Figure size 720x720 with 1 Axes>"
      ]
     },
     "metadata": {
      "needs_background": "light"
     },
     "output_type": "display_data"
    }
   ],
   "source": [
    "subset2=train_csv.loc[:, [\"duration\", \"subscribed\", \"campaign\"]]\n",
    "\n",
    "plt.figure(figsize=(10,10))\n",
    "sns.barplot(data=subset2, x=\"campaign\", y=\"duration\", hue=\"subscribed\")\n",
    "plt.title(\"graph campaign to duration with term deposit\")"
   ]
  },
  {
   "cell_type": "markdown",
   "id": "d415a2a8",
   "metadata": {},
   "source": [
    "The graph above shows the trend between the \"campaign\" and the \"last contact duration\" with \"subscribed\"\n",
    "The no status decreases linearly with the duration and vice versa the yes status increases with the campain\n",
    "we can also observe that the status yes is more important (more subscription) at the beginning to the 16th. "
   ]
  },
  {
   "cell_type": "markdown",
   "id": "180ebea2",
   "metadata": {},
   "source": [
    "## Searching for Outliers"
   ]
  },
  {
   "cell_type": "code",
   "execution_count": 20,
   "id": "26302936",
   "metadata": {
    "scrolled": true
   },
   "outputs": [
    {
     "data": {
      "text/plain": [
       "age            AxesSubplot(0.125,0.125;0.0945122x0.755)\n",
       "balance     AxesSubplot(0.238415,0.125;0.0945122x0.755)\n",
       "day         AxesSubplot(0.351829,0.125;0.0945122x0.755)\n",
       "duration    AxesSubplot(0.465244,0.125;0.0945122x0.755)\n",
       "campaign    AxesSubplot(0.578659,0.125;0.0945122x0.755)\n",
       "pdays       AxesSubplot(0.692073,0.125;0.0945122x0.755)\n",
       "previous    AxesSubplot(0.805488,0.125;0.0945122x0.755)\n",
       "dtype: object"
      ]
     },
     "execution_count": 20,
     "metadata": {},
     "output_type": "execute_result"
    },
    {
     "data": {
      "image/png": "[encoded data removed]",
      "text/plain": [
       "<Figure size 720x432 with 7 Axes>"
      ]
     },
     "metadata": {
      "needs_background": "light"
     },
     "output_type": "display_data"
    }
   ],
   "source": [
    "train_csv.plot(kind =\"box\", subplots=True, layout=(1,7), figsize=(10,6))"
   ]
  },
  {
   "cell_type": "markdown",
   "id": "b9195381",
   "metadata": {},
   "source": [
    "there are presence of outliers "
   ]
  },
  {
   "cell_type": "code",
   "execution_count": 21,
   "id": "5b80d98d",
   "metadata": {},
   "outputs": [
    {
     "data": {
      "text/plain": [
       "['age', 'balance', 'day', 'duration', 'campaign']"
      ]
     },
     "execution_count": 21,
     "metadata": {},
     "output_type": "execute_result"
    }
   ],
   "source": [
    "numerical_data[0:5]"
   ]
  },
  {
   "cell_type": "markdown",
   "id": "ab2f8f0f",
   "metadata": {},
   "source": [
    "## Removing outliers"
   ]
  },
  {
   "cell_type": "code",
   "execution_count": 14,
   "id": "0050d920",
   "metadata": {},
   "outputs": [
    {
     "data": {
      "text/plain": [
       "(array([   21,    26,   134, ..., 31598, 31622, 31646], dtype=int64),\n",
       " array([4, 1, 4, ..., 4, 0, 3], dtype=int64))"
      ]
     },
     "execution_count": 14,
     "metadata": {},
     "output_type": "execute_result"
    }
   ],
   "source": [
    "# from scipy.stats import zscore\n",
    "from scipy.stats import zscore\n",
    "\n",
    "outliers_features = train_csv[['age', 'balance','day','duration','campaign']]\n",
    "z = np.abs(zscore(outliers_features))\n",
    "# threshold = 3\n",
    "np.where(z>3)"
   ]
  },
  {
   "cell_type": "code",
   "execution_count": 15,
   "id": "757b9969",
   "metadata": {},
   "outputs": [
    {
     "name": "stdout",
     "output_type": "stream",
     "text": [
      "(29621, 17)\n",
      "(31647, 17)\n"
     ]
    }
   ],
   "source": [
    "df= train_csv[(z<3).all(axis=1)]\n",
    "b = df.shape\n",
    "a = train_csv.shape\n",
    "print(df.shape)\n",
    "print( train_csv.shape)"
   ]
  },
  {
   "cell_type": "code",
   "execution_count": 16,
   "id": "c288880b",
   "metadata": {},
   "outputs": [
    {
     "name": "stdout",
     "output_type": "stream",
     "text": [
      "(31647, 17) (29621, 17)\n",
      "Data Loss Percentage 6.401870635447278\n"
     ]
    }
   ],
   "source": [
    "a = train_csv.shape\n",
    "b = df.shape\n",
    "print(a, b)\n",
    "print(\"Data Loss Percentage\", (((a[0]-b[0])/a[0])*100))"
   ]
  },
  {
   "cell_type": "markdown",
   "id": "37786cff",
   "metadata": {},
   "source": [
    "data loss is less that 10% (as general rule of thumb) therefore it's acceptable the method used. other we would use another method to calculate the data loss"
   ]
  },
  {
   "cell_type": "code",
   "execution_count": 17,
   "id": "1d0903db",
   "metadata": {},
   "outputs": [
    {
     "data": {
      "text/plain": [
       "age          0.450185\n",
       "balance      2.445199\n",
       "day          0.101497\n",
       "duration     1.589653\n",
       "campaign     2.060107\n",
       "pdays        2.611234\n",
       "previous    50.241086\n",
       "dtype: float64"
      ]
     },
     "execution_count": 17,
     "metadata": {},
     "output_type": "execute_result"
    }
   ],
   "source": [
    "df.skew()"
   ]
  },
  {
   "cell_type": "code",
   "execution_count": 18,
   "id": "b8bffd77",
   "metadata": {},
   "outputs": [],
   "source": [
    "for i in df.columns:\n",
    "    if df[i].dtype != object:\n",
    "        df[i] = df[i].apply(np.cbrt)\n"
   ]
  },
  {
   "cell_type": "code",
   "execution_count": 19,
   "id": "e40ff458",
   "metadata": {},
   "outputs": [
    {
     "data": {
      "text/plain": [
       "age         0.154016\n",
       "balance    -0.442356\n",
       "day        -0.571509\n",
       "duration    0.288201\n",
       "campaign    0.996886\n",
       "pdays       1.758595\n",
       "previous    2.059604\n",
       "dtype: float64"
      ]
     },
     "execution_count": 19,
     "metadata": {},
     "output_type": "execute_result"
    }
   ],
   "source": [
    "df.skew()"
   ]
  },
  {
   "cell_type": "markdown",
   "id": "74a278d4",
   "metadata": {},
   "source": [
    "skewness reduced"
   ]
  },
  {
   "cell_type": "markdown",
   "id": "4d160db9",
   "metadata": {},
   "source": [
    "## ENCODING CATEGORICAL DATA"
   ]
  },
  {
   "cell_type": "code",
   "execution_count": 20,
   "id": "c7a7b921",
   "metadata": {
    "scrolled": true
   },
   "outputs": [
    {
     "data": {
      "text/html": [
       "<div>\n",
       "<style scoped>\n",
       "    .dataframe tbody tr th:only-of-type {\n",
       "        vertical-align: middle;\n",
       "    }\n",
       "\n",
       "    .dataframe tbody tr th {\n",
       "        vertical-align: top;\n",
       "    }\n",
       "\n",
       "    .dataframe thead th {\n",
       "        text-align: right;\n",
       "    }\n",
       "</style>\n",
       "<table border=\"1\" class=\"dataframe\">\n",
       "  <thead>\n",
       "    <tr style=\"text-align: right;\">\n",
       "      <th></th>\n",
       "      <th>age</th>\n",
       "      <th>job</th>\n",
       "      <th>marital</th>\n",
       "      <th>education</th>\n",
       "      <th>default</th>\n",
       "      <th>balance</th>\n",
       "      <th>housing</th>\n",
       "      <th>loan</th>\n",
       "      <th>contact</th>\n",
       "      <th>day</th>\n",
       "      <th>month</th>\n",
       "      <th>duration</th>\n",
       "      <th>campaign</th>\n",
       "      <th>pdays</th>\n",
       "      <th>previous</th>\n",
       "      <th>poutcome</th>\n",
       "      <th>subscribed</th>\n",
       "    </tr>\n",
       "    <tr>\n",
       "      <th>ID</th>\n",
       "      <th></th>\n",
       "      <th></th>\n",
       "      <th></th>\n",
       "      <th></th>\n",
       "      <th></th>\n",
       "      <th></th>\n",
       "      <th></th>\n",
       "      <th></th>\n",
       "      <th></th>\n",
       "      <th></th>\n",
       "      <th></th>\n",
       "      <th></th>\n",
       "      <th></th>\n",
       "      <th></th>\n",
       "      <th></th>\n",
       "      <th></th>\n",
       "      <th></th>\n",
       "    </tr>\n",
       "  </thead>\n",
       "  <tbody>\n",
       "    <tr>\n",
       "      <th>26110</th>\n",
       "      <td>3.825862</td>\n",
       "      <td>0.0</td>\n",
       "      <td>1.0</td>\n",
       "      <td>3.0</td>\n",
       "      <td>0.0</td>\n",
       "      <td>12.456918</td>\n",
       "      <td>0.0</td>\n",
       "      <td>0.0</td>\n",
       "      <td>1.0</td>\n",
       "      <td>2.668402</td>\n",
       "      <td>9.0</td>\n",
       "      <td>3.530348</td>\n",
       "      <td>1.259921</td>\n",
       "      <td>-1.000000</td>\n",
       "      <td>0.00000</td>\n",
       "      <td>3.0</td>\n",
       "      <td>0.0</td>\n",
       "    </tr>\n",
       "    <tr>\n",
       "      <th>40576</th>\n",
       "      <td>3.141381</td>\n",
       "      <td>11.0</td>\n",
       "      <td>1.0</td>\n",
       "      <td>1.0</td>\n",
       "      <td>0.0</td>\n",
       "      <td>1.442250</td>\n",
       "      <td>0.0</td>\n",
       "      <td>0.0</td>\n",
       "      <td>0.0</td>\n",
       "      <td>2.714418</td>\n",
       "      <td>5.0</td>\n",
       "      <td>4.497941</td>\n",
       "      <td>1.259921</td>\n",
       "      <td>-1.000000</td>\n",
       "      <td>0.00000</td>\n",
       "      <td>3.0</td>\n",
       "      <td>0.0</td>\n",
       "    </tr>\n",
       "    <tr>\n",
       "      <th>15320</th>\n",
       "      <td>3.000000</td>\n",
       "      <td>7.0</td>\n",
       "      <td>1.0</td>\n",
       "      <td>1.0</td>\n",
       "      <td>0.0</td>\n",
       "      <td>9.622603</td>\n",
       "      <td>1.0</td>\n",
       "      <td>0.0</td>\n",
       "      <td>0.0</td>\n",
       "      <td>2.620741</td>\n",
       "      <td>5.0</td>\n",
       "      <td>6.214465</td>\n",
       "      <td>1.000000</td>\n",
       "      <td>-1.000000</td>\n",
       "      <td>0.00000</td>\n",
       "      <td>3.0</td>\n",
       "      <td>0.0</td>\n",
       "    </tr>\n",
       "    <tr>\n",
       "      <th>43962</th>\n",
       "      <td>3.848501</td>\n",
       "      <td>4.0</td>\n",
       "      <td>0.0</td>\n",
       "      <td>2.0</td>\n",
       "      <td>0.0</td>\n",
       "      <td>14.868480</td>\n",
       "      <td>0.0</td>\n",
       "      <td>0.0</td>\n",
       "      <td>0.0</td>\n",
       "      <td>2.802039</td>\n",
       "      <td>6.0</td>\n",
       "      <td>9.535417</td>\n",
       "      <td>1.000000</td>\n",
       "      <td>4.379519</td>\n",
       "      <td>1.44225</td>\n",
       "      <td>2.0</td>\n",
       "      <td>1.0</td>\n",
       "    </tr>\n",
       "    <tr>\n",
       "      <th>29842</th>\n",
       "      <td>3.141381</td>\n",
       "      <td>9.0</td>\n",
       "      <td>1.0</td>\n",
       "      <td>1.0</td>\n",
       "      <td>0.0</td>\n",
       "      <td>4.918685</td>\n",
       "      <td>1.0</td>\n",
       "      <td>0.0</td>\n",
       "      <td>0.0</td>\n",
       "      <td>1.587401</td>\n",
       "      <td>3.0</td>\n",
       "      <td>7.243156</td>\n",
       "      <td>1.000000</td>\n",
       "      <td>-1.000000</td>\n",
       "      <td>0.00000</td>\n",
       "      <td>3.0</td>\n",
       "      <td>0.0</td>\n",
       "    </tr>\n",
       "  </tbody>\n",
       "</table>\n",
       "</div>"
      ],
      "text/plain": [
       "            age   job  marital  education  default    balance  housing  loan  \\\n",
       "ID                                                                             \n",
       "26110  3.825862   0.0      1.0        3.0      0.0  12.456918      0.0   0.0   \n",
       "40576  3.141381  11.0      1.0        1.0      0.0   1.442250      0.0   0.0   \n",
       "15320  3.000000   7.0      1.0        1.0      0.0   9.622603      1.0   0.0   \n",
       "43962  3.848501   4.0      0.0        2.0      0.0  14.868480      0.0   0.0   \n",
       "29842  3.141381   9.0      1.0        1.0      0.0   4.918685      1.0   0.0   \n",
       "\n",
       "       contact       day  month  duration  campaign     pdays  previous  \\\n",
       "ID                                                                        \n",
       "26110      1.0  2.668402    9.0  3.530348  1.259921 -1.000000   0.00000   \n",
       "40576      0.0  2.714418    5.0  4.497941  1.259921 -1.000000   0.00000   \n",
       "15320      0.0  2.620741    5.0  6.214465  1.000000 -1.000000   0.00000   \n",
       "43962      0.0  2.802039    6.0  9.535417  1.000000  4.379519   1.44225   \n",
       "29842      0.0  1.587401    3.0  7.243156  1.000000 -1.000000   0.00000   \n",
       "\n",
       "       poutcome  subscribed  \n",
       "ID                           \n",
       "26110       3.0         0.0  \n",
       "40576       3.0         0.0  \n",
       "15320       3.0         0.0  \n",
       "43962       2.0         1.0  \n",
       "29842       3.0         0.0  "
      ]
     },
     "execution_count": 20,
     "metadata": {},
     "output_type": "execute_result"
    }
   ],
   "source": [
    "# Encoding categorical data using OrdinalEncoder\n",
    "from sklearn.preprocessing import OrdinalEncoder\n",
    "OE = OrdinalEncoder()\n",
    "\n",
    "for i in df.columns:\n",
    "    if df[i].dtypes == \"object\":\n",
    "        df[i] = OE.fit_transform(df[i].values.reshape(-1,1))\n",
    "\n",
    "df.head()"
   ]
  },
  {
   "cell_type": "code",
   "execution_count": null,
   "id": "2764aaf9",
   "metadata": {},
   "outputs": [],
   "source": []
  },
  {
   "cell_type": "code",
   "execution_count": 21,
   "id": "e6105a28",
   "metadata": {
    "scrolled": true
   },
   "outputs": [
    {
     "data": {
      "text/html": [
       "<div>\n",
       "<style scoped>\n",
       "    .dataframe tbody tr th:only-of-type {\n",
       "        vertical-align: middle;\n",
       "    }\n",
       "\n",
       "    .dataframe tbody tr th {\n",
       "        vertical-align: top;\n",
       "    }\n",
       "\n",
       "    .dataframe thead th {\n",
       "        text-align: right;\n",
       "    }\n",
       "</style>\n",
       "<table border=\"1\" class=\"dataframe\">\n",
       "  <thead>\n",
       "    <tr style=\"text-align: right;\">\n",
       "      <th></th>\n",
       "      <th>age</th>\n",
       "      <th>job</th>\n",
       "      <th>marital</th>\n",
       "      <th>education</th>\n",
       "      <th>default</th>\n",
       "      <th>balance</th>\n",
       "      <th>housing</th>\n",
       "      <th>loan</th>\n",
       "      <th>contact</th>\n",
       "      <th>day</th>\n",
       "      <th>month</th>\n",
       "      <th>duration</th>\n",
       "      <th>campaign</th>\n",
       "      <th>pdays</th>\n",
       "      <th>previous</th>\n",
       "      <th>poutcome</th>\n",
       "      <th>subscribed</th>\n",
       "    </tr>\n",
       "    <tr>\n",
       "      <th>ID</th>\n",
       "      <th></th>\n",
       "      <th></th>\n",
       "      <th></th>\n",
       "      <th></th>\n",
       "      <th></th>\n",
       "      <th></th>\n",
       "      <th></th>\n",
       "      <th></th>\n",
       "      <th></th>\n",
       "      <th></th>\n",
       "      <th></th>\n",
       "      <th></th>\n",
       "      <th></th>\n",
       "      <th></th>\n",
       "      <th></th>\n",
       "      <th></th>\n",
       "      <th></th>\n",
       "    </tr>\n",
       "  </thead>\n",
       "  <tbody>\n",
       "    <tr>\n",
       "      <th>26110</th>\n",
       "      <td>3.825862</td>\n",
       "      <td>0</td>\n",
       "      <td>1</td>\n",
       "      <td>3</td>\n",
       "      <td>0.0</td>\n",
       "      <td>12.456918</td>\n",
       "      <td>0</td>\n",
       "      <td>0</td>\n",
       "      <td>1</td>\n",
       "      <td>2.668402</td>\n",
       "      <td>9</td>\n",
       "      <td>3.530348</td>\n",
       "      <td>1.259921</td>\n",
       "      <td>-1.000000</td>\n",
       "      <td>0.00000</td>\n",
       "      <td>3</td>\n",
       "      <td>0</td>\n",
       "    </tr>\n",
       "    <tr>\n",
       "      <th>40576</th>\n",
       "      <td>3.141381</td>\n",
       "      <td>11</td>\n",
       "      <td>1</td>\n",
       "      <td>1</td>\n",
       "      <td>0.0</td>\n",
       "      <td>1.442250</td>\n",
       "      <td>0</td>\n",
       "      <td>0</td>\n",
       "      <td>0</td>\n",
       "      <td>2.714418</td>\n",
       "      <td>5</td>\n",
       "      <td>4.497941</td>\n",
       "      <td>1.259921</td>\n",
       "      <td>-1.000000</td>\n",
       "      <td>0.00000</td>\n",
       "      <td>3</td>\n",
       "      <td>0</td>\n",
       "    </tr>\n",
       "    <tr>\n",
       "      <th>15320</th>\n",
       "      <td>3.000000</td>\n",
       "      <td>7</td>\n",
       "      <td>1</td>\n",
       "      <td>1</td>\n",
       "      <td>0.0</td>\n",
       "      <td>9.622603</td>\n",
       "      <td>1</td>\n",
       "      <td>0</td>\n",
       "      <td>0</td>\n",
       "      <td>2.620741</td>\n",
       "      <td>5</td>\n",
       "      <td>6.214465</td>\n",
       "      <td>1.000000</td>\n",
       "      <td>-1.000000</td>\n",
       "      <td>0.00000</td>\n",
       "      <td>3</td>\n",
       "      <td>0</td>\n",
       "    </tr>\n",
       "    <tr>\n",
       "      <th>43962</th>\n",
       "      <td>3.848501</td>\n",
       "      <td>4</td>\n",
       "      <td>0</td>\n",
       "      <td>2</td>\n",
       "      <td>0.0</td>\n",
       "      <td>14.868480</td>\n",
       "      <td>0</td>\n",
       "      <td>0</td>\n",
       "      <td>0</td>\n",
       "      <td>2.802039</td>\n",
       "      <td>6</td>\n",
       "      <td>9.535417</td>\n",
       "      <td>1.000000</td>\n",
       "      <td>4.379519</td>\n",
       "      <td>1.44225</td>\n",
       "      <td>2</td>\n",
       "      <td>1</td>\n",
       "    </tr>\n",
       "    <tr>\n",
       "      <th>29842</th>\n",
       "      <td>3.141381</td>\n",
       "      <td>9</td>\n",
       "      <td>1</td>\n",
       "      <td>1</td>\n",
       "      <td>0.0</td>\n",
       "      <td>4.918685</td>\n",
       "      <td>1</td>\n",
       "      <td>0</td>\n",
       "      <td>0</td>\n",
       "      <td>1.587401</td>\n",
       "      <td>3</td>\n",
       "      <td>7.243156</td>\n",
       "      <td>1.000000</td>\n",
       "      <td>-1.000000</td>\n",
       "      <td>0.00000</td>\n",
       "      <td>3</td>\n",
       "      <td>0</td>\n",
       "    </tr>\n",
       "  </tbody>\n",
       "</table>\n",
       "</div>"
      ],
      "text/plain": [
       "            age  job  marital  education  default    balance  housing  loan  \\\n",
       "ID                                                                            \n",
       "26110  3.825862    0        1          3      0.0  12.456918        0     0   \n",
       "40576  3.141381   11        1          1      0.0   1.442250        0     0   \n",
       "15320  3.000000    7        1          1      0.0   9.622603        1     0   \n",
       "43962  3.848501    4        0          2      0.0  14.868480        0     0   \n",
       "29842  3.141381    9        1          1      0.0   4.918685        1     0   \n",
       "\n",
       "       contact       day  month  duration  campaign     pdays  previous  \\\n",
       "ID                                                                        \n",
       "26110        1  2.668402      9  3.530348  1.259921 -1.000000   0.00000   \n",
       "40576        0  2.714418      5  4.497941  1.259921 -1.000000   0.00000   \n",
       "15320        0  2.620741      5  6.214465  1.000000 -1.000000   0.00000   \n",
       "43962        0  2.802039      6  9.535417  1.000000  4.379519   1.44225   \n",
       "29842        0  1.587401      3  7.243156  1.000000 -1.000000   0.00000   \n",
       "\n",
       "       poutcome  subscribed  \n",
       "ID                           \n",
       "26110         3           0  \n",
       "40576         3           0  \n",
       "15320         3           0  \n",
       "43962         2           1  \n",
       "29842         3           0  "
      ]
     },
     "execution_count": 21,
     "metadata": {},
     "output_type": "execute_result"
    }
   ],
   "source": [
    "categorical_data = ['job', 'marital', 'education', 'housing', 'loan', 'contact', 'month', 'poutcome', 'subscribed']\n",
    "df[categorical_data] = df[categorical_data].astype(int)\n",
    "df.head()\n"
   ]
  },
  {
   "cell_type": "markdown",
   "id": "12399230",
   "metadata": {},
   "source": [
    "## Splitting the data in indipendent values and dependent value"
   ]
  },
  {
   "cell_type": "code",
   "execution_count": 22,
   "id": "a92d1879",
   "metadata": {},
   "outputs": [
    {
     "name": "stdout",
     "output_type": "stream",
     "text": [
      "x.shape:  (29621, 16)\n",
      "y.shape:  (29621, 1)\n"
     ]
    }
   ],
   "source": [
    "x = df.iloc[:, 0:16]\n",
    "y = df.iloc[:, 16:17]\n",
    "# dimension of the features and target\n",
    "print(\"x.shape: \", x.shape)\n",
    "print(\"y.shape: \", y.shape)"
   ]
  },
  {
   "cell_type": "markdown",
   "id": "80fe7b3b",
   "metadata": {},
   "source": [
    "we have the same number of datapoints"
   ]
  },
  {
   "cell_type": "markdown",
   "id": "35cd6f1d",
   "metadata": {},
   "source": [
    "## Normalization of the features - Standard Scalarization"
   ]
  },
  {
   "cell_type": "code",
   "execution_count": 23,
   "id": "0ac1e2b8",
   "metadata": {
    "scrolled": true
   },
   "outputs": [
    {
     "data": {
      "text/html": [
       "<div>\n",
       "<style scoped>\n",
       "    .dataframe tbody tr th:only-of-type {\n",
       "        vertical-align: middle;\n",
       "    }\n",
       "\n",
       "    .dataframe tbody tr th {\n",
       "        vertical-align: top;\n",
       "    }\n",
       "\n",
       "    .dataframe thead th {\n",
       "        text-align: right;\n",
       "    }\n",
       "</style>\n",
       "<table border=\"1\" class=\"dataframe\">\n",
       "  <thead>\n",
       "    <tr style=\"text-align: right;\">\n",
       "      <th></th>\n",
       "      <th>age</th>\n",
       "      <th>job</th>\n",
       "      <th>marital</th>\n",
       "      <th>education</th>\n",
       "      <th>default</th>\n",
       "      <th>balance</th>\n",
       "      <th>housing</th>\n",
       "      <th>loan</th>\n",
       "      <th>contact</th>\n",
       "      <th>day</th>\n",
       "      <th>month</th>\n",
       "      <th>duration</th>\n",
       "      <th>campaign</th>\n",
       "      <th>pdays</th>\n",
       "      <th>previous</th>\n",
       "      <th>poutcome</th>\n",
       "    </tr>\n",
       "  </thead>\n",
       "  <tbody>\n",
       "    <tr>\n",
       "      <th>0</th>\n",
       "      <td>1.464842</td>\n",
       "      <td>-1.312029</td>\n",
       "      <td>-0.280275</td>\n",
       "      <td>2.389226</td>\n",
       "      <td>-0.138689</td>\n",
       "      <td>0.861513</td>\n",
       "      <td>-1.134297</td>\n",
       "      <td>-0.444557</td>\n",
       "      <td>0.395185</td>\n",
       "      <td>0.515280</td>\n",
       "      <td>1.152417</td>\n",
       "      <td>-1.426962</td>\n",
       "      <td>-0.063030</td>\n",
       "      <td>-0.465147</td>\n",
       "      <td>-0.452524</td>\n",
       "      <td>0.445814</td>\n",
       "    </tr>\n",
       "    <tr>\n",
       "      <th>1</th>\n",
       "      <td>-0.964618</td>\n",
       "      <td>2.028204</td>\n",
       "      <td>-0.280275</td>\n",
       "      <td>-0.296845</td>\n",
       "      <td>-0.138689</td>\n",
       "      <td>-0.918005</td>\n",
       "      <td>-1.134297</td>\n",
       "      <td>-0.444557</td>\n",
       "      <td>-0.713631</td>\n",
       "      <td>0.605615</td>\n",
       "      <td>-0.183515</td>\n",
       "      <td>-0.809859</td>\n",
       "      <td>-0.063030</td>\n",
       "      <td>-0.465147</td>\n",
       "      <td>-0.452524</td>\n",
       "      <td>0.445814</td>\n",
       "    </tr>\n",
       "    <tr>\n",
       "      <th>2</th>\n",
       "      <td>-1.466427</td>\n",
       "      <td>0.813574</td>\n",
       "      <td>-0.280275</td>\n",
       "      <td>-0.296845</td>\n",
       "      <td>-0.138689</td>\n",
       "      <td>0.403604</td>\n",
       "      <td>0.881603</td>\n",
       "      <td>-0.444557</td>\n",
       "      <td>-0.713631</td>\n",
       "      <td>0.421718</td>\n",
       "      <td>-0.183515</td>\n",
       "      <td>0.284890</td>\n",
       "      <td>-0.945358</td>\n",
       "      <td>-0.465147</td>\n",
       "      <td>-0.452524</td>\n",
       "      <td>0.445814</td>\n",
       "    </tr>\n",
       "    <tr>\n",
       "      <th>3</th>\n",
       "      <td>1.545194</td>\n",
       "      <td>-0.097399</td>\n",
       "      <td>-1.925219</td>\n",
       "      <td>1.046190</td>\n",
       "      <td>-0.138689</td>\n",
       "      <td>1.251122</td>\n",
       "      <td>-1.134297</td>\n",
       "      <td>-0.444557</td>\n",
       "      <td>-0.713631</td>\n",
       "      <td>0.777627</td>\n",
       "      <td>0.150468</td>\n",
       "      <td>2.402897</td>\n",
       "      <td>-0.945358</td>\n",
       "      <td>1.524807</td>\n",
       "      <td>2.175722</td>\n",
       "      <td>-0.563469</td>\n",
       "    </tr>\n",
       "    <tr>\n",
       "      <th>4</th>\n",
       "      <td>-0.964618</td>\n",
       "      <td>1.420889</td>\n",
       "      <td>-0.280275</td>\n",
       "      <td>-0.296845</td>\n",
       "      <td>-0.138689</td>\n",
       "      <td>-0.356356</td>\n",
       "      <td>0.881603</td>\n",
       "      <td>-0.444557</td>\n",
       "      <td>-0.713631</td>\n",
       "      <td>-1.606855</td>\n",
       "      <td>-0.851482</td>\n",
       "      <td>0.940960</td>\n",
       "      <td>-0.945358</td>\n",
       "      <td>-0.465147</td>\n",
       "      <td>-0.452524</td>\n",
       "      <td>0.445814</td>\n",
       "    </tr>\n",
       "    <tr>\n",
       "      <th>...</th>\n",
       "      <td>...</td>\n",
       "      <td>...</td>\n",
       "      <td>...</td>\n",
       "      <td>...</td>\n",
       "      <td>...</td>\n",
       "      <td>...</td>\n",
       "      <td>...</td>\n",
       "      <td>...</td>\n",
       "      <td>...</td>\n",
       "      <td>...</td>\n",
       "      <td>...</td>\n",
       "      <td>...</td>\n",
       "      <td>...</td>\n",
       "      <td>...</td>\n",
       "      <td>...</td>\n",
       "      <td>...</td>\n",
       "    </tr>\n",
       "    <tr>\n",
       "      <th>29616</th>\n",
       "      <td>-0.287258</td>\n",
       "      <td>1.420889</td>\n",
       "      <td>1.364669</td>\n",
       "      <td>1.046190</td>\n",
       "      <td>-0.138689</td>\n",
       "      <td>0.616289</td>\n",
       "      <td>-1.134297</td>\n",
       "      <td>-0.444557</td>\n",
       "      <td>1.504000</td>\n",
       "      <td>-1.155888</td>\n",
       "      <td>0.150468</td>\n",
       "      <td>1.179649</td>\n",
       "      <td>-0.063030</td>\n",
       "      <td>-0.465147</td>\n",
       "      <td>-0.452524</td>\n",
       "      <td>0.445814</td>\n",
       "    </tr>\n",
       "    <tr>\n",
       "      <th>29617</th>\n",
       "      <td>-1.209749</td>\n",
       "      <td>-0.097399</td>\n",
       "      <td>1.364669</td>\n",
       "      <td>1.046190</td>\n",
       "      <td>-0.138689</td>\n",
       "      <td>-1.151013</td>\n",
       "      <td>0.881603</td>\n",
       "      <td>-0.444557</td>\n",
       "      <td>-0.713631</td>\n",
       "      <td>-0.228690</td>\n",
       "      <td>0.818434</td>\n",
       "      <td>-0.568107</td>\n",
       "      <td>-0.063030</td>\n",
       "      <td>-0.465147</td>\n",
       "      <td>-0.452524</td>\n",
       "      <td>0.445814</td>\n",
       "    </tr>\n",
       "    <tr>\n",
       "      <th>29618</th>\n",
       "      <td>1.217890</td>\n",
       "      <td>-0.097399</td>\n",
       "      <td>-1.925219</td>\n",
       "      <td>1.046190</td>\n",
       "      <td>-0.138689</td>\n",
       "      <td>0.019183</td>\n",
       "      <td>-1.134297</td>\n",
       "      <td>2.249432</td>\n",
       "      <td>-0.713631</td>\n",
       "      <td>-1.366226</td>\n",
       "      <td>0.150468</td>\n",
       "      <td>1.164949</td>\n",
       "      <td>-0.063030</td>\n",
       "      <td>-0.465147</td>\n",
       "      <td>-0.452524</td>\n",
       "      <td>0.445814</td>\n",
       "    </tr>\n",
       "    <tr>\n",
       "      <th>29619</th>\n",
       "      <td>-0.845994</td>\n",
       "      <td>-0.097399</td>\n",
       "      <td>1.364669</td>\n",
       "      <td>1.046190</td>\n",
       "      <td>-0.138689</td>\n",
       "      <td>-0.055253</td>\n",
       "      <td>-1.134297</td>\n",
       "      <td>-0.444557</td>\n",
       "      <td>-0.713631</td>\n",
       "      <td>-0.967800</td>\n",
       "      <td>-1.519448</td>\n",
       "      <td>-1.553321</td>\n",
       "      <td>0.555902</td>\n",
       "      <td>-0.465147</td>\n",
       "      <td>-0.452524</td>\n",
       "      <td>0.445814</td>\n",
       "    </tr>\n",
       "    <tr>\n",
       "      <th>29620</th>\n",
       "      <td>1.545194</td>\n",
       "      <td>1.420889</td>\n",
       "      <td>-0.280275</td>\n",
       "      <td>-0.296845</td>\n",
       "      <td>-0.138689</td>\n",
       "      <td>-0.168380</td>\n",
       "      <td>0.881603</td>\n",
       "      <td>-0.444557</td>\n",
       "      <td>0.395185</td>\n",
       "      <td>0.118358</td>\n",
       "      <td>0.818434</td>\n",
       "      <td>-1.891456</td>\n",
       "      <td>2.153678</td>\n",
       "      <td>2.478970</td>\n",
       "      <td>3.719556</td>\n",
       "      <td>-2.582035</td>\n",
       "    </tr>\n",
       "  </tbody>\n",
       "</table>\n",
       "<p>29621 rows × 16 columns</p>\n",
       "</div>"
      ],
      "text/plain": [
       "            age       job   marital  education   default   balance   housing  \\\n",
       "0      1.464842 -1.312029 -0.280275   2.389226 -0.138689  0.861513 -1.134297   \n",
       "1     -0.964618  2.028204 -0.280275  -0.296845 -0.138689 -0.918005 -1.134297   \n",
       "2     -1.466427  0.813574 -0.280275  -0.296845 -0.138689  0.403604  0.881603   \n",
       "3      1.545194 -0.097399 -1.925219   1.046190 -0.138689  1.251122 -1.134297   \n",
       "4     -0.964618  1.420889 -0.280275  -0.296845 -0.138689 -0.356356  0.881603   \n",
       "...         ...       ...       ...        ...       ...       ...       ...   \n",
       "29616 -0.287258  1.420889  1.364669   1.046190 -0.138689  0.616289 -1.134297   \n",
       "29617 -1.209749 -0.097399  1.364669   1.046190 -0.138689 -1.151013  0.881603   \n",
       "29618  1.217890 -0.097399 -1.925219   1.046190 -0.138689  0.019183 -1.134297   \n",
       "29619 -0.845994 -0.097399  1.364669   1.046190 -0.138689 -0.055253 -1.134297   \n",
       "29620  1.545194  1.420889 -0.280275  -0.296845 -0.138689 -0.168380  0.881603   \n",
       "\n",
       "           loan   contact       day     month  duration  campaign     pdays  \\\n",
       "0     -0.444557  0.395185  0.515280  1.152417 -1.426962 -0.063030 -0.465147   \n",
       "1     -0.444557 -0.713631  0.605615 -0.183515 -0.809859 -0.063030 -0.465147   \n",
       "2     -0.444557 -0.713631  0.421718 -0.183515  0.284890 -0.945358 -0.465147   \n",
       "3     -0.444557 -0.713631  0.777627  0.150468  2.402897 -0.945358  1.524807   \n",
       "4     -0.444557 -0.713631 -1.606855 -0.851482  0.940960 -0.945358 -0.465147   \n",
       "...         ...       ...       ...       ...       ...       ...       ...   \n",
       "29616 -0.444557  1.504000 -1.155888  0.150468  1.179649 -0.063030 -0.465147   \n",
       "29617 -0.444557 -0.713631 -0.228690  0.818434 -0.568107 -0.063030 -0.465147   \n",
       "29618  2.249432 -0.713631 -1.366226  0.150468  1.164949 -0.063030 -0.465147   \n",
       "29619 -0.444557 -0.713631 -0.967800 -1.519448 -1.553321  0.555902 -0.465147   \n",
       "29620 -0.444557  0.395185  0.118358  0.818434 -1.891456  2.153678  2.478970   \n",
       "\n",
       "       previous  poutcome  \n",
       "0     -0.452524  0.445814  \n",
       "1     -0.452524  0.445814  \n",
       "2     -0.452524  0.445814  \n",
       "3      2.175722 -0.563469  \n",
       "4     -0.452524  0.445814  \n",
       "...         ...       ...  \n",
       "29616 -0.452524  0.445814  \n",
       "29617 -0.452524  0.445814  \n",
       "29618 -0.452524  0.445814  \n",
       "29619 -0.452524  0.445814  \n",
       "29620  3.719556 -2.582035  \n",
       "\n",
       "[29621 rows x 16 columns]"
      ]
     },
     "execution_count": 23,
     "metadata": {},
     "output_type": "execute_result"
    }
   ],
   "source": [
    "from sklearn.preprocessing import StandardScaler\n",
    "scaler =  StandardScaler()\n",
    "x = pd.DataFrame(scaler.fit_transform(x), columns=x.columns)\n",
    "x"
   ]
  },
  {
   "cell_type": "code",
   "execution_count": 24,
   "id": "24285656",
   "metadata": {},
   "outputs": [
    {
     "data": {
      "text/plain": [
       "subscribed    1.000000\n",
       "duration      0.331315\n",
       "previous      0.177523\n",
       "pdays         0.160657\n",
       "balance       0.096580\n",
       "education     0.076124\n",
       "marital       0.054885\n",
       "job           0.038579\n",
       "age          -0.013859\n",
       "default      -0.016067\n",
       "month        -0.028001\n",
       "day          -0.033928\n",
       "loan         -0.075210\n",
       "campaign     -0.083512\n",
       "poutcome     -0.088003\n",
       "housing      -0.146441\n",
       "contact      -0.156698\n",
       "Name: subscribed, dtype: float64"
      ]
     },
     "execution_count": 24,
     "metadata": {},
     "output_type": "execute_result"
    }
   ],
   "source": [
    "df.corr()['subscribed'].sort_values(ascending=False)\n"
   ]
  },
  {
   "cell_type": "markdown",
   "id": "2d09f342",
   "metadata": {},
   "source": [
    "## Checking for Variance Inflation Factor (VIF)"
   ]
  },
  {
   "cell_type": "code",
   "execution_count": 25,
   "id": "09b3750b",
   "metadata": {},
   "outputs": [
    {
     "data": {
      "text/html": [
       "<div>\n",
       "<style scoped>\n",
       "    .dataframe tbody tr th:only-of-type {\n",
       "        vertical-align: middle;\n",
       "    }\n",
       "\n",
       "    .dataframe tbody tr th {\n",
       "        vertical-align: top;\n",
       "    }\n",
       "\n",
       "    .dataframe thead th {\n",
       "        text-align: right;\n",
       "    }\n",
       "</style>\n",
       "<table border=\"1\" class=\"dataframe\">\n",
       "  <thead>\n",
       "    <tr style=\"text-align: right;\">\n",
       "      <th></th>\n",
       "      <th>VIF values</th>\n",
       "      <th>Features</th>\n",
       "    </tr>\n",
       "  </thead>\n",
       "  <tbody>\n",
       "    <tr>\n",
       "      <th>0</th>\n",
       "      <td>1.284290</td>\n",
       "      <td>age</td>\n",
       "    </tr>\n",
       "    <tr>\n",
       "      <th>1</th>\n",
       "      <td>1.050106</td>\n",
       "      <td>job</td>\n",
       "    </tr>\n",
       "    <tr>\n",
       "      <th>2</th>\n",
       "      <td>1.247533</td>\n",
       "      <td>marital</td>\n",
       "    </tr>\n",
       "    <tr>\n",
       "      <th>3</th>\n",
       "      <td>1.064909</td>\n",
       "      <td>education</td>\n",
       "    </tr>\n",
       "    <tr>\n",
       "      <th>4</th>\n",
       "      <td>1.049789</td>\n",
       "      <td>default</td>\n",
       "    </tr>\n",
       "    <tr>\n",
       "      <th>5</th>\n",
       "      <td>1.087290</td>\n",
       "      <td>balance</td>\n",
       "    </tr>\n",
       "    <tr>\n",
       "      <th>6</th>\n",
       "      <td>1.173987</td>\n",
       "      <td>housing</td>\n",
       "    </tr>\n",
       "    <tr>\n",
       "      <th>7</th>\n",
       "      <td>1.029384</td>\n",
       "      <td>loan</td>\n",
       "    </tr>\n",
       "    <tr>\n",
       "      <th>8</th>\n",
       "      <td>1.338874</td>\n",
       "      <td>contact</td>\n",
       "    </tr>\n",
       "    <tr>\n",
       "      <th>9</th>\n",
       "      <td>1.028996</td>\n",
       "      <td>day</td>\n",
       "    </tr>\n",
       "    <tr>\n",
       "      <th>10</th>\n",
       "      <td>1.261977</td>\n",
       "      <td>month</td>\n",
       "    </tr>\n",
       "    <tr>\n",
       "      <th>11</th>\n",
       "      <td>1.017875</td>\n",
       "      <td>duration</td>\n",
       "    </tr>\n",
       "    <tr>\n",
       "      <th>12</th>\n",
       "      <td>1.059136</td>\n",
       "      <td>campaign</td>\n",
       "    </tr>\n",
       "    <tr>\n",
       "      <th>13</th>\n",
       "      <td>14.379596</td>\n",
       "      <td>pdays</td>\n",
       "    </tr>\n",
       "    <tr>\n",
       "      <th>14</th>\n",
       "      <td>8.235225</td>\n",
       "      <td>previous</td>\n",
       "    </tr>\n",
       "    <tr>\n",
       "      <th>15</th>\n",
       "      <td>8.881444</td>\n",
       "      <td>poutcome</td>\n",
       "    </tr>\n",
       "  </tbody>\n",
       "</table>\n",
       "</div>"
      ],
      "text/plain": [
       "    VIF values   Features\n",
       "0     1.284290        age\n",
       "1     1.050106        job\n",
       "2     1.247533    marital\n",
       "3     1.064909  education\n",
       "4     1.049789    default\n",
       "5     1.087290    balance\n",
       "6     1.173987    housing\n",
       "7     1.029384       loan\n",
       "8     1.338874    contact\n",
       "9     1.028996        day\n",
       "10    1.261977      month\n",
       "11    1.017875   duration\n",
       "12    1.059136   campaign\n",
       "13   14.379596      pdays\n",
       "14    8.235225   previous\n",
       "15    8.881444   poutcome"
      ]
     },
     "execution_count": 25,
     "metadata": {},
     "output_type": "execute_result"
    }
   ],
   "source": [
    "from statsmodels.stats.outliers_influence import variance_inflation_factor\n",
    "vif =  pd.DataFrame()\n",
    "vif[\"VIF values\"] = [variance_inflation_factor(x.values,i) for i in range(len(x.columns))]\n",
    "vif[\"Features\"] = x.columns\n",
    "\n",
    "vif"
   ]
  },
  {
   "cell_type": "markdown",
   "id": "3ea3d307",
   "metadata": {},
   "source": [
    "Normally  VIF > 1 indicates some level of multicollinearity. Multicollinearity increases with the VIF. \n",
    "Common threshold values for identifying multicollinearity VIF > 10 and therefore I will drop pdays and verify the outcome of the model (pdays is 14.02)"
   ]
  },
  {
   "cell_type": "code",
   "execution_count": 26,
   "id": "73c64006",
   "metadata": {},
   "outputs": [
    {
     "data": {
      "text/plain": [
       "subscribed\n",
       "0             26501\n",
       "1              3120\n",
       "dtype: int64"
      ]
     },
     "execution_count": 26,
     "metadata": {},
     "output_type": "execute_result"
    }
   ],
   "source": [
    "y.value_counts()"
   ]
  },
  {
   "cell_type": "markdown",
   "id": "6fa6133a",
   "metadata": {},
   "source": [
    "Here we can see that the data is not balanced, since it is a classification we will balance the data using oversampling method. "
   ]
  },
  {
   "cell_type": "markdown",
   "id": "cae4f442",
   "metadata": {},
   "source": [
    "## Oversampling"
   ]
  },
  {
   "cell_type": "code",
   "execution_count": 27,
   "id": "67f4bd91",
   "metadata": {},
   "outputs": [],
   "source": [
    "# oversampling the dataa\n",
    "from imblearn.over_sampling import SMOTE \n",
    "SM = SMOTE()\n",
    "x1,y1 = SM.fit_resample(x,y)"
   ]
  },
  {
   "cell_type": "code",
   "execution_count": 28,
   "id": "dca8a6b3",
   "metadata": {},
   "outputs": [
    {
     "data": {
      "text/plain": [
       "subscribed\n",
       "0             26501\n",
       "1             26501\n",
       "dtype: int64"
      ]
     },
     "execution_count": 28,
     "metadata": {},
     "output_type": "execute_result"
    }
   ],
   "source": [
    "y1.value_counts()"
   ]
  },
  {
   "cell_type": "markdown",
   "id": "0428c2ff",
   "metadata": {},
   "source": [
    "## Modelling"
   ]
  },
  {
   "cell_type": "code",
   "execution_count": 37,
   "id": "7b523f1f",
   "metadata": {},
   "outputs": [
    {
     "name": "stdout",
     "output_type": "stream",
     "text": [
      "Best accuracy is  0.9579284973115744 at random_state 78\n"
     ]
    }
   ],
   "source": [
    "from sklearn.model_selection import train_test_split\n",
    "from sklearn.ensemble import RandomForestClassifier\n",
    "from sklearn.metrics import accuracy_score\n",
    "np.random.seed(42)\n",
    "\n",
    "optimal_accuracy = 0\n",
    "optimal_random_state = 0 \n",
    "\n",
    "for i in range(1, 200):\n",
    "    x_train,x_test, y_train, y_test = train_test_split(x1, y1, test_size=0.2, random_state=i)\n",
    "    rfc = RandomForestClassifier()\n",
    "    rfc.fit(x_train, y_train)\n",
    "    pred = rfc.predict(x_test)\n",
    "    acc = accuracy_score(y_test, pred)\n",
    "    if (acc > optimal_accuracy):\n",
    "        optimal_accuracy = acc\n",
    "        optimal_random_state = i\n",
    "print(\"Best accuracy is \", optimal_accuracy, \"at random_state\", optimal_random_state)"
   ]
  },
  {
   "cell_type": "code",
   "execution_count": 38,
   "id": "2dc83515",
   "metadata": {},
   "outputs": [
    {
     "name": "stdout",
     "output_type": "stream",
     "text": [
      "Accuracy score of RandomForestClassifier() is: 0.9571738515234411\n",
      "[[5028  317]\n",
      " [ 137 5119]]\n",
      "              precision    recall  f1-score   support\n",
      "\n",
      "           0       0.97      0.94      0.96      5345\n",
      "           1       0.94      0.97      0.96      5256\n",
      "\n",
      "    accuracy                           0.96     10601\n",
      "   macro avg       0.96      0.96      0.96     10601\n",
      "weighted avg       0.96      0.96      0.96     10601\n",
      "\n",
      "\n",
      "\n",
      "Accuracy score of LogisticRegression() is: 0.8232242241297991\n",
      "[[4366  979]\n",
      " [ 895 4361]]\n",
      "              precision    recall  f1-score   support\n",
      "\n",
      "           0       0.83      0.82      0.82      5345\n",
      "           1       0.82      0.83      0.82      5256\n",
      "\n",
      "    accuracy                           0.82     10601\n",
      "   macro avg       0.82      0.82      0.82     10601\n",
      "weighted avg       0.82      0.82      0.82     10601\n",
      "\n",
      "\n",
      "\n",
      "Accuracy score of ExtraTreesClassifier() is: 0.9685878690689558\n",
      "[[5070  275]\n",
      " [  58 5198]]\n",
      "              precision    recall  f1-score   support\n",
      "\n",
      "           0       0.99      0.95      0.97      5345\n",
      "           1       0.95      0.99      0.97      5256\n",
      "\n",
      "    accuracy                           0.97     10601\n",
      "   macro avg       0.97      0.97      0.97     10601\n",
      "weighted avg       0.97      0.97      0.97     10601\n",
      "\n",
      "\n",
      "\n",
      "Accuracy score of SVC() is: 0.8755777756815395\n",
      "[[4419  926]\n",
      " [ 393 4863]]\n",
      "              precision    recall  f1-score   support\n",
      "\n",
      "           0       0.92      0.83      0.87      5345\n",
      "           1       0.84      0.93      0.88      5256\n",
      "\n",
      "    accuracy                           0.88     10601\n",
      "   macro avg       0.88      0.88      0.88     10601\n",
      "weighted avg       0.88      0.88      0.88     10601\n",
      "\n",
      "\n",
      "\n",
      "Accuracy score of GradientBoostingClassifier() is: 0.9187812470521649\n",
      "[[4804  541]\n",
      " [ 320 4936]]\n",
      "              precision    recall  f1-score   support\n",
      "\n",
      "           0       0.94      0.90      0.92      5345\n",
      "           1       0.90      0.94      0.92      5256\n",
      "\n",
      "    accuracy                           0.92     10601\n",
      "   macro avg       0.92      0.92      0.92     10601\n",
      "weighted avg       0.92      0.92      0.92     10601\n",
      "\n",
      "\n",
      "\n",
      "Accuracy score of AdaBoostClassifier() is: 0.8808602961984718\n",
      "[[4701  644]\n",
      " [ 619 4637]]\n",
      "              precision    recall  f1-score   support\n",
      "\n",
      "           0       0.88      0.88      0.88      5345\n",
      "           1       0.88      0.88      0.88      5256\n",
      "\n",
      "    accuracy                           0.88     10601\n",
      "   macro avg       0.88      0.88      0.88     10601\n",
      "weighted avg       0.88      0.88      0.88     10601\n",
      "\n",
      "\n",
      "\n",
      "Accuracy score of BaggingClassifier() is: 0.9374587303084615\n",
      "[[4984  361]\n",
      " [ 302 4954]]\n",
      "              precision    recall  f1-score   support\n",
      "\n",
      "           0       0.94      0.93      0.94      5345\n",
      "           1       0.93      0.94      0.94      5256\n",
      "\n",
      "    accuracy                           0.94     10601\n",
      "   macro avg       0.94      0.94      0.94     10601\n",
      "weighted avg       0.94      0.94      0.94     10601\n",
      "\n",
      "\n",
      "\n",
      "List of Accuracy Scores: [0.9571738515234411, 0.8232242241297991, 0.9685878690689558, 0.8755777756815395, 0.9187812470521649, 0.8808602961984718, 0.9374587303084615]\n"
     ]
    }
   ],
   "source": [
    "x_train,x_test, y_train, y_test = train_test_split(x1, y1, test_size=0.2, random_state=optimal_random_state)\n",
    "\n",
    "# importing libraries\n",
    "from sklearn.ensemble import RandomForestClassifier, ExtraTreesClassifier\n",
    "from sklearn.linear_model import LogisticRegression\n",
    "from sklearn.svm import SVC\n",
    "from sklearn.ensemble import GradientBoostingClassifier, AdaBoostClassifier,BaggingClassifier\n",
    "from sklearn.metrics import classification_report, confusion_matrix, roc_curve, accuracy_score\n",
    "from sklearn.model_selection import cross_val_score\n",
    "\n",
    "# Selecting the best model\n",
    "\n",
    "rfc = RandomForestClassifier()\n",
    "lg = LogisticRegression()\n",
    "exc = ExtraTreesClassifier()\n",
    "svc = SVC()\n",
    "gbc =GradientBoostingClassifier()\n",
    "abc = AdaBoostClassifier()\n",
    "bc = BaggingClassifier()\n",
    "\n",
    "\n",
    "models = [rfc, lg, exc, svc, gbc, abc, bc]\n",
    "AccuracyScores = [] \n",
    "\n",
    "for model in models:\n",
    "    model.fit(x_train, y_train)\n",
    "    pred_model = model.predict(x_test)\n",
    "    accuracy = accuracy_score(y_test, pred_model)\n",
    "    AccuracyScores.append(accuracy)\n",
    "    print(\"Accuracy score of\", model, \"is:\", accuracy)\n",
    "    print(confusion_matrix(y_test, pred_model))\n",
    "    print(classification_report(y_test, pred_model))\n",
    "    print('\\n')\n",
    "\n",
    "print(\"List of Accuracy Scores:\", AccuracyScores)\n",
    "\n",
    "\n"
   ]
  },
  {
   "cell_type": "code",
   "execution_count": 39,
   "id": "ea267f02",
   "metadata": {},
   "outputs": [
    {
     "name": "stdout",
     "output_type": "stream",
     "text": [
      "Cross validare score of  RandomForestClassifier() is: \n",
      "[0.91527426 0.91542876 0.91002701 0.91475354 0.91171506]\n",
      "cross validation score mean is  0.9134397274050775\n",
      "cross validation score std is  0.002175731379516218\n",
      "Difference between Accuracy score and cross validation score is 0.02401900290338399\n",
      "\n",
      "\n",
      "Cross validare score of  LogisticRegression() is: \n",
      "[0.90177215 0.90867657 0.90175557 0.90563808 0.90530047]\n",
      "cross validation score mean is  0.9046285694749528\n",
      "cross validation score std is  0.0026180191609102375\n",
      "Difference between Accuracy score and cross validation score is 0.03283016083350865\n",
      "\n",
      "\n",
      "Cross validare score of  ExtraTreesClassifier() is: \n",
      "[0.91021097 0.91070223 0.90800135 0.91137745 0.90833896]\n",
      "cross validation score mean is  0.9097261913919492\n",
      "cross validation score std is  0.0013276891761747592\n",
      "Difference between Accuracy score and cross validation score is 0.027732538916512284\n",
      "\n",
      "\n",
      "Cross validare score of  SVC() is: \n",
      "[0.9043038  0.90665091 0.9027684  0.90783255 0.90715733]\n",
      "cross validation score mean is  0.9057425960905648\n",
      "cross validation score std is  0.0019031748410737856\n",
      "Difference between Accuracy score and cross validation score is 0.03171613421789665\n",
      "\n",
      "\n",
      "Cross validare score of  GradientBoostingClassifier() is: \n",
      "[0.91189873 0.91255908 0.91154625 0.91120864 0.91019581]\n",
      "cross validation score mean is  0.9114817049718373\n",
      "cross validation score std is  0.0007831857796177512\n",
      "Difference between Accuracy score and cross validation score is 0.02597702533662416\n",
      "\n",
      "\n",
      "Cross validare score of  AdaBoostClassifier() is: \n",
      "[0.9043038  0.91154625 0.90462525 0.90766374 0.90833896]\n",
      "cross validation score mean is  0.907295600817101\n",
      "cross validation score std is  0.00265984245189213\n",
      "Difference between Accuracy score and cross validation score is 0.030163129491360463\n",
      "\n",
      "\n",
      "Cross validare score of  BaggingClassifier() is: \n",
      "[0.9078481  0.90715733 0.90648211 0.90749494 0.90681972]\n",
      "cross validation score mean is  0.9071604372686947\n",
      "cross validation score std is  0.0004818721494429568\n",
      "Difference between Accuracy score and cross validation score is 0.030298293039766833\n",
      "\n",
      "\n",
      "List of Differences_Accuracy_Validation : [0.02401900290338399, 0.03283016083350865, 0.027732538916512284, 0.03171613421789665, 0.02597702533662416, 0.030163129491360463, 0.030298293039766833]\n"
     ]
    }
   ],
   "source": [
    "from sklearn.model_selection import cross_val_score\n",
    "\n",
    "models = [rfc, lg, exc, svc, gbc, abc,bc]\n",
    "Differences_Accuracy_Validation = []\n",
    "\n",
    "for model in models:\n",
    "    score = cross_val_score(model,x,y,cv=5) \n",
    "    print(\"Cross validare score of \", model, \"is: \")\n",
    "    print(score)   \n",
    "    print(\"cross validation score mean is \", score.mean())\n",
    "    print(\"cross validation score std is \", score.std())\n",
    "    print(\"Difference between Accuracy score and cross validation score is\", accuracy_score(y_test ,pred_model)-score.mean())\n",
    "    print('\\n')\n",
    "    Differences_Accuracy_Validation.append(accuracy_score(y_test ,pred_model)-score.mean())\n",
    "    \n",
    "print(\"List of Differences_Accuracy_Validation :\", Differences_Accuracy_Validation)\n",
    "    "
   ]
  },
  {
   "cell_type": "code",
   "execution_count": 41,
   "id": "c39253f2",
   "metadata": {},
   "outputs": [
    {
     "data": {
      "text/html": [
       "<div>\n",
       "<style scoped>\n",
       "    .dataframe tbody tr th:only-of-type {\n",
       "        vertical-align: middle;\n",
       "    }\n",
       "\n",
       "    .dataframe tbody tr th {\n",
       "        vertical-align: top;\n",
       "    }\n",
       "\n",
       "    .dataframe thead th {\n",
       "        text-align: right;\n",
       "    }\n",
       "</style>\n",
       "<table border=\"1\" class=\"dataframe\">\n",
       "  <thead>\n",
       "    <tr style=\"text-align: right;\">\n",
       "      <th></th>\n",
       "      <th>Accuracy_Score</th>\n",
       "      <th>Differnce_beteen_Accuracy_Validation</th>\n",
       "    </tr>\n",
       "  </thead>\n",
       "  <tbody>\n",
       "    <tr>\n",
       "      <th>RandomForestClassifier</th>\n",
       "      <td>0.957174</td>\n",
       "      <td>0.024019</td>\n",
       "    </tr>\n",
       "    <tr>\n",
       "      <th>LogisticRegression</th>\n",
       "      <td>0.823224</td>\n",
       "      <td>0.032830</td>\n",
       "    </tr>\n",
       "    <tr>\n",
       "      <th>ExtraTreesClassifier</th>\n",
       "      <td>0.968588</td>\n",
       "      <td>0.027733</td>\n",
       "    </tr>\n",
       "    <tr>\n",
       "      <th>SVC</th>\n",
       "      <td>0.875578</td>\n",
       "      <td>0.031716</td>\n",
       "    </tr>\n",
       "    <tr>\n",
       "      <th>GradientBoostingClassifier</th>\n",
       "      <td>0.918781</td>\n",
       "      <td>0.025977</td>\n",
       "    </tr>\n",
       "    <tr>\n",
       "      <th>AdaBoostClassifier</th>\n",
       "      <td>0.880860</td>\n",
       "      <td>0.030163</td>\n",
       "    </tr>\n",
       "    <tr>\n",
       "      <th>BaggingClassifier</th>\n",
       "      <td>0.937459</td>\n",
       "      <td>0.030298</td>\n",
       "    </tr>\n",
       "  </tbody>\n",
       "</table>\n",
       "</div>"
      ],
      "text/plain": [
       "                            Accuracy_Score  \\\n",
       "RandomForestClassifier            0.957174   \n",
       "LogisticRegression                0.823224   \n",
       "ExtraTreesClassifier              0.968588   \n",
       "SVC                               0.875578   \n",
       "GradientBoostingClassifier        0.918781   \n",
       "AdaBoostClassifier                0.880860   \n",
       "BaggingClassifier                 0.937459   \n",
       "\n",
       "                            Differnce_beteen_Accuracy_Validation  \n",
       "RandomForestClassifier                                  0.024019  \n",
       "LogisticRegression                                      0.032830  \n",
       "ExtraTreesClassifier                                    0.027733  \n",
       "SVC                                                     0.031716  \n",
       "GradientBoostingClassifier                              0.025977  \n",
       "AdaBoostClassifier                                      0.030163  \n",
       "BaggingClassifier                                       0.030298  "
      ]
     },
     "execution_count": 41,
     "metadata": {},
     "output_type": "execute_result"
    }
   ],
   "source": [
    "results = pd.DataFrame({\"Accuracy_Score\":AccuracyScores,\"Differnce_beteen_Accuracy_Validation\": Differences_Accuracy_Validation}, index=[\"RandomForestClassifier\",\"LogisticRegression\",\"ExtraTreesClassifier\",\"SVC\", \"GradientBoostingClassifier\",\"AdaBoostClassifier\", \"BaggingClassifier\"])\n",
    "results"
   ]
  },
  {
   "cell_type": "markdown",
   "id": "6c0b131a",
   "metadata": {},
   "source": [
    "Now the best model is the one with the highest \"accuracy score\" of each model and the minimum difference between \"the accuracy score and the cross validation score\""
   ]
  },
  {
   "cell_type": "code",
   "execution_count": 43,
   "id": "1ac593ea",
   "metadata": {},
   "outputs": [
    {
     "data": {
      "text/html": [
       "<div>\n",
       "<style scoped>\n",
       "    .dataframe tbody tr th:only-of-type {\n",
       "        vertical-align: middle;\n",
       "    }\n",
       "\n",
       "    .dataframe tbody tr th {\n",
       "        vertical-align: top;\n",
       "    }\n",
       "\n",
       "    .dataframe thead th {\n",
       "        text-align: right;\n",
       "    }\n",
       "</style>\n",
       "<table border=\"1\" class=\"dataframe\">\n",
       "  <thead>\n",
       "    <tr style=\"text-align: right;\">\n",
       "      <th></th>\n",
       "      <th>Accuracy_Score</th>\n",
       "      <th>Differnce_beteen_Accuracy_Validation</th>\n",
       "    </tr>\n",
       "  </thead>\n",
       "  <tbody>\n",
       "    <tr>\n",
       "      <th>ExtraTreesClassifier</th>\n",
       "      <td>0.968588</td>\n",
       "      <td>0.027733</td>\n",
       "    </tr>\n",
       "    <tr>\n",
       "      <th>RandomForestClassifier</th>\n",
       "      <td>0.957174</td>\n",
       "      <td>0.024019</td>\n",
       "    </tr>\n",
       "    <tr>\n",
       "      <th>BaggingClassifier</th>\n",
       "      <td>0.937459</td>\n",
       "      <td>0.030298</td>\n",
       "    </tr>\n",
       "    <tr>\n",
       "      <th>GradientBoostingClassifier</th>\n",
       "      <td>0.918781</td>\n",
       "      <td>0.025977</td>\n",
       "    </tr>\n",
       "    <tr>\n",
       "      <th>AdaBoostClassifier</th>\n",
       "      <td>0.880860</td>\n",
       "      <td>0.030163</td>\n",
       "    </tr>\n",
       "    <tr>\n",
       "      <th>SVC</th>\n",
       "      <td>0.875578</td>\n",
       "      <td>0.031716</td>\n",
       "    </tr>\n",
       "    <tr>\n",
       "      <th>LogisticRegression</th>\n",
       "      <td>0.823224</td>\n",
       "      <td>0.032830</td>\n",
       "    </tr>\n",
       "  </tbody>\n",
       "</table>\n",
       "</div>"
      ],
      "text/plain": [
       "                            Accuracy_Score  \\\n",
       "ExtraTreesClassifier              0.968588   \n",
       "RandomForestClassifier            0.957174   \n",
       "BaggingClassifier                 0.937459   \n",
       "GradientBoostingClassifier        0.918781   \n",
       "AdaBoostClassifier                0.880860   \n",
       "SVC                               0.875578   \n",
       "LogisticRegression                0.823224   \n",
       "\n",
       "                            Differnce_beteen_Accuracy_Validation  \n",
       "ExtraTreesClassifier                                    0.027733  \n",
       "RandomForestClassifier                                  0.024019  \n",
       "BaggingClassifier                                       0.030298  \n",
       "GradientBoostingClassifier                              0.025977  \n",
       "AdaBoostClassifier                                      0.030163  \n",
       "SVC                                                     0.031716  \n",
       "LogisticRegression                                      0.032830  "
      ]
     },
     "execution_count": 43,
     "metadata": {},
     "output_type": "execute_result"
    }
   ],
   "source": [
    "sort_results = results.sort_values(by=['Accuracy_Score', 'Differnce_beteen_Accuracy_Validation'], ascending=[False, True])\n",
    "sort_results\n"
   ]
  },
  {
   "cell_type": "markdown",
   "id": "f676ff4d",
   "metadata": {},
   "source": [
    "ExtraTreesClassifier(), is the best model. "
   ]
  },
  {
   "cell_type": "markdown",
   "id": "e3e2bb5d",
   "metadata": {},
   "source": [
    "## HyperTuning"
   ]
  },
  {
   "cell_type": "code",
   "execution_count": null,
   "id": "385ab54c",
   "metadata": {},
   "outputs": [],
   "source": [
    "from sklearn.model_selection import GridSearchCV\n",
    "\n",
    "parameters = {\n",
    "    'criterion': ['gini', 'entropy'],\n",
    "    'random_state': [10, 50, 1000],  \n",
    "    'max_depth': [None, 10, 30],      \n",
    "    'n_jobs': [None,-1, 1],              \n",
    "    'n_estimators': [50, 100, 200, 300]\n",
    "}\n",
    "\n",
    "GCV = GridSearchCV(ExtraTreesClassifier(), parameters, cv=5)\n",
    "GCV.fit(x_train, y_train)\n"
   ]
  },
  {
   "cell_type": "code",
   "execution_count": null,
   "id": "3fc5179a",
   "metadata": {},
   "outputs": [],
   "source": [
    "GCV.best_params_"
   ]
  },
  {
   "cell_type": "code",
   "execution_count": 49,
   "id": "8c8276d4",
   "metadata": {},
   "outputs": [
    {
     "name": "stdout",
     "output_type": "stream",
     "text": [
      "accuracy score %:  95.82114894821243\n"
     ]
    }
   ],
   "source": [
    "Final_model = RandomForestClassifier(criterion = \"entropy\", random_state = 50, max_depth = None, n_jobs = None, n_estimators =200)\n",
    "Final_model.fit(x_train, y_train)\n",
    "pred = Final_model.predict(x_test)\n",
    "acc = accuracy_score(y_test, pred)\n",
    "print(\"accuracy score %: \", acc*100)"
   ]
  },
  {
   "cell_type": "code",
   "execution_count": 50,
   "id": "2f8bee6b",
   "metadata": {},
   "outputs": [
    {
     "name": "stdout",
     "output_type": "stream",
     "text": [
      "[[5033  312]\n",
      " [ 131 5125]]\n",
      "              precision    recall  f1-score   support\n",
      "\n",
      "           0       0.97      0.94      0.96      5345\n",
      "           1       0.94      0.98      0.96      5256\n",
      "\n",
      "    accuracy                           0.96     10601\n",
      "   macro avg       0.96      0.96      0.96     10601\n",
      "weighted avg       0.96      0.96      0.96     10601\n",
      "\n",
      "\n",
      "\n"
     ]
    }
   ],
   "source": [
    "print(confusion_matrix(y_test, pred))\n",
    "print(classification_report(y_test, pred))\n",
    "print('\\n')"
   ]
  },
  {
   "cell_type": "markdown",
   "id": "0f441ab3",
   "metadata": {},
   "source": [
    "## Saving the Data (serialization)"
   ]
  },
  {
   "cell_type": "code",
   "execution_count": 51,
   "id": "dddfb659",
   "metadata": {},
   "outputs": [
    {
     "data": {
      "text/plain": [
       "['BANK_MARKETING.pkl']"
      ]
     },
     "execution_count": 51,
     "metadata": {},
     "output_type": "execute_result"
    }
   ],
   "source": [
    "import joblib\n",
    "joblib.dump(Final_model, \"BANK_MARKETING.pkl\")"
   ]
  },
  {
   "cell_type": "markdown",
   "id": "15bfb59c",
   "metadata": {},
   "source": [
    "## Pridicting with the saving model (deserialization)"
   ]
  },
  {
   "cell_type": "code",
   "execution_count": 53,
   "id": "70a04c7f",
   "metadata": {},
   "outputs": [
    {
     "data": {
      "text/html": [
       "<div>\n",
       "<style scoped>\n",
       "    .dataframe tbody tr th:only-of-type {\n",
       "        vertical-align: middle;\n",
       "    }\n",
       "\n",
       "    .dataframe tbody tr th {\n",
       "        vertical-align: top;\n",
       "    }\n",
       "\n",
       "    .dataframe thead th {\n",
       "        text-align: right;\n",
       "    }\n",
       "</style>\n",
       "<table border=\"1\" class=\"dataframe\">\n",
       "  <thead>\n",
       "    <tr style=\"text-align: right;\">\n",
       "      <th></th>\n",
       "      <th>age</th>\n",
       "      <th>job</th>\n",
       "      <th>marital</th>\n",
       "      <th>education</th>\n",
       "      <th>default</th>\n",
       "      <th>balance</th>\n",
       "      <th>housing</th>\n",
       "      <th>loan</th>\n",
       "      <th>contact</th>\n",
       "      <th>day</th>\n",
       "      <th>month</th>\n",
       "      <th>duration</th>\n",
       "      <th>campaign</th>\n",
       "      <th>pdays</th>\n",
       "      <th>previous</th>\n",
       "      <th>poutcome</th>\n",
       "    </tr>\n",
       "    <tr>\n",
       "      <th>ID</th>\n",
       "      <th></th>\n",
       "      <th></th>\n",
       "      <th></th>\n",
       "      <th></th>\n",
       "      <th></th>\n",
       "      <th></th>\n",
       "      <th></th>\n",
       "      <th></th>\n",
       "      <th></th>\n",
       "      <th></th>\n",
       "      <th></th>\n",
       "      <th></th>\n",
       "      <th></th>\n",
       "      <th></th>\n",
       "      <th></th>\n",
       "      <th></th>\n",
       "    </tr>\n",
       "  </thead>\n",
       "  <tbody>\n",
       "    <tr>\n",
       "      <th>38441</th>\n",
       "      <td>32</td>\n",
       "      <td>services</td>\n",
       "      <td>married</td>\n",
       "      <td>secondary</td>\n",
       "      <td>no</td>\n",
       "      <td>118</td>\n",
       "      <td>yes</td>\n",
       "      <td>no</td>\n",
       "      <td>cellular</td>\n",
       "      <td>15</td>\n",
       "      <td>may</td>\n",
       "      <td>20</td>\n",
       "      <td>6</td>\n",
       "      <td>-1</td>\n",
       "      <td>0</td>\n",
       "      <td>unknown</td>\n",
       "    </tr>\n",
       "    <tr>\n",
       "      <th>40403</th>\n",
       "      <td>78</td>\n",
       "      <td>retired</td>\n",
       "      <td>divorced</td>\n",
       "      <td>primary</td>\n",
       "      <td>no</td>\n",
       "      <td>2787</td>\n",
       "      <td>no</td>\n",
       "      <td>no</td>\n",
       "      <td>telephone</td>\n",
       "      <td>1</td>\n",
       "      <td>jul</td>\n",
       "      <td>372</td>\n",
       "      <td>1</td>\n",
       "      <td>-1</td>\n",
       "      <td>0</td>\n",
       "      <td>unknown</td>\n",
       "    </tr>\n",
       "    <tr>\n",
       "      <th>3709</th>\n",
       "      <td>31</td>\n",
       "      <td>self-employed</td>\n",
       "      <td>single</td>\n",
       "      <td>tertiary</td>\n",
       "      <td>no</td>\n",
       "      <td>144</td>\n",
       "      <td>yes</td>\n",
       "      <td>no</td>\n",
       "      <td>unknown</td>\n",
       "      <td>16</td>\n",
       "      <td>may</td>\n",
       "      <td>676</td>\n",
       "      <td>1</td>\n",
       "      <td>-1</td>\n",
       "      <td>0</td>\n",
       "      <td>unknown</td>\n",
       "    </tr>\n",
       "    <tr>\n",
       "      <th>37422</th>\n",
       "      <td>57</td>\n",
       "      <td>services</td>\n",
       "      <td>single</td>\n",
       "      <td>primary</td>\n",
       "      <td>no</td>\n",
       "      <td>3777</td>\n",
       "      <td>yes</td>\n",
       "      <td>no</td>\n",
       "      <td>telephone</td>\n",
       "      <td>13</td>\n",
       "      <td>may</td>\n",
       "      <td>65</td>\n",
       "      <td>2</td>\n",
       "      <td>-1</td>\n",
       "      <td>0</td>\n",
       "      <td>unknown</td>\n",
       "    </tr>\n",
       "    <tr>\n",
       "      <th>12527</th>\n",
       "      <td>45</td>\n",
       "      <td>blue-collar</td>\n",
       "      <td>divorced</td>\n",
       "      <td>secondary</td>\n",
       "      <td>no</td>\n",
       "      <td>-705</td>\n",
       "      <td>no</td>\n",
       "      <td>yes</td>\n",
       "      <td>unknown</td>\n",
       "      <td>3</td>\n",
       "      <td>jul</td>\n",
       "      <td>111</td>\n",
       "      <td>1</td>\n",
       "      <td>-1</td>\n",
       "      <td>0</td>\n",
       "      <td>unknown</td>\n",
       "    </tr>\n",
       "    <tr>\n",
       "      <th>...</th>\n",
       "      <td>...</td>\n",
       "      <td>...</td>\n",
       "      <td>...</td>\n",
       "      <td>...</td>\n",
       "      <td>...</td>\n",
       "      <td>...</td>\n",
       "      <td>...</td>\n",
       "      <td>...</td>\n",
       "      <td>...</td>\n",
       "      <td>...</td>\n",
       "      <td>...</td>\n",
       "      <td>...</td>\n",
       "      <td>...</td>\n",
       "      <td>...</td>\n",
       "      <td>...</td>\n",
       "      <td>...</td>\n",
       "    </tr>\n",
       "    <tr>\n",
       "      <th>23465</th>\n",
       "      <td>39</td>\n",
       "      <td>management</td>\n",
       "      <td>married</td>\n",
       "      <td>tertiary</td>\n",
       "      <td>no</td>\n",
       "      <td>45</td>\n",
       "      <td>no</td>\n",
       "      <td>no</td>\n",
       "      <td>cellular</td>\n",
       "      <td>28</td>\n",
       "      <td>aug</td>\n",
       "      <td>148</td>\n",
       "      <td>4</td>\n",
       "      <td>-1</td>\n",
       "      <td>0</td>\n",
       "      <td>unknown</td>\n",
       "    </tr>\n",
       "    <tr>\n",
       "      <th>11743</th>\n",
       "      <td>54</td>\n",
       "      <td>blue-collar</td>\n",
       "      <td>married</td>\n",
       "      <td>primary</td>\n",
       "      <td>no</td>\n",
       "      <td>2281</td>\n",
       "      <td>yes</td>\n",
       "      <td>no</td>\n",
       "      <td>unknown</td>\n",
       "      <td>20</td>\n",
       "      <td>jun</td>\n",
       "      <td>158</td>\n",
       "      <td>1</td>\n",
       "      <td>-1</td>\n",
       "      <td>0</td>\n",
       "      <td>unknown</td>\n",
       "    </tr>\n",
       "    <tr>\n",
       "      <th>28292</th>\n",
       "      <td>35</td>\n",
       "      <td>retired</td>\n",
       "      <td>married</td>\n",
       "      <td>primary</td>\n",
       "      <td>no</td>\n",
       "      <td>285</td>\n",
       "      <td>yes</td>\n",
       "      <td>no</td>\n",
       "      <td>cellular</td>\n",
       "      <td>29</td>\n",
       "      <td>jan</td>\n",
       "      <td>136</td>\n",
       "      <td>1</td>\n",
       "      <td>-1</td>\n",
       "      <td>0</td>\n",
       "      <td>unknown</td>\n",
       "    </tr>\n",
       "    <tr>\n",
       "      <th>45163</th>\n",
       "      <td>29</td>\n",
       "      <td>admin.</td>\n",
       "      <td>single</td>\n",
       "      <td>secondary</td>\n",
       "      <td>no</td>\n",
       "      <td>464</td>\n",
       "      <td>no</td>\n",
       "      <td>no</td>\n",
       "      <td>cellular</td>\n",
       "      <td>9</td>\n",
       "      <td>nov</td>\n",
       "      <td>208</td>\n",
       "      <td>2</td>\n",
       "      <td>91</td>\n",
       "      <td>3</td>\n",
       "      <td>success</td>\n",
       "    </tr>\n",
       "    <tr>\n",
       "      <th>34839</th>\n",
       "      <td>29</td>\n",
       "      <td>admin.</td>\n",
       "      <td>married</td>\n",
       "      <td>secondary</td>\n",
       "      <td>no</td>\n",
       "      <td>2</td>\n",
       "      <td>yes</td>\n",
       "      <td>no</td>\n",
       "      <td>cellular</td>\n",
       "      <td>6</td>\n",
       "      <td>may</td>\n",
       "      <td>339</td>\n",
       "      <td>1</td>\n",
       "      <td>362</td>\n",
       "      <td>1</td>\n",
       "      <td>failure</td>\n",
       "    </tr>\n",
       "  </tbody>\n",
       "</table>\n",
       "<p>13564 rows × 16 columns</p>\n",
       "</div>"
      ],
      "text/plain": [
       "       age            job   marital  education default  balance housing loan  \\\n",
       "ID                                                                             \n",
       "38441   32       services   married  secondary      no      118     yes   no   \n",
       "40403   78        retired  divorced    primary      no     2787      no   no   \n",
       "3709    31  self-employed    single   tertiary      no      144     yes   no   \n",
       "37422   57       services    single    primary      no     3777     yes   no   \n",
       "12527   45    blue-collar  divorced  secondary      no     -705      no  yes   \n",
       "...    ...            ...       ...        ...     ...      ...     ...  ...   \n",
       "23465   39     management   married   tertiary      no       45      no   no   \n",
       "11743   54    blue-collar   married    primary      no     2281     yes   no   \n",
       "28292   35        retired   married    primary      no      285     yes   no   \n",
       "45163   29         admin.    single  secondary      no      464      no   no   \n",
       "34839   29         admin.   married  secondary      no        2     yes   no   \n",
       "\n",
       "         contact  day month  duration  campaign  pdays  previous poutcome  \n",
       "ID                                                                         \n",
       "38441   cellular   15   may        20         6     -1         0  unknown  \n",
       "40403  telephone    1   jul       372         1     -1         0  unknown  \n",
       "3709     unknown   16   may       676         1     -1         0  unknown  \n",
       "37422  telephone   13   may        65         2     -1         0  unknown  \n",
       "12527    unknown    3   jul       111         1     -1         0  unknown  \n",
       "...          ...  ...   ...       ...       ...    ...       ...      ...  \n",
       "23465   cellular   28   aug       148         4     -1         0  unknown  \n",
       "11743    unknown   20   jun       158         1     -1         0  unknown  \n",
       "28292   cellular   29   jan       136         1     -1         0  unknown  \n",
       "45163   cellular    9   nov       208         2     91         3  success  \n",
       "34839   cellular    6   may       339         1    362         1  failure  \n",
       "\n",
       "[13564 rows x 16 columns]"
      ]
     },
     "execution_count": 53,
     "metadata": {},
     "output_type": "execute_result"
    }
   ],
   "source": [
    "test_csv"
   ]
  },
  {
   "cell_type": "code",
   "execution_count": 62,
   "id": "7b2cfdeb",
   "metadata": {
    "scrolled": false
   },
   "outputs": [],
   "source": [
    "# Encoding categorical data using OrdinalEncoder\n",
    "from sklearn.preprocessing import OrdinalEncoder\n",
    "OE = OrdinalEncoder()\n",
    "\n",
    "for i in test_csv.columns:\n",
    "    if test_csv[i].dtypes == \"object\":\n",
    "        test_csv[i] = OE.fit_transform(test_csv[i].values.reshape(-1,1))\n"
   ]
  },
  {
   "cell_type": "code",
   "execution_count": 63,
   "id": "5986c294",
   "metadata": {},
   "outputs": [
    {
     "data": {
      "text/plain": [
       "age            int64\n",
       "job          float64\n",
       "marital      float64\n",
       "education    float64\n",
       "default      float64\n",
       "balance        int64\n",
       "housing      float64\n",
       "loan         float64\n",
       "contact      float64\n",
       "day            int64\n",
       "month        float64\n",
       "duration       int64\n",
       "campaign       int64\n",
       "pdays          int64\n",
       "previous       int64\n",
       "poutcome     float64\n",
       "dtype: object"
      ]
     },
     "execution_count": 63,
     "metadata": {},
     "output_type": "execute_result"
    }
   ],
   "source": [
    "test_csv.dtypes"
   ]
  },
  {
   "cell_type": "code",
   "execution_count": 64,
   "id": "d87bf319",
   "metadata": {
    "scrolled": true
   },
   "outputs": [
    {
     "data": {
      "text/html": [
       "<div>\n",
       "<style scoped>\n",
       "    .dataframe tbody tr th:only-of-type {\n",
       "        vertical-align: middle;\n",
       "    }\n",
       "\n",
       "    .dataframe tbody tr th {\n",
       "        vertical-align: top;\n",
       "    }\n",
       "\n",
       "    .dataframe thead th {\n",
       "        text-align: right;\n",
       "    }\n",
       "</style>\n",
       "<table border=\"1\" class=\"dataframe\">\n",
       "  <thead>\n",
       "    <tr style=\"text-align: right;\">\n",
       "      <th></th>\n",
       "      <th>age</th>\n",
       "      <th>job</th>\n",
       "      <th>marital</th>\n",
       "      <th>education</th>\n",
       "      <th>default</th>\n",
       "      <th>balance</th>\n",
       "      <th>housing</th>\n",
       "      <th>loan</th>\n",
       "      <th>contact</th>\n",
       "      <th>day</th>\n",
       "      <th>month</th>\n",
       "      <th>duration</th>\n",
       "      <th>campaign</th>\n",
       "      <th>pdays</th>\n",
       "      <th>previous</th>\n",
       "      <th>poutcome</th>\n",
       "    </tr>\n",
       "    <tr>\n",
       "      <th>ID</th>\n",
       "      <th></th>\n",
       "      <th></th>\n",
       "      <th></th>\n",
       "      <th></th>\n",
       "      <th></th>\n",
       "      <th></th>\n",
       "      <th></th>\n",
       "      <th></th>\n",
       "      <th></th>\n",
       "      <th></th>\n",
       "      <th></th>\n",
       "      <th></th>\n",
       "      <th></th>\n",
       "      <th></th>\n",
       "      <th></th>\n",
       "      <th></th>\n",
       "    </tr>\n",
       "  </thead>\n",
       "  <tbody>\n",
       "    <tr>\n",
       "      <th>38441</th>\n",
       "      <td>32</td>\n",
       "      <td>7.0</td>\n",
       "      <td>1.0</td>\n",
       "      <td>1.0</td>\n",
       "      <td>0.0</td>\n",
       "      <td>118</td>\n",
       "      <td>1.0</td>\n",
       "      <td>0.0</td>\n",
       "      <td>0.0</td>\n",
       "      <td>15</td>\n",
       "      <td>8.0</td>\n",
       "      <td>20</td>\n",
       "      <td>6</td>\n",
       "      <td>-1</td>\n",
       "      <td>0</td>\n",
       "      <td>3.0</td>\n",
       "    </tr>\n",
       "    <tr>\n",
       "      <th>40403</th>\n",
       "      <td>78</td>\n",
       "      <td>5.0</td>\n",
       "      <td>0.0</td>\n",
       "      <td>0.0</td>\n",
       "      <td>0.0</td>\n",
       "      <td>2787</td>\n",
       "      <td>0.0</td>\n",
       "      <td>0.0</td>\n",
       "      <td>1.0</td>\n",
       "      <td>1</td>\n",
       "      <td>5.0</td>\n",
       "      <td>372</td>\n",
       "      <td>1</td>\n",
       "      <td>-1</td>\n",
       "      <td>0</td>\n",
       "      <td>3.0</td>\n",
       "    </tr>\n",
       "    <tr>\n",
       "      <th>3709</th>\n",
       "      <td>31</td>\n",
       "      <td>6.0</td>\n",
       "      <td>2.0</td>\n",
       "      <td>2.0</td>\n",
       "      <td>0.0</td>\n",
       "      <td>144</td>\n",
       "      <td>1.0</td>\n",
       "      <td>0.0</td>\n",
       "      <td>2.0</td>\n",
       "      <td>16</td>\n",
       "      <td>8.0</td>\n",
       "      <td>676</td>\n",
       "      <td>1</td>\n",
       "      <td>-1</td>\n",
       "      <td>0</td>\n",
       "      <td>3.0</td>\n",
       "    </tr>\n",
       "    <tr>\n",
       "      <th>37422</th>\n",
       "      <td>57</td>\n",
       "      <td>7.0</td>\n",
       "      <td>2.0</td>\n",
       "      <td>0.0</td>\n",
       "      <td>0.0</td>\n",
       "      <td>3777</td>\n",
       "      <td>1.0</td>\n",
       "      <td>0.0</td>\n",
       "      <td>1.0</td>\n",
       "      <td>13</td>\n",
       "      <td>8.0</td>\n",
       "      <td>65</td>\n",
       "      <td>2</td>\n",
       "      <td>-1</td>\n",
       "      <td>0</td>\n",
       "      <td>3.0</td>\n",
       "    </tr>\n",
       "    <tr>\n",
       "      <th>12527</th>\n",
       "      <td>45</td>\n",
       "      <td>1.0</td>\n",
       "      <td>0.0</td>\n",
       "      <td>1.0</td>\n",
       "      <td>0.0</td>\n",
       "      <td>-705</td>\n",
       "      <td>0.0</td>\n",
       "      <td>1.0</td>\n",
       "      <td>2.0</td>\n",
       "      <td>3</td>\n",
       "      <td>5.0</td>\n",
       "      <td>111</td>\n",
       "      <td>1</td>\n",
       "      <td>-1</td>\n",
       "      <td>0</td>\n",
       "      <td>3.0</td>\n",
       "    </tr>\n",
       "  </tbody>\n",
       "</table>\n",
       "</div>"
      ],
      "text/plain": [
       "       age  job  marital  education  default  balance  housing  loan  contact  \\\n",
       "ID                                                                              \n",
       "38441   32  7.0      1.0        1.0      0.0      118      1.0   0.0      0.0   \n",
       "40403   78  5.0      0.0        0.0      0.0     2787      0.0   0.0      1.0   \n",
       "3709    31  6.0      2.0        2.0      0.0      144      1.0   0.0      2.0   \n",
       "37422   57  7.0      2.0        0.0      0.0     3777      1.0   0.0      1.0   \n",
       "12527   45  1.0      0.0        1.0      0.0     -705      0.0   1.0      2.0   \n",
       "\n",
       "       day  month  duration  campaign  pdays  previous  poutcome  \n",
       "ID                                                                \n",
       "38441   15    8.0        20         6     -1         0       3.0  \n",
       "40403    1    5.0       372         1     -1         0       3.0  \n",
       "3709    16    8.0       676         1     -1         0       3.0  \n",
       "37422   13    8.0        65         2     -1         0       3.0  \n",
       "12527    3    5.0       111         1     -1         0       3.0  "
      ]
     },
     "execution_count": 64,
     "metadata": {},
     "output_type": "execute_result"
    }
   ],
   "source": [
    "test_csv.head()"
   ]
  },
  {
   "cell_type": "code",
   "execution_count": 102,
   "id": "d0bb532e",
   "metadata": {},
   "outputs": [
    {
     "data": {
      "text/plain": [
       "array([1, 1, 0, ..., 1, 1, 1])"
      ]
     },
     "execution_count": 102,
     "metadata": {},
     "output_type": "execute_result"
    }
   ],
   "source": [
    "import joblib\n",
    "model_loaded = joblib.load(\"BANK_MARKETING.pkl\")\n",
    "\n",
    "# Making prediction\n",
    "prediction = model_loaded.predict(test_csv)\n",
    "prediction"
   ]
  },
  {
   "cell_type": "code",
   "execution_count": null,
   "id": "21a22745",
   "metadata": {},
   "outputs": [],
   "source": []
  }
 ],
 "metadata": {
  "kernelspec": {
   "display_name": "Python 3 (ipykernel)",
   "language": "python",
   "name": "python3"
  },
  "language_info": {
   "codemirror_mode": {
    "name": "ipython",
    "version": 3
   },
   "file_extension": ".py",
   "mimetype": "text/x-python",
   "name": "python",
   "nbconvert_exporter": "python",
   "pygments_lexer": "ipython3",
   "version": "3.9.12"
  },
  "varInspector": {
   "cols": {
    "lenName": 16,
    "lenType": 16,
    "lenVar": 40
   },
   "kernels_config": {
    "python": {
     "delete_cmd_postfix": "",
     "delete_cmd_prefix": "del ",
     "library": "var_list.py",
     "varRefreshCmd": "print(var_dic_list())"
    },
    "r": {
     "delete_cmd_postfix": ") ",
     "delete_cmd_prefix": "rm(",
     "library": "var_list.r",
     "varRefreshCmd": "cat(var_dic_list()) "
    }
   },
   "types_to_exclude": [
    "module",
    "function",
    "builtin_function_or_method",
    "instance",
    "_Feature"
   ],
   "window_display": false
  }
 },
 "nbformat": 4,
 "nbformat_minor": 5
}
