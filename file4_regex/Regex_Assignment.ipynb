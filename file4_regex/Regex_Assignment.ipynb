{
 "cells": [
  {
   "cell_type": "code",
   "execution_count": 38,
   "id": "77a4a7fd",
   "metadata": {},
   "outputs": [
    {
     "data": {
      "text/html": [
       "<img src = \"specialregex.png\">\n"
      ],
      "text/plain": [
       "<IPython.core.display.HTML object>"
      ]
     },
     "metadata": {},
     "output_type": "display_data"
    }
   ],
   "source": [
    "%%html\n",
    "<img src = \"specialregex.png\">"
   ]
  },
  {
   "cell_type": "markdown",
   "id": "abe1b85f",
   "metadata": {},
   "source": [
    "## Regular Expressions\n",
    "\n",
    "Question 1- Write a Python program to check that a string contains only a certain set of characters (in this case a-z, A-Z and 0-9).\n"
   ]
  },
  {
   "cell_type": "code",
   "execution_count": 39,
   "id": "cef8f693",
   "metadata": {},
   "outputs": [],
   "source": [
    "import re \n",
    "\n",
    "def check_pattern():\n",
    "    result = re.findall((r'[(a-z)|(A-Z)|(0-9)]'), target_string)\n",
    "    print(\"match object:\", result)"
   ]
  },
  {
   "cell_type": "code",
   "execution_count": 40,
   "id": "1f39383f",
   "metadata": {},
   "outputs": [
    {
     "name": "stdout",
     "output_type": "stream",
     "text": [
      "match object: ['W', 'r', 'i', 't', 'e', 'a', 'P', 'y', 't', 'h', 'o', 'n', 'p', 'r', 'o', 'g', 'r', 'a', 'm', 't', 'o', 'c', 'h', 'e', 'c', 'k', 't', 'h', 'a', 't', 'a', 's', 't', 'r', 'i', 'n', 'g', 'c', 'o', 'n', 't', 'a', 'i', 'n', 's', 'o', 'n', 'l', 'y', 'a', 'c', 'e', 'r', 't', 'a', 'i', 'n', 's', 'e', 't', 'o', 'f', 'c', 'h', 'a', 'r', 'a', 'c', 't', 'e', 'r', 's', '1', '2', '3', '4', '5', '6', '7', '8', '9']\n"
     ]
    }
   ],
   "source": [
    "target_string = \"Write a Python program to check that a string contains only a certain set of characters 123-456-789\"\n",
    "check_pattern()"
   ]
  },
  {
   "cell_type": "markdown",
   "id": "64e4927e",
   "metadata": {},
   "source": [
    "### Question 2- Create a function in python that matches a string that has an a followed by zero or more b's"
   ]
  },
  {
   "cell_type": "code",
   "execution_count": 41,
   "id": "3affd255",
   "metadata": {},
   "outputs": [
    {
     "name": "stdout",
     "output_type": "stream",
     "text": [
      "False\n",
      "True\n"
     ]
    }
   ],
   "source": [
    "import re\n",
    "\n",
    "def match_string(string):\n",
    "    pattern = r'ab*'\n",
    "    match = re.match(pattern, string)\n",
    "    if match:\n",
    "        return True\n",
    "    else:\n",
    "        return False\n",
    "\n",
    "print(match_string(\"Create a function in python abb that matches a a0 string that has an a followed by zero\"))\n",
    "print(match_string(\"abb\"))\n",
    "\n",
    "#it doesn't match abb found in the intire string because it expects all the entire string to act as the pattern; \n",
    "# infact on the other with all the pattern matching the string it give me True. :)\n"
   ]
  },
  {
   "cell_type": "code",
   "execution_count": 42,
   "id": "1125a84f",
   "metadata": {},
   "outputs": [
    {
     "name": "stdout",
     "output_type": "stream",
     "text": [
      "True\n"
     ]
    }
   ],
   "source": [
    "import re\n",
    "\n",
    "def match_string(string):\n",
    "    pattern = r'ab*'\n",
    "    match = re.search(pattern, string)\n",
    "    if match:\n",
    "        return True\n",
    "    else:\n",
    "        return False\n",
    "\n",
    "print(match_string(\"Create a function in python abby that matches a a0 string that has an a followed by zero\"))\n",
    "\n",
    "# in this case it returns every word in the string that matches the pattern, good one there :) \n"
   ]
  },
  {
   "cell_type": "markdown",
   "id": "effd0c8b",
   "metadata": {},
   "source": [
    "## Question 3-  Create a function in python that matches a string that has an a followed by one or more b's"
   ]
  },
  {
   "cell_type": "code",
   "execution_count": 43,
   "id": "53c0e11c",
   "metadata": {},
   "outputs": [
    {
     "name": "stdout",
     "output_type": "stream",
     "text": [
      "True\n"
     ]
    }
   ],
   "source": [
    "import re\n",
    "\n",
    "def match_string(string):\n",
    "    pattern = r'ab+'\n",
    "    match = re.search(pattern, string)\n",
    "    if match:\n",
    "        return True\n",
    "    else:\n",
    "        return False\n",
    "\n",
    "print(match_string(\"Create a function in python abby that matches a a0 string that has an a followed by zero\"))"
   ]
  },
  {
   "cell_type": "markdown",
   "id": "4bb8e216",
   "metadata": {},
   "source": [
    "## Question 4- Create a function in Python and use RegEx that matches a string that has an a followed by zero or one 'b'."
   ]
  },
  {
   "cell_type": "code",
   "execution_count": 44,
   "id": "dda286e4",
   "metadata": {},
   "outputs": [
    {
     "name": "stdout",
     "output_type": "stream",
     "text": [
      "False\n",
      "True\n"
     ]
    }
   ],
   "source": [
    "import re\n",
    "\n",
    "def match_string(string):\n",
    "    pattern = r'a(0|b)'\n",
    "    match = re.search(pattern, string)\n",
    "    if match:\n",
    "        return True\n",
    "    else:\n",
    "        return False\n",
    "\n",
    "print(match_string(\"I have a book\")) \n",
    "print(match_string(\"I have abnormal book\")) "
   ]
  },
  {
   "cell_type": "markdown",
   "id": "6da0876c",
   "metadata": {},
   "source": [
    "## Question 5- Write a Python program that matches a string that has an a followed by three 'b'."
   ]
  },
  {
   "cell_type": "code",
   "execution_count": 45,
   "id": "8b422c8b",
   "metadata": {},
   "outputs": [
    {
     "name": "stdout",
     "output_type": "stream",
     "text": [
      "False\n",
      "True\n"
     ]
    }
   ],
   "source": [
    "import re\n",
    "\n",
    "def match_string(string):\n",
    "    pattern = r'ab{3}'\n",
    "    match = re.search(pattern, string)\n",
    "    if match:\n",
    "        return True\n",
    "    else:\n",
    "        return False\n",
    "\n",
    "print(match_string(\"I have abnormal book\")) \n",
    "print(match_string(\"I have abbbnormal book\")) "
   ]
  },
  {
   "cell_type": "markdown",
   "id": "f1a0df91",
   "metadata": {},
   "source": [
    "## Question 6- Write a regular expression in Python to split a string into uppercase letters.\n",
    "Sample text: “ImportanceOfRegularExpressionsInPython”\n",
    "Output: [‘Importance’, ‘Of’, ‘Regular’, ‘Expression’, ‘In’, ‘Python’]\n"
   ]
  },
  {
   "cell_type": "code",
   "execution_count": 46,
   "id": "b019602c",
   "metadata": {},
   "outputs": [
    {
     "data": {
      "text/plain": [
       "['Importance', 'Of', 'Regular', 'Expressions', 'In', 'Python']"
      ]
     },
     "execution_count": 46,
     "metadata": {},
     "output_type": "execute_result"
    }
   ],
   "source": [
    "import re\n",
    "\n",
    "def split_string(string):\n",
    "    pattern = r'(?=[A-Z])'\n",
    "    result = re.split(pattern, string)\n",
    "    return result\n",
    "\n",
    "\n",
    "split_string = split_string(\"ImportanceOfRegularExpressionsInPython\")\n",
    "split_string.remove(\"\")\n",
    "split_string\n"
   ]
  },
  {
   "cell_type": "markdown",
   "id": "5e746c3e",
   "metadata": {},
   "source": [
    "## Question 7- Write a Python program that matches a string that has an a followed by two to three 'b'."
   ]
  },
  {
   "cell_type": "code",
   "execution_count": 47,
   "id": "c9129a54",
   "metadata": {},
   "outputs": [
    {
     "name": "stdout",
     "output_type": "stream",
     "text": [
      "False\n",
      "True\n",
      "True\n"
     ]
    }
   ],
   "source": [
    "import re\n",
    "\n",
    "def match_string(string):\n",
    "    pattern = r'ab{2,3}'\n",
    "    match = re.search(pattern, string)\n",
    "    if match:\n",
    "        return True\n",
    "    else:\n",
    "        return False\n",
    "\n",
    "print(match_string(\"I have abnormal book\")) \n",
    "print(match_string(\"I have abbnormal book\")) \n",
    "print(match_string(\"I have abbbnormal book\")) "
   ]
  },
  {
   "cell_type": "markdown",
   "id": "7a04a935",
   "metadata": {},
   "source": [
    "## Question 8- Write a Python program to find sequences of lowercase letters joined with a underscore."
   ]
  },
  {
   "cell_type": "code",
   "execution_count": 48,
   "id": "ed478691",
   "metadata": {},
   "outputs": [
    {
     "name": "stdout",
     "output_type": "stream",
     "text": [
      "['abnormal_book']\n"
     ]
    }
   ],
   "source": [
    "import re\n",
    "\n",
    "def find_sequences(string):\n",
    "    pattern = r'[a-z]+_[a-z]+'\n",
    "    sequences = re.findall(pattern, string)\n",
    "    return sequences\n",
    "\n",
    "\n",
    "print(find_sequences(\"I have abnormal_book\")) \n"
   ]
  },
  {
   "cell_type": "markdown",
   "id": "71a4550a",
   "metadata": {},
   "source": [
    "## Question 9- Write a Python program that matches a string that has an 'a' followed by anything, ending in 'b'."
   ]
  },
  {
   "cell_type": "code",
   "execution_count": 49,
   "id": "a4ac0761",
   "metadata": {},
   "outputs": [
    {
     "name": "stdout",
     "output_type": "stream",
     "text": [
      "<re.Match object; span=(3, 24), match='ave abnormal book bob'>\n"
     ]
    }
   ],
   "source": [
    "import re\n",
    "\n",
    "def find_sequences(string):\n",
    "    pattern = r'a.*?b$'\n",
    "    sequences = re.search(pattern, string)\n",
    "    return sequences\n",
    "\n",
    "print(find_sequences(\"I have abnormal book bob\"))"
   ]
  },
  {
   "cell_type": "markdown",
   "id": "0c9c5932",
   "metadata": {},
   "source": [
    "## Question 10- Write a Python program that matches a word at the beginning of a string."
   ]
  },
  {
   "cell_type": "code",
   "execution_count": 50,
   "id": "6af228d0",
   "metadata": {},
   "outputs": [
    {
     "name": "stdout",
     "output_type": "stream",
     "text": [
      "<re.Match object; span=(0, 1), match='a'>\n"
     ]
    }
   ],
   "source": [
    "import re\n",
    "\n",
    "def find_sequences(string):\n",
    "    pattern = r'^\\w+'\n",
    "    sequences = re.search(pattern, string)\n",
    "    return sequences\n",
    "   \n",
    "\n",
    "print(find_sequences(\"a I have abnormal book bob\"))"
   ]
  },
  {
   "cell_type": "markdown",
   "id": "caaad536",
   "metadata": {},
   "source": [
    "## Question 11- Write a Python program to match a string that contains only upper and lowercase letters, numbers, and underscores."
   ]
  },
  {
   "cell_type": "code",
   "execution_count": 51,
   "id": "40e95bfc",
   "metadata": {},
   "outputs": [
    {
     "name": "stdout",
     "output_type": "stream",
     "text": [
      "<re.Match object; span=(0, 1), match='a'>\n",
      "<re.Match object; span=(18, 19), match='2'>\n",
      "<re.Match object; span=(25, 29), match='bo_b'>\n"
     ]
    }
   ],
   "source": [
    "import re\n",
    "\n",
    "def find_sequences(string):\n",
    "    pattern_1 = r'[a-zA-Z]+'\n",
    "    pattern_2 = r'[0-9]'\n",
    "    pattern_3 = r'([a-zA-Z]|[0-9])+_([a-zA-Z]|[0-9]+)'\n",
    "    \n",
    "    sequences_1 = re.search(pattern_1, string)\n",
    "    sequences_2 = re.search(pattern_2, string)\n",
    "    sequences_3 = re.search(pattern_3, string)\n",
    "\n",
    "    return sequences_1, sequences_2, sequences_3\n",
    "\n",
    "# Test the function\n",
    "string = \"a I have abnormal 2 book bo_b\"\n",
    "result_1, result_2, result_3 = find_sequences(string)\n",
    "\n",
    "print(result_1)\n",
    "print(result_2)\n",
    "print(result_3)\n"
   ]
  },
  {
   "cell_type": "code",
   "execution_count": 52,
   "id": "9194b8ba",
   "metadata": {},
   "outputs": [
    {
     "name": "stdout",
     "output_type": "stream",
     "text": [
      "<re.Match object; span=(0, 1), match='a'>\n",
      "<re.Match object; span=(18, 19), match='2'>\n",
      "<re.Match object; span=(25, 29), match='bo_b'>\n"
     ]
    }
   ],
   "source": [
    "import re\n",
    "\n",
    "def match_string(string):\n",
    "    pat_1, pat_2, pat_3 = r'([a-zA-Z]+', r'[0-9]+', r'_[a-zA-Z0-9]+' \n",
    "    sequences_1, sequences_2, sequences_3 = re.findall(pat_1, string), re.findall(pat_2, string),re.findall(pat_3, string)\n",
    "    return sequences_1, sequences_2, sequences_3\n",
    "\n",
    "# Test the function\n",
    "string = \"a I have abnormal 2 book bo_b\"\n",
    "result_1, result_2, result_3 = find_sequences(string)\n",
    "\n",
    "print(result_1)\n",
    "print(result_2)\n",
    "print(result_3)\n",
    "   "
   ]
  },
  {
   "cell_type": "code",
   "execution_count": 53,
   "id": "393d931c",
   "metadata": {},
   "outputs": [
    {
     "name": "stdout",
     "output_type": "stream",
     "text": [
      "Found sequences: ['a', 'I', 'have', 'abnormal', '2', 'book', 'bo', '_b']\n"
     ]
    }
   ],
   "source": [
    "import re\n",
    "\n",
    "def find_sequences(string):\n",
    "    pattern = r'([a-zA-Z]+|[0-9]+|_[a-zA-Z0-9]+)'\n",
    "    sequences = re.findall(pattern, string)\n",
    "    return sequences\n",
    "\n",
    "# Test the function\n",
    "string = \"a I have abnormal 2 book bo_b\"\n",
    "results = find_sequences(string)\n",
    "if results:\n",
    "    print(\"Found sequences:\", results)\n",
    "else:\n",
    "    print(\"No sequences found.\")\n"
   ]
  },
  {
   "cell_type": "markdown",
   "id": "d2233f15",
   "metadata": {},
   "source": [
    "## Question 12- Write a Python program where a string will start with a specific number. "
   ]
  },
  {
   "cell_type": "code",
   "execution_count": 54,
   "id": "244c3711",
   "metadata": {},
   "outputs": [
    {
     "name": "stdout",
     "output_type": "stream",
     "text": [
      "['3 a I have abnormal 2 book bo_b']\n"
     ]
    }
   ],
   "source": [
    "import re\n",
    "\n",
    "def find_sequences(string):\n",
    "    pattern = r'^3.*'\n",
    "    sequences = re.findall(pattern, string)\n",
    "    return sequences\n",
    "\n",
    "string = \"3 a I have abnormal 2 book bo_b\"\n",
    "print(find_sequences(string))\n"
   ]
  },
  {
   "cell_type": "code",
   "execution_count": 55,
   "id": "af95de36",
   "metadata": {},
   "outputs": [
    {
     "name": "stdout",
     "output_type": "stream",
     "text": [
      "[' a I have abnormal 2 book bo_b']\n"
     ]
    }
   ],
   "source": [
    "import re\n",
    "\n",
    "def find_sequences(string):\n",
    "    pattern = r'^3(.*)'\n",
    "    sequences = re.findall(pattern, string)\n",
    "    return sequences\n",
    "\n",
    "string = \"3 a I have abnormal 2 book bo_b\"\n",
    "print(find_sequences(string))"
   ]
  },
  {
   "cell_type": "markdown",
   "id": "333bc27d",
   "metadata": {},
   "source": [
    "## Question 13- Write a Python program to remove leading zeros from an IP address"
   ]
  },
  {
   "cell_type": "code",
   "execution_count": 56,
   "id": "6aa81f9a",
   "metadata": {},
   "outputs": [
    {
     "name": "stdout",
     "output_type": "stream",
     "text": [
      "55-555 -556\n"
     ]
    }
   ],
   "source": [
    "import re\n",
    "IP_address = \"0055-555 -556\"\n",
    "result = re.sub('[.0*]', \"\", IP_address)\n",
    "   \n",
    "print(result)"
   ]
  },
  {
   "cell_type": "markdown",
   "id": "c3488e30",
   "metadata": {},
   "source": [
    "## Question 14- Write a regular expression in python to match a date string in the form of Month name followed by day number and year stored in a text file.\n",
    "Sample text : 'On August 15th 1947 that India was declared independent from British colonialism, and the reins of control were handed over to the leaders of the Country’.\n",
    "Output- August 15th 1947\n",
    "Hint- Use re.match() method here\n"
   ]
  },
  {
   "cell_type": "code",
   "execution_count": 57,
   "id": "f17adcad",
   "metadata": {},
   "outputs": [
    {
     "name": "stdout",
     "output_type": "stream",
     "text": [
      "<re.Match object; span=(3, 19), match='August 15th 1947'>\n"
     ]
    }
   ],
   "source": [
    "import re\n",
    "\n",
    "pattern = r'\\b([A-Z][a-z]+ \\d{1,2}(?:st|nd|rd|th)? \\d{4})\\b'\n",
    "\n",
    "Sample_text = '''On August 15th 1947 that India was declared independent from British colonialism,\n",
    "and the reins of control were handed over to the leaders of the Country '''\n",
    "\n",
    "result = re.search(pattern, Sample_text)\n",
    "print(result)"
   ]
  },
  {
   "cell_type": "code",
   "execution_count": 58,
   "id": "cfedc1ef",
   "metadata": {},
   "outputs": [
    {
     "name": "stdout",
     "output_type": "stream",
     "text": [
      "<re.Match object; span=(4, 20), match='August 15th 1947'>\n"
     ]
    }
   ],
   "source": [
    "import re\n",
    "\n",
    "pattern = r'([A-Z][a-z]+ \\d{1,2}(?:st|nd|rd|th)? \\d{4})'\n",
    "\n",
    "with open('C:/Users/USER/text_sample.txt', 'r') as file:\n",
    "    sample_text = file.read()\n",
    "\n",
    "result = re.search(pattern, sample_text)\n",
    "print(result)"
   ]
  },
  {
   "cell_type": "markdown",
   "id": "b393b964",
   "metadata": {},
   "source": [
    "## Question 15- Write a Python program to search some literals strings in a string. Go to the editor\n",
    "Sample text : 'The quick brown fox jumps over the lazy dog.'\n",
    "Searched words : 'fox', 'dog', 'horse'\n"
   ]
  },
  {
   "cell_type": "code",
   "execution_count": 59,
   "id": "ba9fd550",
   "metadata": {},
   "outputs": [
    {
     "name": "stdout",
     "output_type": "stream",
     "text": [
      "['fox', 'dog', 'horse']\n"
     ]
    }
   ],
   "source": [
    "import re\n",
    "\n",
    "pattern = r'(horse|dog|fox)+'\n",
    "\n",
    "sample_text = 'The quick brown fox jumps over the lazy dog and horse.'\n",
    "\n",
    "result = re.findall(pattern, sample_text)\n",
    "print(result)\n"
   ]
  },
  {
   "cell_type": "code",
   "execution_count": 60,
   "id": "9cafbbba",
   "metadata": {},
   "outputs": [
    {
     "name": "stdout",
     "output_type": "stream",
     "text": [
      "['fox', 'dog', 'horse']\n"
     ]
    }
   ],
   "source": [
    "import re\n",
    "\n",
    "pattern = r'(horse|dog|fox)+'\n",
    "\n",
    "with open('C:/Users/USER/text_sample.txt', 'r') as file:\n",
    "    sample_text = file.read()\n",
    "\n",
    "result = re.findall(pattern, sample_text)\n",
    "print(result)"
   ]
  },
  {
   "cell_type": "markdown",
   "id": "6506e983",
   "metadata": {},
   "source": [
    "## Question 16- Write a Python program to search a literals string in a string and also find the location within the original string where the pattern occurs\n",
    "Sample text : 'The quick brown fox jumps over the lazy dog.'\n",
    "Searched words : 'fox'\n"
   ]
  },
  {
   "cell_type": "code",
   "execution_count": 61,
   "id": "5f605fe9",
   "metadata": {},
   "outputs": [
    {
     "name": "stdout",
     "output_type": "stream",
     "text": [
      "Found 'fox' at position 16 to 18.\n"
     ]
    }
   ],
   "source": [
    "import re\n",
    "\n",
    "pattern = r'fox'\n",
    "\n",
    "sample_text = 'The quick brown fox jumps over the lazy dog and horse.'\n",
    "\n",
    "matches = re.finditer(pattern, sample_text)\n",
    "for match in matches:\n",
    "    start_index = match.start()\n",
    "    end_index = match.end()\n",
    "    print(f\"Found 'fox' at position {start_index} to {end_index-1}.\")"
   ]
  },
  {
   "cell_type": "code",
   "execution_count": 62,
   "id": "2b3abb7e",
   "metadata": {},
   "outputs": [
    {
     "name": "stdout",
     "output_type": "stream",
     "text": [
      "Found 'fox' at position 16 to 18.\n",
      "Found 'dog' at position 40 to 42.\n",
      "Found 'horse' at position 48 to 52.\n"
     ]
    }
   ],
   "source": [
    "import re\n",
    "\n",
    "pattern = r'(horse|dog|fox)+'\n",
    "\n",
    "sample_text = 'The quick brown fox jumps over the lazy dog and horse.'\n",
    "\n",
    "matches = re.finditer(pattern, sample_text)\n",
    "for match in matches:\n",
    "    start_index = match.start()\n",
    "    end_index = match.end()\n",
    "    print(f\"Found '{match.group()}' at position {start_index} to {end_index-1}.\")\n"
   ]
  },
  {
   "cell_type": "markdown",
   "id": "e73eb7ba",
   "metadata": {},
   "source": [
    "## Question 17- Write a Python program to find the substrings within a string.\n",
    "Sample text : 'Python exercises, PHP exercises, C# exercises'\n",
    "Pattern : 'exercises'.\n"
   ]
  },
  {
   "cell_type": "code",
   "execution_count": 63,
   "id": "e7bca6fa",
   "metadata": {},
   "outputs": [
    {
     "name": "stdout",
     "output_type": "stream",
     "text": [
      "['exercises', 'exercises', 'exercises']\n"
     ]
    }
   ],
   "source": [
    "import re\n",
    "\n",
    "sample_text = 'Python exercises, PHP exercises, C# exercises'\n",
    "\n",
    "pattern = r'exercises'\n",
    "\n",
    "result = re.findall(pattern, sample_text)\n",
    "\n",
    "print(result)"
   ]
  },
  {
   "cell_type": "markdown",
   "id": "91f37480",
   "metadata": {},
   "source": [
    "## Question 18- Write a Python program to find the occurrence and position of the substrings within a string."
   ]
  },
  {
   "cell_type": "code",
   "execution_count": 64,
   "id": "8dd61d2f",
   "metadata": {},
   "outputs": [
    {
     "name": "stdout",
     "output_type": "stream",
     "text": [
      "Found 'exercises' at position 7 to 15.\n",
      "Found 'exercises' at position 22 to 30.\n",
      "Found 'exercises' at position 36 to 44.\n"
     ]
    }
   ],
   "source": [
    "import re\n",
    "\n",
    "sample_text = 'Python exercises, PHP exercises, C# exercises'\n",
    "pattern = r'exercises'\n",
    "\n",
    "matches = re.finditer(pattern, sample_text)\n",
    "\n",
    "for match in matches:\n",
    "    occurrence = match.group()\n",
    "    start_position = match.start()\n",
    "    end_position = match.end()\n",
    "\n",
    "    print(f\"Found '{occurrence}' at position {start_position} to {end_position - 1}.\")\n"
   ]
  },
  {
   "cell_type": "markdown",
   "id": "cd64bc70",
   "metadata": {},
   "source": [
    "## Question 19- Write a Python program to convert a date of yyyy-mm-dd format to dd-mm-yyyy format."
   ]
  },
  {
   "cell_type": "code",
   "execution_count": 65,
   "id": "84335a83",
   "metadata": {},
   "outputs": [
    {
     "data": {
      "text/plain": [
       "['2022', '07', '15']"
      ]
     },
     "execution_count": 65,
     "metadata": {},
     "output_type": "execute_result"
    }
   ],
   "source": [
    "import re\n",
    "date = '2022-07-15'\n",
    "list = re.split(\"-\", date)\n",
    "list\n"
   ]
  },
  {
   "cell_type": "code",
   "execution_count": 66,
   "id": "c02bcfa9",
   "metadata": {},
   "outputs": [
    {
     "name": "stdout",
     "output_type": "stream",
     "text": [
      "15-07-2022\n"
     ]
    }
   ],
   "source": [
    "new_date = \"-\".join(list[::-1])\n",
    "print(new_date)"
   ]
  },
  {
   "cell_type": "code",
   "execution_count": 67,
   "id": "7b7069be",
   "metadata": {},
   "outputs": [
    {
     "name": "stdout",
     "output_type": "stream",
     "text": [
      "15-07-2022\n"
     ]
    }
   ],
   "source": [
    "# second method: \n",
    "    \n",
    "from datetime import datetime\n",
    "\n",
    "date_str = '2022-07-15'\n",
    "input_format = '%Y-%m-%d'\n",
    "output_format = '%d-%m-%Y'\n",
    "\n",
    "# Convert the string to a datetime object\n",
    "date_obj = datetime.strptime(date_str, input_format)\n",
    "\n",
    "# Convert the datetime object to a formatted string\n",
    "converted_date = datetime.strftime(date_obj, output_format)\n",
    "\n",
    "print(converted_date)"
   ]
  },
  {
   "cell_type": "markdown",
   "id": "f44338b6",
   "metadata": {},
   "source": [
    "## Question 20- Write a Python program to find all words starting with 'a' or 'e' in a given string."
   ]
  },
  {
   "cell_type": "code",
   "execution_count": 68,
   "id": "9c4d3fa2",
   "metadata": {},
   "outputs": [
    {
     "data": {
      "text/plain": [
       "['August', 'and', 'and']"
      ]
     },
     "execution_count": 68,
     "metadata": {},
     "output_type": "execute_result"
    }
   ],
   "source": [
    "import re\n",
    "\n",
    "string = \"\"\"On August 15th 1947 that India was declared independent from British colonialism,\n",
    "and the reins of control were handed over to the leaders of the Country'\n",
    "'The quick brown fox jumps over the lazy dog and horse.\"\"\"\n",
    "\n",
    "pattern = r'\\b[aAeE]\\w+'\n",
    "result = re.findall(pattern, string )\n",
    "result"
   ]
  },
  {
   "cell_type": "markdown",
   "id": "cb61b0d2",
   "metadata": {},
   "source": [
    "## Question 21- Write a Python program to separate and print the numbers and their position of a given string."
   ]
  },
  {
   "cell_type": "code",
   "execution_count": 69,
   "id": "8008cd4b",
   "metadata": {},
   "outputs": [
    {
     "name": "stdout",
     "output_type": "stream",
     "text": [
      "Number: 25, Position: 29\n",
      "Number: 99, Position: 32\n",
      "Number: 10, Position: 55\n"
     ]
    }
   ],
   "source": [
    "import re\n",
    "\n",
    "string = \"The price of the product is $25.99 and the quantity is 10.\"\n",
    "\n",
    "pattern = r'\\d+'\n",
    "\n",
    "matches = re.finditer(pattern, string)\n",
    "for match in matches:\n",
    "    number = match.group()\n",
    "    position = match.start()\n",
    "    print(f\"Number: {number}, Position: {position}\")\n"
   ]
  },
  {
   "cell_type": "markdown",
   "id": "1727e939",
   "metadata": {},
   "source": [
    "## Question 22- Write a regular expression in python program to extract maximum numeric value from a string"
   ]
  },
  {
   "cell_type": "code",
   "execution_count": 70,
   "id": "99467173",
   "metadata": {},
   "outputs": [
    {
     "name": "stdout",
     "output_type": "stream",
     "text": [
      "25\n"
     ]
    }
   ],
   "source": [
    "import re\n",
    "\n",
    "def max_number(string):\n",
    "    pattern = r\"\\d+\"\n",
    "    numbers = re.findall(pattern, string)\n",
    "    if numbers:\n",
    "        return max(numbers, key=int)\n",
    "    else:\n",
    "        return None\n",
    "\n",
    "string = \"3 a I have 25 abnormal 2 book bo_b\"\n",
    "print(max_number(string))\n"
   ]
  },
  {
   "cell_type": "markdown",
   "id": "990c6e78",
   "metadata": {},
   "source": [
    "## Question 23- Write a Regex in Python to put spaces between words starting with capital letters"
   ]
  },
  {
   "cell_type": "code",
   "execution_count": 71,
   "id": "739c3591",
   "metadata": {},
   "outputs": [
    {
     "name": "stdout",
     "output_type": "stream",
     "text": [
      "3 a I have 25 abnormal 2 book bo_b  Mega Giga\n"
     ]
    }
   ],
   "source": [
    "import re\n",
    "\n",
    "def add_spaces(string):\n",
    "    pattern = r\"([A-Z][a-z]+)\"\n",
    "    result = re.sub(pattern, r\" \\1\", string)\n",
    "    return result\n",
    "\n",
    "string = \"3 a I have 25 abnormal 2 book bo_b MegaGiga\"\n",
    "result = add_spaces(string)\n",
    "print(result)\n"
   ]
  },
  {
   "cell_type": "markdown",
   "id": "df72bd21",
   "metadata": {},
   "source": [
    "## Question 24- Python regex to find sequences of one upper case letter followed by lower case letters"
   ]
  },
  {
   "cell_type": "code",
   "execution_count": 72,
   "id": "b1d286c5",
   "metadata": {},
   "outputs": [
    {
     "name": "stdout",
     "output_type": "stream",
     "text": [
      "<re.Match object; span=(35, 39), match='Mega'>\n"
     ]
    }
   ],
   "source": [
    "import re\n",
    "\n",
    "def add_spaces(string):\n",
    "    pattern = r\"([A-Z][a-z]+)\"\n",
    "    result = re.search(pattern, string)\n",
    "    return result\n",
    "\n",
    "string = \"3 a I have 25 abnormal 2 book bo_b MegaGiga\"\n",
    "result = add_spaces(string)\n",
    "print(result)\n"
   ]
  },
  {
   "cell_type": "markdown",
   "id": "e844790e",
   "metadata": {},
   "source": [
    "## Question 25- Write a Python program to remove duplicate words from Sentence using Regular Expression"
   ]
  },
  {
   "cell_type": "code",
   "execution_count": 73,
   "id": "902c5cf4",
   "metadata": {},
   "outputs": [
    {
     "name": "stdout",
     "output_type": "stream",
     "text": [
      "3 a I  have 25  abnormal 2 book bo_b  cool MegaGiga\n"
     ]
    }
   ],
   "source": [
    "import re\n",
    "\n",
    "def remove_duplicate(string):\n",
    "    pattern = r'\\b(\\w+)\\b(?=.*\\b\\1\\b)'\n",
    "    result = re.sub(pattern, '', string)\n",
    "    return result\n",
    "\n",
    "string = \"3 a I 25 have 25 abnormal abnormal 2 book bo_b cool cool MegaGiga\"\n",
    "result = remove_duplicate(string)\n",
    "print(result)\n"
   ]
  },
  {
   "cell_type": "markdown",
   "id": "6b86e883",
   "metadata": {},
   "source": [
    "## Question 26-  Write a python program using RegEx to accept string ending with alphanumeric character."
   ]
  },
  {
   "cell_type": "code",
   "execution_count": 74,
   "id": "90dcdd20",
   "metadata": {},
   "outputs": [
    {
     "name": "stdout",
     "output_type": "stream",
     "text": [
      "Enter a string: \n",
      "String does not end with an alphanumeric character.\n"
     ]
    }
   ],
   "source": [
    "import re\n",
    "\n",
    "def alpha_num(string):\n",
    "    pattern = r\".*[a-zA-Z0-9]$\"\n",
    "    match = re.match(pattern, string)\n",
    "    if match:\n",
    "        return True\n",
    "    else:\n",
    "        return False\n",
    "\n",
    "string = input(\"Enter a string: \")\n",
    "if alpha_num(string):\n",
    "    print(\"Accepted: \", \"String ends with an alphanumeric character.\")\n",
    "else:\n",
    "    print(\"String does not end with an alphanumeric character.\")"
   ]
  },
  {
   "cell_type": "markdown",
   "id": "f982d1ec",
   "metadata": {},
   "source": [
    "## Question 27-Write a python program using RegEx to extract the hashtags."
   ]
  },
  {
   "cell_type": "code",
   "execution_count": 75,
   "id": "e314ffa2",
   "metadata": {},
   "outputs": [
    {
     "name": "stdout",
     "output_type": "stream",
     "text": [
      "Enter a string: \n",
      "No hashtags found.\n"
     ]
    }
   ],
   "source": [
    "import re\n",
    "\n",
    "def extract_hashtags(string):\n",
    "    pattern = r\"#\\w+\"\n",
    "    hashtags = re.findall(pattern, Sample_text)\n",
    "    return hashtags\n",
    "\n",
    "Sample_text = input(\"Enter a string: \")\n",
    "hashtags = extract_hashtags(string)\n",
    "if hashtags:\n",
    "    print(\"Extracted hashtags:\")\n",
    "    for hashtag in hashtags:\n",
    "        print(hashtag)\n",
    "else:\n",
    "    print(\"No hashtags found.\")\n"
   ]
  },
  {
   "cell_type": "markdown",
   "id": "c07b5c27",
   "metadata": {},
   "source": [
    "## Question 28- Write a python program using RegEx to remove <U+..> like symbols\n",
    "Check the below sample text, there are strange symbols something of the sort <U+..> all over the place. You need to come up with a general Regex expression that will cover all such symbols.\n",
    "Sample Text: \"@Jags123456 Bharat band on 28??<ed><U+00A0><U+00BD><ed><U+00B8><U+0082>Those who  are protesting #demonetization  are all different party leaders\"\n",
    "Output: @Jags123456 Bharat band on 28??<ed><ed>Those who  are protesting #demonetization  are all different party leaders\n"
   ]
  },
  {
   "cell_type": "code",
   "execution_count": 76,
   "id": "c059f01b",
   "metadata": {},
   "outputs": [
    {
     "name": "stdout",
     "output_type": "stream",
     "text": [
      "@Jags123456 Bharat band on 28?? Those who are protesting\n",
      "               #demonetization are all different party leaders\n"
     ]
    }
   ],
   "source": [
    "import re\n",
    "\n",
    "def remove_symbols(text):\n",
    "    pattern = r\"<U\\+[a-zA-Z0-9]+>\"\n",
    "    result = re.sub(pattern, \"\", text)\n",
    "    return result\n",
    "\n",
    "sample_text = \"\"\"@Jags123456 Bharat band on 28??<U+00A0><U+00BD><U+00B8><U+0082> Those who are protesting\n",
    "               #demonetization are all different party leaders\"\"\"\n",
    "\n",
    "processed_text = remove_symbols(sample_text)\n",
    "print(processed_text)\n"
   ]
  },
  {
   "cell_type": "markdown",
   "id": "815d1603",
   "metadata": {},
   "source": [
    "## Question 29- Write a python program to extract dates from the text stored in the text file.\n",
    "Sample Text: Ron was born on 12-09-1992 and he was admitted to school 15-12-1999.\n",
    "Store this sample text in the file and then extract dates.\n"
   ]
  },
  {
   "cell_type": "code",
   "execution_count": 77,
   "id": "40671020",
   "metadata": {},
   "outputs": [
    {
     "data": {
      "text/plain": [
       "['12-09-1992', '15-12-1999']"
      ]
     },
     "execution_count": 77,
     "metadata": {},
     "output_type": "execute_result"
    }
   ],
   "source": [
    "import re\n",
    "\n",
    "pattern = r'\\d{1,2}-\\d{1,2}-\\d{4}'\n",
    "\n",
    "\n",
    "Text = \"\"\" Ron was born on 12-09-1992 and he was admitted to school 15-12-1999.\n",
    "    Store this sample text in the file and then extract dates.\"\"\"\n",
    "dates = re.findall(pattern, Text)\n",
    "dates\n"
   ]
  },
  {
   "cell_type": "markdown",
   "id": "6c09700e",
   "metadata": {},
   "source": [
    "## Question 30- Write a Python program to replace all occurrences of a space, comma, or dot with a colon.\n",
    "Sample Text- 'Python Exercises, PHP exercises.'\n",
    "Output: Python:Exercises::PHP:exercises:\n",
    "\n"
   ]
  },
  {
   "cell_type": "code",
   "execution_count": 78,
   "id": "a42b09b4",
   "metadata": {},
   "outputs": [
    {
     "data": {
      "text/plain": [
       "'Python:Exercises::PHP:exercises:'"
      ]
     },
     "execution_count": 78,
     "metadata": {},
     "output_type": "execute_result"
    }
   ],
   "source": [
    "import re\n",
    "\n",
    "pattern = r\"(\\,|\\.)\"\n",
    "Text = 'Python Exercises, PHP exercises.'\n",
    "string = re.sub(pattern, \":\", Text)\n",
    "string.replace(\" \", \":\")\n"
   ]
  },
  {
   "cell_type": "code",
   "execution_count": 79,
   "id": "024a8bff",
   "metadata": {},
   "outputs": [
    {
     "data": {
      "text/plain": [
       "'Python:Exercises::PHP:exercises:'"
      ]
     },
     "execution_count": 79,
     "metadata": {},
     "output_type": "execute_result"
    }
   ],
   "source": [
    "# second method\n",
    "import re\n",
    "\n",
    "pattern = r\"[\\s\\.,]\"\n",
    "Text = 'Python Exercises, PHP exercises.'\n",
    "string = re.sub(pattern, \":\", Text)\n",
    "string\n"
   ]
  },
  {
   "cell_type": "code",
   "execution_count": null,
   "id": "33958f4a",
   "metadata": {},
   "outputs": [],
   "source": []
  }
 ],
 "metadata": {
  "kernelspec": {
   "display_name": "Python 3 (ipykernel)",
   "language": "python",
   "name": "python3"
  },
  "language_info": {
   "codemirror_mode": {
    "name": "ipython",
    "version": 3
   },
   "file_extension": ".py",
   "mimetype": "text/x-python",
   "name": "python",
   "nbconvert_exporter": "python",
   "pygments_lexer": "ipython3",
   "version": "3.9.12"
  },
  "varInspector": {
   "cols": {
    "lenName": 16,
    "lenType": 16,
    "lenVar": 40
   },
   "kernels_config": {
    "python": {
     "delete_cmd_postfix": "",
     "delete_cmd_prefix": "del ",
     "library": "var_list.py",
     "varRefreshCmd": "print(var_dic_list())"
    },
    "r": {
     "delete_cmd_postfix": ") ",
     "delete_cmd_prefix": "rm(",
     "library": "var_list.r",
     "varRefreshCmd": "cat(var_dic_list()) "
    }
   },
   "types_to_exclude": [
    "module",
    "function",
    "builtin_function_or_method",
    "instance",
    "_Feature"
   ],
   "window_display": false
  }
 },
 "nbformat": 4,
 "nbformat_minor": 5
}
