{
 "cells": [
  {
   "cell_type": "markdown",
   "id": "17fc6faa",
   "metadata": {},
   "source": [
    "Titanic survived Project\n",
    "\n",
    "Project Description\n",
    "\n",
    "The Titanic Problem is based on the sinking of the ‘Unsinkable’ ship Titanic in early 1912. It gives you information about multiple people like their ages, sexes, sibling counts, embarkment points, and whether or not they survived the disaster. \n",
    "Based on these features, you have to predict if an arbitrary passenger on Titanic would survive the sinking or not. \n",
    "\n",
    "Dataset Link-\n",
    "https://github.com/dsrscientist/dataset1/blob/master/titanic_train.csv\n"
   ]
  },
  {
   "cell_type": "code",
   "execution_count": 31,
   "id": "0990d608",
   "metadata": {},
   "outputs": [],
   "source": [
    "import numpy as np\n",
    "import pandas as pd \n",
    "import matplotlib.pyplot as plt\n",
    "import seaborn as sns\n",
    "import warnings\n",
    "import warnings\n",
    "warnings.filterwarnings(\"ignore\")"
   ]
  },
  {
   "cell_type": "code",
   "execution_count": 3,
   "id": "89a34a03",
   "metadata": {
    "scrolled": false
   },
   "outputs": [
    {
     "data": {
      "text/html": [
       "<div>\n",
       "<style scoped>\n",
       "    .dataframe tbody tr th:only-of-type {\n",
       "        vertical-align: middle;\n",
       "    }\n",
       "\n",
       "    .dataframe tbody tr th {\n",
       "        vertical-align: top;\n",
       "    }\n",
       "\n",
       "    .dataframe thead th {\n",
       "        text-align: right;\n",
       "    }\n",
       "</style>\n",
       "<table border=\"1\" class=\"dataframe\">\n",
       "  <thead>\n",
       "    <tr style=\"text-align: right;\">\n",
       "      <th></th>\n",
       "      <th>PassengerId</th>\n",
       "      <th>Survived</th>\n",
       "      <th>Pclass</th>\n",
       "      <th>Name</th>\n",
       "      <th>Sex</th>\n",
       "      <th>Age</th>\n",
       "      <th>SibSp</th>\n",
       "      <th>Parch</th>\n",
       "      <th>Ticket</th>\n",
       "      <th>Fare</th>\n",
       "      <th>Cabin</th>\n",
       "      <th>Embarked</th>\n",
       "    </tr>\n",
       "  </thead>\n",
       "  <tbody>\n",
       "    <tr>\n",
       "      <th>0</th>\n",
       "      <td>1</td>\n",
       "      <td>0</td>\n",
       "      <td>3</td>\n",
       "      <td>Braund, Mr. Owen Harris</td>\n",
       "      <td>male</td>\n",
       "      <td>22.0</td>\n",
       "      <td>1</td>\n",
       "      <td>0</td>\n",
       "      <td>A/5 21171</td>\n",
       "      <td>7.2500</td>\n",
       "      <td>NaN</td>\n",
       "      <td>S</td>\n",
       "    </tr>\n",
       "    <tr>\n",
       "      <th>1</th>\n",
       "      <td>2</td>\n",
       "      <td>1</td>\n",
       "      <td>1</td>\n",
       "      <td>Cumings, Mrs. John Bradley (Florence Briggs Th...</td>\n",
       "      <td>female</td>\n",
       "      <td>38.0</td>\n",
       "      <td>1</td>\n",
       "      <td>0</td>\n",
       "      <td>PC 17599</td>\n",
       "      <td>71.2833</td>\n",
       "      <td>C85</td>\n",
       "      <td>C</td>\n",
       "    </tr>\n",
       "    <tr>\n",
       "      <th>2</th>\n",
       "      <td>3</td>\n",
       "      <td>1</td>\n",
       "      <td>3</td>\n",
       "      <td>Heikkinen, Miss. Laina</td>\n",
       "      <td>female</td>\n",
       "      <td>26.0</td>\n",
       "      <td>0</td>\n",
       "      <td>0</td>\n",
       "      <td>STON/O2. 3101282</td>\n",
       "      <td>7.9250</td>\n",
       "      <td>NaN</td>\n",
       "      <td>S</td>\n",
       "    </tr>\n",
       "    <tr>\n",
       "      <th>3</th>\n",
       "      <td>4</td>\n",
       "      <td>1</td>\n",
       "      <td>1</td>\n",
       "      <td>Futrelle, Mrs. Jacques Heath (Lily May Peel)</td>\n",
       "      <td>female</td>\n",
       "      <td>35.0</td>\n",
       "      <td>1</td>\n",
       "      <td>0</td>\n",
       "      <td>113803</td>\n",
       "      <td>53.1000</td>\n",
       "      <td>C123</td>\n",
       "      <td>S</td>\n",
       "    </tr>\n",
       "    <tr>\n",
       "      <th>4</th>\n",
       "      <td>5</td>\n",
       "      <td>0</td>\n",
       "      <td>3</td>\n",
       "      <td>Allen, Mr. William Henry</td>\n",
       "      <td>male</td>\n",
       "      <td>35.0</td>\n",
       "      <td>0</td>\n",
       "      <td>0</td>\n",
       "      <td>373450</td>\n",
       "      <td>8.0500</td>\n",
       "      <td>NaN</td>\n",
       "      <td>S</td>\n",
       "    </tr>\n",
       "  </tbody>\n",
       "</table>\n",
       "</div>"
      ],
      "text/plain": [
       "   PassengerId  Survived  Pclass  \\\n",
       "0            1         0       3   \n",
       "1            2         1       1   \n",
       "2            3         1       3   \n",
       "3            4         1       1   \n",
       "4            5         0       3   \n",
       "\n",
       "                                                Name     Sex   Age  SibSp  \\\n",
       "0                            Braund, Mr. Owen Harris    male  22.0      1   \n",
       "1  Cumings, Mrs. John Bradley (Florence Briggs Th...  female  38.0      1   \n",
       "2                             Heikkinen, Miss. Laina  female  26.0      0   \n",
       "3       Futrelle, Mrs. Jacques Heath (Lily May Peel)  female  35.0      1   \n",
       "4                           Allen, Mr. William Henry    male  35.0      0   \n",
       "\n",
       "   Parch            Ticket     Fare Cabin Embarked  \n",
       "0      0         A/5 21171   7.2500   NaN        S  \n",
       "1      0          PC 17599  71.2833   C85        C  \n",
       "2      0  STON/O2. 3101282   7.9250   NaN        S  \n",
       "3      0            113803  53.1000  C123        S  \n",
       "4      0            373450   8.0500   NaN        S  "
      ]
     },
     "execution_count": 3,
     "metadata": {},
     "output_type": "execute_result"
    }
   ],
   "source": [
    "df = pd.read_csv('https://raw.githubusercontent.com/dsrscientist/dataset1/master/titanic_train.csv')\n",
    "df.head()"
   ]
  },
  {
   "cell_type": "code",
   "execution_count": 11,
   "id": "72237efa",
   "metadata": {},
   "outputs": [
    {
     "data": {
      "text/html": [
       "<div>\n",
       "<style scoped>\n",
       "    .dataframe tbody tr th:only-of-type {\n",
       "        vertical-align: middle;\n",
       "    }\n",
       "\n",
       "    .dataframe tbody tr th {\n",
       "        vertical-align: top;\n",
       "    }\n",
       "\n",
       "    .dataframe thead th {\n",
       "        text-align: right;\n",
       "    }\n",
       "</style>\n",
       "<table border=\"1\" class=\"dataframe\">\n",
       "  <thead>\n",
       "    <tr style=\"text-align: right;\">\n",
       "      <th></th>\n",
       "      <th>PassengerId</th>\n",
       "      <th>Pclass</th>\n",
       "      <th>Name</th>\n",
       "      <th>Sex</th>\n",
       "      <th>Age</th>\n",
       "      <th>SibSp</th>\n",
       "      <th>Parch</th>\n",
       "      <th>Ticket</th>\n",
       "      <th>Fare</th>\n",
       "      <th>Cabin</th>\n",
       "      <th>Embarked</th>\n",
       "      <th>Survived</th>\n",
       "    </tr>\n",
       "  </thead>\n",
       "  <tbody>\n",
       "    <tr>\n",
       "      <th>0</th>\n",
       "      <td>1</td>\n",
       "      <td>3</td>\n",
       "      <td>Braund, Mr. Owen Harris</td>\n",
       "      <td>male</td>\n",
       "      <td>22.0</td>\n",
       "      <td>1</td>\n",
       "      <td>0</td>\n",
       "      <td>A/5 21171</td>\n",
       "      <td>7.2500</td>\n",
       "      <td>NaN</td>\n",
       "      <td>S</td>\n",
       "      <td>0</td>\n",
       "    </tr>\n",
       "    <tr>\n",
       "      <th>1</th>\n",
       "      <td>2</td>\n",
       "      <td>1</td>\n",
       "      <td>Cumings, Mrs. John Bradley (Florence Briggs Th...</td>\n",
       "      <td>female</td>\n",
       "      <td>38.0</td>\n",
       "      <td>1</td>\n",
       "      <td>0</td>\n",
       "      <td>PC 17599</td>\n",
       "      <td>71.2833</td>\n",
       "      <td>C85</td>\n",
       "      <td>C</td>\n",
       "      <td>1</td>\n",
       "    </tr>\n",
       "    <tr>\n",
       "      <th>2</th>\n",
       "      <td>3</td>\n",
       "      <td>3</td>\n",
       "      <td>Heikkinen, Miss. Laina</td>\n",
       "      <td>female</td>\n",
       "      <td>26.0</td>\n",
       "      <td>0</td>\n",
       "      <td>0</td>\n",
       "      <td>STON/O2. 3101282</td>\n",
       "      <td>7.9250</td>\n",
       "      <td>NaN</td>\n",
       "      <td>S</td>\n",
       "      <td>1</td>\n",
       "    </tr>\n",
       "    <tr>\n",
       "      <th>3</th>\n",
       "      <td>4</td>\n",
       "      <td>1</td>\n",
       "      <td>Futrelle, Mrs. Jacques Heath (Lily May Peel)</td>\n",
       "      <td>female</td>\n",
       "      <td>35.0</td>\n",
       "      <td>1</td>\n",
       "      <td>0</td>\n",
       "      <td>113803</td>\n",
       "      <td>53.1000</td>\n",
       "      <td>C123</td>\n",
       "      <td>S</td>\n",
       "      <td>1</td>\n",
       "    </tr>\n",
       "    <tr>\n",
       "      <th>4</th>\n",
       "      <td>5</td>\n",
       "      <td>3</td>\n",
       "      <td>Allen, Mr. William Henry</td>\n",
       "      <td>male</td>\n",
       "      <td>35.0</td>\n",
       "      <td>0</td>\n",
       "      <td>0</td>\n",
       "      <td>373450</td>\n",
       "      <td>8.0500</td>\n",
       "      <td>NaN</td>\n",
       "      <td>S</td>\n",
       "      <td>0</td>\n",
       "    </tr>\n",
       "  </tbody>\n",
       "</table>\n",
       "</div>"
      ],
      "text/plain": [
       "   PassengerId  Pclass                                               Name  \\\n",
       "0            1       3                            Braund, Mr. Owen Harris   \n",
       "1            2       1  Cumings, Mrs. John Bradley (Florence Briggs Th...   \n",
       "2            3       3                             Heikkinen, Miss. Laina   \n",
       "3            4       1       Futrelle, Mrs. Jacques Heath (Lily May Peel)   \n",
       "4            5       3                           Allen, Mr. William Henry   \n",
       "\n",
       "      Sex   Age  SibSp  Parch            Ticket     Fare Cabin Embarked  \\\n",
       "0    male  22.0      1      0         A/5 21171   7.2500   NaN        S   \n",
       "1  female  38.0      1      0          PC 17599  71.2833   C85        C   \n",
       "2  female  26.0      0      0  STON/O2. 3101282   7.9250   NaN        S   \n",
       "3  female  35.0      1      0            113803  53.1000  C123        S   \n",
       "4    male  35.0      0      0            373450   8.0500   NaN        S   \n",
       "\n",
       "   Survived  \n",
       "0         0  \n",
       "1         1  \n",
       "2         1  \n",
       "3         1  \n",
       "4         0  "
      ]
     },
     "execution_count": 11,
     "metadata": {},
     "output_type": "execute_result"
    }
   ],
   "source": [
    "# I want to move the target to the last column and have the features ordered aside\n",
    "\n",
    "d_H_S = df.iloc[:, 1:2] \n",
    "\n",
    "df.drop([\"Survived\"], axis=1, inplace=True )\n",
    "\n",
    "df[\"Survived\"] = d_H_S\n",
    "\n",
    "df.head()"
   ]
  },
  {
   "cell_type": "code",
   "execution_count": 12,
   "id": "d1bfcff6",
   "metadata": {},
   "outputs": [
    {
     "data": {
      "text/plain": [
       "Index(['PassengerId', 'Pclass', 'Name', 'Sex', 'Age', 'SibSp', 'Parch',\n",
       "       'Ticket', 'Fare', 'Cabin', 'Embarked', 'Survived'],\n",
       "      dtype='object')"
      ]
     },
     "execution_count": 12,
     "metadata": {},
     "output_type": "execute_result"
    }
   ],
   "source": [
    "df.columns"
   ]
  },
  {
   "cell_type": "markdown",
   "id": "8b1e6e35",
   "metadata": {},
   "source": [
    "DATA EXPLORATION & VISUALISATION"
   ]
  },
  {
   "cell_type": "code",
   "execution_count": 13,
   "id": "1de622fb",
   "metadata": {},
   "outputs": [
    {
     "data": {
      "text/plain": [
       "(891, 12)"
      ]
     },
     "execution_count": 13,
     "metadata": {},
     "output_type": "execute_result"
    }
   ],
   "source": [
    "df.shape"
   ]
  },
  {
   "cell_type": "code",
   "execution_count": 14,
   "id": "cbec181b",
   "metadata": {},
   "outputs": [
    {
     "data": {
      "text/plain": [
       "PassengerId      int64\n",
       "Pclass           int64\n",
       "Name            object\n",
       "Sex             object\n",
       "Age            float64\n",
       "SibSp            int64\n",
       "Parch            int64\n",
       "Ticket          object\n",
       "Fare           float64\n",
       "Cabin           object\n",
       "Embarked        object\n",
       "Survived         int64\n",
       "dtype: object"
      ]
     },
     "execution_count": 14,
     "metadata": {},
     "output_type": "execute_result"
    }
   ],
   "source": [
    "df.dtypes"
   ]
  },
  {
   "cell_type": "markdown",
   "id": "23183c94",
   "metadata": {},
   "source": [
    "there are three different types of data (int64,float64 which numerical continuous data and  object which represent categorical data), and looking at the data these are correct"
   ]
  },
  {
   "cell_type": "code",
   "execution_count": 16,
   "id": "e30dcccc",
   "metadata": {},
   "outputs": [
    {
     "name": "stdout",
     "output_type": "stream",
     "text": [
      "null values in each column:  PassengerId      0\n",
      "Pclass           0\n",
      "Name             0\n",
      "Sex              0\n",
      "Age            177\n",
      "SibSp            0\n",
      "Parch            0\n",
      "Ticket           0\n",
      "Fare             0\n",
      "Cabin          687\n",
      "Embarked         2\n",
      "Survived         0\n",
      "dtype: int64\n",
      "\n",
      "\n",
      "sum of the null values:  866\n"
     ]
    }
   ],
   "source": [
    "print(\"null values in each column: \",df.isnull().sum())\n",
    "print(\"\\n\")\n",
    "print(\"sum of the null values: \", df.isnull().sum().sum())"
   ]
  },
  {
   "cell_type": "markdown",
   "id": "98b3d9a5",
   "metadata": {},
   "source": [
    "We have null data points in the age and cabin columns as we could imagine at that time\n",
    "\n",
    "The sum of null values are quite very high and therefore can't delete those roles sins I will be missing a lot of data so I will proceed as folllows:\n",
    "\n",
    "1. The age I will replace the age with the average representative of the ages(mean value)\n",
    "2. I will replace the missing Carbin and Embarked with the strings(They are categorica data)\n",
    "\n",
    "This is a classification model"
   ]
  },
  {
   "cell_type": "markdown",
   "id": "5db6710a",
   "metadata": {},
   "source": [
    "## Replacing NULL VALUES"
   ]
  },
  {
   "cell_type": "code",
   "execution_count": 20,
   "id": "8dacc7f7",
   "metadata": {
    "scrolled": true
   },
   "outputs": [
    {
     "name": "stdout",
     "output_type": "stream",
     "text": [
      "null values in each column:  PassengerId    0\n",
      "Pclass         0\n",
      "Name           0\n",
      "Sex            0\n",
      "Age            0\n",
      "SibSp          0\n",
      "Parch          0\n",
      "Ticket         0\n",
      "Fare           0\n",
      "Cabin          0\n",
      "Embarked       0\n",
      "Survived       0\n",
      "dtype: int64\n",
      "\n",
      "\n",
      "sum of the null values:  0\n"
     ]
    }
   ],
   "source": [
    "df[\"Age\"].fillna(value=df[\"Age\"].mean(), inplace=True)\n",
    "df[\"Embarked\"].fillna(\"E\", inplace=True)\n",
    "df[\"Cabin\"].fillna('C', inplace=True)\n",
    "\n",
    "print(\"null values in each column: \",df.isnull().sum())\n",
    "print(\"\\n\")\n",
    "print(\"sum of the null values: \", df.isnull().sum().sum())"
   ]
  },
  {
   "cell_type": "code",
   "execution_count": 27,
   "id": "a03c7f6a",
   "metadata": {},
   "outputs": [
    {
     "data": {
      "text/plain": [
       "<AxesSubplot:>"
      ]
     },
     "execution_count": 27,
     "metadata": {},
     "output_type": "execute_result"
    },
    {
     "data": {
      "image/png": "[encoded data removed]",
      "text/plain": [
       "<Figure size 432x288 with 2 Axes>"
      ]
     },
     "metadata": {
      "needs_background": "light"
     },
     "output_type": "display_data"
    }
   ],
   "source": [
    "sns.heatmap(df.isnull())"
   ]
  },
  {
   "cell_type": "code",
   "execution_count": 22,
   "id": "5dda6ad0",
   "metadata": {},
   "outputs": [
    {
     "name": "stdout",
     "output_type": "stream",
     "text": [
      "<class 'pandas.core.frame.DataFrame'>\n",
      "RangeIndex: 891 entries, 0 to 890\n",
      "Data columns (total 12 columns):\n",
      " #   Column       Non-Null Count  Dtype  \n",
      "---  ------       --------------  -----  \n",
      " 0   PassengerId  891 non-null    int64  \n",
      " 1   Pclass       891 non-null    int64  \n",
      " 2   Name         891 non-null    object \n",
      " 3   Sex          891 non-null    object \n",
      " 4   Age          891 non-null    float64\n",
      " 5   SibSp        891 non-null    int64  \n",
      " 6   Parch        891 non-null    int64  \n",
      " 7   Ticket       891 non-null    object \n",
      " 8   Fare         891 non-null    float64\n",
      " 9   Cabin        891 non-null    object \n",
      " 10  Embarked     891 non-null    object \n",
      " 11  Survived     891 non-null    int64  \n",
      "dtypes: float64(2), int64(5), object(5)\n",
      "memory usage: 83.7+ KB\n"
     ]
    }
   ],
   "source": [
    "df.info()"
   ]
  },
  {
   "cell_type": "markdown",
   "id": "e2805af3",
   "metadata": {},
   "source": [
    "The data presents 3 typer of datatype (float64(9), int64(1), object(2))), we will have to convert the object type to numerical values"
   ]
  },
  {
   "cell_type": "code",
   "execution_count": 23,
   "id": "c883a0e4",
   "metadata": {},
   "outputs": [
    {
     "name": "stdout",
     "output_type": "stream",
     "text": [
      "Categorical data:  ['Name', 'Sex', 'Ticket', 'Cabin', 'Embarked']\n",
      "\n",
      "\n",
      "Numerical data:  ['PassengerId', 'Pclass', 'Age', 'SibSp', 'Parch', 'Fare', 'Survived']\n"
     ]
    }
   ],
   "source": [
    "# Separating Numerical and Categorical columns\n",
    "\n",
    "\n",
    "Categorical_data = []\n",
    "Numerical_data = []\n",
    "\n",
    "for i in df.columns:\n",
    "    if df.dtypes[i] == 'object':\n",
    "        Categorical_data.append(i) # Checking for Categorical columns\n",
    "    else:\n",
    "        Numerical_data.append(i) #Checking for Numerical Columns\n",
    "\n",
    "\n",
    "print(\"Categorical data: \", Categorical_data)\n",
    "print(\"\\n\")\n",
    "print(\"Numerical data: \", Numerical_data)"
   ]
  },
  {
   "cell_type": "markdown",
   "id": "48d0a528",
   "metadata": {},
   "source": [
    "## Statiscal data of the numerical values"
   ]
  },
  {
   "cell_type": "code",
   "execution_count": 24,
   "id": "7b378e70",
   "metadata": {
    "scrolled": false
   },
   "outputs": [
    {
     "data": {
      "text/html": [
       "<div>\n",
       "<style scoped>\n",
       "    .dataframe tbody tr th:only-of-type {\n",
       "        vertical-align: middle;\n",
       "    }\n",
       "\n",
       "    .dataframe tbody tr th {\n",
       "        vertical-align: top;\n",
       "    }\n",
       "\n",
       "    .dataframe thead th {\n",
       "        text-align: right;\n",
       "    }\n",
       "</style>\n",
       "<table border=\"1\" class=\"dataframe\">\n",
       "  <thead>\n",
       "    <tr style=\"text-align: right;\">\n",
       "      <th></th>\n",
       "      <th>PassengerId</th>\n",
       "      <th>Pclass</th>\n",
       "      <th>Age</th>\n",
       "      <th>SibSp</th>\n",
       "      <th>Parch</th>\n",
       "      <th>Fare</th>\n",
       "      <th>Survived</th>\n",
       "    </tr>\n",
       "  </thead>\n",
       "  <tbody>\n",
       "    <tr>\n",
       "      <th>count</th>\n",
       "      <td>891.000000</td>\n",
       "      <td>891.000000</td>\n",
       "      <td>891.000000</td>\n",
       "      <td>891.000000</td>\n",
       "      <td>891.000000</td>\n",
       "      <td>891.000000</td>\n",
       "      <td>891.000000</td>\n",
       "    </tr>\n",
       "    <tr>\n",
       "      <th>mean</th>\n",
       "      <td>446.000000</td>\n",
       "      <td>2.308642</td>\n",
       "      <td>29.699118</td>\n",
       "      <td>0.523008</td>\n",
       "      <td>0.381594</td>\n",
       "      <td>32.204208</td>\n",
       "      <td>0.383838</td>\n",
       "    </tr>\n",
       "    <tr>\n",
       "      <th>std</th>\n",
       "      <td>257.353842</td>\n",
       "      <td>0.836071</td>\n",
       "      <td>13.002015</td>\n",
       "      <td>1.102743</td>\n",
       "      <td>0.806057</td>\n",
       "      <td>49.693429</td>\n",
       "      <td>0.486592</td>\n",
       "    </tr>\n",
       "    <tr>\n",
       "      <th>min</th>\n",
       "      <td>1.000000</td>\n",
       "      <td>1.000000</td>\n",
       "      <td>0.420000</td>\n",
       "      <td>0.000000</td>\n",
       "      <td>0.000000</td>\n",
       "      <td>0.000000</td>\n",
       "      <td>0.000000</td>\n",
       "    </tr>\n",
       "    <tr>\n",
       "      <th>25%</th>\n",
       "      <td>223.500000</td>\n",
       "      <td>2.000000</td>\n",
       "      <td>22.000000</td>\n",
       "      <td>0.000000</td>\n",
       "      <td>0.000000</td>\n",
       "      <td>7.910400</td>\n",
       "      <td>0.000000</td>\n",
       "    </tr>\n",
       "    <tr>\n",
       "      <th>50%</th>\n",
       "      <td>446.000000</td>\n",
       "      <td>3.000000</td>\n",
       "      <td>29.699118</td>\n",
       "      <td>0.000000</td>\n",
       "      <td>0.000000</td>\n",
       "      <td>14.454200</td>\n",
       "      <td>0.000000</td>\n",
       "    </tr>\n",
       "    <tr>\n",
       "      <th>75%</th>\n",
       "      <td>668.500000</td>\n",
       "      <td>3.000000</td>\n",
       "      <td>35.000000</td>\n",
       "      <td>1.000000</td>\n",
       "      <td>0.000000</td>\n",
       "      <td>31.000000</td>\n",
       "      <td>1.000000</td>\n",
       "    </tr>\n",
       "    <tr>\n",
       "      <th>max</th>\n",
       "      <td>891.000000</td>\n",
       "      <td>3.000000</td>\n",
       "      <td>80.000000</td>\n",
       "      <td>8.000000</td>\n",
       "      <td>6.000000</td>\n",
       "      <td>512.329200</td>\n",
       "      <td>1.000000</td>\n",
       "    </tr>\n",
       "  </tbody>\n",
       "</table>\n",
       "</div>"
      ],
      "text/plain": [
       "       PassengerId      Pclass         Age       SibSp       Parch  \\\n",
       "count   891.000000  891.000000  891.000000  891.000000  891.000000   \n",
       "mean    446.000000    2.308642   29.699118    0.523008    0.381594   \n",
       "std     257.353842    0.836071   13.002015    1.102743    0.806057   \n",
       "min       1.000000    1.000000    0.420000    0.000000    0.000000   \n",
       "25%     223.500000    2.000000   22.000000    0.000000    0.000000   \n",
       "50%     446.000000    3.000000   29.699118    0.000000    0.000000   \n",
       "75%     668.500000    3.000000   35.000000    1.000000    0.000000   \n",
       "max     891.000000    3.000000   80.000000    8.000000    6.000000   \n",
       "\n",
       "             Fare    Survived  \n",
       "count  891.000000  891.000000  \n",
       "mean    32.204208    0.383838  \n",
       "std     49.693429    0.486592  \n",
       "min      0.000000    0.000000  \n",
       "25%      7.910400    0.000000  \n",
       "50%     14.454200    0.000000  \n",
       "75%     31.000000    1.000000  \n",
       "max    512.329200    1.000000  "
      ]
     },
     "execution_count": 24,
     "metadata": {},
     "output_type": "execute_result"
    }
   ],
   "source": [
    "df.describe()"
   ]
  },
  {
   "cell_type": "markdown",
   "id": "11309acf",
   "metadata": {},
   "source": [
    "This give the statiscal information of the numerical columns. we can see no negative values present we can observe that:\n",
    "\n",
    "The counts of all the columns are same which means the are no missing values in the dataset.\n",
    "\n",
    "The differences between the mean values and the median at 50 percentile through the means there are outliers\n",
    "\n",
    "In summary, the data is distribuited, the standard deviation is high\n",
    "\n",
    "I will check anyways for outliers."
   ]
  },
  {
   "cell_type": "code",
   "execution_count": 26,
   "id": "d125f254",
   "metadata": {},
   "outputs": [
    {
     "data": {
      "text/plain": [
       "(             No. of unique values\n",
       " PassengerId                   891\n",
       " Pclass                          3\n",
       " Name                          891\n",
       " Sex                             2\n",
       " Age                            89\n",
       " SibSp                           7\n",
       " Parch                           7\n",
       " Ticket                        681\n",
       " Fare                          248\n",
       " Cabin                         148\n",
       " Embarked                        4\n",
       " Survived                        2,)"
      ]
     },
     "execution_count": 26,
     "metadata": {},
     "output_type": "execute_result"
    }
   ],
   "source": [
    "#Checkin the number of unique values in each column\n",
    "df.nunique().to_frame(\"No. of unique values\"), #to_frame is used to create a data frame for the selected code"
   ]
  },
  {
   "cell_type": "markdown",
   "id": "9eecdd6f",
   "metadata": {},
   "source": [
    "there is two unique vales in survived as expected, binary classification"
   ]
  },
  {
   "cell_type": "code",
   "execution_count": 28,
   "id": "023d6a60",
   "metadata": {
    "scrolled": true
   },
   "outputs": [
    {
     "data": {
      "text/plain": [
       "PassengerId   -0.005007\n",
       "Pclass        -0.338481\n",
       "Age           -0.069809\n",
       "SibSp         -0.035322\n",
       "Parch          0.081629\n",
       "Fare           0.257307\n",
       "Survived       1.000000\n",
       "Name: Survived, dtype: float64"
      ]
     },
     "execution_count": 28,
     "metadata": {},
     "output_type": "execute_result"
    }
   ],
   "source": [
    "df.corr()[\"Survived\"] #there is any linear correlation between the survived and the other parameters as you can see by the graph below"
   ]
  },
  {
   "cell_type": "markdown",
   "id": "f7a4d1cf",
   "metadata": {},
   "source": [
    "PassengerId, Pclass and Age negatively correlates with the Survived neverthess the values are very small. I will leave them all for them all to see them outcome of the model first"
   ]
  },
  {
   "cell_type": "code",
   "execution_count": 35,
   "id": "c712e908",
   "metadata": {
    "scrolled": false
   },
   "outputs": [
    {
     "data": {
      "text/plain": [
       "<AxesSubplot:xlabel='Survived', ylabel='Fare'>"
      ]
     },
     "execution_count": 35,
     "metadata": {},
     "output_type": "execute_result"
    },
    {
     "data": {
      "image/png": "[encoded data removed]",
      "text/plain": [
       "<Figure size 432x288 with 1 Axes>"
      ]
     },
     "metadata": {
      "needs_background": "light"
     },
     "output_type": "display_data"
    }
   ],
   "source": [
    "sns.lineplot(data=df, x=\"Survived\", y = \"Fare\")\n",
    "    "
   ]
  },
  {
   "cell_type": "code",
   "execution_count": 36,
   "id": "3438b731",
   "metadata": {
    "scrolled": true
   },
   "outputs": [
    {
     "data": {
      "text/plain": [
       "<AxesSubplot:xlabel='Survived', ylabel='Pclass'>"
      ]
     },
     "execution_count": 36,
     "metadata": {},
     "output_type": "execute_result"
    },
    {
     "data": {
      "image/png": "[encoded data removed]",
      "text/plain": [
       "<Figure size 432x288 with 1 Axes>"
      ]
     },
     "metadata": {
      "needs_background": "light"
     },
     "output_type": "display_data"
    }
   ],
   "source": [
    "sns.lineplot(data=df, x=\"Survived\", y = \"Pclass\")\n"
   ]
  },
  {
   "cell_type": "code",
   "execution_count": 37,
   "id": "b9f53dee",
   "metadata": {
    "scrolled": true
   },
   "outputs": [
    {
     "data": {
      "text/plain": [
       "<AxesSubplot:>"
      ]
     },
     "execution_count": 37,
     "metadata": {},
     "output_type": "execute_result"
    },
    {
     "data": {
      "image/png": "[encoded data removed]",
      "text/plain": [
       "<Figure size 720x432 with 2 Axes>"
      ]
     },
     "metadata": {
      "needs_background": "light"
     },
     "output_type": "display_data"
    }
   ],
   "source": [
    "plt.figure(figsize = (10,6))\n",
    "sns.heatmap(df.corr(), cmap=\"Blues\",annot=True)"
   ]
  },
  {
   "cell_type": "markdown",
   "id": "6f7432ba",
   "metadata": {},
   "source": [
    "as observed"
   ]
  },
  {
   "cell_type": "markdown",
   "id": "b7b946a8",
   "metadata": {},
   "source": [
    "## Checking for outliers"
   ]
  },
  {
   "cell_type": "code",
   "execution_count": 40,
   "id": "fc6b3b81",
   "metadata": {
    "scrolled": true
   },
   "outputs": [
    {
     "data": {
      "text/plain": [
       "PassengerId       AxesSubplot(0.125,0.536818;0.0945122x0.343182)\n",
       "Pclass         AxesSubplot(0.238415,0.536818;0.0945122x0.343182)\n",
       "Age            AxesSubplot(0.351829,0.536818;0.0945122x0.343182)\n",
       "SibSp          AxesSubplot(0.465244,0.536818;0.0945122x0.343182)\n",
       "Parch          AxesSubplot(0.578659,0.536818;0.0945122x0.343182)\n",
       "Fare           AxesSubplot(0.692073,0.536818;0.0945122x0.343182)\n",
       "Survived       AxesSubplot(0.805488,0.536818;0.0945122x0.343182)\n",
       "dtype: object"
      ]
     },
     "execution_count": 40,
     "metadata": {},
     "output_type": "execute_result"
    },
    {
     "data": {
      "image/png": "[encoded data removed]",
      "text/plain": [
       "<Figure size 720x720 with 14 Axes>"
      ]
     },
     "metadata": {
      "needs_background": "light"
     },
     "output_type": "display_data"
    }
   ],
   "source": [
    "df.plot(kind =\"box\", subplots=True, layout=(2,7), figsize=(10,10))"
   ]
  },
  {
   "cell_type": "markdown",
   "id": "93b35c2c",
   "metadata": {},
   "source": [
    " ## Removing Outliers"
   ]
  },
  {
   "cell_type": "code",
   "execution_count": 76,
   "id": "8b82b767",
   "metadata": {
    "scrolled": false
   },
   "outputs": [
    {
     "data": {
      "text/html": [
       "<div>\n",
       "<style scoped>\n",
       "    .dataframe tbody tr th:only-of-type {\n",
       "        vertical-align: middle;\n",
       "    }\n",
       "\n",
       "    .dataframe tbody tr th {\n",
       "        vertical-align: top;\n",
       "    }\n",
       "\n",
       "    .dataframe thead th {\n",
       "        text-align: right;\n",
       "    }\n",
       "</style>\n",
       "<table border=\"1\" class=\"dataframe\">\n",
       "  <thead>\n",
       "    <tr style=\"text-align: right;\">\n",
       "      <th></th>\n",
       "      <th>Age</th>\n",
       "      <th>Fare</th>\n",
       "    </tr>\n",
       "  </thead>\n",
       "  <tbody>\n",
       "    <tr>\n",
       "      <th>0</th>\n",
       "      <td>22.000000</td>\n",
       "      <td>7.2500</td>\n",
       "    </tr>\n",
       "    <tr>\n",
       "      <th>1</th>\n",
       "      <td>38.000000</td>\n",
       "      <td>71.2833</td>\n",
       "    </tr>\n",
       "    <tr>\n",
       "      <th>2</th>\n",
       "      <td>26.000000</td>\n",
       "      <td>7.9250</td>\n",
       "    </tr>\n",
       "    <tr>\n",
       "      <th>3</th>\n",
       "      <td>35.000000</td>\n",
       "      <td>53.1000</td>\n",
       "    </tr>\n",
       "    <tr>\n",
       "      <th>4</th>\n",
       "      <td>35.000000</td>\n",
       "      <td>8.0500</td>\n",
       "    </tr>\n",
       "    <tr>\n",
       "      <th>...</th>\n",
       "      <td>...</td>\n",
       "      <td>...</td>\n",
       "    </tr>\n",
       "    <tr>\n",
       "      <th>886</th>\n",
       "      <td>27.000000</td>\n",
       "      <td>13.0000</td>\n",
       "    </tr>\n",
       "    <tr>\n",
       "      <th>887</th>\n",
       "      <td>19.000000</td>\n",
       "      <td>30.0000</td>\n",
       "    </tr>\n",
       "    <tr>\n",
       "      <th>888</th>\n",
       "      <td>29.699118</td>\n",
       "      <td>23.4500</td>\n",
       "    </tr>\n",
       "    <tr>\n",
       "      <th>889</th>\n",
       "      <td>26.000000</td>\n",
       "      <td>30.0000</td>\n",
       "    </tr>\n",
       "    <tr>\n",
       "      <th>890</th>\n",
       "      <td>32.000000</td>\n",
       "      <td>7.7500</td>\n",
       "    </tr>\n",
       "  </tbody>\n",
       "</table>\n",
       "<p>891 rows × 2 columns</p>\n",
       "</div>"
      ],
      "text/plain": [
       "           Age     Fare\n",
       "0    22.000000   7.2500\n",
       "1    38.000000  71.2833\n",
       "2    26.000000   7.9250\n",
       "3    35.000000  53.1000\n",
       "4    35.000000   8.0500\n",
       "..         ...      ...\n",
       "886  27.000000  13.0000\n",
       "887  19.000000  30.0000\n",
       "888  29.699118  23.4500\n",
       "889  26.000000  30.0000\n",
       "890  32.000000   7.7500\n",
       "\n",
       "[891 rows x 2 columns]"
      ]
     },
     "execution_count": 76,
     "metadata": {},
     "output_type": "execute_result"
    }
   ],
   "source": [
    "features = df[[\"Age\",\"Fare\"]]\n",
    "features"
   ]
  },
  {
   "cell_type": "code",
   "execution_count": 74,
   "id": "476cb1b3",
   "metadata": {
    "scrolled": true
   },
   "outputs": [
    {
     "name": "stdout",
     "output_type": "stream",
     "text": [
      "old data:  891\n",
      "new data:  825\n",
      "outliers:  66\n"
     ]
    }
   ],
   "source": [
    "# removing outliers with IQR METHOD\n",
    "\n",
    "Q_1 = df['Age'].quantile(0.25)\n",
    "Q_3 = df['Age'].quantile(0.75)\n",
    "IQR = Q_3-Q_1  \n",
    "\n",
    "upper_limit = Q_3 + (1.5*IQR)\n",
    "lower_limit = Q_1 - (1.5*IQR)\n",
    "\n",
    "df.loc[(df['Age'] > upper_limit) | (df['Age'] < lower_limit)]\n",
    "new_df = df.loc[(df['Age'] < upper_limit) & (df['Age'] > lower_limit)]\n",
    "print('old data: ', len(df))\n",
    "print('new data: ', len(new_df))\n",
    "print('outliers: ', len(df)-len(new_df))\n"
   ]
  },
  {
   "cell_type": "code",
   "execution_count": 77,
   "id": "a786c4b5",
   "metadata": {
    "scrolled": true
   },
   "outputs": [
    {
     "name": "stdout",
     "output_type": "stream",
     "text": [
      "old data:  891\n",
      "new data:  775\n",
      "outliers:  116\n"
     ]
    }
   ],
   "source": [
    "# removing outliers with IQR METHOD\n",
    "\n",
    "Q_1 = df['Fare'].quantile(0.25)\n",
    "Q_3 = df['Fare'].quantile(0.75)\n",
    "IQR = Q_3-Q_1  \n",
    "\n",
    "upper_limit = Q_3 + (1.5*IQR)\n",
    "lower_limit = Q_1 - (1.5*IQR)\n",
    "\n",
    "df.loc[(df['Fare'] > upper_limit) | (df['Fare'] < lower_limit)]\n",
    "new_df = df.loc[(df['Fare'] < upper_limit) & (df['Fare'] > lower_limit)]\n",
    "print('old data: ', len(df))\n",
    "print('new data: ', len(new_df))\n",
    "print('outliers: ', len(df)-len(new_df))"
   ]
  },
  {
   "cell_type": "markdown",
   "id": "470e9e3a",
   "metadata": {},
   "source": [
    "## Checking for Skewness"
   ]
  },
  {
   "cell_type": "code",
   "execution_count": 93,
   "id": "c8010074",
   "metadata": {
    "scrolled": false
   },
   "outputs": [
    {
     "data": {
      "image/png": "[encoded data removed]",
      "text/plain": [
       "<Figure size 432x288 with 1 Axes>"
      ]
     },
     "metadata": {
      "needs_background": "light"
     },
     "output_type": "display_data"
    },
    {
     "data": {
      "image/png": "[encoded data removed]",
      "text/plain": [
       "<Figure size 432x288 with 1 Axes>"
      ]
     },
     "metadata": {
      "needs_background": "light"
     },
     "output_type": "display_data"
    },
    {
     "data": {
      "image/png": "[encoded data removed]",
      "text/plain": [
       "<Figure size 432x288 with 1 Axes>"
      ]
     },
     "metadata": {
      "needs_background": "light"
     },
     "output_type": "display_data"
    },
    {
     "data": {
      "image/png": "[encoded data removed]",
      "text/plain": [
       "<Figure size 432x288 with 1 Axes>"
      ]
     },
     "metadata": {
      "needs_background": "light"
     },
     "output_type": "display_data"
    },
    {
     "data": {
      "image/png": "[encoded data removed]",
      "text/plain": [
       "<Figure size 432x288 with 1 Axes>"
      ]
     },
     "metadata": {
      "needs_background": "light"
     },
     "output_type": "display_data"
    },
    {
     "data": {
      "image/png": "[encoded data removed]",
      "text/plain": [
       "<Figure size 432x288 with 1 Axes>"
      ]
     },
     "metadata": {
      "needs_background": "light"
     },
     "output_type": "display_data"
    },
    {
     "data": {
      "image/png": "[encoded data removed]",
      "text/plain": [
       "<Figure size 432x288 with 1 Axes>"
      ]
     },
     "metadata": {
      "needs_background": "light"
     },
     "output_type": "display_data"
    }
   ],
   "source": [
    "for i in new_df.columns:\n",
    "    if new_df[i].dtype != object:\n",
    "        ax = sns.distplot(new_df[i])\n",
    "        plt.show()"
   ]
  },
  {
   "cell_type": "code",
   "execution_count": 101,
   "id": "a1da46a8",
   "metadata": {
    "scrolled": true
   },
   "outputs": [
    {
     "data": {
      "text/plain": [
       "PassengerId   -0.007285\n",
       "Pclass        -1.029597\n",
       "Age            0.435012\n",
       "SibSp          2.790689\n",
       "Parch          3.145571\n",
       "Fare           1.430672\n",
       "Survived       0.679874\n",
       "dtype: float64"
      ]
     },
     "execution_count": 101,
     "metadata": {},
     "output_type": "execute_result"
    }
   ],
   "source": [
    "new_df.skew()"
   ]
  },
  {
   "cell_type": "markdown",
   "id": "be263ebc",
   "metadata": {},
   "source": [
    "## Removing skewness with Log Transformation"
   ]
  },
  {
   "cell_type": "code",
   "execution_count": 108,
   "id": "b756582d",
   "metadata": {},
   "outputs": [
    {
     "data": {
      "text/plain": [
       "PassengerId   -0.007285\n",
       "Pclass        -1.029597\n",
       "Age           -3.181442\n",
       "SibSp          1.306058\n",
       "Parch          1.640809\n",
       "Fare          -0.514791\n",
       "Survived       0.679874\n",
       "dtype: float64"
      ]
     },
     "execution_count": 108,
     "metadata": {},
     "output_type": "execute_result"
    }
   ],
   "source": [
    "new_df['Age'] = np.log1p(new_df['Age'])\n",
    "new_df['SibSp'] = np.log1p(new_df['SibSp'])\n",
    "new_df['Parch'] = np.log1p(new_df['Parch'])\n",
    "new_df['Fare'] = np.log1p(new_df['Fare'])\n",
    "\n",
    "new_df.skew()"
   ]
  },
  {
   "cell_type": "markdown",
   "id": "b114bee5",
   "metadata": {},
   "source": [
    "## Visualiing the correlation between label and features using bar plot"
   ]
  },
  {
   "cell_type": "code",
   "execution_count": 79,
   "id": "ad538ee3",
   "metadata": {
    "scrolled": true
   },
   "outputs": [
    {
     "data": {
      "image/png": "[encoded data removed]",
      "text/plain": [
       "<Figure size 1584x504 with 1 Axes>"
      ]
     },
     "metadata": {
      "needs_background": "light"
     },
     "output_type": "display_data"
    }
   ],
   "source": [
    "plt.figure(figsize=(22,7))\n",
    "df.corr()[\"Survived\"].sort_values(ascending = False).drop([\"Survived\"]).plot(kind = \"bar\", color = \"m\")\n",
    "plt.xlabel(\"Feature\", fontsize = 15)\n",
    "plt.ylabel(\"Target\", fontsize = 15)\n",
    "plt.title(\"Correlation between label and features using barplot\", fontsize= 20)\n",
    "plt.show()"
   ]
  },
  {
   "cell_type": "markdown",
   "id": "1b4fd67b",
   "metadata": {},
   "source": [
    "## ENCODING CATEGORICAL DATA \n",
    "\n"
   ]
  },
  {
   "cell_type": "code",
   "execution_count": 128,
   "id": "6effe978",
   "metadata": {},
   "outputs": [],
   "source": [
    "del new_df[\"Name\"]"
   ]
  },
  {
   "cell_type": "code",
   "execution_count": 129,
   "id": "bf1ac55f",
   "metadata": {},
   "outputs": [
    {
     "data": {
      "text/html": [
       "<div>\n",
       "<style scoped>\n",
       "    .dataframe tbody tr th:only-of-type {\n",
       "        vertical-align: middle;\n",
       "    }\n",
       "\n",
       "    .dataframe tbody tr th {\n",
       "        vertical-align: top;\n",
       "    }\n",
       "\n",
       "    .dataframe thead th {\n",
       "        text-align: right;\n",
       "    }\n",
       "</style>\n",
       "<table border=\"1\" class=\"dataframe\">\n",
       "  <thead>\n",
       "    <tr style=\"text-align: right;\">\n",
       "      <th></th>\n",
       "      <th>PassengerId</th>\n",
       "      <th>Pclass</th>\n",
       "      <th>Sex</th>\n",
       "      <th>Age</th>\n",
       "      <th>SibSp</th>\n",
       "      <th>Parch</th>\n",
       "      <th>Ticket</th>\n",
       "      <th>Fare</th>\n",
       "      <th>Cabin</th>\n",
       "      <th>Embarked</th>\n",
       "      <th>Survived</th>\n",
       "    </tr>\n",
       "  </thead>\n",
       "  <tbody>\n",
       "    <tr>\n",
       "      <th>0</th>\n",
       "      <td>1</td>\n",
       "      <td>3</td>\n",
       "      <td>1.0</td>\n",
       "      <td>1.419607</td>\n",
       "      <td>0.526589</td>\n",
       "      <td>0.0</td>\n",
       "      <td>495.0</td>\n",
       "      <td>2.110213</td>\n",
       "      <td>87.0</td>\n",
       "      <td>2.0</td>\n",
       "      <td>0</td>\n",
       "    </tr>\n",
       "    <tr>\n",
       "      <th>2</th>\n",
       "      <td>3</td>\n",
       "      <td>3</td>\n",
       "      <td>0.0</td>\n",
       "      <td>1.457646</td>\n",
       "      <td>0.000000</td>\n",
       "      <td>0.0</td>\n",
       "      <td>621.0</td>\n",
       "      <td>2.188856</td>\n",
       "      <td>87.0</td>\n",
       "      <td>2.0</td>\n",
       "      <td>1</td>\n",
       "    </tr>\n",
       "    <tr>\n",
       "      <th>3</th>\n",
       "      <td>4</td>\n",
       "      <td>1</td>\n",
       "      <td>0.0</td>\n",
       "      <td>1.522467</td>\n",
       "      <td>0.526589</td>\n",
       "      <td>0.0</td>\n",
       "      <td>41.0</td>\n",
       "      <td>3.990834</td>\n",
       "      <td>35.0</td>\n",
       "      <td>2.0</td>\n",
       "      <td>1</td>\n",
       "    </tr>\n",
       "    <tr>\n",
       "      <th>4</th>\n",
       "      <td>5</td>\n",
       "      <td>3</td>\n",
       "      <td>1.0</td>\n",
       "      <td>1.522467</td>\n",
       "      <td>0.000000</td>\n",
       "      <td>0.0</td>\n",
       "      <td>444.0</td>\n",
       "      <td>2.202765</td>\n",
       "      <td>87.0</td>\n",
       "      <td>2.0</td>\n",
       "      <td>0</td>\n",
       "    </tr>\n",
       "    <tr>\n",
       "      <th>5</th>\n",
       "      <td>6</td>\n",
       "      <td>3</td>\n",
       "      <td>1.0</td>\n",
       "      <td>1.487097</td>\n",
       "      <td>0.000000</td>\n",
       "      <td>0.0</td>\n",
       "      <td>253.0</td>\n",
       "      <td>2.246893</td>\n",
       "      <td>87.0</td>\n",
       "      <td>1.0</td>\n",
       "      <td>0</td>\n",
       "    </tr>\n",
       "  </tbody>\n",
       "</table>\n",
       "</div>"
      ],
      "text/plain": [
       "   PassengerId  Pclass  Sex       Age     SibSp  Parch  Ticket      Fare  \\\n",
       "0            1       3  1.0  1.419607  0.526589    0.0   495.0  2.110213   \n",
       "2            3       3  0.0  1.457646  0.000000    0.0   621.0  2.188856   \n",
       "3            4       1  0.0  1.522467  0.526589    0.0    41.0  3.990834   \n",
       "4            5       3  1.0  1.522467  0.000000    0.0   444.0  2.202765   \n",
       "5            6       3  1.0  1.487097  0.000000    0.0   253.0  2.246893   \n",
       "\n",
       "   Cabin  Embarked  Survived  \n",
       "0   87.0       2.0         0  \n",
       "2   87.0       2.0         1  \n",
       "3   35.0       2.0         1  \n",
       "4   87.0       2.0         0  \n",
       "5   87.0       1.0         0  "
      ]
     },
     "execution_count": 129,
     "metadata": {},
     "output_type": "execute_result"
    }
   ],
   "source": [
    "# Encoding categorical data using OrdinalEncoder\n",
    "from sklearn.preprocessing import OrdinalEncoder\n",
    "OE = OrdinalEncoder()\n",
    "\n",
    "for i in new_df.columns:\n",
    "    if new_df[i].dtypes == \"object\":\n",
    "        new_df[i] = OE.fit_transform(new_df[i].values.reshape(-1,1))\n",
    "new_df.head()"
   ]
  },
  {
   "cell_type": "code",
   "execution_count": 130,
   "id": "70e7cd24",
   "metadata": {},
   "outputs": [
    {
     "data": {
      "text/html": [
       "<div>\n",
       "<style scoped>\n",
       "    .dataframe tbody tr th:only-of-type {\n",
       "        vertical-align: middle;\n",
       "    }\n",
       "\n",
       "    .dataframe tbody tr th {\n",
       "        vertical-align: top;\n",
       "    }\n",
       "\n",
       "    .dataframe thead th {\n",
       "        text-align: right;\n",
       "    }\n",
       "</style>\n",
       "<table border=\"1\" class=\"dataframe\">\n",
       "  <thead>\n",
       "    <tr style=\"text-align: right;\">\n",
       "      <th></th>\n",
       "      <th>PassengerId</th>\n",
       "      <th>Pclass</th>\n",
       "      <th>Sex</th>\n",
       "      <th>Age</th>\n",
       "      <th>SibSp</th>\n",
       "      <th>Parch</th>\n",
       "      <th>Ticket</th>\n",
       "      <th>Fare</th>\n",
       "      <th>Cabin</th>\n",
       "      <th>Embarked</th>\n",
       "      <th>Survived</th>\n",
       "    </tr>\n",
       "  </thead>\n",
       "  <tbody>\n",
       "    <tr>\n",
       "      <th>PassengerId</th>\n",
       "      <td>1.000000</td>\n",
       "      <td>-0.045179</td>\n",
       "      <td>0.058468</td>\n",
       "      <td>0.012635</td>\n",
       "      <td>-0.073956</td>\n",
       "      <td>-0.019362</td>\n",
       "      <td>-0.053915</td>\n",
       "      <td>-0.017831</td>\n",
       "      <td>-0.031236</td>\n",
       "      <td>0.013444</td>\n",
       "      <td>-0.024438</td>\n",
       "    </tr>\n",
       "    <tr>\n",
       "      <th>Pclass</th>\n",
       "      <td>-0.045179</td>\n",
       "      <td>1.000000</td>\n",
       "      <td>0.011810</td>\n",
       "      <td>-0.192261</td>\n",
       "      <td>0.063685</td>\n",
       "      <td>0.063274</td>\n",
       "      <td>0.401424</td>\n",
       "      <td>-0.489322</td>\n",
       "      <td>0.635487</td>\n",
       "      <td>0.022424</td>\n",
       "      <td>-0.238532</td>\n",
       "    </tr>\n",
       "    <tr>\n",
       "      <th>Sex</th>\n",
       "      <td>0.058468</td>\n",
       "      <td>0.011810</td>\n",
       "      <td>1.000000</td>\n",
       "      <td>0.108568</td>\n",
       "      <td>-0.197933</td>\n",
       "      <td>-0.303442</td>\n",
       "      <td>0.042127</td>\n",
       "      <td>-0.187440</td>\n",
       "      <td>-0.015654</td>\n",
       "      <td>0.069446</td>\n",
       "      <td>-0.499888</td>\n",
       "    </tr>\n",
       "    <tr>\n",
       "      <th>Age</th>\n",
       "      <td>0.012635</td>\n",
       "      <td>-0.192261</td>\n",
       "      <td>0.108568</td>\n",
       "      <td>1.000000</td>\n",
       "      <td>-0.361444</td>\n",
       "      <td>-0.442446</td>\n",
       "      <td>-0.024894</td>\n",
       "      <td>-0.106783</td>\n",
       "      <td>-0.157854</td>\n",
       "      <td>0.029164</td>\n",
       "      <td>-0.175191</td>\n",
       "    </tr>\n",
       "    <tr>\n",
       "      <th>SibSp</th>\n",
       "      <td>-0.073956</td>\n",
       "      <td>0.063685</td>\n",
       "      <td>-0.197933</td>\n",
       "      <td>-0.361444</td>\n",
       "      <td>1.000000</td>\n",
       "      <td>0.485880</td>\n",
       "      <td>0.028468</td>\n",
       "      <td>0.430918</td>\n",
       "      <td>0.073271</td>\n",
       "      <td>0.036794</td>\n",
       "      <td>0.061883</td>\n",
       "    </tr>\n",
       "    <tr>\n",
       "      <th>Parch</th>\n",
       "      <td>-0.019362</td>\n",
       "      <td>0.063274</td>\n",
       "      <td>-0.303442</td>\n",
       "      <td>-0.442446</td>\n",
       "      <td>0.485880</td>\n",
       "      <td>1.000000</td>\n",
       "      <td>0.042952</td>\n",
       "      <td>0.398563</td>\n",
       "      <td>0.072420</td>\n",
       "      <td>-0.003306</td>\n",
       "      <td>0.148916</td>\n",
       "    </tr>\n",
       "    <tr>\n",
       "      <th>Ticket</th>\n",
       "      <td>-0.053915</td>\n",
       "      <td>0.401424</td>\n",
       "      <td>0.042127</td>\n",
       "      <td>-0.024894</td>\n",
       "      <td>0.028468</td>\n",
       "      <td>0.042952</td>\n",
       "      <td>1.000000</td>\n",
       "      <td>-0.199209</td>\n",
       "      <td>0.285022</td>\n",
       "      <td>0.073539</td>\n",
       "      <td>-0.158986</td>\n",
       "    </tr>\n",
       "    <tr>\n",
       "      <th>Fare</th>\n",
       "      <td>-0.017831</td>\n",
       "      <td>-0.489322</td>\n",
       "      <td>-0.187440</td>\n",
       "      <td>-0.106783</td>\n",
       "      <td>0.430918</td>\n",
       "      <td>0.398563</td>\n",
       "      <td>-0.199209</td>\n",
       "      <td>1.000000</td>\n",
       "      <td>-0.328247</td>\n",
       "      <td>-0.057515</td>\n",
       "      <td>0.247415</td>\n",
       "    </tr>\n",
       "    <tr>\n",
       "      <th>Cabin</th>\n",
       "      <td>-0.031236</td>\n",
       "      <td>0.635487</td>\n",
       "      <td>-0.015654</td>\n",
       "      <td>-0.157854</td>\n",
       "      <td>0.073271</td>\n",
       "      <td>0.072420</td>\n",
       "      <td>0.285022</td>\n",
       "      <td>-0.328247</td>\n",
       "      <td>1.000000</td>\n",
       "      <td>0.125255</td>\n",
       "      <td>-0.160636</td>\n",
       "    </tr>\n",
       "    <tr>\n",
       "      <th>Embarked</th>\n",
       "      <td>0.013444</td>\n",
       "      <td>0.022424</td>\n",
       "      <td>0.069446</td>\n",
       "      <td>0.029164</td>\n",
       "      <td>0.036794</td>\n",
       "      <td>-0.003306</td>\n",
       "      <td>0.073539</td>\n",
       "      <td>-0.057515</td>\n",
       "      <td>0.125255</td>\n",
       "      <td>1.000000</td>\n",
       "      <td>-0.107012</td>\n",
       "    </tr>\n",
       "    <tr>\n",
       "      <th>Survived</th>\n",
       "      <td>-0.024438</td>\n",
       "      <td>-0.238532</td>\n",
       "      <td>-0.499888</td>\n",
       "      <td>-0.175191</td>\n",
       "      <td>0.061883</td>\n",
       "      <td>0.148916</td>\n",
       "      <td>-0.158986</td>\n",
       "      <td>0.247415</td>\n",
       "      <td>-0.160636</td>\n",
       "      <td>-0.107012</td>\n",
       "      <td>1.000000</td>\n",
       "    </tr>\n",
       "  </tbody>\n",
       "</table>\n",
       "</div>"
      ],
      "text/plain": [
       "             PassengerId    Pclass       Sex       Age     SibSp     Parch  \\\n",
       "PassengerId     1.000000 -0.045179  0.058468  0.012635 -0.073956 -0.019362   \n",
       "Pclass         -0.045179  1.000000  0.011810 -0.192261  0.063685  0.063274   \n",
       "Sex             0.058468  0.011810  1.000000  0.108568 -0.197933 -0.303442   \n",
       "Age             0.012635 -0.192261  0.108568  1.000000 -0.361444 -0.442446   \n",
       "SibSp          -0.073956  0.063685 -0.197933 -0.361444  1.000000  0.485880   \n",
       "Parch          -0.019362  0.063274 -0.303442 -0.442446  0.485880  1.000000   \n",
       "Ticket         -0.053915  0.401424  0.042127 -0.024894  0.028468  0.042952   \n",
       "Fare           -0.017831 -0.489322 -0.187440 -0.106783  0.430918  0.398563   \n",
       "Cabin          -0.031236  0.635487 -0.015654 -0.157854  0.073271  0.072420   \n",
       "Embarked        0.013444  0.022424  0.069446  0.029164  0.036794 -0.003306   \n",
       "Survived       -0.024438 -0.238532 -0.499888 -0.175191  0.061883  0.148916   \n",
       "\n",
       "               Ticket      Fare     Cabin  Embarked  Survived  \n",
       "PassengerId -0.053915 -0.017831 -0.031236  0.013444 -0.024438  \n",
       "Pclass       0.401424 -0.489322  0.635487  0.022424 -0.238532  \n",
       "Sex          0.042127 -0.187440 -0.015654  0.069446 -0.499888  \n",
       "Age         -0.024894 -0.106783 -0.157854  0.029164 -0.175191  \n",
       "SibSp        0.028468  0.430918  0.073271  0.036794  0.061883  \n",
       "Parch        0.042952  0.398563  0.072420 -0.003306  0.148916  \n",
       "Ticket       1.000000 -0.199209  0.285022  0.073539 -0.158986  \n",
       "Fare        -0.199209  1.000000 -0.328247 -0.057515  0.247415  \n",
       "Cabin        0.285022 -0.328247  1.000000  0.125255 -0.160636  \n",
       "Embarked     0.073539 -0.057515  0.125255  1.000000 -0.107012  \n",
       "Survived    -0.158986  0.247415 -0.160636 -0.107012  1.000000  "
      ]
     },
     "execution_count": 130,
     "metadata": {},
     "output_type": "execute_result"
    }
   ],
   "source": [
    "new_df.corr()"
   ]
  },
  {
   "cell_type": "code",
   "execution_count": 131,
   "id": "993d92e2",
   "metadata": {},
   "outputs": [
    {
     "name": "stdout",
     "output_type": "stream",
     "text": [
      "x.shape:  (775, 10)\n",
      "y.shape:  (775,)\n"
     ]
    }
   ],
   "source": [
    "x = new_df.drop([\"Survived\"], axis=1)\n",
    "y =new_df.Survived\n",
    "\n",
    "# dimension of the features and target\n",
    "print(\"x.shape: \", x.shape)\n",
    "print(\"y.shape: \", y.shape)"
   ]
  },
  {
   "cell_type": "markdown",
   "id": "e6e88d61",
   "metadata": {},
   "source": [
    "## Feature Scaling using Standard Scalarization"
   ]
  },
  {
   "cell_type": "code",
   "execution_count": 132,
   "id": "0671acc7",
   "metadata": {
    "scrolled": true
   },
   "outputs": [
    {
     "data": {
      "text/html": [
       "<div>\n",
       "<style scoped>\n",
       "    .dataframe tbody tr th:only-of-type {\n",
       "        vertical-align: middle;\n",
       "    }\n",
       "\n",
       "    .dataframe tbody tr th {\n",
       "        vertical-align: top;\n",
       "    }\n",
       "\n",
       "    .dataframe thead th {\n",
       "        text-align: right;\n",
       "    }\n",
       "</style>\n",
       "<table border=\"1\" class=\"dataframe\">\n",
       "  <thead>\n",
       "    <tr style=\"text-align: right;\">\n",
       "      <th></th>\n",
       "      <th>PassengerId</th>\n",
       "      <th>Pclass</th>\n",
       "      <th>Sex</th>\n",
       "      <th>Age</th>\n",
       "      <th>SibSp</th>\n",
       "      <th>Parch</th>\n",
       "      <th>Ticket</th>\n",
       "      <th>Fare</th>\n",
       "      <th>Cabin</th>\n",
       "      <th>Embarked</th>\n",
       "    </tr>\n",
       "  </thead>\n",
       "  <tbody>\n",
       "    <tr>\n",
       "      <th>0</th>\n",
       "      <td>-1.711134</td>\n",
       "      <td>0.708528</td>\n",
       "      <td>0.677872</td>\n",
       "      <td>-0.089149</td>\n",
       "      <td>1.224245</td>\n",
       "      <td>-0.506271</td>\n",
       "      <td>0.995906</td>\n",
       "      <td>-0.824136</td>\n",
       "      <td>0.341445</td>\n",
       "      <td>0.539781</td>\n",
       "    </tr>\n",
       "    <tr>\n",
       "      <th>1</th>\n",
       "      <td>-1.703440</td>\n",
       "      <td>0.708528</td>\n",
       "      <td>-1.475205</td>\n",
       "      <td>0.111424</td>\n",
       "      <td>-0.598832</td>\n",
       "      <td>-0.506271</td>\n",
       "      <td>1.687300</td>\n",
       "      <td>-0.713891</td>\n",
       "      <td>0.341445</td>\n",
       "      <td>0.539781</td>\n",
       "    </tr>\n",
       "    <tr>\n",
       "      <th>2</th>\n",
       "      <td>-1.699593</td>\n",
       "      <td>-2.016580</td>\n",
       "      <td>-1.475205</td>\n",
       "      <td>0.453208</td>\n",
       "      <td>1.224245</td>\n",
       "      <td>-0.506271</td>\n",
       "      <td>-1.495310</td>\n",
       "      <td>1.812201</td>\n",
       "      <td>-2.700163</td>\n",
       "      <td>0.539781</td>\n",
       "    </tr>\n",
       "    <tr>\n",
       "      <th>3</th>\n",
       "      <td>-1.695746</td>\n",
       "      <td>0.708528</td>\n",
       "      <td>0.677872</td>\n",
       "      <td>0.453208</td>\n",
       "      <td>-0.598832</td>\n",
       "      <td>-0.506271</td>\n",
       "      <td>0.716055</td>\n",
       "      <td>-0.694393</td>\n",
       "      <td>0.341445</td>\n",
       "      <td>0.539781</td>\n",
       "    </tr>\n",
       "    <tr>\n",
       "      <th>4</th>\n",
       "      <td>-1.691899</td>\n",
       "      <td>0.708528</td>\n",
       "      <td>0.677872</td>\n",
       "      <td>0.266711</td>\n",
       "      <td>-0.598832</td>\n",
       "      <td>-0.506271</td>\n",
       "      <td>-0.332011</td>\n",
       "      <td>-0.632533</td>\n",
       "      <td>0.341445</td>\n",
       "      <td>-0.822858</td>\n",
       "    </tr>\n",
       "    <tr>\n",
       "      <th>...</th>\n",
       "      <td>...</td>\n",
       "      <td>...</td>\n",
       "      <td>...</td>\n",
       "      <td>...</td>\n",
       "      <td>...</td>\n",
       "      <td>...</td>\n",
       "      <td>...</td>\n",
       "      <td>...</td>\n",
       "      <td>...</td>\n",
       "      <td>...</td>\n",
       "    </tr>\n",
       "    <tr>\n",
       "      <th>770</th>\n",
       "      <td>1.697235</td>\n",
       "      <td>-0.654026</td>\n",
       "      <td>0.677872</td>\n",
       "      <td>0.155875</td>\n",
       "      <td>-0.598832</td>\n",
       "      <td>-0.506271</td>\n",
       "      <td>-1.281307</td>\n",
       "      <td>-0.082779</td>\n",
       "      <td>0.341445</td>\n",
       "      <td>0.539781</td>\n",
       "    </tr>\n",
       "    <tr>\n",
       "      <th>771</th>\n",
       "      <td>1.701082</td>\n",
       "      <td>-2.016580</td>\n",
       "      <td>-1.475205</td>\n",
       "      <td>-0.270426</td>\n",
       "      <td>-0.598832</td>\n",
       "      <td>-0.506271</td>\n",
       "      <td>-1.659928</td>\n",
       "      <td>1.031589</td>\n",
       "      <td>-3.402073</td>\n",
       "      <td>0.539781</td>\n",
       "    </tr>\n",
       "    <tr>\n",
       "      <th>772</th>\n",
       "      <td>1.704929</td>\n",
       "      <td>0.708528</td>\n",
       "      <td>-1.475205</td>\n",
       "      <td>0.266711</td>\n",
       "      <td>1.224245</td>\n",
       "      <td>2.261737</td>\n",
       "      <td>1.720224</td>\n",
       "      <td>0.698851</td>\n",
       "      <td>0.341445</td>\n",
       "      <td>0.539781</td>\n",
       "    </tr>\n",
       "    <tr>\n",
       "      <th>773</th>\n",
       "      <td>1.708776</td>\n",
       "      <td>-2.016580</td>\n",
       "      <td>0.677872</td>\n",
       "      <td>0.111424</td>\n",
       "      <td>-0.598832</td>\n",
       "      <td>-0.506271</td>\n",
       "      <td>-1.692851</td>\n",
       "      <td>1.031589</td>\n",
       "      <td>-2.466193</td>\n",
       "      <td>-2.185496</td>\n",
       "    </tr>\n",
       "    <tr>\n",
       "      <th>774</th>\n",
       "      <td>1.712623</td>\n",
       "      <td>0.708528</td>\n",
       "      <td>0.677872</td>\n",
       "      <td>0.352150</td>\n",
       "      <td>-0.598832</td>\n",
       "      <td>-0.506271</td>\n",
       "      <td>0.683132</td>\n",
       "      <td>-0.741651</td>\n",
       "      <td>0.341445</td>\n",
       "      <td>-0.822858</td>\n",
       "    </tr>\n",
       "  </tbody>\n",
       "</table>\n",
       "<p>775 rows × 10 columns</p>\n",
       "</div>"
      ],
      "text/plain": [
       "     PassengerId    Pclass       Sex       Age     SibSp     Parch    Ticket  \\\n",
       "0      -1.711134  0.708528  0.677872 -0.089149  1.224245 -0.506271  0.995906   \n",
       "1      -1.703440  0.708528 -1.475205  0.111424 -0.598832 -0.506271  1.687300   \n",
       "2      -1.699593 -2.016580 -1.475205  0.453208  1.224245 -0.506271 -1.495310   \n",
       "3      -1.695746  0.708528  0.677872  0.453208 -0.598832 -0.506271  0.716055   \n",
       "4      -1.691899  0.708528  0.677872  0.266711 -0.598832 -0.506271 -0.332011   \n",
       "..           ...       ...       ...       ...       ...       ...       ...   \n",
       "770     1.697235 -0.654026  0.677872  0.155875 -0.598832 -0.506271 -1.281307   \n",
       "771     1.701082 -2.016580 -1.475205 -0.270426 -0.598832 -0.506271 -1.659928   \n",
       "772     1.704929  0.708528 -1.475205  0.266711  1.224245  2.261737  1.720224   \n",
       "773     1.708776 -2.016580  0.677872  0.111424 -0.598832 -0.506271 -1.692851   \n",
       "774     1.712623  0.708528  0.677872  0.352150 -0.598832 -0.506271  0.683132   \n",
       "\n",
       "         Fare     Cabin  Embarked  \n",
       "0   -0.824136  0.341445  0.539781  \n",
       "1   -0.713891  0.341445  0.539781  \n",
       "2    1.812201 -2.700163  0.539781  \n",
       "3   -0.694393  0.341445  0.539781  \n",
       "4   -0.632533  0.341445 -0.822858  \n",
       "..        ...       ...       ...  \n",
       "770 -0.082779  0.341445  0.539781  \n",
       "771  1.031589 -3.402073  0.539781  \n",
       "772  0.698851  0.341445  0.539781  \n",
       "773  1.031589 -2.466193 -2.185496  \n",
       "774 -0.741651  0.341445 -0.822858  \n",
       "\n",
       "[775 rows x 10 columns]"
      ]
     },
     "execution_count": 132,
     "metadata": {},
     "output_type": "execute_result"
    }
   ],
   "source": [
    "from sklearn.preprocessing import StandardScaler\n",
    "scaler = StandardScaler()\n",
    "x= pd.DataFrame(scaler.fit_transform(x), columns = x.columns)\n",
    "x"
   ]
  },
  {
   "cell_type": "code",
   "execution_count": 133,
   "id": "c250118d",
   "metadata": {
    "scrolled": true
   },
   "outputs": [
    {
     "data": {
      "text/html": [
       "<div>\n",
       "<style scoped>\n",
       "    .dataframe tbody tr th:only-of-type {\n",
       "        vertical-align: middle;\n",
       "    }\n",
       "\n",
       "    .dataframe tbody tr th {\n",
       "        vertical-align: top;\n",
       "    }\n",
       "\n",
       "    .dataframe thead th {\n",
       "        text-align: right;\n",
       "    }\n",
       "</style>\n",
       "<table border=\"1\" class=\"dataframe\">\n",
       "  <thead>\n",
       "    <tr style=\"text-align: right;\">\n",
       "      <th></th>\n",
       "      <th>VIF values</th>\n",
       "      <th>Features</th>\n",
       "    </tr>\n",
       "  </thead>\n",
       "  <tbody>\n",
       "    <tr>\n",
       "      <th>0</th>\n",
       "      <td>1.012783</td>\n",
       "      <td>PassengerId</td>\n",
       "    </tr>\n",
       "    <tr>\n",
       "      <th>1</th>\n",
       "      <td>2.377666</td>\n",
       "      <td>Pclass</td>\n",
       "    </tr>\n",
       "    <tr>\n",
       "      <th>2</th>\n",
       "      <td>1.123338</td>\n",
       "      <td>Sex</td>\n",
       "    </tr>\n",
       "    <tr>\n",
       "      <th>3</th>\n",
       "      <td>1.349305</td>\n",
       "      <td>Age</td>\n",
       "    </tr>\n",
       "    <tr>\n",
       "      <th>4</th>\n",
       "      <td>1.616018</td>\n",
       "      <td>SibSp</td>\n",
       "    </tr>\n",
       "    <tr>\n",
       "      <th>5</th>\n",
       "      <td>1.721671</td>\n",
       "      <td>Parch</td>\n",
       "    </tr>\n",
       "    <tr>\n",
       "      <th>6</th>\n",
       "      <td>1.211150</td>\n",
       "      <td>Ticket</td>\n",
       "    </tr>\n",
       "    <tr>\n",
       "      <th>7</th>\n",
       "      <td>2.069405</td>\n",
       "      <td>Fare</td>\n",
       "    </tr>\n",
       "    <tr>\n",
       "      <th>8</th>\n",
       "      <td>1.727920</td>\n",
       "      <td>Cabin</td>\n",
       "    </tr>\n",
       "    <tr>\n",
       "      <th>9</th>\n",
       "      <td>1.041375</td>\n",
       "      <td>Embarked</td>\n",
       "    </tr>\n",
       "  </tbody>\n",
       "</table>\n",
       "</div>"
      ],
      "text/plain": [
       "   VIF values     Features\n",
       "0    1.012783  PassengerId\n",
       "1    2.377666       Pclass\n",
       "2    1.123338          Sex\n",
       "3    1.349305          Age\n",
       "4    1.616018        SibSp\n",
       "5    1.721671        Parch\n",
       "6    1.211150       Ticket\n",
       "7    2.069405         Fare\n",
       "8    1.727920        Cabin\n",
       "9    1.041375     Embarked"
      ]
     },
     "execution_count": 133,
     "metadata": {},
     "output_type": "execute_result"
    }
   ],
   "source": [
    "from statsmodels.stats.outliers_influence import variance_inflation_factor\n",
    "vif =  pd.DataFrame()\n",
    "vif[\"VIF values\"] = [variance_inflation_factor(x.values,i) for i in range(len(x.columns))]\n",
    "vif[\"Features\"] = x.columns\n",
    "\n",
    "vif"
   ]
  },
  {
   "cell_type": "markdown",
   "id": "53295e55",
   "metadata": {},
   "source": [
    "Normally VIF > 1 indicates some level of multicollinearity. Multicollinearity increases with the VIF. Common threshold values for identifying multicollinearity VIF > 10 and therefore I will leave it to look at the outcome of the model"
   ]
  },
  {
   "cell_type": "code",
   "execution_count": 135,
   "id": "27649a56",
   "metadata": {},
   "outputs": [
    {
     "data": {
      "text/plain": [
       "0    512\n",
       "1    263\n",
       "Name: Survived, dtype: int64"
      ]
     },
     "execution_count": 135,
     "metadata": {},
     "output_type": "execute_result"
    }
   ],
   "source": [
    "y.value_counts()"
   ]
  },
  {
   "cell_type": "markdown",
   "id": "362e6c9d",
   "metadata": {},
   "source": [
    "Here we can see that the data is not balanced, since it is a classification we will balance the data using oversampling method."
   ]
  },
  {
   "cell_type": "markdown",
   "id": "af2b3c74",
   "metadata": {},
   "source": [
    "## Oversampling"
   ]
  },
  {
   "cell_type": "code",
   "execution_count": 136,
   "id": "069fca1c",
   "metadata": {},
   "outputs": [],
   "source": [
    "# oversampling the dataa\n",
    "from imblearn.over_sampling import SMOTE \n",
    "SM = SMOTE()\n",
    "x1,y1 = SM.fit_resample(x,y)"
   ]
  },
  {
   "cell_type": "code",
   "execution_count": 137,
   "id": "11d6f9a4",
   "metadata": {
    "scrolled": false
   },
   "outputs": [
    {
     "data": {
      "text/plain": [
       "0    512\n",
       "1    512\n",
       "Name: Survived, dtype: int64"
      ]
     },
     "execution_count": 137,
     "metadata": {},
     "output_type": "execute_result"
    }
   ],
   "source": [
    "y1.value_counts()"
   ]
  },
  {
   "cell_type": "markdown",
   "id": "0881e7d9",
   "metadata": {},
   "source": [
    "## Modelling"
   ]
  },
  {
   "cell_type": "code",
   "execution_count": 141,
   "id": "17b0cb03",
   "metadata": {},
   "outputs": [
    {
     "name": "stdout",
     "output_type": "stream",
     "text": [
      "Best accuracy is  0.8896103896103896 at random_state 127\n",
      "Accuracy score of  RandomForestClassifier() is: \n",
      "0.8928571428571429\n",
      "[[143  12]\n",
      " [ 21 132]]\n",
      "              precision    recall  f1-score   support\n",
      "\n",
      "           0       0.87      0.92      0.90       155\n",
      "           1       0.92      0.86      0.89       153\n",
      "\n",
      "    accuracy                           0.89       308\n",
      "   macro avg       0.89      0.89      0.89       308\n",
      "weighted avg       0.89      0.89      0.89       308\n",
      "\n",
      "\n",
      "\n",
      "Accuracy score of  LogisticRegression() is: \n",
      "0.8181818181818182\n",
      "[[135  20]\n",
      " [ 36 117]]\n",
      "              precision    recall  f1-score   support\n",
      "\n",
      "           0       0.79      0.87      0.83       155\n",
      "           1       0.85      0.76      0.81       153\n",
      "\n",
      "    accuracy                           0.82       308\n",
      "   macro avg       0.82      0.82      0.82       308\n",
      "weighted avg       0.82      0.82      0.82       308\n",
      "\n",
      "\n",
      "\n",
      "Accuracy score of  ExtraTreesClassifier() is: \n",
      "0.8863636363636364\n",
      "[[141  14]\n",
      " [ 21 132]]\n",
      "              precision    recall  f1-score   support\n",
      "\n",
      "           0       0.87      0.91      0.89       155\n",
      "           1       0.90      0.86      0.88       153\n",
      "\n",
      "    accuracy                           0.89       308\n",
      "   macro avg       0.89      0.89      0.89       308\n",
      "weighted avg       0.89      0.89      0.89       308\n",
      "\n",
      "\n",
      "\n",
      "Accuracy score of  SVC() is: \n",
      "0.8409090909090909\n",
      "[[139  16]\n",
      " [ 33 120]]\n",
      "              precision    recall  f1-score   support\n",
      "\n",
      "           0       0.81      0.90      0.85       155\n",
      "           1       0.88      0.78      0.83       153\n",
      "\n",
      "    accuracy                           0.84       308\n",
      "   macro avg       0.85      0.84      0.84       308\n",
      "weighted avg       0.85      0.84      0.84       308\n",
      "\n",
      "\n",
      "\n",
      "Accuracy score of  GradientBoostingClassifier() is: \n",
      "0.8603896103896104\n",
      "[[139  16]\n",
      " [ 27 126]]\n",
      "              precision    recall  f1-score   support\n",
      "\n",
      "           0       0.84      0.90      0.87       155\n",
      "           1       0.89      0.82      0.85       153\n",
      "\n",
      "    accuracy                           0.86       308\n",
      "   macro avg       0.86      0.86      0.86       308\n",
      "weighted avg       0.86      0.86      0.86       308\n",
      "\n",
      "\n",
      "\n",
      "Accuracy score of  AdaBoostClassifier() is: \n",
      "0.8441558441558441\n",
      "[[134  21]\n",
      " [ 27 126]]\n",
      "              precision    recall  f1-score   support\n",
      "\n",
      "           0       0.83      0.86      0.85       155\n",
      "           1       0.86      0.82      0.84       153\n",
      "\n",
      "    accuracy                           0.84       308\n",
      "   macro avg       0.84      0.84      0.84       308\n",
      "weighted avg       0.84      0.84      0.84       308\n",
      "\n",
      "\n",
      "\n",
      "Accuracy score of  BaggingClassifier() is: \n",
      "0.8409090909090909\n",
      "[[140  15]\n",
      " [ 34 119]]\n",
      "              precision    recall  f1-score   support\n",
      "\n",
      "           0       0.80      0.90      0.85       155\n",
      "           1       0.89      0.78      0.83       153\n",
      "\n",
      "    accuracy                           0.84       308\n",
      "   macro avg       0.85      0.84      0.84       308\n",
      "weighted avg       0.85      0.84      0.84       308\n",
      "\n",
      "\n",
      "\n"
     ]
    }
   ],
   "source": [
    "from sklearn.model_selection import train_test_split\n",
    "from sklearn.ensemble import RandomForestClassifier\n",
    "from sklearn.metrics import accuracy_score\n",
    "\n",
    "maxAccu = 0\n",
    "maxRS = 0 \n",
    "\n",
    "for i in range(1, 200):\n",
    "    x_train,x_test, y_train, y_test = train_test_split(x1, y1, test_size=0.3, random_state=i)\n",
    "    RFR = RandomForestClassifier()\n",
    "    RFR.fit(x_train, y_train)\n",
    "    pred = RFR.predict(x_test)\n",
    "    acc = accuracy_score(y_test, pred)\n",
    "    if (acc > maxAccu):\n",
    "        maxAccu = acc\n",
    "        maxRS = i\n",
    "print(\"Best accuracy is \", maxAccu, \"at random_state\", maxRS)\n",
    "\n",
    "x_train,x_test, y_train, y_test = train_test_split(x1, y1, test_size=0.3, random_state=maxRS)\n",
    "\n",
    "rfc = RandomForestClassifier()\n",
    "lg = LogisticRegression()\n",
    "exc = ExtraTreesClassifier()\n",
    "svc = SVC()\n",
    "gbc =GradientBoostingClassifier()\n",
    "abc = AdaBoostClassifier()\n",
    "bc = BaggingClassifier()\n",
    "\n",
    "models = [rfc, lg, exc, svc, gbc, abc,bc]\n",
    "for model in models:\n",
    "    model.fit(x_train, y_train)\n",
    "    model.score(x_train, y_train)\n",
    "    pred_model = model.predict(x_test)\n",
    "    print(\"Accuracy score of \", model, \"is: \")\n",
    "    print(accuracy_score(y_test ,pred_model))\n",
    "    print(confusion_matrix(y_test,pred_model))\n",
    "    print(classification_report(y_test,pred_model))\n",
    "    print('\\n')\n",
    "\n",
    "\n"
   ]
  },
  {
   "cell_type": "markdown",
   "id": "dd53d24c",
   "metadata": {},
   "source": [
    "RandomForestClassifier() and ExtraTreesClassifier() is leading with the accuracy score with 89.2857 and 88.636 respectively\n"
   ]
  },
  {
   "cell_type": "markdown",
   "id": "41b09ef4",
   "metadata": {},
   "source": [
    "## Cross Validation Score (parameter to check the well fitting)"
   ]
  },
  {
   "cell_type": "code",
   "execution_count": 142,
   "id": "7c9567d2",
   "metadata": {},
   "outputs": [
    {
     "name": "stdout",
     "output_type": "stream",
     "text": [
      "Cross validare score of  RandomForestClassifier() is: \n",
      "[0.8        0.79354839 0.85806452 0.85806452 0.87096774]\n",
      "cross validation score mean is  0.8361290322580646\n",
      "cross validation score std is  0.0325406973236606\n",
      "Difference between Accuracy score and cross validation score is 0.004780058651026375\n",
      "\n",
      "\n",
      "Cross validare score of  LogisticRegression() is: \n",
      "[0.7483871  0.76129032 0.78064516 0.78064516 0.83870968]\n",
      "cross validation score mean is  0.7819354838709678\n",
      "cross validation score std is  0.030913931743770183\n",
      "Difference between Accuracy score and cross validation score is 0.058973607038123155\n",
      "\n",
      "\n",
      "Cross validare score of  ExtraTreesClassifier() is: \n",
      "[0.8        0.77419355 0.8        0.84516129 0.87096774]\n",
      "cross validation score mean is  0.8180645161290322\n",
      "cross validation score std is  0.03495797983004921\n",
      "Difference between Accuracy score and cross validation score is 0.022844574780058746\n",
      "\n",
      "\n",
      "Cross validare score of  SVC() is: \n",
      "[0.79354839 0.79354839 0.81290323 0.79354839 0.82580645]\n",
      "cross validation score mean is  0.8038709677419356\n",
      "cross validation score std is  0.013284684052886433\n",
      "Difference between Accuracy score and cross validation score is 0.03703812316715538\n",
      "\n",
      "\n",
      "Cross validare score of  GradientBoostingClassifier() is: \n",
      "[0.71612903 0.78064516 0.85806452 0.84516129 0.81290323]\n",
      "cross validation score mean is  0.8025806451612902\n",
      "cross validation score std is  0.05089827851178326\n",
      "Difference between Accuracy score and cross validation score is 0.0383284457478007\n",
      "\n",
      "\n",
      "Cross validare score of  AdaBoostClassifier() is: \n",
      "[0.71612903 0.80645161 0.82580645 0.78709677 0.65806452]\n",
      "cross validation score mean is  0.7587096774193548\n",
      "cross validation score std is  0.062497450520321705\n",
      "Difference between Accuracy score and cross validation score is 0.08219941348973614\n",
      "\n",
      "\n",
      "Cross validare score of  BaggingClassifier() is: \n",
      "[0.72903226 0.74193548 0.81290323 0.83225806 0.83225806]\n",
      "cross validation score mean is  0.7896774193548387\n",
      "cross validation score std is  0.04499508586880696\n",
      "Difference between Accuracy score and cross validation score is 0.051231671554252234\n",
      "\n",
      "\n"
     ]
    }
   ],
   "source": [
    "from sklearn.model_selection import cross_val_score\n",
    "\n",
    "models = [rfc, lg, exc, svc, gbc, abc,bc]\n",
    "\n",
    "for model in models:\n",
    "    score = cross_val_score(model,x,y,cv=5) \n",
    "    print(\"Cross validare score of \", model, \"is: \")\n",
    "    print(score)   \n",
    "    print(\"cross validation score mean is \", score.mean())\n",
    "    print(\"cross validation score std is \", score.std())\n",
    "    print(\"Difference between Accuracy score and cross validation score is\", accuracy_score(y_test ,pred_model)-score.mean())\n",
    "    print('\\n')"
   ]
  },
  {
   "cell_type": "markdown",
   "id": "d9fbe7f8",
   "metadata": {},
   "source": [
    "The best model is the one with lower std and lower value of the difference between accuracy score and cross validation score, between the two we choose the lowest value difference: The models present the same order and the difference between the accuracy score and cross validation is not relevante and therefore i opt for the ExtratreeClassifier with higher accuracy."
   ]
  },
  {
   "cell_type": "markdown",
   "id": "9f9205f4",
   "metadata": {},
   "source": [
    "## HyperTuning"
   ]
  },
  {
   "cell_type": "code",
   "execution_count": 144,
   "id": "e789cb37",
   "metadata": {},
   "outputs": [
    {
     "data": {
      "text/plain": [
       "GridSearchCV(cv=5, estimator=ExtraTreesClassifier(),\n",
       "             param_grid={'criterion': ['gini', 'entropy'],\n",
       "                         'max_depth': [None, 10, 30],\n",
       "                         'n_estimators': [50, 100, 200, 300], 'n_jobs': [-1, 1],\n",
       "                         'random_state': [10, 50, 1000]})"
      ]
     },
     "execution_count": 144,
     "metadata": {},
     "output_type": "execute_result"
    }
   ],
   "source": [
    "parameters = {\n",
    "    'criterion': ['gini', 'entropy'],\n",
    "    'random_state': [10, 50, 1000],  \n",
    "    'max_depth': [None, 10, 30],     \n",
    "    'n_jobs': [-1, 1],                \n",
    "    'n_estimators': [50, 100, 200, 300]\n",
    "}\n",
    "\n",
    "GCV = GridSearchCV(ExtraTreesClassifier(), parameters, cv=5)\n",
    "GCV.fit(x_train, y_train)"
   ]
  },
  {
   "cell_type": "code",
   "execution_count": 145,
   "id": "bfb3e763",
   "metadata": {},
   "outputs": [
    {
     "data": {
      "text/plain": [
       "{'criterion': 'entropy',\n",
       " 'max_depth': None,\n",
       " 'n_estimators': 100,\n",
       " 'n_jobs': -1,\n",
       " 'random_state': 50}"
      ]
     },
     "execution_count": 145,
     "metadata": {},
     "output_type": "execute_result"
    }
   ],
   "source": [
    "GCV.best_params_"
   ]
  },
  {
   "cell_type": "code",
   "execution_count": 146,
   "id": "d82ea326",
   "metadata": {},
   "outputs": [
    {
     "name": "stdout",
     "output_type": "stream",
     "text": [
      "accuracy score %:  88.31168831168831\n"
     ]
    }
   ],
   "source": [
    "Final_model = ExtraTreesClassifier(criterion = \"entropy\", \n",
    "                                   max_depth = None,\n",
    "                                   random_state = 50,\n",
    "                                   n_jobs = -1, \n",
    "                                   n_estimators =50)\n",
    "Final_model.fit(x_train, y_train)\n",
    "pred = Final_model.predict(x_test)\n",
    "acc = accuracy_score(y_test, pred)\n",
    "print(\"accuracy score %: \", acc*100)"
   ]
  },
  {
   "cell_type": "markdown",
   "id": "c885544c",
   "metadata": {},
   "source": [
    "## Plotting ROC and compare AUC for all models used"
   ]
  },
  {
   "cell_type": "code",
   "execution_count": 147,
   "id": "b319fcdc",
   "metadata": {},
   "outputs": [
    {
     "data": {
      "text/plain": [
       "<sklearn.metrics._plot.roc_curve.RocCurveDisplay at 0x170971b4be0>"
      ]
     },
     "execution_count": 147,
     "metadata": {},
     "output_type": "execute_result"
    },
    {
     "data": {
      "image/png": "[encoded data removed]",
      "text/plain": [
       "<Figure size 432x288 with 1 Axes>"
      ]
     },
     "metadata": {
      "needs_background": "light"
     },
     "output_type": "display_data"
    }
   ],
   "source": [
    "# sklearn.metric.RocCurveDisplay.from_predictions \n",
    "from sklearn import metrics\n",
    "from sklearn.metrics import RocCurveDisplay\n",
    "\n",
    "fpr, tpr, thresholds = metrics.roc_curve(y_test, pred)\n",
    "roc_auc = metrics.auc(fpr, tpr)\n",
    "display = metrics.RocCurveDisplay(fpr=fpr, tpr=tpr, roc_auc=roc_auc,estimator_name='Final_model')\n",
    "display.plot()"
   ]
  },
  {
   "cell_type": "markdown",
   "id": "80e37ecf",
   "metadata": {},
   "source": [
    "## Saving the Data"
   ]
  },
  {
   "cell_type": "code",
   "execution_count": 148,
   "id": "e1d67020",
   "metadata": {},
   "outputs": [
    {
     "data": {
      "text/plain": [
       "['Titanic_survived.pkl']"
      ]
     },
     "execution_count": 148,
     "metadata": {},
     "output_type": "execute_result"
    }
   ],
   "source": [
    "import joblib\n",
    "joblib.dump(Final_model, \"Titanic_survived.pkl\")"
   ]
  },
  {
   "cell_type": "markdown",
   "id": "86550836",
   "metadata": {},
   "source": [
    "## Pridicting with the saving model (deserialization)"
   ]
  },
  {
   "cell_type": "code",
   "execution_count": 149,
   "id": "618e3041",
   "metadata": {},
   "outputs": [
    {
     "data": {
      "text/plain": [
       "array([0, 0, 1, 0, 1, 1, 0, 1, 1, 1, 1, 0, 0, 1, 1, 1, 1, 0, 0, 0, 0, 0,\n",
       "       0, 0, 0, 1, 0, 1, 0, 0, 0, 1, 1, 0, 0, 1, 1, 0, 1, 0, 1, 1, 0, 0,\n",
       "       1, 0, 1, 0, 1, 0, 1, 0, 1, 0, 0, 0, 0, 0, 1, 0, 0, 1, 0, 1, 1, 1,\n",
       "       0, 1, 0, 0, 1, 1, 0, 0, 0, 1, 1, 0, 0, 1, 1, 0, 0, 1, 0, 1, 1, 1,\n",
       "       0, 1, 1, 1, 1, 1, 0, 1, 0, 0, 0, 0, 0, 0, 0, 1, 0, 0, 0, 0, 0, 1,\n",
       "       0, 0, 0, 0, 0, 0, 1, 0, 0, 1, 0, 0, 0, 1, 0, 0, 1, 1, 0, 1, 0, 0,\n",
       "       1, 1, 0, 1, 1, 0, 0, 0, 1, 1, 1, 1, 1, 0, 0, 1, 1, 0, 0, 0, 0, 0,\n",
       "       1, 0, 1, 0, 0, 1, 0, 0, 1, 0, 0, 0, 1, 1, 1, 1, 0, 1, 0, 0, 1, 1,\n",
       "       0, 0, 0, 1, 1, 0, 1, 0, 1, 1, 1, 0, 0, 1, 0, 1, 1, 1, 0, 0, 0, 1,\n",
       "       0, 0, 1, 1, 0, 1, 1, 0, 1, 0, 0, 1, 1, 0, 1, 1, 0, 0, 1, 1, 0, 1,\n",
       "       1, 1, 1, 1, 1, 1, 0, 0, 1, 0, 1, 1, 0, 0, 1, 1, 0, 0, 0, 1, 1, 1,\n",
       "       1, 1, 0, 1, 1, 0, 0, 1, 1, 0, 1, 0, 0, 1, 1, 1, 0, 1, 1, 0, 1, 1,\n",
       "       0, 0, 0, 0, 1, 0, 1, 0, 0, 0, 0, 0, 1, 0, 1, 0, 1, 1, 1, 0, 0, 0,\n",
       "       1, 1, 0, 1, 0, 1, 0, 1, 1, 1, 1, 0, 0, 0, 0, 0, 1, 0, 0, 1, 0, 0],\n",
       "      dtype=int64)"
      ]
     },
     "execution_count": 149,
     "metadata": {},
     "output_type": "execute_result"
    }
   ],
   "source": [
    "import joblib\n",
    "model_loaded = joblib.load(\"Titanic_survived.pkl\")\n",
    "\n",
    "# Making prediction\n",
    "prediction = model_loaded.predict(x_test)\n",
    "prediction"
   ]
  },
  {
   "cell_type": "markdown",
   "id": "c8ba9e17",
   "metadata": {},
   "source": [
    "## These are the predicted values"
   ]
  },
  {
   "cell_type": "code",
   "execution_count": 150,
   "id": "448fd3f7",
   "metadata": {},
   "outputs": [
    {
     "data": {
      "text/html": [
       "<div>\n",
       "<style scoped>\n",
       "    .dataframe tbody tr th:only-of-type {\n",
       "        vertical-align: middle;\n",
       "    }\n",
       "\n",
       "    .dataframe tbody tr th {\n",
       "        vertical-align: top;\n",
       "    }\n",
       "\n",
       "    .dataframe thead th {\n",
       "        text-align: right;\n",
       "    }\n",
       "</style>\n",
       "<table border=\"1\" class=\"dataframe\">\n",
       "  <thead>\n",
       "    <tr style=\"text-align: right;\">\n",
       "      <th></th>\n",
       "      <th>Predicted</th>\n",
       "      <th>Original</th>\n",
       "    </tr>\n",
       "  </thead>\n",
       "  <tbody>\n",
       "    <tr>\n",
       "      <th>0</th>\n",
       "      <td>0</td>\n",
       "      <td>0</td>\n",
       "    </tr>\n",
       "    <tr>\n",
       "      <th>1</th>\n",
       "      <td>0</td>\n",
       "      <td>0</td>\n",
       "    </tr>\n",
       "    <tr>\n",
       "      <th>2</th>\n",
       "      <td>1</td>\n",
       "      <td>1</td>\n",
       "    </tr>\n",
       "    <tr>\n",
       "      <th>3</th>\n",
       "      <td>0</td>\n",
       "      <td>0</td>\n",
       "    </tr>\n",
       "    <tr>\n",
       "      <th>4</th>\n",
       "      <td>1</td>\n",
       "      <td>1</td>\n",
       "    </tr>\n",
       "    <tr>\n",
       "      <th>...</th>\n",
       "      <td>...</td>\n",
       "      <td>...</td>\n",
       "    </tr>\n",
       "    <tr>\n",
       "      <th>303</th>\n",
       "      <td>0</td>\n",
       "      <td>0</td>\n",
       "    </tr>\n",
       "    <tr>\n",
       "      <th>304</th>\n",
       "      <td>0</td>\n",
       "      <td>0</td>\n",
       "    </tr>\n",
       "    <tr>\n",
       "      <th>305</th>\n",
       "      <td>1</td>\n",
       "      <td>1</td>\n",
       "    </tr>\n",
       "    <tr>\n",
       "      <th>306</th>\n",
       "      <td>0</td>\n",
       "      <td>0</td>\n",
       "    </tr>\n",
       "    <tr>\n",
       "      <th>307</th>\n",
       "      <td>0</td>\n",
       "      <td>0</td>\n",
       "    </tr>\n",
       "  </tbody>\n",
       "</table>\n",
       "<p>308 rows × 2 columns</p>\n",
       "</div>"
      ],
      "text/plain": [
       "     Predicted  Original\n",
       "0            0         0\n",
       "1            0         0\n",
       "2            1         1\n",
       "3            0         0\n",
       "4            1         1\n",
       "..         ...       ...\n",
       "303          0         0\n",
       "304          0         0\n",
       "305          1         1\n",
       "306          0         0\n",
       "307          0         0\n",
       "\n",
       "[308 rows x 2 columns]"
      ]
     },
     "execution_count": 150,
     "metadata": {},
     "output_type": "execute_result"
    }
   ],
   "source": [
    "a = np.array(y_test)\n",
    "df2 = pd.DataFrame()\n",
    "df2[\"Predicted\"] = prediction\n",
    "df2[\"Original\"] = a\n",
    "df2"
   ]
  },
  {
   "cell_type": "code",
   "execution_count": null,
   "id": "bce847c4",
   "metadata": {},
   "outputs": [],
   "source": []
  }
 ],
 "metadata": {
  "kernelspec": {
   "display_name": "Python 3 (ipykernel)",
   "language": "python",
   "name": "python3"
  },
  "language_info": {
   "codemirror_mode": {
    "name": "ipython",
    "version": 3
   },
   "file_extension": ".py",
   "mimetype": "text/x-python",
   "name": "python",
   "nbconvert_exporter": "python",
   "pygments_lexer": "ipython3",
   "version": "3.9.12"
  },
  "varInspector": {
   "cols": {
    "lenName": 16,
    "lenType": 16,
    "lenVar": 40
   },
   "kernels_config": {
    "python": {
     "delete_cmd_postfix": "",
     "delete_cmd_prefix": "del ",
     "library": "var_list.py",
     "varRefreshCmd": "print(var_dic_list())"
    },
    "r": {
     "delete_cmd_postfix": ") ",
     "delete_cmd_prefix": "rm(",
     "library": "var_list.r",
     "varRefreshCmd": "cat(var_dic_list()) "
    }
   },
   "types_to_exclude": [
    "module",
    "function",
    "builtin_function_or_method",
    "instance",
    "_Feature"
   ],
   "window_display": false
  }
 },
 "nbformat": 4,
 "nbformat_minor": 5
}
