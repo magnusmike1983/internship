{
 "cells": [
  {
   "cell_type": "raw",
   "id": "9b75df80",
   "metadata": {},
   "source": [
    "Project Description\n",
    "The dataset is related to red and white variants of the Portuguese \"Vinho Verde\" wine. Due to privacy and logistic issues, only physicochemical (inputs) and sensory (the output) variables are available (e.g. there is no data about grape types, wine brand, wine selling price, etc.).\n",
    "\n",
    "This dataset can be viewed as classification task. The classes are ordered and not balanced (e.g. there are many more normal wines than excellent or poor ones). Also, we are not sure if all input variables are relevant. So it could be interesting to test feature selection methods.\n",
    "Attribute Information\n",
    "Input variables (based on physicochemical tests):\n",
    "1 - fixed acidity\n",
    "2 - volatile acidity\n",
    "3 - citric acid\n",
    "4 - residual sugar\n",
    "5 - chlorides\n",
    "6 - free sulfur dioxide\n",
    "7 - total sulfur dioxide\n",
    "8 - density\n",
    "9 - pH\n",
    "10 - sulphates\n",
    "11 - alcohol\n",
    "Output variable (based on sensory data):\n",
    "12 - quality (score between 0 and 10)\n",
    "What might be an interesting thing to do, is to set an arbitrary cutoff for your dependent variable (wine quality) at e.g. 7 or higher getting classified as 'good/1' and the remainder as 'not good/0'.\n",
    "This allows you to practice with hyper parameter tuning on e.g. decision tree algorithms looking at the ROC curve and the AUC value.\n",
    "You need to build a classification model. \n",
    "Inspiration\n",
    "Use machine learning to determine which physiochemical properties make a wine 'good'!"
   ]
  },
  {
   "cell_type": "markdown",
   "id": "fb8d6dc6",
   "metadata": {},
   "source": [
    "Dataset Link-\n",
    "https://github.com/dsrscientist/DSData/blob/master/winequality-red.csv"
   ]
  },
  {
   "cell_type": "markdown",
   "id": "ab0aeed4",
   "metadata": {},
   "source": [
    "## Importing Libraries"
   ]
  },
  {
   "cell_type": "code",
   "execution_count": 1,
   "id": "d5c0687f",
   "metadata": {},
   "outputs": [],
   "source": [
    "import pandas as pd \n",
    "import numpy as np \n",
    "import seaborn as sns \n",
    "import matplotlib.pyplot as plt \n",
    "import warnings\n",
    "warnings.filterwarnings('ignore')\n"
   ]
  },
  {
   "cell_type": "markdown",
   "id": "7fa3637f",
   "metadata": {},
   "source": [
    "## Importing Dataset"
   ]
  },
  {
   "cell_type": "code",
   "execution_count": 2,
   "id": "ccde5507",
   "metadata": {},
   "outputs": [
    {
     "data": {
      "text/html": [
       "<div>\n",
       "<style scoped>\n",
       "    .dataframe tbody tr th:only-of-type {\n",
       "        vertical-align: middle;\n",
       "    }\n",
       "\n",
       "    .dataframe tbody tr th {\n",
       "        vertical-align: top;\n",
       "    }\n",
       "\n",
       "    .dataframe thead th {\n",
       "        text-align: right;\n",
       "    }\n",
       "</style>\n",
       "<table border=\"1\" class=\"dataframe\">\n",
       "  <thead>\n",
       "    <tr style=\"text-align: right;\">\n",
       "      <th></th>\n",
       "      <th>fixed acidity</th>\n",
       "      <th>volatile acidity</th>\n",
       "      <th>citric acid</th>\n",
       "      <th>residual sugar</th>\n",
       "      <th>chlorides</th>\n",
       "      <th>free sulfur dioxide</th>\n",
       "      <th>total sulfur dioxide</th>\n",
       "      <th>density</th>\n",
       "      <th>pH</th>\n",
       "      <th>sulphates</th>\n",
       "      <th>alcohol</th>\n",
       "      <th>quality</th>\n",
       "    </tr>\n",
       "  </thead>\n",
       "  <tbody>\n",
       "    <tr>\n",
       "      <th>0</th>\n",
       "      <td>7.4</td>\n",
       "      <td>0.700</td>\n",
       "      <td>0.00</td>\n",
       "      <td>1.9</td>\n",
       "      <td>0.076</td>\n",
       "      <td>11.0</td>\n",
       "      <td>34.0</td>\n",
       "      <td>0.99780</td>\n",
       "      <td>3.51</td>\n",
       "      <td>0.56</td>\n",
       "      <td>9.4</td>\n",
       "      <td>5</td>\n",
       "    </tr>\n",
       "    <tr>\n",
       "      <th>1</th>\n",
       "      <td>7.8</td>\n",
       "      <td>0.880</td>\n",
       "      <td>0.00</td>\n",
       "      <td>2.6</td>\n",
       "      <td>0.098</td>\n",
       "      <td>25.0</td>\n",
       "      <td>67.0</td>\n",
       "      <td>0.99680</td>\n",
       "      <td>3.20</td>\n",
       "      <td>0.68</td>\n",
       "      <td>9.8</td>\n",
       "      <td>5</td>\n",
       "    </tr>\n",
       "    <tr>\n",
       "      <th>2</th>\n",
       "      <td>7.8</td>\n",
       "      <td>0.760</td>\n",
       "      <td>0.04</td>\n",
       "      <td>2.3</td>\n",
       "      <td>0.092</td>\n",
       "      <td>15.0</td>\n",
       "      <td>54.0</td>\n",
       "      <td>0.99700</td>\n",
       "      <td>3.26</td>\n",
       "      <td>0.65</td>\n",
       "      <td>9.8</td>\n",
       "      <td>5</td>\n",
       "    </tr>\n",
       "    <tr>\n",
       "      <th>3</th>\n",
       "      <td>11.2</td>\n",
       "      <td>0.280</td>\n",
       "      <td>0.56</td>\n",
       "      <td>1.9</td>\n",
       "      <td>0.075</td>\n",
       "      <td>17.0</td>\n",
       "      <td>60.0</td>\n",
       "      <td>0.99800</td>\n",
       "      <td>3.16</td>\n",
       "      <td>0.58</td>\n",
       "      <td>9.8</td>\n",
       "      <td>6</td>\n",
       "    </tr>\n",
       "    <tr>\n",
       "      <th>4</th>\n",
       "      <td>7.4</td>\n",
       "      <td>0.700</td>\n",
       "      <td>0.00</td>\n",
       "      <td>1.9</td>\n",
       "      <td>0.076</td>\n",
       "      <td>11.0</td>\n",
       "      <td>34.0</td>\n",
       "      <td>0.99780</td>\n",
       "      <td>3.51</td>\n",
       "      <td>0.56</td>\n",
       "      <td>9.4</td>\n",
       "      <td>5</td>\n",
       "    </tr>\n",
       "    <tr>\n",
       "      <th>...</th>\n",
       "      <td>...</td>\n",
       "      <td>...</td>\n",
       "      <td>...</td>\n",
       "      <td>...</td>\n",
       "      <td>...</td>\n",
       "      <td>...</td>\n",
       "      <td>...</td>\n",
       "      <td>...</td>\n",
       "      <td>...</td>\n",
       "      <td>...</td>\n",
       "      <td>...</td>\n",
       "      <td>...</td>\n",
       "    </tr>\n",
       "    <tr>\n",
       "      <th>1594</th>\n",
       "      <td>6.2</td>\n",
       "      <td>0.600</td>\n",
       "      <td>0.08</td>\n",
       "      <td>2.0</td>\n",
       "      <td>0.090</td>\n",
       "      <td>32.0</td>\n",
       "      <td>44.0</td>\n",
       "      <td>0.99490</td>\n",
       "      <td>3.45</td>\n",
       "      <td>0.58</td>\n",
       "      <td>10.5</td>\n",
       "      <td>5</td>\n",
       "    </tr>\n",
       "    <tr>\n",
       "      <th>1595</th>\n",
       "      <td>5.9</td>\n",
       "      <td>0.550</td>\n",
       "      <td>0.10</td>\n",
       "      <td>2.2</td>\n",
       "      <td>0.062</td>\n",
       "      <td>39.0</td>\n",
       "      <td>51.0</td>\n",
       "      <td>0.99512</td>\n",
       "      <td>3.52</td>\n",
       "      <td>0.76</td>\n",
       "      <td>11.2</td>\n",
       "      <td>6</td>\n",
       "    </tr>\n",
       "    <tr>\n",
       "      <th>1596</th>\n",
       "      <td>6.3</td>\n",
       "      <td>0.510</td>\n",
       "      <td>0.13</td>\n",
       "      <td>2.3</td>\n",
       "      <td>0.076</td>\n",
       "      <td>29.0</td>\n",
       "      <td>40.0</td>\n",
       "      <td>0.99574</td>\n",
       "      <td>3.42</td>\n",
       "      <td>0.75</td>\n",
       "      <td>11.0</td>\n",
       "      <td>6</td>\n",
       "    </tr>\n",
       "    <tr>\n",
       "      <th>1597</th>\n",
       "      <td>5.9</td>\n",
       "      <td>0.645</td>\n",
       "      <td>0.12</td>\n",
       "      <td>2.0</td>\n",
       "      <td>0.075</td>\n",
       "      <td>32.0</td>\n",
       "      <td>44.0</td>\n",
       "      <td>0.99547</td>\n",
       "      <td>3.57</td>\n",
       "      <td>0.71</td>\n",
       "      <td>10.2</td>\n",
       "      <td>5</td>\n",
       "    </tr>\n",
       "    <tr>\n",
       "      <th>1598</th>\n",
       "      <td>6.0</td>\n",
       "      <td>0.310</td>\n",
       "      <td>0.47</td>\n",
       "      <td>3.6</td>\n",
       "      <td>0.067</td>\n",
       "      <td>18.0</td>\n",
       "      <td>42.0</td>\n",
       "      <td>0.99549</td>\n",
       "      <td>3.39</td>\n",
       "      <td>0.66</td>\n",
       "      <td>11.0</td>\n",
       "      <td>6</td>\n",
       "    </tr>\n",
       "  </tbody>\n",
       "</table>\n",
       "<p>1599 rows × 12 columns</p>\n",
       "</div>"
      ],
      "text/plain": [
       "      fixed acidity  volatile acidity  citric acid  residual sugar  chlorides  \\\n",
       "0               7.4             0.700         0.00             1.9      0.076   \n",
       "1               7.8             0.880         0.00             2.6      0.098   \n",
       "2               7.8             0.760         0.04             2.3      0.092   \n",
       "3              11.2             0.280         0.56             1.9      0.075   \n",
       "4               7.4             0.700         0.00             1.9      0.076   \n",
       "...             ...               ...          ...             ...        ...   \n",
       "1594            6.2             0.600         0.08             2.0      0.090   \n",
       "1595            5.9             0.550         0.10             2.2      0.062   \n",
       "1596            6.3             0.510         0.13             2.3      0.076   \n",
       "1597            5.9             0.645         0.12             2.0      0.075   \n",
       "1598            6.0             0.310         0.47             3.6      0.067   \n",
       "\n",
       "      free sulfur dioxide  total sulfur dioxide  density    pH  sulphates  \\\n",
       "0                    11.0                  34.0  0.99780  3.51       0.56   \n",
       "1                    25.0                  67.0  0.99680  3.20       0.68   \n",
       "2                    15.0                  54.0  0.99700  3.26       0.65   \n",
       "3                    17.0                  60.0  0.99800  3.16       0.58   \n",
       "4                    11.0                  34.0  0.99780  3.51       0.56   \n",
       "...                   ...                   ...      ...   ...        ...   \n",
       "1594                 32.0                  44.0  0.99490  3.45       0.58   \n",
       "1595                 39.0                  51.0  0.99512  3.52       0.76   \n",
       "1596                 29.0                  40.0  0.99574  3.42       0.75   \n",
       "1597                 32.0                  44.0  0.99547  3.57       0.71   \n",
       "1598                 18.0                  42.0  0.99549  3.39       0.66   \n",
       "\n",
       "      alcohol  quality  \n",
       "0         9.4        5  \n",
       "1         9.8        5  \n",
       "2         9.8        5  \n",
       "3         9.8        6  \n",
       "4         9.4        5  \n",
       "...       ...      ...  \n",
       "1594     10.5        5  \n",
       "1595     11.2        6  \n",
       "1596     11.0        6  \n",
       "1597     10.2        5  \n",
       "1598     11.0        6  \n",
       "\n",
       "[1599 rows x 12 columns]"
      ]
     },
     "execution_count": 2,
     "metadata": {},
     "output_type": "execute_result"
    }
   ],
   "source": [
    "df = pd.read_csv('https://raw.githubusercontent.com/dsrscientist/DSData/master/winequality-red.csv')\n",
    "df"
   ]
  },
  {
   "cell_type": "markdown",
   "id": "5c8069b6",
   "metadata": {},
   "source": [
    "The dataset contains numerical and continuous dataset of the physicochemical parameters of the tested wines (features) and one target represented by the quality score between 0 and 10."
   ]
  },
  {
   "cell_type": "markdown",
   "id": "da4b404f",
   "metadata": {},
   "source": [
    "## Exploratory Data Analysis(EDA) "
   ]
  },
  {
   "cell_type": "code",
   "execution_count": 3,
   "id": "9ad9276b",
   "metadata": {},
   "outputs": [
    {
     "data": {
      "text/plain": [
       "(1599, 12)"
      ]
     },
     "execution_count": 3,
     "metadata": {},
     "output_type": "execute_result"
    }
   ],
   "source": [
    "df.shape"
   ]
  },
  {
   "cell_type": "markdown",
   "id": "fb1f69de",
   "metadata": {},
   "source": [
    "This dataset contains 1599 rows and 12 columns. Out of the 12, there is 1 target vaiable (quality) and remaining 11 are independent variable. "
   ]
  },
  {
   "cell_type": "code",
   "execution_count": 4,
   "id": "d994c44c",
   "metadata": {
    "scrolled": false
   },
   "outputs": [
    {
     "data": {
      "text/plain": [
       "['fixed acidity',\n",
       " 'volatile acidity',\n",
       " 'citric acid',\n",
       " 'residual sugar',\n",
       " 'chlorides',\n",
       " 'free sulfur dioxide',\n",
       " 'total sulfur dioxide',\n",
       " 'density',\n",
       " 'pH',\n",
       " 'sulphates',\n",
       " 'alcohol',\n",
       " 'quality']"
      ]
     },
     "execution_count": 4,
     "metadata": {},
     "output_type": "execute_result"
    }
   ],
   "source": [
    "df.columns.tolist()"
   ]
  },
  {
   "cell_type": "markdown",
   "id": "d0374798",
   "metadata": {},
   "source": [
    "These are the list of the column names"
   ]
  },
  {
   "cell_type": "code",
   "execution_count": 5,
   "id": "058f4120",
   "metadata": {},
   "outputs": [
    {
     "data": {
      "text/plain": [
       "fixed acidity           float64\n",
       "volatile acidity        float64\n",
       "citric acid             float64\n",
       "residual sugar          float64\n",
       "chlorides               float64\n",
       "free sulfur dioxide     float64\n",
       "total sulfur dioxide    float64\n",
       "density                 float64\n",
       "pH                      float64\n",
       "sulphates               float64\n",
       "alcohol                 float64\n",
       "quality                   int64\n",
       "dtype: object"
      ]
     },
     "execution_count": 5,
     "metadata": {},
     "output_type": "execute_result"
    }
   ],
   "source": [
    "df.dtypes "
   ]
  },
  {
   "cell_type": "markdown",
   "id": "87d1c99e",
   "metadata": {},
   "source": [
    "There are two different types of data (float64, int64), as we can see we find no categorical data (object datatype)"
   ]
  },
  {
   "cell_type": "code",
   "execution_count": 6,
   "id": "63d457e2",
   "metadata": {
    "scrolled": false
   },
   "outputs": [
    {
     "data": {
      "text/plain": [
       "fixed acidity           0\n",
       "volatile acidity        0\n",
       "citric acid             0\n",
       "residual sugar          0\n",
       "chlorides               0\n",
       "free sulfur dioxide     0\n",
       "total sulfur dioxide    0\n",
       "density                 0\n",
       "pH                      0\n",
       "sulphates               0\n",
       "alcohol                 0\n",
       "quality                 0\n",
       "dtype: int64"
      ]
     },
     "execution_count": 6,
     "metadata": {},
     "output_type": "execute_result"
    }
   ],
   "source": [
    "df.isnull().sum()"
   ]
  },
  {
   "cell_type": "markdown",
   "id": "55116ee5",
   "metadata": {},
   "source": [
    "There are no null values in the dataset "
   ]
  },
  {
   "cell_type": "code",
   "execution_count": 7,
   "id": "11924542",
   "metadata": {},
   "outputs": [
    {
     "data": {
      "text/plain": [
       "0"
      ]
     },
     "execution_count": 7,
     "metadata": {},
     "output_type": "execute_result"
    }
   ],
   "source": [
    "df.isnull().sum().sum()"
   ]
  },
  {
   "cell_type": "code",
   "execution_count": 8,
   "id": "e7735ace",
   "metadata": {
    "scrolled": true
   },
   "outputs": [
    {
     "name": "stdout",
     "output_type": "stream",
     "text": [
      "<class 'pandas.core.frame.DataFrame'>\n",
      "RangeIndex: 1599 entries, 0 to 1598\n",
      "Data columns (total 12 columns):\n",
      " #   Column                Non-Null Count  Dtype  \n",
      "---  ------                --------------  -----  \n",
      " 0   fixed acidity         1599 non-null   float64\n",
      " 1   volatile acidity      1599 non-null   float64\n",
      " 2   citric acid           1599 non-null   float64\n",
      " 3   residual sugar        1599 non-null   float64\n",
      " 4   chlorides             1599 non-null   float64\n",
      " 5   free sulfur dioxide   1599 non-null   float64\n",
      " 6   total sulfur dioxide  1599 non-null   float64\n",
      " 7   density               1599 non-null   float64\n",
      " 8   pH                    1599 non-null   float64\n",
      " 9   sulphates             1599 non-null   float64\n",
      " 10  alcohol               1599 non-null   float64\n",
      " 11  quality               1599 non-null   int64  \n",
      "dtypes: float64(11), int64(1)\n",
      "memory usage: 150.0 KB\n"
     ]
    }
   ],
   "source": [
    "df.info()"
   ]
  },
  {
   "cell_type": "markdown",
   "id": "73651b6c",
   "metadata": {},
   "source": [
    "from df.info() I can observe the nun-null count of 1599 in all the columns and suggests no null values. "
   ]
  },
  {
   "cell_type": "markdown",
   "id": "a412190b",
   "metadata": {},
   "source": [
    "### Data visualization of the null values"
   ]
  },
  {
   "cell_type": "code",
   "execution_count": 9,
   "id": "9525a8c2",
   "metadata": {},
   "outputs": [
    {
     "data": {
      "text/plain": [
       "<AxesSubplot:>"
      ]
     },
     "execution_count": 9,
     "metadata": {},
     "output_type": "execute_result"
    },
    {
     "data": {
      "image/png": "[encoded data removed]",
      "text/plain": [
       "<Figure size 432x288 with 2 Axes>"
      ]
     },
     "metadata": {
      "needs_background": "light"
     },
     "output_type": "display_data"
    }
   ],
   "source": [
    "sns.heatmap(df.isnull())"
   ]
  },
  {
   "cell_type": "markdown",
   "id": "6b2cab14",
   "metadata": {},
   "source": [
    "The above observations have been verified, the heatmap also confirms that there is no null values in the dataset"
   ]
  },
  {
   "cell_type": "code",
   "execution_count": 10,
   "id": "9897c663",
   "metadata": {},
   "outputs": [
    {
     "data": {
      "text/plain": [
       "fixed acidity            96\n",
       "volatile acidity        143\n",
       "citric acid              80\n",
       "residual sugar           91\n",
       "chlorides               153\n",
       "free sulfur dioxide      60\n",
       "total sulfur dioxide    144\n",
       "density                 436\n",
       "pH                       89\n",
       "sulphates                96\n",
       "alcohol                  65\n",
       "quality                   6\n",
       "dtype: int64"
      ]
     },
     "execution_count": 10,
     "metadata": {},
     "output_type": "execute_result"
    }
   ],
   "source": [
    "# for i in df.columns:\n",
    "#     print(df[i].value_counts())\n",
    "#     print(\"\\n\")\n",
    "#  Here I am not performing the value count of the unque values in the column, since it usualy useful when I am dealing with categorical data. \n",
    " \n",
    "# I will rather perform the nunique value to see the overall number of unique valaue in each column to have an idea of the distribution. \n",
    "\n",
    "df.nunique()"
   ]
  },
  {
   "cell_type": "markdown",
   "id": "9061440e",
   "metadata": {},
   "source": [
    "These are the the count number of distinct elements in specified columns and data is very dispersed"
   ]
  },
  {
   "cell_type": "code",
   "execution_count": 11,
   "id": "fa372cd0",
   "metadata": {
    "scrolled": true
   },
   "outputs": [
    {
     "data": {
      "text/plain": [
       "fixed acidity           1\n",
       "volatile acidity        1\n",
       "citric acid             1\n",
       "residual sugar          1\n",
       "chlorides               1\n",
       "free sulfur dioxide     1\n",
       "total sulfur dioxide    1\n",
       "density                 1\n",
       "pH                      1\n",
       "sulphates               1\n",
       "alcohol                 1\n",
       "quality                 1\n",
       "dtype: int64"
      ]
     },
     "execution_count": 11,
     "metadata": {},
     "output_type": "execute_result"
    }
   ],
   "source": [
    "df.columns.value_counts()"
   ]
  },
  {
   "cell_type": "markdown",
   "id": "fda64f6b",
   "metadata": {},
   "source": [
    "the number occurances of the unique data (columns)"
   ]
  },
  {
   "cell_type": "markdown",
   "id": "ffb9d46e",
   "metadata": {},
   "source": [
    "These are the unique values present in the dataset."
   ]
  },
  {
   "cell_type": "markdown",
   "id": "47709044",
   "metadata": {},
   "source": [
    "## Description of Dataset"
   ]
  },
  {
   "cell_type": "code",
   "execution_count": 12,
   "id": "5b4f8724",
   "metadata": {},
   "outputs": [
    {
     "data": {
      "text/html": [
       "<div>\n",
       "<style scoped>\n",
       "    .dataframe tbody tr th:only-of-type {\n",
       "        vertical-align: middle;\n",
       "    }\n",
       "\n",
       "    .dataframe tbody tr th {\n",
       "        vertical-align: top;\n",
       "    }\n",
       "\n",
       "    .dataframe thead th {\n",
       "        text-align: right;\n",
       "    }\n",
       "</style>\n",
       "<table border=\"1\" class=\"dataframe\">\n",
       "  <thead>\n",
       "    <tr style=\"text-align: right;\">\n",
       "      <th></th>\n",
       "      <th>fixed acidity</th>\n",
       "      <th>volatile acidity</th>\n",
       "      <th>citric acid</th>\n",
       "      <th>residual sugar</th>\n",
       "      <th>chlorides</th>\n",
       "      <th>free sulfur dioxide</th>\n",
       "      <th>total sulfur dioxide</th>\n",
       "      <th>density</th>\n",
       "      <th>pH</th>\n",
       "      <th>sulphates</th>\n",
       "      <th>alcohol</th>\n",
       "      <th>quality</th>\n",
       "    </tr>\n",
       "  </thead>\n",
       "  <tbody>\n",
       "    <tr>\n",
       "      <th>count</th>\n",
       "      <td>1599.000000</td>\n",
       "      <td>1599.000000</td>\n",
       "      <td>1599.000000</td>\n",
       "      <td>1599.000000</td>\n",
       "      <td>1599.000000</td>\n",
       "      <td>1599.000000</td>\n",
       "      <td>1599.000000</td>\n",
       "      <td>1599.000000</td>\n",
       "      <td>1599.000000</td>\n",
       "      <td>1599.000000</td>\n",
       "      <td>1599.000000</td>\n",
       "      <td>1599.000000</td>\n",
       "    </tr>\n",
       "    <tr>\n",
       "      <th>mean</th>\n",
       "      <td>8.319637</td>\n",
       "      <td>0.527821</td>\n",
       "      <td>0.270976</td>\n",
       "      <td>2.538806</td>\n",
       "      <td>0.087467</td>\n",
       "      <td>15.874922</td>\n",
       "      <td>46.467792</td>\n",
       "      <td>0.996747</td>\n",
       "      <td>3.311113</td>\n",
       "      <td>0.658149</td>\n",
       "      <td>10.422983</td>\n",
       "      <td>5.636023</td>\n",
       "    </tr>\n",
       "    <tr>\n",
       "      <th>std</th>\n",
       "      <td>1.741096</td>\n",
       "      <td>0.179060</td>\n",
       "      <td>0.194801</td>\n",
       "      <td>1.409928</td>\n",
       "      <td>0.047065</td>\n",
       "      <td>10.460157</td>\n",
       "      <td>32.895324</td>\n",
       "      <td>0.001887</td>\n",
       "      <td>0.154386</td>\n",
       "      <td>0.169507</td>\n",
       "      <td>1.065668</td>\n",
       "      <td>0.807569</td>\n",
       "    </tr>\n",
       "    <tr>\n",
       "      <th>min</th>\n",
       "      <td>4.600000</td>\n",
       "      <td>0.120000</td>\n",
       "      <td>0.000000</td>\n",
       "      <td>0.900000</td>\n",
       "      <td>0.012000</td>\n",
       "      <td>1.000000</td>\n",
       "      <td>6.000000</td>\n",
       "      <td>0.990070</td>\n",
       "      <td>2.740000</td>\n",
       "      <td>0.330000</td>\n",
       "      <td>8.400000</td>\n",
       "      <td>3.000000</td>\n",
       "    </tr>\n",
       "    <tr>\n",
       "      <th>25%</th>\n",
       "      <td>7.100000</td>\n",
       "      <td>0.390000</td>\n",
       "      <td>0.090000</td>\n",
       "      <td>1.900000</td>\n",
       "      <td>0.070000</td>\n",
       "      <td>7.000000</td>\n",
       "      <td>22.000000</td>\n",
       "      <td>0.995600</td>\n",
       "      <td>3.210000</td>\n",
       "      <td>0.550000</td>\n",
       "      <td>9.500000</td>\n",
       "      <td>5.000000</td>\n",
       "    </tr>\n",
       "    <tr>\n",
       "      <th>50%</th>\n",
       "      <td>7.900000</td>\n",
       "      <td>0.520000</td>\n",
       "      <td>0.260000</td>\n",
       "      <td>2.200000</td>\n",
       "      <td>0.079000</td>\n",
       "      <td>14.000000</td>\n",
       "      <td>38.000000</td>\n",
       "      <td>0.996750</td>\n",
       "      <td>3.310000</td>\n",
       "      <td>0.620000</td>\n",
       "      <td>10.200000</td>\n",
       "      <td>6.000000</td>\n",
       "    </tr>\n",
       "    <tr>\n",
       "      <th>75%</th>\n",
       "      <td>9.200000</td>\n",
       "      <td>0.640000</td>\n",
       "      <td>0.420000</td>\n",
       "      <td>2.600000</td>\n",
       "      <td>0.090000</td>\n",
       "      <td>21.000000</td>\n",
       "      <td>62.000000</td>\n",
       "      <td>0.997835</td>\n",
       "      <td>3.400000</td>\n",
       "      <td>0.730000</td>\n",
       "      <td>11.100000</td>\n",
       "      <td>6.000000</td>\n",
       "    </tr>\n",
       "    <tr>\n",
       "      <th>max</th>\n",
       "      <td>15.900000</td>\n",
       "      <td>1.580000</td>\n",
       "      <td>1.000000</td>\n",
       "      <td>15.500000</td>\n",
       "      <td>0.611000</td>\n",
       "      <td>72.000000</td>\n",
       "      <td>289.000000</td>\n",
       "      <td>1.003690</td>\n",
       "      <td>4.010000</td>\n",
       "      <td>2.000000</td>\n",
       "      <td>14.900000</td>\n",
       "      <td>8.000000</td>\n",
       "    </tr>\n",
       "  </tbody>\n",
       "</table>\n",
       "</div>"
      ],
      "text/plain": [
       "       fixed acidity  volatile acidity  citric acid  residual sugar  \\\n",
       "count    1599.000000       1599.000000  1599.000000     1599.000000   \n",
       "mean        8.319637          0.527821     0.270976        2.538806   \n",
       "std         1.741096          0.179060     0.194801        1.409928   \n",
       "min         4.600000          0.120000     0.000000        0.900000   \n",
       "25%         7.100000          0.390000     0.090000        1.900000   \n",
       "50%         7.900000          0.520000     0.260000        2.200000   \n",
       "75%         9.200000          0.640000     0.420000        2.600000   \n",
       "max        15.900000          1.580000     1.000000       15.500000   \n",
       "\n",
       "         chlorides  free sulfur dioxide  total sulfur dioxide      density  \\\n",
       "count  1599.000000          1599.000000           1599.000000  1599.000000   \n",
       "mean      0.087467            15.874922             46.467792     0.996747   \n",
       "std       0.047065            10.460157             32.895324     0.001887   \n",
       "min       0.012000             1.000000              6.000000     0.990070   \n",
       "25%       0.070000             7.000000             22.000000     0.995600   \n",
       "50%       0.079000            14.000000             38.000000     0.996750   \n",
       "75%       0.090000            21.000000             62.000000     0.997835   \n",
       "max       0.611000            72.000000            289.000000     1.003690   \n",
       "\n",
       "                pH    sulphates      alcohol      quality  \n",
       "count  1599.000000  1599.000000  1599.000000  1599.000000  \n",
       "mean      3.311113     0.658149    10.422983     5.636023  \n",
       "std       0.154386     0.169507     1.065668     0.807569  \n",
       "min       2.740000     0.330000     8.400000     3.000000  \n",
       "25%       3.210000     0.550000     9.500000     5.000000  \n",
       "50%       3.310000     0.620000    10.200000     6.000000  \n",
       "75%       3.400000     0.730000    11.100000     6.000000  \n",
       "max       4.010000     2.000000    14.900000     8.000000  "
      ]
     },
     "execution_count": 12,
     "metadata": {},
     "output_type": "execute_result"
    }
   ],
   "source": [
    "df.describe()"
   ]
  },
  {
   "cell_type": "markdown",
   "id": "d1af7228",
   "metadata": {},
   "source": [
    "This give the statiscal information of the numerical columns. The summary of the dataset looks perfect \n",
    "there is no negative/invalid values present. \n",
    "\n",
    "From the above description we can observe there following:\n",
    "\n",
    "1. The counts of all the columns are same which means the are no missing values in the dataset.\n",
    "    \n",
    "2. The mean values are all greater than the median(50%) in all the the columns the data is skewed to right.\n",
    "    \n",
    "4. By summarizing the data we can observe there is a huge difference between 75% and max hence I suspect outliers in the data\n",
    "    \n",
    "5. We can also notice the Standard deviation, min 25% perfectrcentile values from this describe method.\n",
    "\n",
    "6. data standard deviation is very high, there data is dispersed"
   ]
  },
  {
   "cell_type": "markdown",
   "id": "8bf5ea30",
   "metadata": {},
   "source": [
    "### As suggested by the test, I will set an arbitrary cutoff for the \"quality\"  (wine quality) at e.g. 7 or higher getting classified as 'good/1' and the remainder as 'not good/0'."
   ]
  },
  {
   "cell_type": "code",
   "execution_count": 4,
   "id": "062eb335",
   "metadata": {},
   "outputs": [],
   "source": [
    "df['good'] = 0\n",
    "\n",
    "for i in range(len(df)):\n",
    "    if df['quality'][i] >= 7:\n",
    "        df.at[i, 'good'] = 1"
   ]
  },
  {
   "cell_type": "code",
   "execution_count": 5,
   "id": "359af6d7",
   "metadata": {
    "scrolled": false
   },
   "outputs": [
    {
     "data": {
      "text/html": [
       "<div>\n",
       "<style scoped>\n",
       "    .dataframe tbody tr th:only-of-type {\n",
       "        vertical-align: middle;\n",
       "    }\n",
       "\n",
       "    .dataframe tbody tr th {\n",
       "        vertical-align: top;\n",
       "    }\n",
       "\n",
       "    .dataframe thead th {\n",
       "        text-align: right;\n",
       "    }\n",
       "</style>\n",
       "<table border=\"1\" class=\"dataframe\">\n",
       "  <thead>\n",
       "    <tr style=\"text-align: right;\">\n",
       "      <th></th>\n",
       "      <th>fixed acidity</th>\n",
       "      <th>volatile acidity</th>\n",
       "      <th>citric acid</th>\n",
       "      <th>residual sugar</th>\n",
       "      <th>chlorides</th>\n",
       "      <th>free sulfur dioxide</th>\n",
       "      <th>total sulfur dioxide</th>\n",
       "      <th>density</th>\n",
       "      <th>pH</th>\n",
       "      <th>sulphates</th>\n",
       "      <th>alcohol</th>\n",
       "      <th>quality</th>\n",
       "      <th>good</th>\n",
       "    </tr>\n",
       "  </thead>\n",
       "  <tbody>\n",
       "    <tr>\n",
       "      <th>0</th>\n",
       "      <td>7.4</td>\n",
       "      <td>0.70</td>\n",
       "      <td>0.00</td>\n",
       "      <td>1.9</td>\n",
       "      <td>0.076</td>\n",
       "      <td>11.0</td>\n",
       "      <td>34.0</td>\n",
       "      <td>0.9978</td>\n",
       "      <td>3.51</td>\n",
       "      <td>0.56</td>\n",
       "      <td>9.4</td>\n",
       "      <td>5</td>\n",
       "      <td>0</td>\n",
       "    </tr>\n",
       "    <tr>\n",
       "      <th>1</th>\n",
       "      <td>7.8</td>\n",
       "      <td>0.88</td>\n",
       "      <td>0.00</td>\n",
       "      <td>2.6</td>\n",
       "      <td>0.098</td>\n",
       "      <td>25.0</td>\n",
       "      <td>67.0</td>\n",
       "      <td>0.9968</td>\n",
       "      <td>3.20</td>\n",
       "      <td>0.68</td>\n",
       "      <td>9.8</td>\n",
       "      <td>5</td>\n",
       "      <td>0</td>\n",
       "    </tr>\n",
       "    <tr>\n",
       "      <th>2</th>\n",
       "      <td>7.8</td>\n",
       "      <td>0.76</td>\n",
       "      <td>0.04</td>\n",
       "      <td>2.3</td>\n",
       "      <td>0.092</td>\n",
       "      <td>15.0</td>\n",
       "      <td>54.0</td>\n",
       "      <td>0.9970</td>\n",
       "      <td>3.26</td>\n",
       "      <td>0.65</td>\n",
       "      <td>9.8</td>\n",
       "      <td>5</td>\n",
       "      <td>0</td>\n",
       "    </tr>\n",
       "    <tr>\n",
       "      <th>3</th>\n",
       "      <td>11.2</td>\n",
       "      <td>0.28</td>\n",
       "      <td>0.56</td>\n",
       "      <td>1.9</td>\n",
       "      <td>0.075</td>\n",
       "      <td>17.0</td>\n",
       "      <td>60.0</td>\n",
       "      <td>0.9980</td>\n",
       "      <td>3.16</td>\n",
       "      <td>0.58</td>\n",
       "      <td>9.8</td>\n",
       "      <td>6</td>\n",
       "      <td>0</td>\n",
       "    </tr>\n",
       "    <tr>\n",
       "      <th>4</th>\n",
       "      <td>7.4</td>\n",
       "      <td>0.70</td>\n",
       "      <td>0.00</td>\n",
       "      <td>1.9</td>\n",
       "      <td>0.076</td>\n",
       "      <td>11.0</td>\n",
       "      <td>34.0</td>\n",
       "      <td>0.9978</td>\n",
       "      <td>3.51</td>\n",
       "      <td>0.56</td>\n",
       "      <td>9.4</td>\n",
       "      <td>5</td>\n",
       "      <td>0</td>\n",
       "    </tr>\n",
       "  </tbody>\n",
       "</table>\n",
       "</div>"
      ],
      "text/plain": [
       "   fixed acidity  volatile acidity  citric acid  residual sugar  chlorides  \\\n",
       "0            7.4              0.70         0.00             1.9      0.076   \n",
       "1            7.8              0.88         0.00             2.6      0.098   \n",
       "2            7.8              0.76         0.04             2.3      0.092   \n",
       "3           11.2              0.28         0.56             1.9      0.075   \n",
       "4            7.4              0.70         0.00             1.9      0.076   \n",
       "\n",
       "   free sulfur dioxide  total sulfur dioxide  density    pH  sulphates  \\\n",
       "0                 11.0                  34.0   0.9978  3.51       0.56   \n",
       "1                 25.0                  67.0   0.9968  3.20       0.68   \n",
       "2                 15.0                  54.0   0.9970  3.26       0.65   \n",
       "3                 17.0                  60.0   0.9980  3.16       0.58   \n",
       "4                 11.0                  34.0   0.9978  3.51       0.56   \n",
       "\n",
       "   alcohol  quality  good  \n",
       "0      9.4        5     0  \n",
       "1      9.8        5     0  \n",
       "2      9.8        5     0  \n",
       "3      9.8        6     0  \n",
       "4      9.4        5     0  "
      ]
     },
     "execution_count": 5,
     "metadata": {},
     "output_type": "execute_result"
    }
   ],
   "source": [
    "df.head()"
   ]
  },
  {
   "cell_type": "code",
   "execution_count": 6,
   "id": "0c867265",
   "metadata": {
    "scrolled": true
   },
   "outputs": [
    {
     "data": {
      "text/plain": [
       "0    1382\n",
       "1     217\n",
       "Name: good, dtype: int64"
      ]
     },
     "execution_count": 6,
     "metadata": {},
     "output_type": "execute_result"
    }
   ],
   "source": [
    "df.good.value_counts()"
   ]
  },
  {
   "cell_type": "code",
   "execution_count": 7,
   "id": "47eb1712",
   "metadata": {},
   "outputs": [
    {
     "data": {
      "text/html": [
       "<div>\n",
       "<style scoped>\n",
       "    .dataframe tbody tr th:only-of-type {\n",
       "        vertical-align: middle;\n",
       "    }\n",
       "\n",
       "    .dataframe tbody tr th {\n",
       "        vertical-align: top;\n",
       "    }\n",
       "\n",
       "    .dataframe thead th {\n",
       "        text-align: right;\n",
       "    }\n",
       "</style>\n",
       "<table border=\"1\" class=\"dataframe\">\n",
       "  <thead>\n",
       "    <tr style=\"text-align: right;\">\n",
       "      <th></th>\n",
       "      <th>fixed acidity</th>\n",
       "      <th>volatile acidity</th>\n",
       "      <th>citric acid</th>\n",
       "      <th>residual sugar</th>\n",
       "      <th>chlorides</th>\n",
       "      <th>free sulfur dioxide</th>\n",
       "      <th>total sulfur dioxide</th>\n",
       "      <th>density</th>\n",
       "      <th>pH</th>\n",
       "      <th>sulphates</th>\n",
       "      <th>alcohol</th>\n",
       "      <th>good</th>\n",
       "    </tr>\n",
       "  </thead>\n",
       "  <tbody>\n",
       "    <tr>\n",
       "      <th>0</th>\n",
       "      <td>7.4</td>\n",
       "      <td>0.70</td>\n",
       "      <td>0.00</td>\n",
       "      <td>1.9</td>\n",
       "      <td>0.076</td>\n",
       "      <td>11.0</td>\n",
       "      <td>34.0</td>\n",
       "      <td>0.9978</td>\n",
       "      <td>3.51</td>\n",
       "      <td>0.56</td>\n",
       "      <td>9.4</td>\n",
       "      <td>0</td>\n",
       "    </tr>\n",
       "    <tr>\n",
       "      <th>1</th>\n",
       "      <td>7.8</td>\n",
       "      <td>0.88</td>\n",
       "      <td>0.00</td>\n",
       "      <td>2.6</td>\n",
       "      <td>0.098</td>\n",
       "      <td>25.0</td>\n",
       "      <td>67.0</td>\n",
       "      <td>0.9968</td>\n",
       "      <td>3.20</td>\n",
       "      <td>0.68</td>\n",
       "      <td>9.8</td>\n",
       "      <td>0</td>\n",
       "    </tr>\n",
       "    <tr>\n",
       "      <th>2</th>\n",
       "      <td>7.8</td>\n",
       "      <td>0.76</td>\n",
       "      <td>0.04</td>\n",
       "      <td>2.3</td>\n",
       "      <td>0.092</td>\n",
       "      <td>15.0</td>\n",
       "      <td>54.0</td>\n",
       "      <td>0.9970</td>\n",
       "      <td>3.26</td>\n",
       "      <td>0.65</td>\n",
       "      <td>9.8</td>\n",
       "      <td>0</td>\n",
       "    </tr>\n",
       "    <tr>\n",
       "      <th>3</th>\n",
       "      <td>11.2</td>\n",
       "      <td>0.28</td>\n",
       "      <td>0.56</td>\n",
       "      <td>1.9</td>\n",
       "      <td>0.075</td>\n",
       "      <td>17.0</td>\n",
       "      <td>60.0</td>\n",
       "      <td>0.9980</td>\n",
       "      <td>3.16</td>\n",
       "      <td>0.58</td>\n",
       "      <td>9.8</td>\n",
       "      <td>0</td>\n",
       "    </tr>\n",
       "    <tr>\n",
       "      <th>4</th>\n",
       "      <td>7.4</td>\n",
       "      <td>0.70</td>\n",
       "      <td>0.00</td>\n",
       "      <td>1.9</td>\n",
       "      <td>0.076</td>\n",
       "      <td>11.0</td>\n",
       "      <td>34.0</td>\n",
       "      <td>0.9978</td>\n",
       "      <td>3.51</td>\n",
       "      <td>0.56</td>\n",
       "      <td>9.4</td>\n",
       "      <td>0</td>\n",
       "    </tr>\n",
       "  </tbody>\n",
       "</table>\n",
       "</div>"
      ],
      "text/plain": [
       "   fixed acidity  volatile acidity  citric acid  residual sugar  chlorides  \\\n",
       "0            7.4              0.70         0.00             1.9      0.076   \n",
       "1            7.8              0.88         0.00             2.6      0.098   \n",
       "2            7.8              0.76         0.04             2.3      0.092   \n",
       "3           11.2              0.28         0.56             1.9      0.075   \n",
       "4            7.4              0.70         0.00             1.9      0.076   \n",
       "\n",
       "   free sulfur dioxide  total sulfur dioxide  density    pH  sulphates  \\\n",
       "0                 11.0                  34.0   0.9978  3.51       0.56   \n",
       "1                 25.0                  67.0   0.9968  3.20       0.68   \n",
       "2                 15.0                  54.0   0.9970  3.26       0.65   \n",
       "3                 17.0                  60.0   0.9980  3.16       0.58   \n",
       "4                 11.0                  34.0   0.9978  3.51       0.56   \n",
       "\n",
       "   alcohol  good  \n",
       "0      9.4     0  \n",
       "1      9.8     0  \n",
       "2      9.8     0  \n",
       "3      9.8     0  \n",
       "4      9.4     0  "
      ]
     },
     "execution_count": 7,
     "metadata": {},
     "output_type": "execute_result"
    }
   ],
   "source": [
    "df.drop([\"quality\"], axis=1, inplace=True)\n",
    "df.head()"
   ]
  },
  {
   "cell_type": "markdown",
   "id": "319c4772",
   "metadata": {},
   "source": [
    "# Data Visualization"
   ]
  },
  {
   "cell_type": "markdown",
   "id": "e5571ecb",
   "metadata": {},
   "source": [
    "## Checking for data distribution"
   ]
  },
  {
   "cell_type": "code",
   "execution_count": 8,
   "id": "37285328",
   "metadata": {
    "scrolled": true
   },
   "outputs": [
    {
     "data": {
      "image/png": "[encoded data removed]",
      "text/plain": [
       "<Figure size 864x576 with 11 Axes>"
      ]
     },
     "metadata": {},
     "output_type": "display_data"
    }
   ],
   "source": [
    "plt.figure(figsize=(12, 8), facecolor=\"white\")\n",
    "\n",
    "features = df.iloc[:, 0:11]\n",
    "\n",
    "for i, col in enumerate(features.columns):\n",
    "    plt.subplot(3, 4, i + 1) \n",
    "    sns.histplot(df[col], color=\"m\", kde=True)\n",
    "    plt.xlabel(col, fontsize=12)\n",
    "    plt.xticks(rotation=0, fontsize=10)\n",
    "    plt.yticks(fontsize=10)\n",
    "\n",
    "plt.tight_layout()\n",
    "plt.show()"
   ]
  },
  {
   "cell_type": "markdown",
   "id": "ca71bbd1",
   "metadata": {},
   "source": [
    "we can confirm from the graphs that the features present skewness to the right and dispersed"
   ]
  },
  {
   "cell_type": "markdown",
   "id": "1fbf09ca",
   "metadata": {},
   "source": [
    "## Checking for outliers"
   ]
  },
  {
   "cell_type": "code",
   "execution_count": 9,
   "id": "9c8890b3",
   "metadata": {
    "scrolled": true
   },
   "outputs": [
    {
     "data": {
      "image/png": "[encoded data removed]",
      "text/plain": [
       "<Figure size 864x576 with 11 Axes>"
      ]
     },
     "metadata": {},
     "output_type": "display_data"
    }
   ],
   "source": [
    "plt.figure(figsize=(12, 8), facecolor=\"white\")\n",
    "\n",
    "features = df.iloc[:, 0:11]\n",
    "\n",
    "for i, col in enumerate(features.columns):\n",
    "    plt.subplot(3, 4, i + 1) \n",
    "    sns.boxenplot(df[col], palette=\"Set1\")\n",
    "    plt.xlabel(col, fontsize=12)\n",
    "    plt.xticks(rotation=0, fontsize=10)\n",
    "    plt.yticks(fontsize=10)\n",
    "\n",
    "plt.tight_layout()\n",
    "plt.show()"
   ]
  },
  {
   "cell_type": "markdown",
   "id": "0fa54716",
   "metadata": {},
   "source": [
    "we have found that the features present outliers and therefore they need to be removed before building a model and selecting the best one. we will use zscore the outliers"
   ]
  },
  {
   "cell_type": "code",
   "execution_count": 10,
   "id": "1c6308bd",
   "metadata": {},
   "outputs": [
    {
     "data": {
      "text/html": [
       "<div>\n",
       "<style scoped>\n",
       "    .dataframe tbody tr th:only-of-type {\n",
       "        vertical-align: middle;\n",
       "    }\n",
       "\n",
       "    .dataframe tbody tr th {\n",
       "        vertical-align: top;\n",
       "    }\n",
       "\n",
       "    .dataframe thead th {\n",
       "        text-align: right;\n",
       "    }\n",
       "</style>\n",
       "<table border=\"1\" class=\"dataframe\">\n",
       "  <thead>\n",
       "    <tr style=\"text-align: right;\">\n",
       "      <th></th>\n",
       "      <th>fixed acidity</th>\n",
       "      <th>volatile acidity</th>\n",
       "      <th>citric acid</th>\n",
       "      <th>residual sugar</th>\n",
       "      <th>chlorides</th>\n",
       "      <th>free sulfur dioxide</th>\n",
       "      <th>total sulfur dioxide</th>\n",
       "      <th>density</th>\n",
       "      <th>pH</th>\n",
       "      <th>sulphates</th>\n",
       "      <th>alcohol</th>\n",
       "    </tr>\n",
       "  </thead>\n",
       "  <tbody>\n",
       "    <tr>\n",
       "      <th>0</th>\n",
       "      <td>0.528360</td>\n",
       "      <td>0.961877</td>\n",
       "      <td>1.391472</td>\n",
       "      <td>0.453218</td>\n",
       "      <td>0.243707</td>\n",
       "      <td>0.466193</td>\n",
       "      <td>0.379133</td>\n",
       "      <td>0.558274</td>\n",
       "      <td>1.288643</td>\n",
       "      <td>0.579207</td>\n",
       "      <td>0.960246</td>\n",
       "    </tr>\n",
       "    <tr>\n",
       "      <th>1</th>\n",
       "      <td>0.298547</td>\n",
       "      <td>1.967442</td>\n",
       "      <td>1.391472</td>\n",
       "      <td>0.043416</td>\n",
       "      <td>0.223875</td>\n",
       "      <td>0.872638</td>\n",
       "      <td>0.624363</td>\n",
       "      <td>0.028261</td>\n",
       "      <td>0.719933</td>\n",
       "      <td>0.128950</td>\n",
       "      <td>0.584777</td>\n",
       "    </tr>\n",
       "    <tr>\n",
       "      <th>2</th>\n",
       "      <td>0.298547</td>\n",
       "      <td>1.297065</td>\n",
       "      <td>1.186070</td>\n",
       "      <td>0.169427</td>\n",
       "      <td>0.096353</td>\n",
       "      <td>0.083669</td>\n",
       "      <td>0.229047</td>\n",
       "      <td>0.134264</td>\n",
       "      <td>0.331177</td>\n",
       "      <td>0.048089</td>\n",
       "      <td>0.584777</td>\n",
       "    </tr>\n",
       "    <tr>\n",
       "      <th>3</th>\n",
       "      <td>1.654856</td>\n",
       "      <td>1.384443</td>\n",
       "      <td>1.484154</td>\n",
       "      <td>0.453218</td>\n",
       "      <td>0.264960</td>\n",
       "      <td>0.107592</td>\n",
       "      <td>0.411500</td>\n",
       "      <td>0.664277</td>\n",
       "      <td>0.979104</td>\n",
       "      <td>0.461180</td>\n",
       "      <td>0.584777</td>\n",
       "    </tr>\n",
       "    <tr>\n",
       "      <th>4</th>\n",
       "      <td>0.528360</td>\n",
       "      <td>0.961877</td>\n",
       "      <td>1.391472</td>\n",
       "      <td>0.453218</td>\n",
       "      <td>0.243707</td>\n",
       "      <td>0.466193</td>\n",
       "      <td>0.379133</td>\n",
       "      <td>0.558274</td>\n",
       "      <td>1.288643</td>\n",
       "      <td>0.579207</td>\n",
       "      <td>0.960246</td>\n",
       "    </tr>\n",
       "    <tr>\n",
       "      <th>...</th>\n",
       "      <td>...</td>\n",
       "      <td>...</td>\n",
       "      <td>...</td>\n",
       "      <td>...</td>\n",
       "      <td>...</td>\n",
       "      <td>...</td>\n",
       "      <td>...</td>\n",
       "      <td>...</td>\n",
       "      <td>...</td>\n",
       "      <td>...</td>\n",
       "      <td>...</td>\n",
       "    </tr>\n",
       "    <tr>\n",
       "      <th>1594</th>\n",
       "      <td>1.217796</td>\n",
       "      <td>0.403229</td>\n",
       "      <td>0.980669</td>\n",
       "      <td>0.382271</td>\n",
       "      <td>0.053845</td>\n",
       "      <td>1.542054</td>\n",
       "      <td>0.075043</td>\n",
       "      <td>0.978765</td>\n",
       "      <td>0.899886</td>\n",
       "      <td>0.461180</td>\n",
       "      <td>0.072294</td>\n",
       "    </tr>\n",
       "    <tr>\n",
       "      <th>1595</th>\n",
       "      <td>1.390155</td>\n",
       "      <td>0.123905</td>\n",
       "      <td>0.877968</td>\n",
       "      <td>0.240375</td>\n",
       "      <td>0.541259</td>\n",
       "      <td>2.211469</td>\n",
       "      <td>0.137820</td>\n",
       "      <td>0.862162</td>\n",
       "      <td>1.353436</td>\n",
       "      <td>0.601055</td>\n",
       "      <td>0.729364</td>\n",
       "    </tr>\n",
       "    <tr>\n",
       "      <th>1596</th>\n",
       "      <td>1.160343</td>\n",
       "      <td>0.099554</td>\n",
       "      <td>0.723916</td>\n",
       "      <td>0.169427</td>\n",
       "      <td>0.243707</td>\n",
       "      <td>1.255161</td>\n",
       "      <td>0.196679</td>\n",
       "      <td>0.533554</td>\n",
       "      <td>0.705508</td>\n",
       "      <td>0.542042</td>\n",
       "      <td>0.541630</td>\n",
       "    </tr>\n",
       "    <tr>\n",
       "      <th>1597</th>\n",
       "      <td>1.390155</td>\n",
       "      <td>0.654620</td>\n",
       "      <td>0.775267</td>\n",
       "      <td>0.382271</td>\n",
       "      <td>0.264960</td>\n",
       "      <td>1.542054</td>\n",
       "      <td>0.075043</td>\n",
       "      <td>0.676657</td>\n",
       "      <td>1.677400</td>\n",
       "      <td>0.305990</td>\n",
       "      <td>0.209308</td>\n",
       "    </tr>\n",
       "    <tr>\n",
       "      <th>1598</th>\n",
       "      <td>1.332702</td>\n",
       "      <td>1.216849</td>\n",
       "      <td>1.021999</td>\n",
       "      <td>0.752894</td>\n",
       "      <td>0.434990</td>\n",
       "      <td>0.203223</td>\n",
       "      <td>0.135861</td>\n",
       "      <td>0.666057</td>\n",
       "      <td>0.511130</td>\n",
       "      <td>0.010924</td>\n",
       "      <td>0.541630</td>\n",
       "    </tr>\n",
       "  </tbody>\n",
       "</table>\n",
       "<p>1599 rows × 11 columns</p>\n",
       "</div>"
      ],
      "text/plain": [
       "      fixed acidity  volatile acidity  citric acid  residual sugar  chlorides  \\\n",
       "0          0.528360          0.961877     1.391472        0.453218   0.243707   \n",
       "1          0.298547          1.967442     1.391472        0.043416   0.223875   \n",
       "2          0.298547          1.297065     1.186070        0.169427   0.096353   \n",
       "3          1.654856          1.384443     1.484154        0.453218   0.264960   \n",
       "4          0.528360          0.961877     1.391472        0.453218   0.243707   \n",
       "...             ...               ...          ...             ...        ...   \n",
       "1594       1.217796          0.403229     0.980669        0.382271   0.053845   \n",
       "1595       1.390155          0.123905     0.877968        0.240375   0.541259   \n",
       "1596       1.160343          0.099554     0.723916        0.169427   0.243707   \n",
       "1597       1.390155          0.654620     0.775267        0.382271   0.264960   \n",
       "1598       1.332702          1.216849     1.021999        0.752894   0.434990   \n",
       "\n",
       "      free sulfur dioxide  total sulfur dioxide   density        pH  \\\n",
       "0                0.466193              0.379133  0.558274  1.288643   \n",
       "1                0.872638              0.624363  0.028261  0.719933   \n",
       "2                0.083669              0.229047  0.134264  0.331177   \n",
       "3                0.107592              0.411500  0.664277  0.979104   \n",
       "4                0.466193              0.379133  0.558274  1.288643   \n",
       "...                   ...                   ...       ...       ...   \n",
       "1594             1.542054              0.075043  0.978765  0.899886   \n",
       "1595             2.211469              0.137820  0.862162  1.353436   \n",
       "1596             1.255161              0.196679  0.533554  0.705508   \n",
       "1597             1.542054              0.075043  0.676657  1.677400   \n",
       "1598             0.203223              0.135861  0.666057  0.511130   \n",
       "\n",
       "      sulphates   alcohol  \n",
       "0      0.579207  0.960246  \n",
       "1      0.128950  0.584777  \n",
       "2      0.048089  0.584777  \n",
       "3      0.461180  0.584777  \n",
       "4      0.579207  0.960246  \n",
       "...         ...       ...  \n",
       "1594   0.461180  0.072294  \n",
       "1595   0.601055  0.729364  \n",
       "1596   0.542042  0.541630  \n",
       "1597   0.305990  0.209308  \n",
       "1598   0.010924  0.541630  \n",
       "\n",
       "[1599 rows x 11 columns]"
      ]
     },
     "execution_count": 10,
     "metadata": {},
     "output_type": "execute_result"
    }
   ],
   "source": [
    "from scipy.stats import zscore\n",
    "x = features\n",
    "y = df[\"good\"]\n",
    "z = np.abs(zscore(x))\n",
    "z"
   ]
  },
  {
   "cell_type": "code",
   "execution_count": 11,
   "id": "a59a6ccd",
   "metadata": {},
   "outputs": [
    {
     "data": {
      "text/plain": [
       "(array([  13,   14,   15,   15,   17,   17,   19,   33,   38,   42,   43,\n",
       "          45,   57,   81,   81,   83,   86,   88,   91,   92,   95,  106,\n",
       "         106,  109,  120,  126,  127,  142,  144,  147,  151,  151,  151,\n",
       "         151,  163,  164,  169,  169,  181,  199,  226,  226,  240,  243,\n",
       "         244,  258,  258,  274,  281,  291,  324,  325,  339,  340,  347,\n",
       "         354,  374,  381,  391,  396,  396,  400,  400,  442,  442,  451,\n",
       "         467,  480,  480,  494,  515,  544,  554,  554,  555,  555,  557,\n",
       "         557,  568,  584,  588,  591,  595,  608,  614,  636,  639,  649,\n",
       "         649,  651,  652,  652,  652,  672,  672,  684,  690,  692,  692,\n",
       "         695,  723,  724,  730,  754,  776,  777,  795,  821,  836,  837,\n",
       "         889,  911,  917,  923,  925,  926,  982, 1017, 1018, 1043, 1051,\n",
       "        1051, 1071, 1074, 1079, 1079, 1081, 1081, 1111, 1114, 1131, 1154,\n",
       "        1165, 1175, 1186, 1231, 1235, 1244, 1244, 1244, 1260, 1269, 1269,\n",
       "        1270, 1270, 1288, 1289, 1295, 1296, 1299, 1300, 1312, 1316, 1319,\n",
       "        1319, 1321, 1358, 1367, 1370, 1370, 1372, 1372, 1374, 1434, 1434,\n",
       "        1434, 1435, 1435, 1435, 1474, 1474, 1474, 1476, 1476, 1476, 1493,\n",
       "        1496, 1558, 1558, 1570, 1574, 1589], dtype=int64),\n",
       " array([ 9,  5,  5,  6,  4,  9,  4,  3,  1,  4,  9,  8,  5,  4,  9,  4,  9,\n",
       "         9,  9,  9,  8,  4,  9,  6,  1,  1,  1, 10, 10,  4,  2,  4,  8,  9,\n",
       "         3,  3,  4,  9,  4,  1,  4,  9,  4,  0,  0,  4,  9,  3,  4,  4,  3,\n",
       "         3,  9,  9,  0,  6,  0,  0,  0,  3,  5,  3,  5,  0,  7,  4, 10,  3,\n",
       "         7,  3,  6,  0,  0,  7,  0,  7,  0,  7,  4,  5, 10,  6,  3,  7,  9,\n",
       "         6,  9,  3,  6,  6,  0,  3, 10,  1,  6,  6,  1,  4,  9,  8,  9,  1,\n",
       "         4,  4,  4,  4,  9, 10,  7,  7,  7,  3,  3,  3,  5,  5,  5,  7,  7,\n",
       "         3,  4,  9,  3,  3,  3,  6,  3,  6,  8,  7,  5,  5,  4,  5,  3,  5,\n",
       "         3,  3,  5,  6,  4,  7, 10,  7, 10,  9,  9,  5,  5,  1,  8,  1,  8,\n",
       "         4,  9,  8,  5,  9,  4,  9,  4,  9,  4,  3,  5,  7,  3,  5,  7,  3,\n",
       "         5,  7,  3,  5,  7,  6,  6,  4,  5,  4,  3,  3], dtype=int64))"
      ]
     },
     "execution_count": 11,
     "metadata": {},
     "output_type": "execute_result"
    }
   ],
   "source": [
    "# threshold = 3\n",
    "np.where(z>3)"
   ]
  },
  {
   "cell_type": "code",
   "execution_count": 12,
   "id": "fa9122ce",
   "metadata": {},
   "outputs": [
    {
     "data": {
      "text/html": [
       "<div>\n",
       "<style scoped>\n",
       "    .dataframe tbody tr th:only-of-type {\n",
       "        vertical-align: middle;\n",
       "    }\n",
       "\n",
       "    .dataframe tbody tr th {\n",
       "        vertical-align: top;\n",
       "    }\n",
       "\n",
       "    .dataframe thead th {\n",
       "        text-align: right;\n",
       "    }\n",
       "</style>\n",
       "<table border=\"1\" class=\"dataframe\">\n",
       "  <thead>\n",
       "    <tr style=\"text-align: right;\">\n",
       "      <th></th>\n",
       "      <th>0</th>\n",
       "      <th>1</th>\n",
       "      <th>2</th>\n",
       "      <th>3</th>\n",
       "      <th>4</th>\n",
       "      <th>5</th>\n",
       "      <th>6</th>\n",
       "      <th>7</th>\n",
       "      <th>8</th>\n",
       "      <th>9</th>\n",
       "      <th>...</th>\n",
       "      <th>172</th>\n",
       "      <th>173</th>\n",
       "      <th>174</th>\n",
       "      <th>175</th>\n",
       "      <th>176</th>\n",
       "      <th>177</th>\n",
       "      <th>178</th>\n",
       "      <th>179</th>\n",
       "      <th>180</th>\n",
       "      <th>181</th>\n",
       "    </tr>\n",
       "  </thead>\n",
       "  <tbody>\n",
       "    <tr>\n",
       "      <th>row</th>\n",
       "      <td>13</td>\n",
       "      <td>14</td>\n",
       "      <td>15</td>\n",
       "      <td>15</td>\n",
       "      <td>17</td>\n",
       "      <td>17</td>\n",
       "      <td>19</td>\n",
       "      <td>33</td>\n",
       "      <td>38</td>\n",
       "      <td>42</td>\n",
       "      <td>...</td>\n",
       "      <td>1476</td>\n",
       "      <td>1476</td>\n",
       "      <td>1476</td>\n",
       "      <td>1493</td>\n",
       "      <td>1496</td>\n",
       "      <td>1558</td>\n",
       "      <td>1558</td>\n",
       "      <td>1570</td>\n",
       "      <td>1574</td>\n",
       "      <td>1589</td>\n",
       "    </tr>\n",
       "    <tr>\n",
       "      <th>column</th>\n",
       "      <td>9</td>\n",
       "      <td>5</td>\n",
       "      <td>5</td>\n",
       "      <td>6</td>\n",
       "      <td>4</td>\n",
       "      <td>9</td>\n",
       "      <td>4</td>\n",
       "      <td>3</td>\n",
       "      <td>1</td>\n",
       "      <td>4</td>\n",
       "      <td>...</td>\n",
       "      <td>3</td>\n",
       "      <td>5</td>\n",
       "      <td>7</td>\n",
       "      <td>6</td>\n",
       "      <td>6</td>\n",
       "      <td>4</td>\n",
       "      <td>5</td>\n",
       "      <td>4</td>\n",
       "      <td>3</td>\n",
       "      <td>3</td>\n",
       "    </tr>\n",
       "  </tbody>\n",
       "</table>\n",
       "<p>2 rows × 182 columns</p>\n",
       "</div>"
      ],
      "text/plain": [
       "        0    1    2    3    4    5    6    7    8    9    ...   172   173  \\\n",
       "row      13   14   15   15   17   17   19   33   38   42  ...  1476  1476   \n",
       "column    9    5    5    6    4    9    4    3    1    4  ...     3     5   \n",
       "\n",
       "         174   175   176   177   178   179   180   181  \n",
       "row     1476  1493  1496  1558  1558  1570  1574  1589  \n",
       "column     7     6     6     4     5     4     3     3  \n",
       "\n",
       "[2 rows x 182 columns]"
      ]
     },
     "execution_count": 12,
     "metadata": {},
     "output_type": "execute_result"
    }
   ],
   "source": [
    "# Putting the previous results in numpy array into dataframe for more clarity \n",
    "threshold = 3\n",
    "pd.DataFrame(np.where(z>3), index=([\"row\", \"column\"]))"
   ]
  },
  {
   "cell_type": "code",
   "execution_count": 13,
   "id": "bfdbfa5d",
   "metadata": {
    "scrolled": true
   },
   "outputs": [
    {
     "data": {
      "text/plain": [
       "5.32210116796055"
      ]
     },
     "execution_count": 13,
     "metadata": {},
     "output_type": "execute_result"
    }
   ],
   "source": [
    "z.iloc[13,9]    #row x column to find value"
   ]
  },
  {
   "cell_type": "markdown",
   "id": "2a4c3644",
   "metadata": {},
   "source": [
    "we can see that z.iloc[13,9] > 3"
   ]
  },
  {
   "cell_type": "code",
   "execution_count": 14,
   "id": "81481617",
   "metadata": {},
   "outputs": [
    {
     "data": {
      "text/plain": [
       "(1458, 12)"
      ]
     },
     "execution_count": 14,
     "metadata": {},
     "output_type": "execute_result"
    }
   ],
   "source": [
    "# Now let's remove the outliers and create a new datafrme df1\n",
    "df1 = df[(z<3).all(axis=1)]\n",
    "df1.shape"
   ]
  },
  {
   "cell_type": "code",
   "execution_count": 15,
   "id": "a27e8f71",
   "metadata": {},
   "outputs": [
    {
     "name": "stdout",
     "output_type": "stream",
     "text": [
      "df.shape:  (1599, 12) and df1.shape:  (1458, 12)\n",
      "Data Loss Percentage 8.818011257035648\n"
     ]
    }
   ],
   "source": [
    "a = df.shape\n",
    "b = df1.shape\n",
    "print(\"df.shape: \" , a, \"and df1.shape: \" , b)\n",
    "print(\"Data Loss Percentage\", (((a[0]-b[0])/a[0])*100))\n"
   ]
  },
  {
   "cell_type": "markdown",
   "id": "2181357e",
   "metadata": {},
   "source": [
    "data loss is less that 10% (as general rule of thumb) therefore it's acceptable the method used. other we would use another method to calculate the data loss"
   ]
  },
  {
   "cell_type": "markdown",
   "id": "1ad35058",
   "metadata": {},
   "source": [
    "## Checking for skewnes"
   ]
  },
  {
   "cell_type": "code",
   "execution_count": 18,
   "id": "458c7c5f",
   "metadata": {
    "scrolled": true
   },
   "outputs": [
    {
     "data": {
      "text/plain": [
       "fixed acidity           0.982751\n",
       "volatile acidity        0.671593\n",
       "citric acid             0.318337\n",
       "residual sugar          4.540655\n",
       "chlorides               5.680347\n",
       "free sulfur dioxide     1.250567\n",
       "total sulfur dioxide    1.515531\n",
       "density                 0.071288\n",
       "pH                      0.193683\n",
       "sulphates               2.428672\n",
       "alcohol                 0.860829\n",
       "dtype: float64"
      ]
     },
     "execution_count": 18,
     "metadata": {},
     "output_type": "execute_result"
    }
   ],
   "source": [
    "x.skew()"
   ]
  },
  {
   "cell_type": "markdown",
   "id": "e2881373",
   "metadata": {},
   "source": [
    "we can confirm from the graphs that the features present skewness to the right and dispersed"
   ]
  },
  {
   "cell_type": "code",
   "execution_count": 19,
   "id": "49f13e70",
   "metadata": {},
   "outputs": [],
   "source": [
    "import numpy as np\n",
    "\n",
    "features = x\n",
    "\n",
    "for col in features:\n",
    "    df1[col] = np.cbrt(df1[col])"
   ]
  },
  {
   "cell_type": "code",
   "execution_count": 20,
   "id": "253c53f1",
   "metadata": {},
   "outputs": [
    {
     "data": {
      "text/plain": [
       "fixed acidity           0.527560\n",
       "volatile acidity       -0.185057\n",
       "citric acid            -1.060321\n",
       "residual sugar          1.629756\n",
       "chlorides               1.056128\n",
       "free sulfur dioxide     0.127793\n",
       "total sulfur dioxide    0.343010\n",
       "density                 0.051778\n",
       "pH                      0.026443\n",
       "sulphates               0.526494\n",
       "alcohol                 0.643830\n",
       "good                    2.103030\n",
       "dtype: float64"
      ]
     },
     "execution_count": 20,
     "metadata": {},
     "output_type": "execute_result"
    }
   ],
   "source": [
    "df1.skew()"
   ]
  },
  {
   "cell_type": "markdown",
   "id": "d088ceab",
   "metadata": {},
   "source": [
    "we can see that the skewness has been reduced"
   ]
  },
  {
   "cell_type": "code",
   "execution_count": 77,
   "id": "458ac61c",
   "metadata": {},
   "outputs": [
    {
     "data": {
      "image/png": "[encoded data removed]",
      "text/plain": [
       "<Figure size 864x576 with 11 Axes>"
      ]
     },
     "metadata": {},
     "output_type": "display_data"
    }
   ],
   "source": [
    "# Now let's check again the distrubution of the data in the column\n",
    "\n",
    "plt.figure(figsize=(12, 8), facecolor=\"white\")\n",
    "\n",
    "features = df1.iloc[:, 0:11]\n",
    "\n",
    "for i, col in enumerate(features.columns):\n",
    "    plt.subplot(3, 4, i + 1) \n",
    "    sns.histplot(df1[col], color=\"m\", kde=True)\n",
    "    plt.xlabel(col, fontsize=12)\n",
    "    plt.xticks(rotation=0, fontsize=10)\n",
    "    plt.yticks(fontsize=10)\n",
    "\n",
    "plt.tight_layout()\n",
    "plt.show()"
   ]
  },
  {
   "cell_type": "markdown",
   "id": "7c778143",
   "metadata": {},
   "source": [
    "we have used cuberoot method to remove the skewness , now the lines almost normal"
   ]
  },
  {
   "cell_type": "code",
   "execution_count": 21,
   "id": "e6075776",
   "metadata": {
    "scrolled": true
   },
   "outputs": [
    {
     "data": {
      "text/html": [
       "<div>\n",
       "<style scoped>\n",
       "    .dataframe tbody tr th:only-of-type {\n",
       "        vertical-align: middle;\n",
       "    }\n",
       "\n",
       "    .dataframe tbody tr th {\n",
       "        vertical-align: top;\n",
       "    }\n",
       "\n",
       "    .dataframe thead th {\n",
       "        text-align: right;\n",
       "    }\n",
       "</style>\n",
       "<table border=\"1\" class=\"dataframe\">\n",
       "  <thead>\n",
       "    <tr style=\"text-align: right;\">\n",
       "      <th></th>\n",
       "      <th>fixed acidity</th>\n",
       "      <th>volatile acidity</th>\n",
       "      <th>citric acid</th>\n",
       "      <th>residual sugar</th>\n",
       "      <th>chlorides</th>\n",
       "      <th>free sulfur dioxide</th>\n",
       "      <th>total sulfur dioxide</th>\n",
       "      <th>density</th>\n",
       "      <th>pH</th>\n",
       "      <th>sulphates</th>\n",
       "      <th>alcohol</th>\n",
       "      <th>good</th>\n",
       "    </tr>\n",
       "  </thead>\n",
       "  <tbody>\n",
       "    <tr>\n",
       "      <th>fixed acidity</th>\n",
       "      <td>1.000000</td>\n",
       "      <td>-0.301872</td>\n",
       "      <td>0.584367</td>\n",
       "      <td>0.196737</td>\n",
       "      <td>0.218480</td>\n",
       "      <td>-0.165764</td>\n",
       "      <td>-0.098864</td>\n",
       "      <td>0.663485</td>\n",
       "      <td>-0.717782</td>\n",
       "      <td>0.195504</td>\n",
       "      <td>-0.031849</td>\n",
       "      <td>0.121865</td>\n",
       "    </tr>\n",
       "    <tr>\n",
       "      <th>volatile acidity</th>\n",
       "      <td>-0.301872</td>\n",
       "      <td>1.000000</td>\n",
       "      <td>-0.563473</td>\n",
       "      <td>0.039520</td>\n",
       "      <td>0.093033</td>\n",
       "      <td>0.042956</td>\n",
       "      <td>0.118053</td>\n",
       "      <td>0.010801</td>\n",
       "      <td>0.243226</td>\n",
       "      <td>-0.361762</td>\n",
       "      <td>-0.230087</td>\n",
       "      <td>-0.284147</td>\n",
       "    </tr>\n",
       "    <tr>\n",
       "      <th>citric acid</th>\n",
       "      <td>0.584367</td>\n",
       "      <td>-0.563473</td>\n",
       "      <td>1.000000</td>\n",
       "      <td>0.150426</td>\n",
       "      <td>0.076700</td>\n",
       "      <td>-0.042116</td>\n",
       "      <td>0.080948</td>\n",
       "      <td>0.304263</td>\n",
       "      <td>-0.494469</td>\n",
       "      <td>0.252977</td>\n",
       "      <td>0.093764</td>\n",
       "      <td>0.176907</td>\n",
       "    </tr>\n",
       "    <tr>\n",
       "      <th>residual sugar</th>\n",
       "      <td>0.196737</td>\n",
       "      <td>0.039520</td>\n",
       "      <td>0.150426</td>\n",
       "      <td>1.000000</td>\n",
       "      <td>0.165153</td>\n",
       "      <td>0.003969</td>\n",
       "      <td>0.095767</td>\n",
       "      <td>0.372660</td>\n",
       "      <td>-0.075803</td>\n",
       "      <td>0.068781</td>\n",
       "      <td>0.163337</td>\n",
       "      <td>0.103132</td>\n",
       "    </tr>\n",
       "    <tr>\n",
       "      <th>chlorides</th>\n",
       "      <td>0.218480</td>\n",
       "      <td>0.093033</td>\n",
       "      <td>0.076700</td>\n",
       "      <td>0.165153</td>\n",
       "      <td>1.000000</td>\n",
       "      <td>-0.041496</td>\n",
       "      <td>0.065122</td>\n",
       "      <td>0.375216</td>\n",
       "      <td>-0.196936</td>\n",
       "      <td>0.009585</td>\n",
       "      <td>-0.244662</td>\n",
       "      <td>-0.129038</td>\n",
       "    </tr>\n",
       "    <tr>\n",
       "      <th>free sulfur dioxide</th>\n",
       "      <td>-0.165764</td>\n",
       "      <td>0.042956</td>\n",
       "      <td>-0.042116</td>\n",
       "      <td>0.003969</td>\n",
       "      <td>-0.041496</td>\n",
       "      <td>1.000000</td>\n",
       "      <td>0.751304</td>\n",
       "      <td>-0.041322</td>\n",
       "      <td>0.127657</td>\n",
       "      <td>0.050594</td>\n",
       "      <td>-0.087483</td>\n",
       "      <td>-0.094547</td>\n",
       "    </tr>\n",
       "    <tr>\n",
       "      <th>total sulfur dioxide</th>\n",
       "      <td>-0.098864</td>\n",
       "      <td>0.118053</td>\n",
       "      <td>0.080948</td>\n",
       "      <td>0.095767</td>\n",
       "      <td>0.065122</td>\n",
       "      <td>0.751304</td>\n",
       "      <td>1.000000</td>\n",
       "      <td>0.132923</td>\n",
       "      <td>0.020667</td>\n",
       "      <td>-0.011570</td>\n",
       "      <td>-0.267689</td>\n",
       "      <td>-0.182061</td>\n",
       "    </tr>\n",
       "    <tr>\n",
       "      <th>density</th>\n",
       "      <td>0.663485</td>\n",
       "      <td>0.010801</td>\n",
       "      <td>0.304263</td>\n",
       "      <td>0.372660</td>\n",
       "      <td>0.375216</td>\n",
       "      <td>-0.041322</td>\n",
       "      <td>0.132923</td>\n",
       "      <td>1.000000</td>\n",
       "      <td>-0.312445</td>\n",
       "      <td>0.131305</td>\n",
       "      <td>-0.467020</td>\n",
       "      <td>-0.154333</td>\n",
       "    </tr>\n",
       "    <tr>\n",
       "      <th>pH</th>\n",
       "      <td>-0.717782</td>\n",
       "      <td>0.243226</td>\n",
       "      <td>-0.494469</td>\n",
       "      <td>-0.075803</td>\n",
       "      <td>-0.196936</td>\n",
       "      <td>0.127657</td>\n",
       "      <td>0.020667</td>\n",
       "      <td>-0.312445</td>\n",
       "      <td>1.000000</td>\n",
       "      <td>-0.031582</td>\n",
       "      <td>0.136771</td>\n",
       "      <td>-0.079962</td>\n",
       "    </tr>\n",
       "    <tr>\n",
       "      <th>sulphates</th>\n",
       "      <td>0.195504</td>\n",
       "      <td>-0.361762</td>\n",
       "      <td>0.252977</td>\n",
       "      <td>0.068781</td>\n",
       "      <td>0.009585</td>\n",
       "      <td>0.050594</td>\n",
       "      <td>-0.011570</td>\n",
       "      <td>0.131305</td>\n",
       "      <td>-0.031582</td>\n",
       "      <td>1.000000</td>\n",
       "      <td>0.250213</td>\n",
       "      <td>0.312689</td>\n",
       "    </tr>\n",
       "    <tr>\n",
       "      <th>alcohol</th>\n",
       "      <td>-0.031849</td>\n",
       "      <td>-0.230087</td>\n",
       "      <td>0.093764</td>\n",
       "      <td>0.163337</td>\n",
       "      <td>-0.244662</td>\n",
       "      <td>-0.087483</td>\n",
       "      <td>-0.267689</td>\n",
       "      <td>-0.467020</td>\n",
       "      <td>0.136771</td>\n",
       "      <td>0.250213</td>\n",
       "      <td>1.000000</td>\n",
       "      <td>0.428283</td>\n",
       "    </tr>\n",
       "    <tr>\n",
       "      <th>good</th>\n",
       "      <td>0.121865</td>\n",
       "      <td>-0.284147</td>\n",
       "      <td>0.176907</td>\n",
       "      <td>0.103132</td>\n",
       "      <td>-0.129038</td>\n",
       "      <td>-0.094547</td>\n",
       "      <td>-0.182061</td>\n",
       "      <td>-0.154333</td>\n",
       "      <td>-0.079962</td>\n",
       "      <td>0.312689</td>\n",
       "      <td>0.428283</td>\n",
       "      <td>1.000000</td>\n",
       "    </tr>\n",
       "  </tbody>\n",
       "</table>\n",
       "</div>"
      ],
      "text/plain": [
       "                      fixed acidity  volatile acidity  citric acid  \\\n",
       "fixed acidity              1.000000         -0.301872     0.584367   \n",
       "volatile acidity          -0.301872          1.000000    -0.563473   \n",
       "citric acid                0.584367         -0.563473     1.000000   \n",
       "residual sugar             0.196737          0.039520     0.150426   \n",
       "chlorides                  0.218480          0.093033     0.076700   \n",
       "free sulfur dioxide       -0.165764          0.042956    -0.042116   \n",
       "total sulfur dioxide      -0.098864          0.118053     0.080948   \n",
       "density                    0.663485          0.010801     0.304263   \n",
       "pH                        -0.717782          0.243226    -0.494469   \n",
       "sulphates                  0.195504         -0.361762     0.252977   \n",
       "alcohol                   -0.031849         -0.230087     0.093764   \n",
       "good                       0.121865         -0.284147     0.176907   \n",
       "\n",
       "                      residual sugar  chlorides  free sulfur dioxide  \\\n",
       "fixed acidity               0.196737   0.218480            -0.165764   \n",
       "volatile acidity            0.039520   0.093033             0.042956   \n",
       "citric acid                 0.150426   0.076700            -0.042116   \n",
       "residual sugar              1.000000   0.165153             0.003969   \n",
       "chlorides                   0.165153   1.000000            -0.041496   \n",
       "free sulfur dioxide         0.003969  -0.041496             1.000000   \n",
       "total sulfur dioxide        0.095767   0.065122             0.751304   \n",
       "density                     0.372660   0.375216            -0.041322   \n",
       "pH                         -0.075803  -0.196936             0.127657   \n",
       "sulphates                   0.068781   0.009585             0.050594   \n",
       "alcohol                     0.163337  -0.244662            -0.087483   \n",
       "good                        0.103132  -0.129038            -0.094547   \n",
       "\n",
       "                      total sulfur dioxide   density        pH  sulphates  \\\n",
       "fixed acidity                    -0.098864  0.663485 -0.717782   0.195504   \n",
       "volatile acidity                  0.118053  0.010801  0.243226  -0.361762   \n",
       "citric acid                       0.080948  0.304263 -0.494469   0.252977   \n",
       "residual sugar                    0.095767  0.372660 -0.075803   0.068781   \n",
       "chlorides                         0.065122  0.375216 -0.196936   0.009585   \n",
       "free sulfur dioxide               0.751304 -0.041322  0.127657   0.050594   \n",
       "total sulfur dioxide              1.000000  0.132923  0.020667  -0.011570   \n",
       "density                           0.132923  1.000000 -0.312445   0.131305   \n",
       "pH                                0.020667 -0.312445  1.000000  -0.031582   \n",
       "sulphates                        -0.011570  0.131305 -0.031582   1.000000   \n",
       "alcohol                          -0.267689 -0.467020  0.136771   0.250213   \n",
       "good                             -0.182061 -0.154333 -0.079962   0.312689   \n",
       "\n",
       "                       alcohol      good  \n",
       "fixed acidity        -0.031849  0.121865  \n",
       "volatile acidity     -0.230087 -0.284147  \n",
       "citric acid           0.093764  0.176907  \n",
       "residual sugar        0.163337  0.103132  \n",
       "chlorides            -0.244662 -0.129038  \n",
       "free sulfur dioxide  -0.087483 -0.094547  \n",
       "total sulfur dioxide -0.267689 -0.182061  \n",
       "density              -0.467020 -0.154333  \n",
       "pH                    0.136771 -0.079962  \n",
       "sulphates             0.250213  0.312689  \n",
       "alcohol               1.000000  0.428283  \n",
       "good                  0.428283  1.000000  "
      ]
     },
     "execution_count": 21,
     "metadata": {},
     "output_type": "execute_result"
    }
   ],
   "source": [
    "df1.corr()"
   ]
  },
  {
   "cell_type": "markdown",
   "id": "cd446431",
   "metadata": {},
   "source": [
    "1. volatile velocity, chlorides, free sulfur dioxide,  total sulfur dioxide,  pH, density are negatively correlated with the target (good) but the value in value volatile acidity is quite very high.\n",
    "\n",
    "2. the rest of the features are positively correlated with the target (\"good\"), the alcholic content is higly correlated positively\n",
    "\n",
    "3. some of the features a such as fixed acidity and citric acid are positive correlated, I suspect multicolinearity in the dataset. "
   ]
  },
  {
   "cell_type": "code",
   "execution_count": 22,
   "id": "1df3af72",
   "metadata": {},
   "outputs": [
    {
     "data": {
      "text/plain": [
       "<AxesSubplot:>"
      ]
     },
     "execution_count": 22,
     "metadata": {},
     "output_type": "execute_result"
    },
    {
     "data": {
      "image/png": "[encoded data removed]",
      "text/plain": [
       "<Figure size 720x432 with 2 Axes>"
      ]
     },
     "metadata": {
      "needs_background": "light"
     },
     "output_type": "display_data"
    }
   ],
   "source": [
    "plt.figure(figsize = (10,6))\n",
    "sns.heatmap(df1.corr(), cmap=\"Blues\",annot=True)"
   ]
  },
  {
   "cell_type": "markdown",
   "id": "507ed648",
   "metadata": {},
   "source": [
    "The graph shows that the features are correlated positively (contribute more) and negatively(contribute less) among themselves."
   ]
  },
  {
   "cell_type": "code",
   "execution_count": 24,
   "id": "63b0617b",
   "metadata": {
    "scrolled": true
   },
   "outputs": [
    {
     "data": {
      "text/plain": [
       "volatile acidity       -0.284147\n",
       "total sulfur dioxide   -0.182061\n",
       "density                -0.154333\n",
       "chlorides              -0.129038\n",
       "free sulfur dioxide    -0.094547\n",
       "pH                     -0.079962\n",
       "residual sugar          0.103132\n",
       "fixed acidity           0.121865\n",
       "citric acid             0.176907\n",
       "sulphates               0.312689\n",
       "alcohol                 0.428283\n",
       "good                    1.000000\n",
       "Name: good, dtype: float64"
      ]
     },
     "execution_count": 24,
     "metadata": {},
     "output_type": "execute_result"
    }
   ],
   "source": [
    "df1.corr().good.sort_values()"
   ]
  },
  {
   "cell_type": "markdown",
   "id": "28723353",
   "metadata": {},
   "source": [
    "I will drop volatile velocity since it doesn't contribrute: a high negative correlation with the target"
   ]
  },
  {
   "cell_type": "code",
   "execution_count": 25,
   "id": "5acdf971",
   "metadata": {},
   "outputs": [
    {
     "data": {
      "text/html": [
       "<div>\n",
       "<style scoped>\n",
       "    .dataframe tbody tr th:only-of-type {\n",
       "        vertical-align: middle;\n",
       "    }\n",
       "\n",
       "    .dataframe tbody tr th {\n",
       "        vertical-align: top;\n",
       "    }\n",
       "\n",
       "    .dataframe thead th {\n",
       "        text-align: right;\n",
       "    }\n",
       "</style>\n",
       "<table border=\"1\" class=\"dataframe\">\n",
       "  <thead>\n",
       "    <tr style=\"text-align: right;\">\n",
       "      <th></th>\n",
       "      <th>fixed acidity</th>\n",
       "      <th>citric acid</th>\n",
       "      <th>residual sugar</th>\n",
       "      <th>chlorides</th>\n",
       "      <th>free sulfur dioxide</th>\n",
       "      <th>total sulfur dioxide</th>\n",
       "      <th>density</th>\n",
       "      <th>pH</th>\n",
       "      <th>sulphates</th>\n",
       "      <th>alcohol</th>\n",
       "      <th>good</th>\n",
       "    </tr>\n",
       "  </thead>\n",
       "  <tbody>\n",
       "    <tr>\n",
       "      <th>0</th>\n",
       "      <td>1.948695</td>\n",
       "      <td>0.0</td>\n",
       "      <td>1.238562</td>\n",
       "      <td>0.423582</td>\n",
       "      <td>2.223980</td>\n",
       "      <td>3.239612</td>\n",
       "      <td>0.999266</td>\n",
       "      <td>1.519739</td>\n",
       "      <td>0.824257</td>\n",
       "      <td>2.110454</td>\n",
       "      <td>0</td>\n",
       "    </tr>\n",
       "    <tr>\n",
       "      <th>1</th>\n",
       "      <td>1.983192</td>\n",
       "      <td>0.0</td>\n",
       "      <td>1.375069</td>\n",
       "      <td>0.461044</td>\n",
       "      <td>2.924018</td>\n",
       "      <td>4.061548</td>\n",
       "      <td>0.998932</td>\n",
       "      <td>1.473613</td>\n",
       "      <td>0.879366</td>\n",
       "      <td>2.139975</td>\n",
       "      <td>0</td>\n",
       "    </tr>\n",
       "  </tbody>\n",
       "</table>\n",
       "</div>"
      ],
      "text/plain": [
       "   fixed acidity  citric acid  residual sugar  chlorides  free sulfur dioxide  \\\n",
       "0       1.948695          0.0        1.238562   0.423582             2.223980   \n",
       "1       1.983192          0.0        1.375069   0.461044             2.924018   \n",
       "\n",
       "   total sulfur dioxide   density        pH  sulphates   alcohol  good  \n",
       "0              3.239612  0.999266  1.519739   0.824257  2.110454     0  \n",
       "1              4.061548  0.998932  1.473613   0.879366  2.139975     0  "
      ]
     },
     "execution_count": 25,
     "metadata": {},
     "output_type": "execute_result"
    }
   ],
   "source": [
    "del df1[\"volatile acidity\"]\n",
    "df1.head(2)"
   ]
  },
  {
   "cell_type": "code",
   "execution_count": 27,
   "id": "f3aaa074",
   "metadata": {
    "scrolled": false
   },
   "outputs": [
    {
     "data": {
      "image/png": "[encoded data removed]",
      "text/plain": [
       "<Figure size 1584x504 with 1 Axes>"
      ]
     },
     "metadata": {
      "needs_background": "light"
     },
     "output_type": "display_data"
    }
   ],
   "source": [
    "plt.figure(figsize=(22,7))\n",
    "df.corr()[\"good\"].sort_values(ascending = False).drop([\"good\"]).plot(kind = \"bar\", color = \"m\")\n",
    "plt.xlabel(\"Feature\", fontsize = 15)\n",
    "plt.ylabel(\"Target\", fontsize = 15)\n",
    "plt.title(\"Correlation between label and features using barplot\", fontsize= 20)\n",
    "plt.show()"
   ]
  },
  {
   "cell_type": "markdown",
   "id": "ce22ea29",
   "metadata": {},
   "source": [
    "We can observe a positive correlation between the features with the target and means they are all important features and contribute in a very important way. \n",
    "\n",
    "we have also suspect multicollinearity problem."
   ]
  },
  {
   "cell_type": "code",
   "execution_count": 28,
   "id": "3351af7b",
   "metadata": {},
   "outputs": [
    {
     "name": "stdout",
     "output_type": "stream",
     "text": [
      "x.shape:  (1599, 11)\n",
      "y.shape:  (1599,)\n"
     ]
    }
   ],
   "source": [
    "# dimension of the features and target\n",
    "print(\"x.shape: \", x.shape)\n",
    "print(\"y.shape: \", y.shape)"
   ]
  },
  {
   "cell_type": "markdown",
   "id": "1fe1f0e4",
   "metadata": {},
   "source": [
    "we can see the same number of rows which means we have the same number of datapoints (good)"
   ]
  },
  {
   "cell_type": "markdown",
   "id": "ba8a94d5",
   "metadata": {},
   "source": [
    "## Normalization of the features - Standard Scalarization"
   ]
  },
  {
   "cell_type": "code",
   "execution_count": 29,
   "id": "2eb233c7",
   "metadata": {},
   "outputs": [
    {
     "data": {
      "text/html": [
       "<div>\n",
       "<style scoped>\n",
       "    .dataframe tbody tr th:only-of-type {\n",
       "        vertical-align: middle;\n",
       "    }\n",
       "\n",
       "    .dataframe tbody tr th {\n",
       "        vertical-align: top;\n",
       "    }\n",
       "\n",
       "    .dataframe thead th {\n",
       "        text-align: right;\n",
       "    }\n",
       "</style>\n",
       "<table border=\"1\" class=\"dataframe\">\n",
       "  <thead>\n",
       "    <tr style=\"text-align: right;\">\n",
       "      <th></th>\n",
       "      <th>fixed acidity</th>\n",
       "      <th>volatile acidity</th>\n",
       "      <th>citric acid</th>\n",
       "      <th>residual sugar</th>\n",
       "      <th>chlorides</th>\n",
       "      <th>free sulfur dioxide</th>\n",
       "      <th>total sulfur dioxide</th>\n",
       "      <th>density</th>\n",
       "      <th>pH</th>\n",
       "      <th>sulphates</th>\n",
       "      <th>alcohol</th>\n",
       "    </tr>\n",
       "  </thead>\n",
       "  <tbody>\n",
       "    <tr>\n",
       "      <th>0</th>\n",
       "      <td>-0.528360</td>\n",
       "      <td>0.961877</td>\n",
       "      <td>-1.391472</td>\n",
       "      <td>-0.453218</td>\n",
       "      <td>-0.243707</td>\n",
       "      <td>-0.466193</td>\n",
       "      <td>-0.379133</td>\n",
       "      <td>0.558274</td>\n",
       "      <td>1.288643</td>\n",
       "      <td>-0.579207</td>\n",
       "      <td>-0.960246</td>\n",
       "    </tr>\n",
       "    <tr>\n",
       "      <th>1</th>\n",
       "      <td>-0.298547</td>\n",
       "      <td>1.967442</td>\n",
       "      <td>-1.391472</td>\n",
       "      <td>0.043416</td>\n",
       "      <td>0.223875</td>\n",
       "      <td>0.872638</td>\n",
       "      <td>0.624363</td>\n",
       "      <td>0.028261</td>\n",
       "      <td>-0.719933</td>\n",
       "      <td>0.128950</td>\n",
       "      <td>-0.584777</td>\n",
       "    </tr>\n",
       "    <tr>\n",
       "      <th>2</th>\n",
       "      <td>-0.298547</td>\n",
       "      <td>1.297065</td>\n",
       "      <td>-1.186070</td>\n",
       "      <td>-0.169427</td>\n",
       "      <td>0.096353</td>\n",
       "      <td>-0.083669</td>\n",
       "      <td>0.229047</td>\n",
       "      <td>0.134264</td>\n",
       "      <td>-0.331177</td>\n",
       "      <td>-0.048089</td>\n",
       "      <td>-0.584777</td>\n",
       "    </tr>\n",
       "    <tr>\n",
       "      <th>3</th>\n",
       "      <td>1.654856</td>\n",
       "      <td>-1.384443</td>\n",
       "      <td>1.484154</td>\n",
       "      <td>-0.453218</td>\n",
       "      <td>-0.264960</td>\n",
       "      <td>0.107592</td>\n",
       "      <td>0.411500</td>\n",
       "      <td>0.664277</td>\n",
       "      <td>-0.979104</td>\n",
       "      <td>-0.461180</td>\n",
       "      <td>-0.584777</td>\n",
       "    </tr>\n",
       "    <tr>\n",
       "      <th>4</th>\n",
       "      <td>-0.528360</td>\n",
       "      <td>0.961877</td>\n",
       "      <td>-1.391472</td>\n",
       "      <td>-0.453218</td>\n",
       "      <td>-0.243707</td>\n",
       "      <td>-0.466193</td>\n",
       "      <td>-0.379133</td>\n",
       "      <td>0.558274</td>\n",
       "      <td>1.288643</td>\n",
       "      <td>-0.579207</td>\n",
       "      <td>-0.960246</td>\n",
       "    </tr>\n",
       "    <tr>\n",
       "      <th>...</th>\n",
       "      <td>...</td>\n",
       "      <td>...</td>\n",
       "      <td>...</td>\n",
       "      <td>...</td>\n",
       "      <td>...</td>\n",
       "      <td>...</td>\n",
       "      <td>...</td>\n",
       "      <td>...</td>\n",
       "      <td>...</td>\n",
       "      <td>...</td>\n",
       "      <td>...</td>\n",
       "    </tr>\n",
       "    <tr>\n",
       "      <th>1594</th>\n",
       "      <td>-1.217796</td>\n",
       "      <td>0.403229</td>\n",
       "      <td>-0.980669</td>\n",
       "      <td>-0.382271</td>\n",
       "      <td>0.053845</td>\n",
       "      <td>1.542054</td>\n",
       "      <td>-0.075043</td>\n",
       "      <td>-0.978765</td>\n",
       "      <td>0.899886</td>\n",
       "      <td>-0.461180</td>\n",
       "      <td>0.072294</td>\n",
       "    </tr>\n",
       "    <tr>\n",
       "      <th>1595</th>\n",
       "      <td>-1.390155</td>\n",
       "      <td>0.123905</td>\n",
       "      <td>-0.877968</td>\n",
       "      <td>-0.240375</td>\n",
       "      <td>-0.541259</td>\n",
       "      <td>2.211469</td>\n",
       "      <td>0.137820</td>\n",
       "      <td>-0.862162</td>\n",
       "      <td>1.353436</td>\n",
       "      <td>0.601055</td>\n",
       "      <td>0.729364</td>\n",
       "    </tr>\n",
       "    <tr>\n",
       "      <th>1596</th>\n",
       "      <td>-1.160343</td>\n",
       "      <td>-0.099554</td>\n",
       "      <td>-0.723916</td>\n",
       "      <td>-0.169427</td>\n",
       "      <td>-0.243707</td>\n",
       "      <td>1.255161</td>\n",
       "      <td>-0.196679</td>\n",
       "      <td>-0.533554</td>\n",
       "      <td>0.705508</td>\n",
       "      <td>0.542042</td>\n",
       "      <td>0.541630</td>\n",
       "    </tr>\n",
       "    <tr>\n",
       "      <th>1597</th>\n",
       "      <td>-1.390155</td>\n",
       "      <td>0.654620</td>\n",
       "      <td>-0.775267</td>\n",
       "      <td>-0.382271</td>\n",
       "      <td>-0.264960</td>\n",
       "      <td>1.542054</td>\n",
       "      <td>-0.075043</td>\n",
       "      <td>-0.676657</td>\n",
       "      <td>1.677400</td>\n",
       "      <td>0.305990</td>\n",
       "      <td>-0.209308</td>\n",
       "    </tr>\n",
       "    <tr>\n",
       "      <th>1598</th>\n",
       "      <td>-1.332702</td>\n",
       "      <td>-1.216849</td>\n",
       "      <td>1.021999</td>\n",
       "      <td>0.752894</td>\n",
       "      <td>-0.434990</td>\n",
       "      <td>0.203223</td>\n",
       "      <td>-0.135861</td>\n",
       "      <td>-0.666057</td>\n",
       "      <td>0.511130</td>\n",
       "      <td>0.010924</td>\n",
       "      <td>0.541630</td>\n",
       "    </tr>\n",
       "  </tbody>\n",
       "</table>\n",
       "<p>1599 rows × 11 columns</p>\n",
       "</div>"
      ],
      "text/plain": [
       "      fixed acidity  volatile acidity  citric acid  residual sugar  chlorides  \\\n",
       "0         -0.528360          0.961877    -1.391472       -0.453218  -0.243707   \n",
       "1         -0.298547          1.967442    -1.391472        0.043416   0.223875   \n",
       "2         -0.298547          1.297065    -1.186070       -0.169427   0.096353   \n",
       "3          1.654856         -1.384443     1.484154       -0.453218  -0.264960   \n",
       "4         -0.528360          0.961877    -1.391472       -0.453218  -0.243707   \n",
       "...             ...               ...          ...             ...        ...   \n",
       "1594      -1.217796          0.403229    -0.980669       -0.382271   0.053845   \n",
       "1595      -1.390155          0.123905    -0.877968       -0.240375  -0.541259   \n",
       "1596      -1.160343         -0.099554    -0.723916       -0.169427  -0.243707   \n",
       "1597      -1.390155          0.654620    -0.775267       -0.382271  -0.264960   \n",
       "1598      -1.332702         -1.216849     1.021999        0.752894  -0.434990   \n",
       "\n",
       "      free sulfur dioxide  total sulfur dioxide   density        pH  \\\n",
       "0               -0.466193             -0.379133  0.558274  1.288643   \n",
       "1                0.872638              0.624363  0.028261 -0.719933   \n",
       "2               -0.083669              0.229047  0.134264 -0.331177   \n",
       "3                0.107592              0.411500  0.664277 -0.979104   \n",
       "4               -0.466193             -0.379133  0.558274  1.288643   \n",
       "...                   ...                   ...       ...       ...   \n",
       "1594             1.542054             -0.075043 -0.978765  0.899886   \n",
       "1595             2.211469              0.137820 -0.862162  1.353436   \n",
       "1596             1.255161             -0.196679 -0.533554  0.705508   \n",
       "1597             1.542054             -0.075043 -0.676657  1.677400   \n",
       "1598             0.203223             -0.135861 -0.666057  0.511130   \n",
       "\n",
       "      sulphates   alcohol  \n",
       "0     -0.579207 -0.960246  \n",
       "1      0.128950 -0.584777  \n",
       "2     -0.048089 -0.584777  \n",
       "3     -0.461180 -0.584777  \n",
       "4     -0.579207 -0.960246  \n",
       "...         ...       ...  \n",
       "1594  -0.461180  0.072294  \n",
       "1595   0.601055  0.729364  \n",
       "1596   0.542042  0.541630  \n",
       "1597   0.305990 -0.209308  \n",
       "1598   0.010924  0.541630  \n",
       "\n",
       "[1599 rows x 11 columns]"
      ]
     },
     "execution_count": 29,
     "metadata": {},
     "output_type": "execute_result"
    }
   ],
   "source": [
    "from sklearn.preprocessing import StandardScaler\n",
    "scaler =  StandardScaler()\n",
    "x = pd.DataFrame(scaler.fit_transform(x), columns=x.columns)\n",
    "x"
   ]
  },
  {
   "cell_type": "markdown",
   "id": "9ae01e14",
   "metadata": {},
   "source": [
    "features normalized"
   ]
  },
  {
   "cell_type": "markdown",
   "id": "d9a8c46f",
   "metadata": {},
   "source": [
    "# Variance Inflation Factor (VIF)"
   ]
  },
  {
   "cell_type": "code",
   "execution_count": 30,
   "id": "6d368ba5",
   "metadata": {},
   "outputs": [],
   "source": [
    "import statsmodels.api as sm\n",
    "from scipy import stats\n",
    "from statsmodels.stats.outliers_influence import variance_inflation_factor"
   ]
  },
  {
   "cell_type": "code",
   "execution_count": 31,
   "id": "3de593c9",
   "metadata": {},
   "outputs": [
    {
     "data": {
      "text/html": [
       "<div>\n",
       "<style scoped>\n",
       "    .dataframe tbody tr th:only-of-type {\n",
       "        vertical-align: middle;\n",
       "    }\n",
       "\n",
       "    .dataframe tbody tr th {\n",
       "        vertical-align: top;\n",
       "    }\n",
       "\n",
       "    .dataframe thead th {\n",
       "        text-align: right;\n",
       "    }\n",
       "</style>\n",
       "<table border=\"1\" class=\"dataframe\">\n",
       "  <thead>\n",
       "    <tr style=\"text-align: right;\">\n",
       "      <th></th>\n",
       "      <th>Features</th>\n",
       "      <th>VIF FACTOR</th>\n",
       "    </tr>\n",
       "  </thead>\n",
       "  <tbody>\n",
       "    <tr>\n",
       "      <th>0</th>\n",
       "      <td>fixed acidity</td>\n",
       "      <td>7.767512</td>\n",
       "    </tr>\n",
       "    <tr>\n",
       "      <th>1</th>\n",
       "      <td>volatile acidity</td>\n",
       "      <td>1.789390</td>\n",
       "    </tr>\n",
       "    <tr>\n",
       "      <th>2</th>\n",
       "      <td>citric acid</td>\n",
       "      <td>3.128022</td>\n",
       "    </tr>\n",
       "    <tr>\n",
       "      <th>3</th>\n",
       "      <td>residual sugar</td>\n",
       "      <td>1.702588</td>\n",
       "    </tr>\n",
       "    <tr>\n",
       "      <th>4</th>\n",
       "      <td>chlorides</td>\n",
       "      <td>1.481932</td>\n",
       "    </tr>\n",
       "    <tr>\n",
       "      <th>5</th>\n",
       "      <td>free sulfur dioxide</td>\n",
       "      <td>1.963019</td>\n",
       "    </tr>\n",
       "    <tr>\n",
       "      <th>6</th>\n",
       "      <td>total sulfur dioxide</td>\n",
       "      <td>2.186813</td>\n",
       "    </tr>\n",
       "    <tr>\n",
       "      <th>7</th>\n",
       "      <td>density</td>\n",
       "      <td>6.343760</td>\n",
       "    </tr>\n",
       "    <tr>\n",
       "      <th>8</th>\n",
       "      <td>pH</td>\n",
       "      <td>3.329732</td>\n",
       "    </tr>\n",
       "    <tr>\n",
       "      <th>9</th>\n",
       "      <td>sulphates</td>\n",
       "      <td>1.429434</td>\n",
       "    </tr>\n",
       "    <tr>\n",
       "      <th>10</th>\n",
       "      <td>alcohol</td>\n",
       "      <td>3.031160</td>\n",
       "    </tr>\n",
       "  </tbody>\n",
       "</table>\n",
       "</div>"
      ],
      "text/plain": [
       "                Features  VIF FACTOR\n",
       "0          fixed acidity    7.767512\n",
       "1       volatile acidity    1.789390\n",
       "2            citric acid    3.128022\n",
       "3         residual sugar    1.702588\n",
       "4              chlorides    1.481932\n",
       "5    free sulfur dioxide    1.963019\n",
       "6   total sulfur dioxide    2.186813\n",
       "7                density    6.343760\n",
       "8                     pH    3.329732\n",
       "9              sulphates    1.429434\n",
       "10               alcohol    3.031160"
      ]
     },
     "execution_count": 31,
     "metadata": {},
     "output_type": "execute_result"
    }
   ],
   "source": [
    "def cal_vif(x):\n",
    "    vif = pd.DataFrame()\n",
    "    vif[\"Features\"] = x.columns\n",
    "    vif[\"VIF FACTOR\"] = [variance_inflation_factor(x.values,i) for i in range(x.shape[1])]\n",
    "    return(vif)\n",
    "\n",
    "cal_vif(x)"
   ]
  },
  {
   "cell_type": "markdown",
   "id": "453aca70",
   "metadata": {},
   "source": [
    "Normally  VIF > 1 indicates some level of multicollinearity. Multicollinearity increases with the VIF. \n",
    "Common threshold values for identifying multicollinearity VIF > 10 and therefore I will leave it to look at the outcome of the model (fixed acidity is 7.77)"
   ]
  },
  {
   "cell_type": "code",
   "execution_count": 32,
   "id": "469050af",
   "metadata": {
    "scrolled": true
   },
   "outputs": [
    {
     "data": {
      "text/plain": [
       "0    1382\n",
       "1     217\n",
       "Name: good, dtype: int64"
      ]
     },
     "execution_count": 32,
     "metadata": {},
     "output_type": "execute_result"
    }
   ],
   "source": [
    "y.value_counts()"
   ]
  },
  {
   "cell_type": "markdown",
   "id": "5316fb38",
   "metadata": {},
   "source": [
    "the data is unbalanced and I will use oversampling method to balance it but before "
   ]
  },
  {
   "cell_type": "markdown",
   "id": "57629a7a",
   "metadata": {},
   "source": [
    "## Oversampling"
   ]
  },
  {
   "cell_type": "code",
   "execution_count": 34,
   "id": "daefae83",
   "metadata": {},
   "outputs": [
    {
     "data": {
      "text/plain": [
       "0    1382\n",
       "1    1382\n",
       "Name: good, dtype: int64"
      ]
     },
     "execution_count": 34,
     "metadata": {},
     "output_type": "execute_result"
    }
   ],
   "source": [
    "from imblearn.over_sampling import SMOTE \n",
    "SM = SMOTE()\n",
    "x1,y1 = SM.fit_resample(x,y)\n",
    "y1.value_counts()"
   ]
  },
  {
   "cell_type": "markdown",
   "id": "e2daa073",
   "metadata": {},
   "source": [
    "The data is now balanced"
   ]
  },
  {
   "cell_type": "markdown",
   "id": "78d739c2",
   "metadata": {},
   "source": [
    "## Modelling -find the best random state"
   ]
  },
  {
   "cell_type": "code",
   "execution_count": 35,
   "id": "c2808cf6",
   "metadata": {},
   "outputs": [],
   "source": [
    "from sklearn.model_selection import train_test_split\n",
    "from sklearn.ensemble import RandomForestClassifier\n",
    "from sklearn.metrics import accuracy_score"
   ]
  },
  {
   "cell_type": "code",
   "execution_count": 38,
   "id": "e194b21f",
   "metadata": {},
   "outputs": [
    {
     "name": "stdout",
     "output_type": "stream",
     "text": [
      "Best accuracy is  0.9710669077757685 at random_state 106\n"
     ]
    }
   ],
   "source": [
    "optimal_accuracy = 0\n",
    "optimal_random_state = 0 \n",
    "\n",
    "for i in range(1, 200):\n",
    "    x_train,x_test, y_train, y_test = train_test_split(x1, y1, test_size=0.2, random_state=i)\n",
    "    rfc = RandomForestClassifier()\n",
    "    rfc.fit(x_train, y_train)\n",
    "    pred = rfc.predict(x_test)\n",
    "    acc = accuracy_score(y_test, pred)\n",
    "    if (acc > optimal_accuracy):\n",
    "        optimal_accuracy = acc\n",
    "        optimal_random_state = i\n",
    "print(\"Best accuracy is \", optimal_accuracy, \"at random_state\", optimal_random_state)"
   ]
  },
  {
   "cell_type": "markdown",
   "id": "f8113590",
   "metadata": {},
   "source": [
    "## Creating train split test"
   ]
  },
  {
   "cell_type": "code",
   "execution_count": 40,
   "id": "89f8400f",
   "metadata": {},
   "outputs": [],
   "source": [
    "x_train,x_test, y_train, y_test = train_test_split(x1, y1, test_size=0.2, random_state=optimal_random_state)"
   ]
  },
  {
   "cell_type": "code",
   "execution_count": 41,
   "id": "39342dfe",
   "metadata": {},
   "outputs": [],
   "source": [
    "# importing libraries\n",
    "from sklearn.ensemble import RandomForestClassifier, ExtraTreesClassifier\n",
    "from sklearn.linear_model import LogisticRegression\n",
    "from sklearn.svm import SVC\n",
    "from sklearn.ensemble import GradientBoostingClassifier, AdaBoostClassifier,BaggingClassifier\n",
    "from sklearn.metrics import classification_report, confusion_matrix, roc_curve, accuracy_score\n",
    "from sklearn.model_selection import cross_val_score"
   ]
  },
  {
   "cell_type": "code",
   "execution_count": 42,
   "id": "dc13d4c1",
   "metadata": {},
   "outputs": [
    {
     "name": "stdout",
     "output_type": "stream",
     "text": [
      "Accuracy score of  RandomForestClassifier() is: \n",
      "0.9638336347197106\n",
      "[[270  16]\n",
      " [  4 263]]\n",
      "              precision    recall  f1-score   support\n",
      "\n",
      "           0       0.99      0.94      0.96       286\n",
      "           1       0.94      0.99      0.96       267\n",
      "\n",
      "    accuracy                           0.96       553\n",
      "   macro avg       0.96      0.96      0.96       553\n",
      "weighted avg       0.96      0.96      0.96       553\n",
      "\n",
      "\n",
      "\n",
      "Accuracy score of  LogisticRegression() is: \n",
      "0.840867992766727\n",
      "[[233  53]\n",
      " [ 35 232]]\n",
      "              precision    recall  f1-score   support\n",
      "\n",
      "           0       0.87      0.81      0.84       286\n",
      "           1       0.81      0.87      0.84       267\n",
      "\n",
      "    accuracy                           0.84       553\n",
      "   macro avg       0.84      0.84      0.84       553\n",
      "weighted avg       0.84      0.84      0.84       553\n",
      "\n",
      "\n",
      "\n",
      "Accuracy score of  ExtraTreesClassifier() is: \n",
      "0.969258589511754\n",
      "[[271  15]\n",
      " [  2 265]]\n",
      "              precision    recall  f1-score   support\n",
      "\n",
      "           0       0.99      0.95      0.97       286\n",
      "           1       0.95      0.99      0.97       267\n",
      "\n",
      "    accuracy                           0.97       553\n",
      "   macro avg       0.97      0.97      0.97       553\n",
      "weighted avg       0.97      0.97      0.97       553\n",
      "\n",
      "\n",
      "\n",
      "Accuracy score of  SVC() is: \n",
      "0.8878842676311031\n",
      "[[244  42]\n",
      " [ 20 247]]\n",
      "              precision    recall  f1-score   support\n",
      "\n",
      "           0       0.92      0.85      0.89       286\n",
      "           1       0.85      0.93      0.89       267\n",
      "\n",
      "    accuracy                           0.89       553\n",
      "   macro avg       0.89      0.89      0.89       553\n",
      "weighted avg       0.89      0.89      0.89       553\n",
      "\n",
      "\n",
      "\n",
      "Accuracy score of  GradientBoostingClassifier() is: \n",
      "0.9312839059674503\n",
      "[[261  25]\n",
      " [ 13 254]]\n",
      "              precision    recall  f1-score   support\n",
      "\n",
      "           0       0.95      0.91      0.93       286\n",
      "           1       0.91      0.95      0.93       267\n",
      "\n",
      "    accuracy                           0.93       553\n",
      "   macro avg       0.93      0.93      0.93       553\n",
      "weighted avg       0.93      0.93      0.93       553\n",
      "\n",
      "\n",
      "\n",
      "Accuracy score of  AdaBoostClassifier() is: \n",
      "0.8878842676311031\n",
      "[[253  33]\n",
      " [ 29 238]]\n",
      "              precision    recall  f1-score   support\n",
      "\n",
      "           0       0.90      0.88      0.89       286\n",
      "           1       0.88      0.89      0.88       267\n",
      "\n",
      "    accuracy                           0.89       553\n",
      "   macro avg       0.89      0.89      0.89       553\n",
      "weighted avg       0.89      0.89      0.89       553\n",
      "\n",
      "\n",
      "\n",
      "Accuracy score of  BaggingClassifier() is: \n",
      "0.9493670886075949\n",
      "[[273  13]\n",
      " [ 15 252]]\n",
      "              precision    recall  f1-score   support\n",
      "\n",
      "           0       0.95      0.95      0.95       286\n",
      "           1       0.95      0.94      0.95       267\n",
      "\n",
      "    accuracy                           0.95       553\n",
      "   macro avg       0.95      0.95      0.95       553\n",
      "weighted avg       0.95      0.95      0.95       553\n",
      "\n",
      "\n",
      "\n"
     ]
    }
   ],
   "source": [
    "# Selecting the best model\n",
    "\n",
    "rfc = RandomForestClassifier()\n",
    "lg = LogisticRegression()\n",
    "exc = ExtraTreesClassifier()\n",
    "svc = SVC()\n",
    "gbc =GradientBoostingClassifier()\n",
    "abc = AdaBoostClassifier()\n",
    "bc = BaggingClassifier()\n",
    "\n",
    "models = [rfc, lg, exc, svc, gbc, abc,bc]\n",
    "for model in models:\n",
    "    model.fit(x_train, y_train)\n",
    "    model.score(x_train, y_train)\n",
    "    pred_model = model.predict(x_test)\n",
    "    print(\"Accuracy score of \", model, \"is: \")\n",
    "    print(accuracy_score(y_test ,pred_model))\n",
    "    print(confusion_matrix(y_test,pred_model))\n",
    "    print(classification_report(y_test,pred_model))\n",
    "    print('\\n')"
   ]
  },
  {
   "cell_type": "markdown",
   "id": "cbb96565",
   "metadata": {},
   "source": [
    "Accuracy score of  ExtraTreesClassifier() is 0.969258589511754,  with precision of 0.99 looks to be the best model but let's very it with the cross validation"
   ]
  },
  {
   "cell_type": "markdown",
   "id": "892b7c08",
   "metadata": {},
   "source": [
    "## Cross Validation Score (parameter to check the well fitting)"
   ]
  },
  {
   "cell_type": "code",
   "execution_count": 43,
   "id": "defa0e56",
   "metadata": {},
   "outputs": [
    {
     "name": "stdout",
     "output_type": "stream",
     "text": [
      "Cross validare score of  RandomForestClassifier() is: \n",
      "[0.878125   0.84375    0.884375   0.853125   0.88401254]\n",
      "cross validation score mean is  0.8686775078369905\n",
      "cross validation score std is  0.016935706078010065\n",
      "Difference between Accuracy score and cross validation score is 0.0806895807706044\n",
      "\n",
      "\n",
      "Cross validare score of  LogisticRegression() is: \n",
      "[0.865625   0.859375   0.8875     0.840625   0.88401254]\n",
      "cross validation score mean is  0.8674275078369906\n",
      "cross validation score std is  0.017113939054268702\n",
      "Difference between Accuracy score and cross validation score is 0.08193958077060426\n",
      "\n",
      "\n",
      "Cross validare score of  ExtraTreesClassifier() is: \n",
      "[0.884375   0.846875   0.878125   0.865625   0.88401254]\n",
      "cross validation score mean is  0.8718025078369905\n",
      "cross validation score std is  0.014189211266999853\n",
      "Difference between Accuracy score and cross validation score is 0.07756458077060435\n",
      "\n",
      "\n",
      "Cross validare score of  SVC() is: \n",
      "[0.878125   0.85       0.896875   0.853125   0.86833856]\n",
      "cross validation score mean is  0.8692927115987461\n",
      "cross validation score std is  0.017165698238798533\n",
      "Difference between Accuracy score and cross validation score is 0.08007437700884878\n",
      "\n",
      "\n",
      "Cross validare score of  GradientBoostingClassifier() is: \n",
      "[0.8875     0.85       0.878125   0.840625   0.87774295]\n",
      "cross validation score mean is  0.8667985893416927\n",
      "cross validation score std is  0.01813209487463873\n",
      "Difference between Accuracy score and cross validation score is 0.08256849926590215\n",
      "\n",
      "\n",
      "Cross validare score of  AdaBoostClassifier() is: \n",
      "[0.88125    0.80625    0.896875   0.84375    0.86206897]\n",
      "cross validation score mean is  0.8580387931034483\n",
      "cross validation score std is  0.031462682914386426\n",
      "Difference between Accuracy score and cross validation score is 0.09132829550414656\n",
      "\n",
      "\n",
      "Cross validare score of  BaggingClassifier() is: \n",
      "[0.871875   0.846875   0.859375   0.8625     0.86520376]\n",
      "cross validation score mean is  0.861165752351097\n",
      "cross validation score std is  0.008248710428756877\n",
      "Difference between Accuracy score and cross validation score is 0.08820133625649784\n",
      "\n",
      "\n"
     ]
    }
   ],
   "source": [
    "from sklearn.model_selection import cross_val_score\n",
    "\n",
    "models = [rfc, lg, exc, svc, gbc, abc,bc]\n",
    "\n",
    "for model in models:\n",
    "    score = cross_val_score(model,x,y,cv=5) \n",
    "    print(\"Cross validare score of \", model, \"is: \")\n",
    "    print(score)   \n",
    "    print(\"cross validation score mean is \", score.mean())\n",
    "    print(\"cross validation score std is \", score.std())\n",
    "    print(\"Difference between Accuracy score and cross validation score is\", accuracy_score(y_test ,pred_model)-score.mean())\n",
    "    print('\\n')"
   ]
  },
  {
   "cell_type": "markdown",
   "id": "2589356e",
   "metadata": {},
   "source": [
    "There is no large difference between the \"Difference between Accuracy score and cross validation score\" nevertheless Extree continue to present the lowest difference and thee highest. \n",
    "I will opt for best model \"ExtraTreesClassifier()\""
   ]
  },
  {
   "cell_type": "markdown",
   "id": "aa81e05d",
   "metadata": {},
   "source": [
    "## HyperTuning"
   ]
  },
  {
   "cell_type": "code",
   "execution_count": 44,
   "id": "5618a48e",
   "metadata": {},
   "outputs": [
    {
     "data": {
      "text/plain": [
       "GridSearchCV(cv=5, estimator=ExtraTreesClassifier(),\n",
       "             param_grid={'criterion': ['gini', 'entropy'],\n",
       "                         'max_depth': [None, 10, 30],\n",
       "                         'n_estimators': [50, 100, 200, 300], 'n_jobs': [-1, 1],\n",
       "                         'random_state': [10, 50, 1000]})"
      ]
     },
     "execution_count": 44,
     "metadata": {},
     "output_type": "execute_result"
    }
   ],
   "source": [
    "# on the selected best performance I will perform the HyperTuning.\n",
    "# ExtraTreesClassifier is the best model\n",
    "\n",
    "from sklearn.model_selection import GridSearchCV\n",
    "\n",
    "\n",
    "300]parameters = {\n",
    "    'criterion': ['gini', 'entropy'],\n",
    "    'random_state': [10, 50, 1000],  # Corrected parameter name to 'random_state'\n",
    "    'max_depth': [None, 10, 30],      # Avoid using 0 for max_depth\n",
    "    'n_jobs': [-1, 1],                # Avoid using -2 for n_jobs\n",
    "    'n_estimators': [50, 100, 200, \n",
    "}\n",
    "\n",
    "# Create the GridSearchCV instance\n",
    "GCV = GridSearchCV(ExtraTreesClassifier(), parameters, cv=5)\n",
    "GCV.fit(x_train, y_train)"
   ]
  },
  {
   "cell_type": "code",
   "execution_count": 45,
   "id": "24e02325",
   "metadata": {},
   "outputs": [
    {
     "data": {
      "text/plain": [
       "{'criterion': 'gini',\n",
       " 'max_depth': 30,\n",
       " 'n_estimators': 300,\n",
       " 'n_jobs': -1,\n",
       " 'random_state': 1000}"
      ]
     },
     "execution_count": 45,
     "metadata": {},
     "output_type": "execute_result"
    }
   ],
   "source": [
    "GCV.best_params_"
   ]
  },
  {
   "cell_type": "code",
   "execution_count": 46,
   "id": "bd74e579",
   "metadata": {},
   "outputs": [
    {
     "name": "stdout",
     "output_type": "stream",
     "text": [
      "accuracy score %:  97.2875226039783\n"
     ]
    }
   ],
   "source": [
    "Final_model = ExtraTreesClassifier(criterion = \"gini\", random_state = 1000, max_depth = 30, n_jobs = -1, n_estimators =300)\n",
    "Final_model.fit(x_train, y_train)\n",
    "pred = Final_model.predict(x_test)\n",
    "acc = accuracy_score(y_test, pred)\n",
    "print(\"accuracy score %: \", acc*100)"
   ]
  },
  {
   "cell_type": "markdown",
   "id": "81bbc234",
   "metadata": {},
   "source": [
    "## Plotting ROC and compare AUC for all models used"
   ]
  },
  {
   "cell_type": "code",
   "execution_count": 47,
   "id": "748173b7",
   "metadata": {},
   "outputs": [
    {
     "data": {
      "text/plain": [
       "<sklearn.metrics._plot.roc_curve.RocCurveDisplay at 0x23f4d1cf6d0>"
      ]
     },
     "execution_count": 47,
     "metadata": {},
     "output_type": "execute_result"
    },
    {
     "data": {
      "image/png": "[encoded data removed]",
      "text/plain": [
       "<Figure size 432x288 with 1 Axes>"
      ]
     },
     "metadata": {
      "needs_background": "light"
     },
     "output_type": "display_data"
    }
   ],
   "source": [
    "# sklearn.metric.RocCurveDisplay.from_predictions \n",
    "from sklearn import metrics\n",
    "from sklearn.metrics import RocCurveDisplay\n",
    "\n",
    "fpr, tpr, thresholds = metrics.roc_curve(y_test, pred)\n",
    "roc_auc = metrics.auc(fpr, tpr)\n",
    "display = metrics.RocCurveDisplay(fpr=fpr, tpr=tpr, roc_auc=roc_auc,estimator_name='Final_model')\n",
    "display.plot()"
   ]
  },
  {
   "cell_type": "markdown",
   "id": "1e354944",
   "metadata": {},
   "source": [
    "ROC (Receiver Operating Characteristic) curve and AUC (Area Under the Curve) are widely used tools in machine learning to evaluate the performance of binary classification models, especially when dealing with imbalanced datasets.\n",
    "\n",
    "1. **ROC Curve**:\n",
    "The ROC curve is a graphical representation of the performance of a binary classification model at various classification thresholds. It's created by plotting the True Positive Rate (TPR) against the False Positive Rate (FPR) as the threshold for classifying positive and negative instances changes.\n",
    "\n",
    "- **True Positive Rate (Sensitivity)**: It's the ratio of correctly predicted positive instances to the total actual positive instances.\n",
    "   TPR = TP / (TP + FN)\n",
    "\n",
    "- **False Positive Rate**: It's the ratio of incorrectly predicted positive instances to the total actual negative instances.\n",
    "   FPR = FP / (FP + TN)\n",
    "\n",
    "The ROC curve shows how well the model can distinguish between the two classes. A better model will have a curve that is closer to the top-left corner of the plot.\n",
    "\n",
    "2. **AUC (Area Under the Curve)**:\n",
    "AUC is a metric that quantifies the overall performance of a binary classification model based on its ROC curve. It represents the area under the ROC curve. The AUC value ranges from 0 to 1, where:\n",
    "- AUC = 0.5: Model performs no better than random guessing.\n",
    "- AUC > 0.5: Model performs better than random guessing.\n",
    "- AUC = 1: Model has a perfect classification.\n",
    "\n",
    "A higher AUC indicates a better-performing model in terms of its ability to distinguish between positive and negative instances across different classification thresholds.\n",
    "\n",
    "In summary, the ROC curve and AUC provide a comprehensive view of a model's classification performance, especially in situations where you need to make a trade-off between the True Positive Rate and the False Positive Rate by changing the classification threshold. They are valuable tools for model evaluation and selection, especially in cases where class imbalances exist or where you want to understand the model's performance across different decision thresholds."
   ]
  },
  {
   "cell_type": "markdown",
   "id": "c5e62647",
   "metadata": {},
   "source": [
    "# Saving the Data (serialization)"
   ]
  },
  {
   "cell_type": "code",
   "execution_count": 54,
   "id": "b5b80944",
   "metadata": {},
   "outputs": [
    {
     "data": {
      "text/plain": [
       "['wine_quality_prediction.pkl']"
      ]
     },
     "execution_count": 54,
     "metadata": {},
     "output_type": "execute_result"
    }
   ],
   "source": [
    "import joblib\n",
    "joblib.dump(Final_model, \"wine_quality_prediction.pkl\")"
   ]
  },
  {
   "cell_type": "markdown",
   "id": "ef5f1807",
   "metadata": {},
   "source": [
    "# Pridicting with the saving model (deserialization)"
   ]
  },
  {
   "cell_type": "code",
   "execution_count": 55,
   "id": "fd33447a",
   "metadata": {},
   "outputs": [
    {
     "data": {
      "text/plain": [
       "array([1, 1, 1, 1, 0, 0, 0, 1, 1, 0, 1, 1, 1, 1, 1, 1, 1, 0, 1, 1, 1, 1,\n",
       "       1, 1, 0, 0, 1, 1, 0, 0, 1, 1, 0, 0, 0, 1, 0, 1, 0, 0, 0, 1, 1, 1,\n",
       "       0, 1, 0, 1, 0, 0, 1, 1, 1, 1, 0, 0, 0, 1, 0, 0, 1, 1, 1, 0, 1, 0,\n",
       "       0, 1, 1, 0, 1, 0, 1, 1, 0, 0, 1, 1, 1, 1, 1, 1, 1, 0, 1, 0, 1, 1,\n",
       "       0, 0, 1, 1, 0, 1, 0, 0, 0, 1, 0, 0, 1, 0, 0, 1, 0, 1, 0, 0, 0, 1,\n",
       "       0, 1, 0, 1, 1, 0, 0, 1, 0, 1, 0, 0, 0, 1, 0, 0, 1, 1, 0, 0, 0, 1,\n",
       "       1, 0, 0, 1, 1, 1, 1, 0, 0, 1, 0, 1, 0, 0, 1, 0, 1, 0, 1, 0, 0, 1,\n",
       "       1, 0, 0, 0, 0, 1, 0, 0, 1, 1, 1, 0, 0, 0, 0, 1, 0, 1, 1, 0, 1, 0,\n",
       "       1, 0, 0, 0, 0, 1, 0, 1, 1, 0, 0, 0, 0, 1, 1, 0, 1, 1, 1, 1, 1, 0,\n",
       "       1, 1, 0, 0, 1, 1, 1, 1, 0, 1, 1, 1, 0, 1, 1, 1, 0, 1, 0, 0, 1, 0,\n",
       "       1, 1, 0, 0, 1, 0, 0, 0, 0, 1, 1, 0, 1, 0, 1, 1, 1, 1, 0, 0, 1, 0,\n",
       "       1, 1, 1, 1, 0, 1, 0, 0, 0, 1, 1, 1, 1, 0, 1, 0, 0, 0, 0, 1, 0, 0,\n",
       "       0, 0, 1, 1, 0, 0, 1, 0, 0, 0, 1, 1, 0, 1, 1, 0, 0, 1, 0, 0, 0, 0,\n",
       "       1, 1, 1, 1, 0, 0, 0, 1, 0, 0, 0, 1, 0, 1, 1, 1, 1, 1, 0, 0, 1, 1,\n",
       "       0, 1, 1, 0, 1, 1, 0, 1, 1, 1, 0, 1, 0, 0, 1, 0, 0, 1, 1, 1, 1, 0,\n",
       "       0, 1, 0, 0, 1, 1, 0, 1, 0, 1, 1, 0, 1, 0, 0, 1, 0, 0, 1, 1, 0, 1,\n",
       "       0, 0, 0, 0, 0, 1, 0, 1, 0, 1, 0, 1, 0, 1, 0, 1, 0, 0, 0, 1, 1, 1,\n",
       "       0, 1, 0, 1, 1, 0, 1, 0, 0, 1, 1, 1, 0, 0, 1, 0, 1, 0, 1, 0, 1, 1,\n",
       "       0, 0, 0, 0, 0, 0, 1, 0, 1, 0, 0, 1, 0, 0, 1, 1, 1, 0, 0, 1, 1, 1,\n",
       "       1, 1, 1, 0, 1, 0, 1, 1, 1, 0, 1, 0, 1, 0, 1, 0, 0, 1, 1, 1, 0, 1,\n",
       "       1, 0, 0, 1, 1, 1, 1, 1, 0, 0, 1, 0, 0, 0, 1, 0, 0, 1, 0, 1, 1, 0,\n",
       "       1, 0, 1, 1, 0, 0, 1, 1, 1, 1, 0, 0, 0, 1, 1, 1, 1, 1, 0, 1, 0, 1,\n",
       "       0, 0, 0, 1, 1, 1, 0, 0, 1, 0, 1, 0, 1, 0, 1, 1, 0, 0, 0, 1, 1, 0,\n",
       "       0, 1, 1, 1, 0, 1, 1, 1, 1, 0, 0, 0, 1, 0, 1, 0, 0, 0, 0, 0, 1, 0,\n",
       "       1, 1, 1, 0, 0, 0, 0, 0, 0, 0, 0, 0, 0, 0, 0, 0, 0, 1, 0, 1, 0, 0,\n",
       "       1, 0, 0], dtype=int64)"
      ]
     },
     "execution_count": 55,
     "metadata": {},
     "output_type": "execute_result"
    }
   ],
   "source": [
    "import joblib\n",
    "model_loaded = joblib.load(\"wine_quality_prediction.pkl\")\n",
    "\n",
    "# Making prediction\n",
    "prediction = model_loaded.predict(x_test)\n",
    "prediction"
   ]
  },
  {
   "cell_type": "markdown",
   "id": "bdbe6c1e",
   "metadata": {},
   "source": [
    "These are the predicted values"
   ]
  },
  {
   "cell_type": "code",
   "execution_count": 56,
   "id": "85613dd4",
   "metadata": {},
   "outputs": [
    {
     "data": {
      "text/html": [
       "<div>\n",
       "<style scoped>\n",
       "    .dataframe tbody tr th:only-of-type {\n",
       "        vertical-align: middle;\n",
       "    }\n",
       "\n",
       "    .dataframe tbody tr th {\n",
       "        vertical-align: top;\n",
       "    }\n",
       "\n",
       "    .dataframe thead th {\n",
       "        text-align: right;\n",
       "    }\n",
       "</style>\n",
       "<table border=\"1\" class=\"dataframe\">\n",
       "  <thead>\n",
       "    <tr style=\"text-align: right;\">\n",
       "      <th></th>\n",
       "      <th>Predicted</th>\n",
       "      <th>Original</th>\n",
       "    </tr>\n",
       "  </thead>\n",
       "  <tbody>\n",
       "    <tr>\n",
       "      <th>0</th>\n",
       "      <td>1</td>\n",
       "      <td>1</td>\n",
       "    </tr>\n",
       "    <tr>\n",
       "      <th>1</th>\n",
       "      <td>1</td>\n",
       "      <td>1</td>\n",
       "    </tr>\n",
       "    <tr>\n",
       "      <th>2</th>\n",
       "      <td>1</td>\n",
       "      <td>1</td>\n",
       "    </tr>\n",
       "    <tr>\n",
       "      <th>3</th>\n",
       "      <td>1</td>\n",
       "      <td>0</td>\n",
       "    </tr>\n",
       "    <tr>\n",
       "      <th>4</th>\n",
       "      <td>0</td>\n",
       "      <td>0</td>\n",
       "    </tr>\n",
       "    <tr>\n",
       "      <th>...</th>\n",
       "      <td>...</td>\n",
       "      <td>...</td>\n",
       "    </tr>\n",
       "    <tr>\n",
       "      <th>548</th>\n",
       "      <td>0</td>\n",
       "      <td>0</td>\n",
       "    </tr>\n",
       "    <tr>\n",
       "      <th>549</th>\n",
       "      <td>0</td>\n",
       "      <td>0</td>\n",
       "    </tr>\n",
       "    <tr>\n",
       "      <th>550</th>\n",
       "      <td>1</td>\n",
       "      <td>1</td>\n",
       "    </tr>\n",
       "    <tr>\n",
       "      <th>551</th>\n",
       "      <td>0</td>\n",
       "      <td>0</td>\n",
       "    </tr>\n",
       "    <tr>\n",
       "      <th>552</th>\n",
       "      <td>0</td>\n",
       "      <td>0</td>\n",
       "    </tr>\n",
       "  </tbody>\n",
       "</table>\n",
       "<p>553 rows × 2 columns</p>\n",
       "</div>"
      ],
      "text/plain": [
       "     Predicted  Original\n",
       "0            1         1\n",
       "1            1         1\n",
       "2            1         1\n",
       "3            1         0\n",
       "4            0         0\n",
       "..         ...       ...\n",
       "548          0         0\n",
       "549          0         0\n",
       "550          1         1\n",
       "551          0         0\n",
       "552          0         0\n",
       "\n",
       "[553 rows x 2 columns]"
      ]
     },
     "execution_count": 56,
     "metadata": {},
     "output_type": "execute_result"
    }
   ],
   "source": [
    "a = np.array(y_test)\n",
    "df2 = pd.DataFrame()\n",
    "df2[\"Predicted\"] = prediction\n",
    "df2[\"Original\"] = a\n",
    "df2"
   ]
  },
  {
   "cell_type": "markdown",
   "id": "1f98faf3",
   "metadata": {},
   "source": [
    "Inspiration\n",
    "Use machine learning to determine which physiochemical properties make a wine 'good'!\n",
    "\n",
    "For this I will determine which has the major contribution in a classification model by using feature_importance technique "
   ]
  },
  {
   "cell_type": "code",
   "execution_count": 72,
   "id": "83d2ff06",
   "metadata": {},
   "outputs": [
    {
     "data": {
      "text/plain": [
       "array([0.06855335, 0.10371326, 0.10185276, 0.06017023, 0.05608938,\n",
       "       0.06000989, 0.08461042, 0.07306848, 0.0587393 , 0.11113167,\n",
       "       0.22206127])"
      ]
     },
     "execution_count": 72,
     "metadata": {},
     "output_type": "execute_result"
    }
   ],
   "source": [
    "# Get feature importances \n",
    "feature_importances = Final_model.feature_importances_\n",
    "feature_importances"
   ]
  },
  {
   "cell_type": "markdown",
   "id": "6c79617e",
   "metadata": {},
   "source": [
    "Each number in the array corresponds to a feature in your dataset.\n",
    "The values represent the importance or contribution of each feature to the model's predictions.\n",
    "Features with higher values are considered more important, while those with lower values are considered less important.\n",
    "\n",
    "In this project:\n",
    "Feature 10 has the highest importance with an importance score of approximately 0.222.\n",
    "Features 2 and 9 also have relatively high importance scores (around 0.102 and 0.111, respectively).\n",
    "Features 4 and 8 have relatively low importance scores (around 0.056 and 0.059, respectively)."
   ]
  },
  {
   "cell_type": "markdown",
   "id": "f72328eb",
   "metadata": {},
   "source": [
    "## Visualizzation Relative Importance of each feature"
   ]
  },
  {
   "cell_type": "code",
   "execution_count": 74,
   "id": "6d4a9eef",
   "metadata": {},
   "outputs": [
    {
     "data": {
      "image/png": "[encoded data removed]",
      "text/plain": [
       "<Figure size 720x432 with 1 Axes>"
      ]
     },
     "metadata": {
      "needs_background": "light"
     },
     "output_type": "display_data"
    }
   ],
   "source": [
    "# Create a bar chart\n",
    "plt.figure(figsize=(10, 6))\n",
    "plt.barh(y=x.columns, width=feature_importances, color='skyblue')\n",
    "plt.xlabel('Feature Importance')\n",
    "plt.title('Relative Feature Importance')\n",
    "plt.gca().invert_yaxis()  \n",
    "plt.show()"
   ]
  },
  {
   "cell_type": "markdown",
   "id": "3eed98ba",
   "metadata": {},
   "source": [
    "# from the graph we understand that the physiochemical properties make a wine 'good'! is the alcoholic content"
   ]
  },
  {
   "cell_type": "code",
   "execution_count": null,
   "id": "e2e69c47",
   "metadata": {},
   "outputs": [],
   "source": []
  }
 ],
 "metadata": {
  "kernelspec": {
   "display_name": "Python 3 (ipykernel)",
   "language": "python",
   "name": "python3"
  },
  "language_info": {
   "codemirror_mode": {
    "name": "ipython",
    "version": 3
   },
   "file_extension": ".py",
   "mimetype": "text/x-python",
   "name": "python",
   "nbconvert_exporter": "python",
   "pygments_lexer": "ipython3",
   "version": "3.9.12"
  },
  "varInspector": {
   "cols": {
    "lenName": 16,
    "lenType": 16,
    "lenVar": 40
   },
   "kernels_config": {
    "python": {
     "delete_cmd_postfix": "",
     "delete_cmd_prefix": "del ",
     "library": "var_list.py",
     "varRefreshCmd": "print(var_dic_list())"
    },
    "r": {
     "delete_cmd_postfix": ") ",
     "delete_cmd_prefix": "rm(",
     "library": "var_list.r",
     "varRefreshCmd": "cat(var_dic_list()) "
    }
   },
   "types_to_exclude": [
    "module",
    "function",
    "builtin_function_or_method",
    "instance",
    "_Feature"
   ],
   "window_display": false
  }
 },
 "nbformat": 4,
 "nbformat_minor": 5
}
